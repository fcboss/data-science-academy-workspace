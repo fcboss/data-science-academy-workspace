{
 "cells": [
  {
   "cell_type": "markdown",
   "metadata": {
    "deletable": false,
    "editable": false,
    "nbgrader": {
     "grade": false,
     "grade_id": "cell-b4d7d915e2c9c198",
     "locked": true,
     "schema_version": 1,
     "solution": false
    }
   },
   "source": [
    "# SLU14 - k-Nearest Neighbors (kNN)\n",
    "\n",
    "In this notebook we will have exercises covering the following topics:\n",
    "\n",
    "- k-Nearest Neighbours Algorithm\n",
    "- A Primer on Distance\n",
    "- Some considerations about kNN\n",
    "- Using kNN"
   ]
  },
  {
   "cell_type": "code",
   "execution_count": 1,
   "metadata": {
    "deletable": false,
    "editable": false,
    "nbgrader": {
     "grade": false,
     "grade_id": "cell-10e27f42036825d8",
     "locked": true,
     "schema_version": 1,
     "solution": false
    }
   },
   "outputs": [],
   "source": [
    "# Place any important imports at the top of the notebook when possible\n",
    "import hashlib\n",
    "import json\n",
    "import math\n",
    "import numpy as np\n",
    "import os\n",
    "import pandas as pd\n",
    "\n",
    "from sklearn import datasets"
   ]
  },
  {
   "cell_type": "markdown",
   "metadata": {
    "deletable": false,
    "editable": false,
    "nbgrader": {
     "grade": false,
     "grade_id": "cell-463ec86e1e15c6e9",
     "locked": true,
     "schema_version": 1,
     "solution": false
    }
   },
   "source": [
    "## Distances"
   ]
  },
  {
   "cell_type": "markdown",
   "metadata": {
    "deletable": false,
    "editable": false,
    "nbgrader": {
     "grade": false,
     "grade_id": "cell-eeacdcb05a198df9",
     "locked": true,
     "schema_version": 1,
     "solution": false
    }
   },
   "source": [
    "### Exercise 1\n",
    "\n",
    "Define a function called `euclidean_distance`. This function should receive two arguments, `a` and `b`, which are numpy arrays with shape `(N,)`, where `N` is the number of dimensions of the inputs `a` and `b`.\n",
    "\n",
    "If the two arrays don't have the same shape, return None.\n",
    "\n",
    "In case the arguments are valid, return the euclidean distance between them.\n",
    "\n",
    "Of course you know about the function [numpy.linalg.norm](https://docs.scipy.org/doc/numpy/reference/generated/numpy.linalg.norm.html), which does exactly what we're asking here, but please take this opportunity to really understand the euclidean distance! Feel free to use it to double check your answer."
   ]
  },
  {
   "cell_type": "code",
   "execution_count": 33,
   "metadata": {
    "deletable": false,
    "nbgrader": {
     "grade": false,
     "grade_id": "cell-6e62f4a661edbaf0",
     "locked": false,
     "schema_version": 1,
     "solution": true
    }
   },
   "outputs": [],
   "source": [
    "# implement a function called euclidean_distance\n",
    "from numpy import linalg as LA\n",
    "def euclidean_distance(a, b):\n",
    "    \"\"\"\n",
    "    Euclidean distance between two vectors.\n",
    "    \n",
    "    Parameters\n",
    "    ----------\n",
    "    a: numpy array with shape (N,)\n",
    "    b: numpy array with shape (N,)\n",
    "    \n",
    "    Returns\n",
    "    ----------\n",
    "    distance: float\n",
    "    \"\"\"\n",
    "\n",
    "    # YOUR CODE HERE\n",
    "    if a.shape != b.shape:\n",
    "        return None\n",
    "    else:\n",
    "        return math.sqrt(np.square(a-b).sum())"
   ]
  },
  {
   "cell_type": "code",
   "execution_count": 34,
   "metadata": {
    "deletable": false,
    "editable": false,
    "nbgrader": {
     "grade": true,
     "grade_id": "cell-79f8353bbd6472e8",
     "locked": true,
     "points": 2,
     "schema_version": 1,
     "solution": false
    }
   },
   "outputs": [],
   "source": [
    "# Test case 1\n",
    "a = np.array([1, 2, 4])\n",
    "b = np.array([-1, 0, 4])\n",
    "\n",
    "assert math.isclose(euclidean_distance(a, b), 2.8284, rel_tol=1e-03)\n",
    "\n",
    "\n",
    "# Test case 2\n",
    "a = np.array([1, 2])\n",
    "b = np.array([-1, 0, 4])\n",
    "\n",
    "assert euclidean_distance(a, b) is None\n",
    "             \n",
    "\n",
    "# Test case 3\n",
    "a = np.array([1])\n",
    "b = np.array([-1])\n",
    "\n",
    "assert math.isclose(euclidean_distance(a, b), 2.0, rel_tol=1e-03)\n",
    "\n",
    "\n",
    "# Test case 4\n",
    "a = np.array([0, 0])\n",
    "b = np.array([2, 3])\n",
    "\n",
    "assert math.isclose(euclidean_distance(a, b), 3.6055, rel_tol=1e-03)\n",
    "\n",
    "\n",
    "# Test case 5\n",
    "a = np.array([0, 1, 2, 3, 4])\n",
    "b = np.array([0, -1, -2, -3, -4])\n",
    "\n",
    "assert math.isclose(euclidean_distance(a, b), 10.9544, rel_tol=1e-03)"
   ]
  },
  {
   "cell_type": "markdown",
   "metadata": {
    "deletable": false,
    "editable": false,
    "nbgrader": {
     "grade": false,
     "grade_id": "cell-f32c1ab40034bb93",
     "locked": true,
     "schema_version": 1,
     "solution": false
    }
   },
   "source": [
    "### Exercise 2\n",
    "\n",
    "Define a function called `dot_product`. This function should receive two arguments, `a` and `b`, which are numpy arrays with shape `(N,)`, where `N` is the number of dimensions of the inputs `a` and `b`.\n",
    "\n",
    "You can assume the two arrays have the same shape.\n",
    "\n",
    "The function should return the dot product between the arrays.\n",
    "\n",
    "Of course you know about the function [numpy.dot](https://docs.scipy.org/doc/numpy/reference/generated/numpy.dot.html), , which does exactly what we're asking here, but please take this opportunity to really understand the dot product! Feel free to use it to double check your answer."
   ]
  },
  {
   "cell_type": "code",
   "execution_count": 35,
   "metadata": {
    "deletable": false,
    "nbgrader": {
     "grade": false,
     "grade_id": "cell-43b14f7973bc4e14",
     "locked": false,
     "schema_version": 1,
     "solution": true
    }
   },
   "outputs": [],
   "source": [
    "# implement a function called dot_product\n",
    "\n",
    "def dot_product(a, b):\n",
    "    \"\"\"\n",
    "    Dot product between two vectors.\n",
    "    \n",
    "    Parameters\n",
    "    ----------\n",
    "    a: numpy array with shape (N,)\n",
    "    b: numpy array with shape (N,)\n",
    "    \n",
    "    Returns\n",
    "    ----------\n",
    "    dot_product: float\n",
    "    \"\"\"\n",
    "    \n",
    "\n",
    "    # YOUR CODE HERE\n",
    "    return (a*b).sum()"
   ]
  },
  {
   "cell_type": "code",
   "execution_count": 36,
   "metadata": {
    "deletable": false,
    "editable": false,
    "nbgrader": {
     "grade": true,
     "grade_id": "cell-56abbfc68bda30ca",
     "locked": true,
     "points": 2,
     "schema_version": 1,
     "solution": false
    }
   },
   "outputs": [],
   "source": [
    "tests = [\n",
    "    {\n",
    "        'input': [np.array([1, 2, 4]), np.array([-1, 0, 4])],\n",
    "        'output_hash': 'e629fa6598d732768f7c726b4b621285f9c3b85303900aa912017db7617d8bdb'\n",
    "    },\n",
    "    {\n",
    "        'input': [np.array([0, 0]), np.array([2, 3])],\n",
    "        'output_hash': '5feceb66ffc86f38d952786c6d696c79c2dbc239dd4e91b46729d73a27fb57e9'\n",
    "    },\n",
    "    {\n",
    "        'input': [np.array([0, 1, 2, 3, 4]), np.array([0, -1, -2, -3, -4])],\n",
    "        'output_hash': '4cbaf3fbc9b6ccc6d363e9cac9d51c6d3012fc8991a30cbe952c5e92c7927d92'\n",
    "    }\n",
    "]\n",
    "\n",
    "for test in tests:\n",
    "    answer = dot_product(*test['input'])\n",
    "    answer_hash = hashlib.sha256(bytes(str(answer), encoding='utf8')).hexdigest()\n",
    "    \n",
    "    assert answer_hash == test['output_hash']"
   ]
  },
  {
   "cell_type": "markdown",
   "metadata": {
    "deletable": false,
    "editable": false,
    "nbgrader": {
     "grade": false,
     "grade_id": "cell-ce5055e9a3d5ddd2",
     "locked": true,
     "schema_version": 1,
     "solution": false
    }
   },
   "source": [
    "### Exercise 3\n",
    "\n",
    "Define a function called `cosine_distance`. This function should receive two arguments, `a` and `b`, which are numpy arrays with shape `(N,)`, where `N` is the number of dimensions of the inputs `a` and `b`.\n",
    "\n",
    "You can assume the two arrays have the same shape.\n",
    "\n",
    "The function should return the cosine distance between the arrays.\n",
    "\n",
    "Of course you know about the function [scipy.distance.cosine](https://docs.scipy.org/doc/scipy-0.14.0/reference/generated/scipy.spatial.distance.cosine.html), which does exactly what we're asking here, but please take this opportunity to really understand the cosine distance! Feel free to use it to double check your answer.\n",
    "\n",
    "After you've implemented the function, take a moment to think what values can the cosine distance function return."
   ]
  },
  {
   "cell_type": "code",
   "execution_count": 41,
   "metadata": {
    "deletable": false,
    "nbgrader": {
     "grade": false,
     "grade_id": "cell-fea2e1fad9590587",
     "locked": false,
     "schema_version": 1,
     "solution": true
    }
   },
   "outputs": [],
   "source": [
    "# implement a function called cosine_distance\n",
    "\n",
    "def cosine_distance(a, b):\n",
    "    \"\"\"\n",
    "    Cosine distance between two vectors.\n",
    "    \n",
    "    Parameters\n",
    "    ----------\n",
    "    a: numpy array with shape (N,)\n",
    "    b: numpy array with shape (N,)\n",
    "    \n",
    "    Returns\n",
    "    ----------\n",
    "    cosine_distance: float\n",
    "    \"\"\"\n",
    "\n",
    "    norm_a = euclidean_distance(np.zeros(len(a)).ravel(),a)\n",
    "    norm_b = euclidean_distance(np.zeros(len(b)).ravel(),b)\n",
    "    \n",
    "    # YOUR CODE HERE\n",
    "    return 1 - dot_product(a,b)/(norm_a*norm_b)"
   ]
  },
  {
   "cell_type": "code",
   "execution_count": 42,
   "metadata": {
    "deletable": false,
    "editable": false,
    "nbgrader": {
     "grade": true,
     "grade_id": "cell-e8800226668cce18",
     "locked": true,
     "points": 2,
     "schema_version": 1,
     "solution": false
    }
   },
   "outputs": [],
   "source": [
    "# Test case 1\n",
    "a = np.array([1, 2, 4])\n",
    "b = np.array([-1, 0, 4])\n",
    "\n",
    "assert math.isclose(cosine_distance(a, b), 0.2061, rel_tol=1e-03)\n",
    "\n",
    "\n",
    "# Test case 2\n",
    "a = np.array([0, 1])\n",
    "b = np.array([1, 0])\n",
    "\n",
    "assert math.isclose(cosine_distance(a, b), 1.0, rel_tol=1e-03)\n",
    "\n",
    "\n",
    "# Test case 3\n",
    "a = np.array([0, 1, 2, 3, 4])\n",
    "b = np.array([0, -1, -2, -3, -4])\n",
    "\n",
    "assert math.isclose(cosine_distance(a, b), 2.0, rel_tol=1e-03)"
   ]
  },
  {
   "cell_type": "markdown",
   "metadata": {
    "deletable": false,
    "editable": false,
    "nbgrader": {
     "grade": false,
     "grade_id": "cell-504dea6c50a50be1",
     "locked": true,
     "schema_version": 1,
     "solution": false
    }
   },
   "source": [
    "## Implementing the kNN algorithm\n",
    "\n",
    "By hand! Let's do this!"
   ]
  },
  {
   "cell_type": "markdown",
   "metadata": {
    "deletable": false,
    "editable": false,
    "nbgrader": {
     "grade": false,
     "grade_id": "cell-1217971c6312dfe5",
     "locked": true,
     "schema_version": 1,
     "solution": false
    }
   },
   "source": [
    "![lets_do_this](media/lets_do_this.gif)"
   ]
  },
  {
   "cell_type": "markdown",
   "metadata": {
    "deletable": false,
    "editable": false,
    "nbgrader": {
     "grade": false,
     "grade_id": "cell-afacbad08e39318b",
     "locked": true,
     "schema_version": 1,
     "solution": false
    }
   },
   "source": [
    "### Exercise 4\n",
    "\n",
    "The first step is to implement a function that computes a distance between one point and each other point in a dataset.\n",
    "\n",
    "Let's implement a function called `compute_distances`, that:\n",
    "\n",
    "* receives three arguments:\n",
    "    * x, which is a numpy array with shape (d,)\n",
    "    * dataset, which is a numpy array with shape (N, d), where N is the dataset size\n",
    "    * distance_type, which can be 'euclidean', 'cosine', 'dot'\n",
    "* computes the distance between x and all the points in the dataset. You should choose the right distance function, depending on the distance_function value. You can either use the functions that we've implemented above, or import them from numpy/scipy\n",
    "* returns a numpy array of shape (N,) with the computed distances"
   ]
  },
  {
   "cell_type": "code",
   "execution_count": 49,
   "metadata": {
    "deletable": false,
    "nbgrader": {
     "grade": false,
     "grade_id": "cell-579a133d5f7272c2",
     "locked": false,
     "schema_version": 1,
     "solution": true
    }
   },
   "outputs": [],
   "source": [
    "# implement a function called compute_distances\n",
    "\n",
    "def compute_distances(x, dataset, distance_type):\n",
    "    \"\"\"\n",
    "    Computes a distance between a point and all the other points in a dataset.\n",
    "    Supported distance functions are: euclidean, dot, cosine.\n",
    "    \n",
    "    Parameters\n",
    "    ----------\n",
    "    x: numpy array with shape (d,)\n",
    "    dataset: numpy array with shape (N, d)\n",
    "    distance_type: string\n",
    "    \n",
    "    Returns\n",
    "    ----------\n",
    "    distances: numpy array with shape (N,)\n",
    "    \"\"\"\n",
    "    print(np.fromiter((euclidean_distance(x,xi) for xi in dataset), x.dtype))\n",
    "    # YOUR CODE HERE\n",
    "    return np.fromiter((euclidean_distance(x,xi) for xi in dataset), x.dtype)"
   ]
  },
  {
   "cell_type": "code",
   "execution_count": 50,
   "metadata": {
    "deletable": false,
    "editable": false,
    "nbgrader": {
     "grade": true,
     "grade_id": "cell-601006c4a24f1f22",
     "locked": true,
     "points": 2,
     "schema_version": 1,
     "solution": false
    }
   },
   "outputs": [
    {
     "name": "stdout",
     "output_type": "stream",
     "text": [
      "[5.13614642 5.10783712 5.20768663 5.02593275 5.14392846 4.8641546\n",
      " 5.09411425 5.03289181 5.13322511 5.05766745 5.08920426 4.94165964\n",
      " 5.14878626 5.45618915 5.46076918 5.19615242 5.22876658 5.09803884\n",
      " 4.9244289  5.0447993  4.8754487  4.99299509 5.51905789 4.73075047\n",
      " 4.67011777 4.92544414 4.8641546  5.04975247 5.13225097 4.93254498\n",
      " 4.92645917 4.98096376 5.18362807 5.28109837 5.0169712  5.29716906\n",
      " 5.25832673 5.18266341 5.22398315 5.03587132 5.18748494 5.22494019\n",
      " 5.22781025 4.80312398 4.64327471 5.07050293 4.99299509 5.12054685\n",
      " 5.08035432 5.11761663 2.65518361 2.310844   2.43721152 2.463737\n",
      " 2.310844   2.01246118 2.0904545  3.10483494 2.44131112 2.37907545\n",
      " 3.03479818 2.25831796 2.77488739 2.01246118 2.74954542 2.60384331\n",
      " 1.88148877 2.51793566 2.3194827  2.60576284 1.7        2.58843582\n",
      " 2.03469899 2.10713075 2.51197134 2.53377189 2.44540385 2.16794834\n",
      " 2.06639783 3.         2.68700577 2.81424946 2.596151   1.63095064\n",
      " 1.81659021 2.07123152 2.38746728 2.47991935 2.30217289 2.41453929\n",
      " 2.1        2.0808652  2.52586619 3.12729915 2.23606798 2.29128785\n",
      " 2.25166605 2.39791576 3.33316666 2.3430749  1.46628783 1.4106736\n",
      " 2.21133444 1.54272486 1.62788206 2.74772633 1.74928557 2.44335834\n",
      " 1.93390796 2.39582971 1.9078784  1.75214155 1.99499373 1.46287388\n",
      " 1.37477271 1.71464282 1.75499288 2.97321375 2.94108823 1.88414437\n",
      " 2.05182845 1.41774469 2.87749891 1.91049732 1.87082869 2.34520788\n",
      " 1.89208879 1.74355958 1.59687194 2.39582971 2.52586619 3.12569992\n",
      " 1.59373775 1.86815417 1.57797338 2.80178515 1.55241747 1.6673332\n",
      " 1.74928557 2.12367606 1.88148877 2.24053565 1.4106736  1.92353841\n",
      " 1.89208879 2.01494417 1.8734994  1.84661853 1.53297097 1.46969385]\n",
      "[5.13614642 5.10783712 5.20768663 5.02593275 5.14392846 4.8641546\n",
      " 5.09411425 5.03289181 5.13322511 5.05766745 5.08920426 4.94165964\n",
      " 5.14878626 5.45618915 5.46076918 5.19615242 5.22876658 5.09803884\n",
      " 4.9244289  5.0447993  4.8754487  4.99299509 5.51905789 4.73075047\n",
      " 4.67011777 4.92544414 4.8641546  5.04975247 5.13225097 4.93254498\n",
      " 4.92645917 4.98096376 5.18362807 5.28109837 5.0169712  5.29716906\n",
      " 5.25832673 5.18266341 5.22398315 5.03587132 5.18748494 5.22494019\n",
      " 5.22781025 4.80312398 4.64327471 5.07050293 4.99299509 5.12054685\n",
      " 5.08035432 5.11761663 2.65518361 2.310844   2.43721152 2.463737\n",
      " 2.310844   2.01246118 2.0904545  3.10483494 2.44131112 2.37907545\n",
      " 3.03479818 2.25831796 2.77488739 2.01246118 2.74954542 2.60384331\n",
      " 1.88148877 2.51793566 2.3194827  2.60576284 1.7        2.58843582\n",
      " 2.03469899 2.10713075 2.51197134 2.53377189 2.44540385 2.16794834\n",
      " 2.06639783 3.         2.68700577 2.81424946 2.596151   1.63095064\n",
      " 1.81659021 2.07123152 2.38746728 2.47991935 2.30217289 2.41453929\n",
      " 2.1        2.0808652  2.52586619 3.12729915 2.23606798 2.29128785\n",
      " 2.25166605 2.39791576 3.33316666 2.3430749  1.46628783 1.4106736\n",
      " 2.21133444 1.54272486 1.62788206 2.74772633 1.74928557 2.44335834\n",
      " 1.93390796 2.39582971 1.9078784  1.75214155 1.99499373 1.46287388\n",
      " 1.37477271 1.71464282 1.75499288 2.97321375 2.94108823 1.88414437\n",
      " 2.05182845 1.41774469 2.87749891 1.91049732 1.87082869 2.34520788\n",
      " 1.89208879 1.74355958 1.59687194 2.39582971 2.52586619 3.12569992\n",
      " 1.59373775 1.86815417 1.57797338 2.80178515 1.55241747 1.6673332\n",
      " 1.74928557 2.12367606 1.88148877 2.24053565 1.4106736  1.92353841\n",
      " 1.89208879 2.01494417 1.8734994  1.84661853 1.53297097 1.46969385]\n"
     ]
    },
    {
     "ename": "AssertionError",
     "evalue": "The returned numpy array has the wrong values!",
     "output_type": "error",
     "traceback": [
      "\u001b[1;31m---------------------------------------------------------------------------\u001b[0m",
      "\u001b[1;31mAssertionError\u001b[0m                            Traceback (most recent call last)",
      "\u001b[1;32m<ipython-input-50-1f34a8a6fdc2>\u001b[0m in \u001b[0;36m<module>\u001b[1;34m\u001b[0m\n\u001b[0;32m     16\u001b[0m \u001b[1;32massert\u001b[0m \u001b[0misinstance\u001b[0m\u001b[1;33m(\u001b[0m\u001b[0mdistances\u001b[0m\u001b[1;33m,\u001b[0m \u001b[0mnp\u001b[0m\u001b[1;33m.\u001b[0m\u001b[0mndarray\u001b[0m\u001b[1;33m)\u001b[0m\u001b[1;33m,\u001b[0m \u001b[1;34m\"The function should return a numpy array!\"\u001b[0m\u001b[1;33m\u001b[0m\u001b[1;33m\u001b[0m\u001b[0m\n\u001b[0;32m     17\u001b[0m \u001b[1;32massert\u001b[0m \u001b[0mdistances\u001b[0m\u001b[1;33m.\u001b[0m\u001b[0mshape\u001b[0m \u001b[1;33m==\u001b[0m \u001b[1;33m(\u001b[0m\u001b[1;36m150\u001b[0m\u001b[1;33m,\u001b[0m\u001b[1;33m)\u001b[0m\u001b[1;33m,\u001b[0m \u001b[1;34m\"The returned numpy array has the wrong shape!\"\u001b[0m\u001b[1;33m\u001b[0m\u001b[1;33m\u001b[0m\u001b[0m\n\u001b[1;32m---> 18\u001b[1;33m \u001b[1;32massert\u001b[0m \u001b[0mmath\u001b[0m\u001b[1;33m.\u001b[0m\u001b[0misclose\u001b[0m\u001b[1;33m(\u001b[0m\u001b[0mdistances\u001b[0m\u001b[1;33m[\u001b[0m\u001b[1;36m13\u001b[0m\u001b[1;33m]\u001b[0m\u001b[1;33m,\u001b[0m \u001b[1;36m37.0\u001b[0m\u001b[1;33m,\u001b[0m \u001b[0mrel_tol\u001b[0m\u001b[1;33m=\u001b[0m\u001b[1;36m1e-03\u001b[0m\u001b[1;33m)\u001b[0m\u001b[1;33m,\u001b[0m \u001b[1;34m\"The returned numpy array has the wrong values!\"\u001b[0m\u001b[1;33m\u001b[0m\u001b[1;33m\u001b[0m\u001b[0m\n\u001b[0m\u001b[0;32m     19\u001b[0m \u001b[1;32massert\u001b[0m \u001b[0mmath\u001b[0m\u001b[1;33m.\u001b[0m\u001b[0misclose\u001b[0m\u001b[1;33m(\u001b[0m\u001b[0mdistances\u001b[0m\u001b[1;33m[\u001b[0m\u001b[1;36m47\u001b[0m\u001b[1;33m]\u001b[0m\u001b[1;33m,\u001b[0m \u001b[1;36m41.12\u001b[0m\u001b[1;33m,\u001b[0m \u001b[0mrel_tol\u001b[0m\u001b[1;33m=\u001b[0m\u001b[1;36m1e-03\u001b[0m\u001b[1;33m)\u001b[0m\u001b[1;33m,\u001b[0m \u001b[1;34m\"The returned numpy array has the wrong values!\"\u001b[0m\u001b[1;33m\u001b[0m\u001b[1;33m\u001b[0m\u001b[0m\n\u001b[0;32m     20\u001b[0m \u001b[1;32massert\u001b[0m \u001b[0mmath\u001b[0m\u001b[1;33m.\u001b[0m\u001b[0misclose\u001b[0m\u001b[1;33m(\u001b[0m\u001b[0mdistances\u001b[0m\u001b[1;33m[\u001b[0m\u001b[1;36m112\u001b[0m\u001b[1;33m]\u001b[0m\u001b[1;33m,\u001b[0m \u001b[1;36m80.49\u001b[0m\u001b[1;33m,\u001b[0m \u001b[0mrel_tol\u001b[0m\u001b[1;33m=\u001b[0m\u001b[1;36m1e-03\u001b[0m\u001b[1;33m)\u001b[0m\u001b[1;33m,\u001b[0m \u001b[1;34m\"The returned numpy array has the wrong values!\"\u001b[0m\u001b[1;33m\u001b[0m\u001b[1;33m\u001b[0m\u001b[0m\n",
      "\u001b[1;31mAssertionError\u001b[0m: The returned numpy array has the wrong values!"
     ]
    }
   ],
   "source": [
    "dataset = datasets.load_iris().data\n",
    "x = np.array([4.9, 3.0, 6.1, 2.2])\n",
    "\n",
    "# Testing with euclidean distance\n",
    "distances = compute_distances(x, dataset, 'euclidean')\n",
    "\n",
    "assert isinstance(distances, np.ndarray), \"The function should return a numpy array!\"\n",
    "assert distances.shape == (150,), \"The returned numpy array has the wrong shape!\"\n",
    "assert math.isclose(distances[13], 5.456189, rel_tol=1e-03), \"The returned numpy array has the wrong values!\"\n",
    "assert math.isclose(distances[47], 5.120546, rel_tol=1e-03), \"The returned numpy array has the wrong values!\"\n",
    "assert math.isclose(distances[112], 1.994993, rel_tol=1e-03), \"The returned numpy array has the wrong values!\"\n",
    "\n",
    "# Testing with dot product distance\n",
    "distances = compute_distances(x, dataset, 'dot')\n",
    "\n",
    "assert isinstance(distances, np.ndarray), \"The function should return a numpy array!\"\n",
    "assert distances.shape == (150,), \"The returned numpy array has the wrong shape!\"\n",
    "assert math.isclose(distances[13], 37.0, rel_tol=1e-03), \"The returned numpy array has the wrong values!\"\n",
    "assert math.isclose(distances[47], 41.12, rel_tol=1e-03), \"The returned numpy array has the wrong values!\"\n",
    "assert math.isclose(distances[112], 80.49, rel_tol=1e-03), \"The returned numpy array has the wrong values!\"\n",
    "\n",
    "# Testing with cosine distance\n",
    "distances = compute_distances(x, dataset, 'cosine')\n",
    "\n",
    "assert isinstance(distances, np.ndarray), \"The function should return a numpy array!\"\n",
    "assert distances.shape == (150,), \"The returned numpy array has the wrong shape!\"\n",
    "assert math.isclose(distances[13], 0.202958, rel_tol=1e-03), \"The returned numpy array has the wrong values!\"\n",
    "assert math.isclose(distances[47], 0.17874, rel_tol=1e-03), \"The returned numpy array has the wrong values!\"\n",
    "assert math.isclose(distances[112], 0.02015, rel_tol=1e-03), \"The returned numpy array has the wrong values!\""
   ]
  },
  {
   "cell_type": "markdown",
   "metadata": {
    "deletable": false,
    "editable": false,
    "nbgrader": {
     "grade": false,
     "grade_id": "cell-a3813d5e73431adf",
     "locked": true,
     "schema_version": 1,
     "solution": false
    }
   },
   "source": [
    "### Exercise 5\n",
    "\n",
    "Now that we have a function that computes the distance between one point and all the other points in a dataset, we need to select the point's nearest neighbours, which are the points in the dataset for which the distance is the minimum.\n",
    "\n",
    "In this exercise, you'll implement a function called `select_nearest_neighbours`, that:\n",
    "\n",
    "* receives two arguments:\n",
    "    * distances, which is a numpy array with distances (like the one returned in the previous question)\n",
    "    * k, which is the number of nearest neighbours that we want to consider\n",
    "* gets the indexes of the k smallest distances\n",
    "* returns a numpy array of shape (k,) with those indexes\n",
    "\n",
    "Hint: check [numpy.argsort](https://docs.scipy.org/doc/numpy/reference/generated/numpy.argsort.html)."
   ]
  },
  {
   "cell_type": "code",
   "execution_count": null,
   "metadata": {
    "deletable": false,
    "nbgrader": {
     "grade": false,
     "grade_id": "cell-85c4b341dcff88cc",
     "locked": false,
     "schema_version": 1,
     "solution": true
    }
   },
   "outputs": [],
   "source": [
    "# implement a function called select_nearest_neighbours\n",
    "\n",
    "def select_nearest_neighbours(distances, k):\n",
    "    \"\"\"\n",
    "    Selects the k nearest neighbours\n",
    "    \n",
    "    Parameters\n",
    "    ----------\n",
    "    distances: numpy array with shape (N,)\n",
    "    k: int, the number of nearest neighbours we want to consider\n",
    "    \n",
    "    Returns\n",
    "    ----------\n",
    "    indexes: numpy array with shape (k,)\n",
    "    \"\"\"\n",
    "\n",
    "    # YOUR CODE HERE\n",
    "    raise NotImplementedError()"
   ]
  },
  {
   "cell_type": "code",
   "execution_count": null,
   "metadata": {
    "deletable": false,
    "editable": false,
    "nbgrader": {
     "grade": true,
     "grade_id": "cell-07282de273cda24e",
     "locked": true,
     "points": 2,
     "schema_version": 1,
     "solution": false
    }
   },
   "outputs": [],
   "source": [
    "# This is to make the random predictable\n",
    "np.random.seed(42)\n",
    "\n",
    "# Test case 1\n",
    "knn = select_nearest_neighbours(np.random.rand(150), 3)\n",
    "assert knn.shape == (3,)\n",
    "assert hashlib.sha256(bytes(knn[2])).hexdigest() == '01d448afd928065458cf670b60f5a594d735af0172c8d67f22a81680132681ca'\n",
    "\n",
    "# Test case 2\n",
    "knn = select_nearest_neighbours(np.random.rand(49), 10)\n",
    "assert knn.shape == (10,)\n",
    "assert hashlib.sha256(bytes(knn[5])).hexdigest() == '11e431c215c5bd334cecbd43148274edf3ffdbd6cd6479fe279577fbe5f52ce6'"
   ]
  },
  {
   "cell_type": "markdown",
   "metadata": {
    "deletable": false,
    "editable": false,
    "nbgrader": {
     "grade": false,
     "grade_id": "cell-517ad31f00e4c79a",
     "locked": true,
     "schema_version": 1,
     "solution": false
    }
   },
   "source": [
    "### Exercise 6\n",
    "\n",
    "Now that we have a function that gets the indexes of the k nearest neighbours, we need to get the values of those neighbours, so that afterwards we can predict the label for our point.\n",
    "\n",
    "In this exercise, you'll implement a function called `get_nn_labels`, that:\n",
    "\n",
    "* receives two arguments:\n",
    "    * neighbour_indexes, which are the indexes of the k nearest neighbours (like the output of the last function)\n",
    "    * y_train, which is a numpy array with the targets from the a training set\n",
    "* gets the values from y_train using the indexes from neighbour_indexes\n",
    "* returns a numpy array of shape (k,) with those values"
   ]
  },
  {
   "cell_type": "code",
   "execution_count": null,
   "metadata": {
    "deletable": false,
    "nbgrader": {
     "grade": false,
     "grade_id": "cell-f9d4962cb0206df9",
     "locked": false,
     "schema_version": 1,
     "solution": true
    }
   },
   "outputs": [],
   "source": [
    "# implement a function called get_nn_labels\n",
    "\n",
    "def get_nn_labels(y_train, neighbour_indexes):\n",
    "    \"\"\"\n",
    "    Selects the label values from the k nearest neighbours\n",
    "    \n",
    "    Parameters\n",
    "    ----------\n",
    "    y_train: numpy array with shape (N,)\n",
    "    neighbour_indexes: numpy array with shape (k,)\n",
    "    \n",
    "    Returns\n",
    "    ----------\n",
    "    labels: numpy array with shape (k,)\n",
    "    \"\"\"\n",
    "\n",
    "    # YOUR CODE HERE\n",
    "    raise NotImplementedError()"
   ]
  },
  {
   "cell_type": "code",
   "execution_count": null,
   "metadata": {
    "deletable": false,
    "editable": false,
    "nbgrader": {
     "grade": true,
     "grade_id": "cell-10829453a40bdac6",
     "locked": true,
     "points": 1,
     "schema_version": 1,
     "solution": false
    }
   },
   "outputs": [],
   "source": [
    "np.random.seed(42) \n",
    "\n",
    "# Test case 1\n",
    "answer = get_nn_labels(np.random.rand(150), np.random.randint(0, 3, 3))\n",
    "assert answer.shape == (3,)\n",
    "assert math.isclose(answer[0], 0.37454, rel_tol=1e-03)\n",
    "\n",
    "# Test case 2\n",
    "answer = get_nn_labels(np.random.rand(10), np.random.randint(0, 3, 7))\n",
    "assert answer.shape == (7,)\n",
    "assert math.isclose(answer[3], 0.44778, rel_tol=1e-03)"
   ]
  },
  {
   "cell_type": "markdown",
   "metadata": {
    "deletable": false,
    "editable": false,
    "nbgrader": {
     "grade": false,
     "grade_id": "cell-024239d63f8c5d01",
     "locked": true,
     "schema_version": 1,
     "solution": false
    }
   },
   "source": [
    "### Exercise 7\n",
    "\n",
    "Next we need to predict a label for our point based on the labels of the nearest neighbours.\n",
    "\n",
    "In this exercise, you'll implement a function called `predict_label_majority`, that:\n",
    "\n",
    "* receives one argument:\n",
    "    * nn_labels, which are the labels from the k nearest neighbours\n",
    "* returns the most frequent label"
   ]
  },
  {
   "cell_type": "code",
   "execution_count": null,
   "metadata": {
    "deletable": false,
    "nbgrader": {
     "grade": false,
     "grade_id": "cell-2bb5e40e2eb26f8c",
     "locked": false,
     "schema_version": 1,
     "solution": true
    }
   },
   "outputs": [],
   "source": [
    "# implement a function called predict_label_majority\n",
    "\n",
    "def predict_label_majority(nn_labels):\n",
    "    \"\"\"\n",
    "    Selects the most frequent label in nn_labels\n",
    "    \n",
    "    Parameters\n",
    "    ----------\n",
    "    nn_labels: numpy array with shape (k,)\n",
    "    \n",
    "    Returns\n",
    "    ----------\n",
    "    label: int\n",
    "    \"\"\"\n",
    "\n",
    "    # YOUR CODE HERE\n",
    "    raise NotImplementedError()"
   ]
  },
  {
   "cell_type": "code",
   "execution_count": null,
   "metadata": {
    "deletable": false,
    "editable": false,
    "nbgrader": {
     "grade": true,
     "grade_id": "cell-52fb6a8a51b6ff92",
     "locked": true,
     "points": 2,
     "schema_version": 1,
     "solution": false
    }
   },
   "outputs": [],
   "source": [
    "np.random.seed(42) \n",
    "\n",
    "# Test case 1\n",
    "answer = predict_label_majority(np.random.randint(0, 3, 3))\n",
    "assert isinstance(answer, int)\n",
    "assert hashlib.sha256(bytes(answer)).hexdigest() == '96a296d224f285c67bee93c30f8a309157f0daa35dc5b87e410b78630a09cfc7'\n",
    "\n",
    "\n",
    "# Test case 2\n",
    "answer = predict_label_majority(np.random.randint(0, 3, 5))\n",
    "assert isinstance(answer, int)\n",
    "assert hashlib.sha256(bytes(answer)).hexdigest() == 'e3b0c44298fc1c149afbf4c8996fb92427ae41e4649b934ca495991b7852b855'"
   ]
  },
  {
   "cell_type": "markdown",
   "metadata": {
    "deletable": false,
    "editable": false,
    "nbgrader": {
     "grade": false,
     "grade_id": "cell-75c560ee36ba7ee3",
     "locked": true,
     "schema_version": 1,
     "solution": false
    }
   },
   "source": [
    "### Exercise 8\n",
    "\n",
    "Finally we can put everything together and implement the knn classifier!\n",
    "\n",
    "In this exercise, you'll implement a function called `knn_classifier`, that:\n",
    "\n",
    "* receives five arguments:\n",
    "    * x, which is a numpy array with shape (d,)\n",
    "    * dataset, which is a numpy array with shape (N, d), where N is the dataset size\n",
    "    * targets, which is a numpy array with shape (N,), that has the targets for each of the points in the dataset\n",
    "    * k, which is the number of nearest neighbours our knn algorithm will consider\n",
    "    * distance_function, which can be 'euclidean', 'cosine', 'dot'\n",
    "* uses all the functions that we implemented above in order to implement a knn_classifier!"
   ]
  },
  {
   "cell_type": "code",
   "execution_count": null,
   "metadata": {
    "deletable": false,
    "nbgrader": {
     "grade": false,
     "grade_id": "cell-3f9aa28fb4a072fc",
     "locked": false,
     "schema_version": 1,
     "solution": true
    }
   },
   "outputs": [],
   "source": [
    "# implement a function called knn_classifier\n",
    "\n",
    "def knn_classifier(x, dataset, targets, k, distance_function):\n",
    "    \"\"\"\n",
    "    Predicts the label for a single point, given a dataset, a value for k and a distance function\n",
    "    \n",
    "    Parameters\n",
    "    ----------\n",
    "    x: numpy array with shape (d,)\n",
    "    dataset: numpy array with shape (N, d)\n",
    "    targets: numpy array with shape (N,)\n",
    "    k: int\n",
    "    distance_function: string\n",
    "    \n",
    "    Returns\n",
    "    ----------\n",
    "    label: int\n",
    "    \"\"\"\n",
    "\n",
    "    # YOUR CODE HERE\n",
    "    raise NotImplementedError()"
   ]
  },
  {
   "cell_type": "code",
   "execution_count": null,
   "metadata": {
    "deletable": false,
    "editable": false,
    "nbgrader": {
     "grade": true,
     "grade_id": "cell-5aa854b52cad24aa",
     "locked": true,
     "points": 1,
     "schema_version": 1,
     "solution": false
    }
   },
   "outputs": [],
   "source": [
    "dataset = datasets.load_iris().data\n",
    "targets = datasets.load_iris().target\n",
    "x = np.array([4.9, 3.0, 6.1, 2.2])\n",
    "\n",
    "tests = [\n",
    "    {\n",
    "        'input': [x, dataset, targets, 3, 'euclidean'],\n",
    "        'expected_value': 2\n",
    "    },\n",
    "    {\n",
    "        'input': [x, dataset, targets, 5, 'dot'],\n",
    "        'expected_value': 0\n",
    "    },\n",
    "    {\n",
    "        'input': [x, dataset, targets, 1, 'cosine'],\n",
    "        'expected_value': 2\n",
    "    }\n",
    "]\n",
    "\n",
    "for test in tests:\n",
    "    pred_label = knn_classifier(*test['input'])\n",
    "    assert isinstance(pred_label, int), \"The function should return an integer!\"\n",
    "    assert pred_label == test['expected_value'], \"The returned int has the wrong value!\""
   ]
  },
  {
   "cell_type": "markdown",
   "metadata": {
    "deletable": false,
    "editable": false,
    "nbgrader": {
     "grade": false,
     "grade_id": "cell-2ee17f126f1a73d7",
     "locked": true,
     "schema_version": 1,
     "solution": false
    }
   },
   "source": [
    "Now that we've implemented a knn classifier, let's go a bit further and implement a knn regressor!\n",
    "\n",
    "Luckily, we can reuse most of the functions we've already implemented!\n",
    "\n",
    "Keep up the good work, we're almost there!"
   ]
  },
  {
   "cell_type": "markdown",
   "metadata": {
    "deletable": false,
    "editable": false,
    "nbgrader": {
     "grade": false,
     "grade_id": "cell-dea39d8bb2bae597",
     "locked": true,
     "schema_version": 1,
     "solution": false
    }
   },
   "source": [
    "![almost_there](media/almost_there.gif)"
   ]
  },
  {
   "cell_type": "markdown",
   "metadata": {
    "deletable": false,
    "editable": false,
    "nbgrader": {
     "grade": false,
     "grade_id": "cell-cc945e549ac117f2",
     "locked": true,
     "schema_version": 1,
     "solution": false
    }
   },
   "source": [
    "### Exercise 9\n",
    "\n",
    "As we explained in the learning notebook, the main difference between a knn classifier and a knn regressor is the way we choo\n",
    "se the predicted label from the labels of the nearest neighbours.\n",
    "\n",
    "For the classifier case we used a majority vote. In the regressor case, we want to use an the average value of the neighbours' labels.\n",
    "\n",
    "In this exercise, you'll implement a function called `predict_label_average`, that:\n",
    "\n",
    "* receives one argument:\n",
    "    * nn_labels, which are the labels from the k nearest neighbours\n",
    "* returns the average of the nearest neighbours' labels"
   ]
  },
  {
   "cell_type": "code",
   "execution_count": null,
   "metadata": {
    "deletable": false,
    "nbgrader": {
     "grade": false,
     "grade_id": "cell-33d0f1adaca50dba",
     "locked": false,
     "schema_version": 1,
     "solution": true
    }
   },
   "outputs": [],
   "source": [
    "# implement a function called predict_label_majority\n",
    "\n",
    "def predict_label_average(nn_labels):\n",
    "    \"\"\"\n",
    "    Gets the average of the labels from the nearest neighbours\n",
    "    \n",
    "    Parameters\n",
    "    ----------\n",
    "    nn_labels: numpy array with shape (k,)\n",
    "    \n",
    "    Returns\n",
    "    ----------\n",
    "    label: float\n",
    "    \"\"\"\n",
    "\n",
    "    # YOUR CODE HERE\n",
    "    raise NotImplementedError()"
   ]
  },
  {
   "cell_type": "code",
   "execution_count": null,
   "metadata": {
    "deletable": false,
    "editable": false,
    "nbgrader": {
     "grade": true,
     "grade_id": "cell-2dcba0438d15f319",
     "locked": true,
     "points": 2,
     "schema_version": 1,
     "solution": false
    }
   },
   "outputs": [],
   "source": [
    "np.random.seed(42) \n",
    "\n",
    "label_average = predict_label_average(np.random.rand(3))\n",
    "assert isinstance(label_average, float)\n",
    "assert math.isclose(label_average, 0.685749, rel_tol=1e-04)\n",
    "\n",
    "label_average = predict_label_average(np.random.rand(5))\n",
    "assert isinstance(label_average, float)\n",
    "assert math.isclose(label_average, 0.3669862, rel_tol=1e-04)"
   ]
  },
  {
   "cell_type": "markdown",
   "metadata": {
    "deletable": false,
    "editable": false,
    "nbgrader": {
     "grade": false,
     "grade_id": "cell-7a3f694fbcb9bc02",
     "locked": true,
     "schema_version": 1,
     "solution": false
    }
   },
   "source": [
    "### Exercise 10\n",
    "\n",
    "And we're ready to implement the knn regressor!\n",
    "\n",
    "In this exercise, you'll implement a function called `knn_regressor`, that:\n",
    "\n",
    "* receives five arguments:\n",
    "    * x, which is a numpy array with shape (d,)\n",
    "    * dataset, which is a numpy array with shape (N, d), where N is the dataset size, and d is the number of dimensions that the points in the dataset have\n",
    "    * targets, which is a numpy array with shape (N,), that has the targets for each of the points in the dataset\n",
    "    * k, which is the number of nearest neighbours our knn algorithm will consider\n",
    "    * distance_function, which can be 'euclidean', 'cosine', 'dot'\n",
    "* uses all the functions that we implemented above in order to implement a knn_regressor!"
   ]
  },
  {
   "cell_type": "code",
   "execution_count": null,
   "metadata": {
    "deletable": false,
    "nbgrader": {
     "grade": false,
     "grade_id": "cell-5cb72f729002e93f",
     "locked": false,
     "schema_version": 1,
     "solution": true
    }
   },
   "outputs": [],
   "source": [
    "# implement a function called knn_classifier\n",
    "\n",
    "def knn_regressor(x, dataset, targets, k, distance_function):\n",
    "    \"\"\"\n",
    "    Predicts the label for a single point, given a dataset, a value for k and a distance function\n",
    "    \n",
    "    Parameters\n",
    "    ----------\n",
    "    x: numpy array with shape (d,)\n",
    "    dataset: numpy array with shape (N, d)\n",
    "    targets: numpy array with shape (N,)\n",
    "    k: int\n",
    "    distance_function: string\n",
    "    \n",
    "    Returns\n",
    "    ----------\n",
    "    label: float\n",
    "    \"\"\"\n",
    "\n",
    "    # YOUR CODE HERE\n",
    "    raise NotImplementedError()"
   ]
  },
  {
   "cell_type": "code",
   "execution_count": null,
   "metadata": {
    "deletable": false,
    "editable": false,
    "nbgrader": {
     "grade": true,
     "grade_id": "cell-90a7594798c1c9fe",
     "locked": true,
     "points": 1,
     "schema_version": 1,
     "solution": false
    }
   },
   "outputs": [],
   "source": [
    "np.random.seed(42)\n",
    "dataset = datasets.load_diabetes().data\n",
    "targets = datasets.load_diabetes().target\n",
    "x = np.random.rand(10)\n",
    "\n",
    "prediction = knn_regressor(x, dataset, targets, 3, 'euclidean')\n",
    "assert isinstance(prediction, float)\n",
    "assert math.isclose(prediction, 265.666, rel_tol=1e-04)\n",
    "\n",
    "prediction = knn_regressor(x, dataset, targets, 5, 'dot')\n",
    "assert isinstance(prediction, float)\n",
    "assert math.isclose(prediction, 92.8, rel_tol=1e-04)\n",
    "\n",
    "prediction = knn_regressor(x, dataset, targets, 1, 'cosine')\n",
    "assert isinstance(prediction, float)\n",
    "assert math.isclose(prediction, 264.0, rel_tol=1e-04)"
   ]
  },
  {
   "cell_type": "markdown",
   "metadata": {
    "deletable": false,
    "editable": false,
    "nbgrader": {
     "grade": false,
     "grade_id": "cell-5e58c10a7fb9bd1f",
     "locked": true,
     "schema_version": 1,
     "solution": false
    }
   },
   "source": [
    "**Well done!!!**"
   ]
  },
  {
   "cell_type": "markdown",
   "metadata": {
    "deletable": false,
    "editable": false,
    "nbgrader": {
     "grade": false,
     "grade_id": "cell-8046f36d570b2100",
     "locked": true,
     "schema_version": 1,
     "solution": false
    }
   },
   "source": [
    "![we_did_it](media/we_did_it.gif)"
   ]
  },
  {
   "cell_type": "markdown",
   "metadata": {
    "deletable": false,
    "editable": false,
    "nbgrader": {
     "grade": false,
     "grade_id": "cell-49a7da6e8b5dc30a",
     "locked": true,
     "schema_version": 1,
     "solution": false
    }
   },
   "source": [
    "Finally let's wrap this up with a couple of exercises on how to use scikit's knn models.\n",
    "\n",
    "## Using scikit's knn models"
   ]
  },
  {
   "cell_type": "markdown",
   "metadata": {
    "deletable": false,
    "editable": false,
    "nbgrader": {
     "grade": false,
     "grade_id": "cell-29d1ac30de7cb219",
     "locked": true,
     "schema_version": 1,
     "solution": false
    }
   },
   "source": [
    "### Exercise 11\n",
    "\n",
    "Use a `KNeighborsClassifier` to create predictions for the [wine dataset](https://scikit-learn.org/stable/modules/generated/sklearn.datasets.load_wine.html#sklearn.datasets.load_wine).\n",
    "\n",
    "Follow the instructions in the comments in the exercise cell."
   ]
  },
  {
   "cell_type": "code",
   "execution_count": null,
   "metadata": {
    "deletable": false,
    "editable": false,
    "nbgrader": {
     "grade": false,
     "grade_id": "cell-2f75ec8dc1d54dd9",
     "locked": true,
     "schema_version": 1,
     "solution": false
    }
   },
   "outputs": [],
   "source": [
    "import numpy as np\n",
    "import pandas as pd\n",
    "import hashlib\n",
    "import json\n",
    "\n",
    "from scipy.spatial.distance import cosine\n",
    "from sklearn.model_selection import train_test_split\n",
    "from sklearn.neighbors import KNeighborsClassifier, KNeighborsRegressor\n",
    "from sklearn.metrics import accuracy_score"
   ]
  },
  {
   "cell_type": "code",
   "execution_count": null,
   "metadata": {
    "deletable": false,
    "nbgrader": {
     "grade": false,
     "grade_id": "cell-08dc6b8c978617eb",
     "locked": false,
     "schema_version": 1,
     "solution": true
    }
   },
   "outputs": [],
   "source": [
    "# We start by importing the dataset\n",
    "data = datasets.load_wine()\n",
    "\n",
    "# Now do a train test split, using the train_test_split function from scikit\n",
    "# Use a test_size of 0.33 and a random_state of 42\n",
    "# X_train, X_test, y_train, y_test = ...\n",
    "\n",
    "# YOUR CODE HERE\n",
    "raise NotImplementedError()"
   ]
  },
  {
   "cell_type": "code",
   "execution_count": null,
   "metadata": {
    "deletable": false,
    "editable": false,
    "nbgrader": {
     "grade": true,
     "grade_id": "cell-85dd231d39ba1054",
     "locked": true,
     "points": 1,
     "schema_version": 1,
     "solution": false
    }
   },
   "outputs": [],
   "source": [
    "tests = [\n",
    "    {\n",
    "        'dataset_type': 'X_train',\n",
    "        'dataset': X_train,\n",
    "        'shape_hash': '4c89825fdaebd81d00f7b45dafa18ef7b1ba1ae7842ef7d783557c3c9ddf7a03'\n",
    "    },\n",
    "    {\n",
    "        'dataset_type': 'X_test',\n",
    "        'dataset': X_test,\n",
    "        'shape_hash': 'f6c8d3daeed9b2c2df64a756aa8d44614e45f108d571247865e59315fbfe578f'\n",
    "    },\n",
    "    {\n",
    "        'dataset_type': 'y_train',\n",
    "        'dataset': y_train,\n",
    "        'shape_hash': 'ea38832e303c9a40cfe8b6160fd949f7317febe9633fc7c8a1153aa5e7c2512e'\n",
    "    },\n",
    "    {\n",
    "        'dataset_type': 'y_test',\n",
    "        'dataset': y_test,\n",
    "        'shape_hash': '8f332db1356cb4786b468baab31bd75565bd751de9d984c92f9defbcc3ef172d'\n",
    "    },\n",
    "]\n",
    "\n",
    "for test in tests:\n",
    "    shape_hash = hashlib.sha256(json.dumps(test['dataset'].shape).encode()).hexdigest()\n",
    "\n",
    "    assert isinstance(test['dataset'], np.ndarray), f\"{test['dataset_type']} should be a numpy array!\"\n",
    "    assert shape_hash == test['shape_hash'], \"The returned numpy array has the wrong shape!\""
   ]
  },
  {
   "cell_type": "code",
   "execution_count": null,
   "metadata": {
    "deletable": false,
    "nbgrader": {
     "grade": false,
     "grade_id": "cell-bf5bdec884565df8",
     "locked": false,
     "schema_version": 1,
     "solution": true
    }
   },
   "outputs": [],
   "source": [
    "# Now instantiate a kNN Classifier with k=3, that uses the euclidean distance as distance function\n",
    "# In scikit, the euclidean distance is the default one and goes by the name of 'minkowski'\n",
    "# which is in fact a generalisation of the euclidean distance\n",
    "# clf = ...\n",
    "# YOUR CODE HERE\n",
    "raise NotImplementedError()\n",
    "\n",
    "\n",
    "# Get predictions for the test dataset\n",
    "# y_pred = ...\n",
    "# YOUR CODE HERE\n",
    "raise NotImplementedError()\n",
    "\n",
    "# Measure the accuracy of your solution using scikit's accuracy_score function\n",
    "# accuracy = ...\n",
    "# YOUR CODE HERE\n",
    "raise NotImplementedError()"
   ]
  },
  {
   "cell_type": "code",
   "execution_count": null,
   "metadata": {
    "deletable": false,
    "editable": false,
    "nbgrader": {
     "grade": true,
     "grade_id": "cell-04b5eaa6dd765f64",
     "locked": true,
     "points": 1,
     "schema_version": 1,
     "solution": false
    }
   },
   "outputs": [],
   "source": [
    "assert isinstance(clf, KNeighborsClassifier)\n",
    "assert clf.n_neighbors == 3\n",
    "assert clf.metric == 'minkowski'\n",
    "\n",
    "assert isinstance(y_pred, np.ndarray)\n",
    "assert y_pred.shape == (59,)\n",
    "\n",
    "assert isinstance(accuracy, float)\n",
    "assert math.isclose(accuracy, 0.694915, rel_tol=1e-04)"
   ]
  },
  {
   "cell_type": "markdown",
   "metadata": {
    "deletable": false,
    "editable": false,
    "nbgrader": {
     "grade": false,
     "grade_id": "cell-967467f1173ef45d",
     "locked": true,
     "schema_version": 1,
     "solution": false
    }
   },
   "source": [
    "## Exercise 12\n",
    "\n",
    "Now we want to see the difference if we use the cosine distance instead of the euclidean distance.\n",
    "\n",
    "Go through the same steps as the previous exercise, but use the cosine distance as the distance metric in the knn classifier."
   ]
  },
  {
   "cell_type": "code",
   "execution_count": null,
   "metadata": {
    "deletable": false,
    "nbgrader": {
     "grade": false,
     "grade_id": "cell-2d3c89f8bdfa66f9",
     "locked": false,
     "schema_version": 1,
     "solution": true
    }
   },
   "outputs": [],
   "source": [
    "# Instantiate a kNN Classifier with k=3, that uses the cosine distance as distance function\n",
    "# clf = ...\n",
    "# YOUR CODE HERE\n",
    "raise NotImplementedError()\n",
    "\n",
    "\n",
    "# Get predictions for the test dataset\n",
    "# y_pred = ...\n",
    "# YOUR CODE HERE\n",
    "raise NotImplementedError()\n",
    "\n",
    "# Measure the accuracy of your solution using scikit's accuracy_score function\n",
    "# accuracy = ...\n",
    "# YOUR CODE HERE\n",
    "raise NotImplementedError()"
   ]
  },
  {
   "cell_type": "code",
   "execution_count": null,
   "metadata": {
    "deletable": false,
    "editable": false,
    "nbgrader": {
     "grade": true,
     "grade_id": "cell-27bbc70efc45d988",
     "locked": true,
     "points": 1,
     "schema_version": 1,
     "solution": false
    }
   },
   "outputs": [],
   "source": [
    "assert isinstance(clf, KNeighborsClassifier)\n",
    "assert clf.n_neighbors == 3\n",
    "assert clf.metric == cosine\n",
    "\n",
    "assert isinstance(y_pred, np.ndarray)\n",
    "assert y_pred.shape == (59,)\n",
    "\n",
    "assert isinstance(accuracy, float)\n",
    "assert math.isclose(accuracy, 0.7796610, rel_tol=1e-04)"
   ]
  },
  {
   "cell_type": "markdown",
   "metadata": {
    "deletable": false,
    "editable": false,
    "nbgrader": {
     "grade": false,
     "grade_id": "cell-202c9f284ddef192",
     "locked": true,
     "schema_version": 1,
     "solution": false
    }
   },
   "source": [
    "And we're done! Nice job ;)"
   ]
  },
  {
   "cell_type": "markdown",
   "metadata": {
    "deletable": false,
    "editable": false,
    "nbgrader": {
     "grade": false,
     "grade_id": "cell-1a098c74dbde1f1a",
     "locked": true,
     "schema_version": 1,
     "solution": false
    }
   },
   "source": [
    "![were_done](media/were_done.gif)"
   ]
  },
  {
   "cell_type": "code",
   "execution_count": null,
   "metadata": {},
   "outputs": [],
   "source": []
  },
  {
   "cell_type": "code",
   "execution_count": null,
   "metadata": {},
   "outputs": [],
   "source": []
  }
 ],
 "metadata": {
  "kernelspec": {
   "display_name": "Python 3",
   "language": "python",
   "name": "python3"
  },
  "language_info": {
   "codemirror_mode": {
    "name": "ipython",
    "version": 3
   },
   "file_extension": ".py",
   "mimetype": "text/x-python",
   "name": "python",
   "nbconvert_exporter": "python",
   "pygments_lexer": "ipython3",
   "version": "3.7.3"
  }
 },
 "nbformat": 4,
 "nbformat_minor": 2
}
