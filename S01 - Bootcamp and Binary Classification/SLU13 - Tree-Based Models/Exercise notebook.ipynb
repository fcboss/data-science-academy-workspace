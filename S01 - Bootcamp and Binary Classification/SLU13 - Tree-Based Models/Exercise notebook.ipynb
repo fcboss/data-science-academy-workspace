{
 "cells": [
  {
   "cell_type": "markdown",
   "metadata": {
    "deletable": false,
    "editable": false,
    "nbgrader": {
     "grade": false,
     "grade_id": "cell-ad1289a5a69aed06",
     "locked": true,
     "schema_version": 1,
     "solution": false
    }
   },
   "source": [
    "# Tree-based models - Exercises"
   ]
  },
  {
   "cell_type": "code",
   "execution_count": 1,
   "metadata": {
    "deletable": false,
    "editable": false,
    "nbgrader": {
     "grade": false,
     "grade_id": "cell-0de77c0206c013f9",
     "locked": true,
     "schema_version": 1,
     "solution": false
    }
   },
   "outputs": [],
   "source": [
    "import warnings\n",
    "warnings.filterwarnings(\"ignore\")\n",
    "\n",
    "import hashlib\n",
    "\n",
    "import pandas as pd\n",
    "import numpy as np\n",
    "\n",
    "from utils.utils import *"
   ]
  },
  {
   "cell_type": "markdown",
   "metadata": {
    "deletable": false,
    "editable": false,
    "nbgrader": {
     "grade": false,
     "grade_id": "cell-5bd781fc92eff09b",
     "locked": true,
     "schema_version": 1,
     "solution": false
    }
   },
   "source": [
    "# Exercise 1 - Decision Trees\n",
    "\n",
    "## 1.1 Gini impurity\n",
    "\n",
    "Used by the CART algorithm for classification, Gini impurity is an alternative to entropy.\n",
    "\n",
    "As entropy, it is a way to measure node homogeneity. Hence, it can be used to identify promissing splits.\n",
    "\n",
    "Take $p$ as the probability of the positive class, i.e., the proportion of positive cases in the set:\n",
    "\n",
    "$$I_G(p)= 1 - p^2 - (1-p)^2$$\n",
    "\n",
    "It measures how often a randomly chosen element from the set would be incorrectly labeled."
   ]
  },
  {
   "cell_type": "code",
   "execution_count": 2,
   "metadata": {
    "deletable": false,
    "nbgrader": {
     "grade": false,
     "grade_id": "cell-096c9f233958084b",
     "locked": false,
     "schema_version": 1,
     "solution": true
    }
   },
   "outputs": [
    {
     "data": {
      "text/html": [
       "<div>\n",
       "<style scoped>\n",
       "    .dataframe tbody tr th:only-of-type {\n",
       "        vertical-align: middle;\n",
       "    }\n",
       "\n",
       "    .dataframe tbody tr th {\n",
       "        vertical-align: top;\n",
       "    }\n",
       "\n",
       "    .dataframe thead th {\n",
       "        text-align: right;\n",
       "    }\n",
       "</style>\n",
       "<table border=\"1\" class=\"dataframe\">\n",
       "  <thead>\n",
       "    <tr style=\"text-align: right;\">\n",
       "      <th></th>\n",
       "      <th>Outlook</th>\n",
       "      <th>Temperature</th>\n",
       "      <th>Humidity</th>\n",
       "      <th>Windy</th>\n",
       "      <th>Class</th>\n",
       "    </tr>\n",
       "  </thead>\n",
       "  <tbody>\n",
       "    <tr>\n",
       "      <th>0</th>\n",
       "      <td>sunny</td>\n",
       "      <td>hot</td>\n",
       "      <td>high</td>\n",
       "      <td>false</td>\n",
       "      <td>0</td>\n",
       "    </tr>\n",
       "    <tr>\n",
       "      <th>1</th>\n",
       "      <td>sunny</td>\n",
       "      <td>hot</td>\n",
       "      <td>high</td>\n",
       "      <td>true</td>\n",
       "      <td>0</td>\n",
       "    </tr>\n",
       "    <tr>\n",
       "      <th>2</th>\n",
       "      <td>overcast</td>\n",
       "      <td>hot</td>\n",
       "      <td>high</td>\n",
       "      <td>false</td>\n",
       "      <td>1</td>\n",
       "    </tr>\n",
       "    <tr>\n",
       "      <th>3</th>\n",
       "      <td>rain</td>\n",
       "      <td>mild</td>\n",
       "      <td>high</td>\n",
       "      <td>false</td>\n",
       "      <td>1</td>\n",
       "    </tr>\n",
       "    <tr>\n",
       "      <th>4</th>\n",
       "      <td>rain</td>\n",
       "      <td>cool</td>\n",
       "      <td>normal</td>\n",
       "      <td>false</td>\n",
       "      <td>1</td>\n",
       "    </tr>\n",
       "    <tr>\n",
       "      <th>5</th>\n",
       "      <td>rain</td>\n",
       "      <td>cool</td>\n",
       "      <td>normal</td>\n",
       "      <td>false</td>\n",
       "      <td>0</td>\n",
       "    </tr>\n",
       "    <tr>\n",
       "      <th>6</th>\n",
       "      <td>overcast</td>\n",
       "      <td>cool</td>\n",
       "      <td>normal</td>\n",
       "      <td>false</td>\n",
       "      <td>1</td>\n",
       "    </tr>\n",
       "    <tr>\n",
       "      <th>7</th>\n",
       "      <td>sunny</td>\n",
       "      <td>mild</td>\n",
       "      <td>high</td>\n",
       "      <td>false</td>\n",
       "      <td>0</td>\n",
       "    </tr>\n",
       "    <tr>\n",
       "      <th>8</th>\n",
       "      <td>sunny</td>\n",
       "      <td>cool</td>\n",
       "      <td>normal</td>\n",
       "      <td>false</td>\n",
       "      <td>1</td>\n",
       "    </tr>\n",
       "    <tr>\n",
       "      <th>9</th>\n",
       "      <td>rain</td>\n",
       "      <td>mild</td>\n",
       "      <td>normal</td>\n",
       "      <td>false</td>\n",
       "      <td>1</td>\n",
       "    </tr>\n",
       "    <tr>\n",
       "      <th>10</th>\n",
       "      <td>sunny</td>\n",
       "      <td>mild</td>\n",
       "      <td>normal</td>\n",
       "      <td>true</td>\n",
       "      <td>1</td>\n",
       "    </tr>\n",
       "    <tr>\n",
       "      <th>11</th>\n",
       "      <td>overcast</td>\n",
       "      <td>mild</td>\n",
       "      <td>high</td>\n",
       "      <td>true</td>\n",
       "      <td>1</td>\n",
       "    </tr>\n",
       "    <tr>\n",
       "      <th>12</th>\n",
       "      <td>overcast</td>\n",
       "      <td>hot</td>\n",
       "      <td>normal</td>\n",
       "      <td>false</td>\n",
       "      <td>1</td>\n",
       "    </tr>\n",
       "    <tr>\n",
       "      <th>13</th>\n",
       "      <td>rain</td>\n",
       "      <td>mild</td>\n",
       "      <td>high</td>\n",
       "      <td>true</td>\n",
       "      <td>0</td>\n",
       "    </tr>\n",
       "  </tbody>\n",
       "</table>\n",
       "</div>"
      ],
      "text/plain": [
       "     Outlook Temperature Humidity  Windy  Class\n",
       "0      sunny         hot     high  false      0\n",
       "1      sunny         hot     high   true      0\n",
       "2   overcast         hot     high  false      1\n",
       "3       rain        mild     high  false      1\n",
       "4       rain        cool   normal  false      1\n",
       "5       rain        cool   normal  false      0\n",
       "6   overcast        cool   normal  false      1\n",
       "7      sunny        mild     high  false      0\n",
       "8      sunny        cool   normal  false      1\n",
       "9       rain        mild   normal  false      1\n",
       "10     sunny        mild   normal   true      1\n",
       "11  overcast        mild     high   true      1\n",
       "12  overcast         hot   normal  false      1\n",
       "13      rain        mild     high   true      0"
      ]
     },
     "execution_count": 2,
     "metadata": {},
     "output_type": "execute_result"
    }
   ],
   "source": [
    "def gini(p):\n",
    "    # YOUR CODE HERE\n",
    "    return 1-p**2-(1-p)**2\n",
    "    \n",
    "    \n",
    "data = make_data()\n",
    "data.head(20)"
   ]
  },
  {
   "cell_type": "code",
   "execution_count": 3,
   "metadata": {
    "deletable": false,
    "editable": false,
    "nbgrader": {
     "grade": true,
     "grade_id": "cell-cd65813e62272b59",
     "locked": true,
     "points": 4,
     "schema_version": 1,
     "solution": false
    }
   },
   "outputs": [],
   "source": [
    "expected_hash_1 = '5feceb66ffc86f38d952786c6d696c79c2dbc239dd4e91b46729d73a27fb57e9'\n",
    "assert hashlib.sha256(str(gini(p=0)).encode('utf-8')).hexdigest() == expected_hash_1\n",
    "\n",
    "expected_hash_2 = '0061765517977143a7ed83b494b172f02af75de1c3cdde6f969effdef053ee8c'\n",
    "assert hashlib.sha256(str(gini(p=1/6)).encode('utf-8')).hexdigest() == expected_hash_2\n",
    "\n",
    "expected_hash_3 = '683487f42b8f523b6df156fbc42818868de8d2b70ad48f801df4df36d07b40f2'\n",
    "assert hashlib.sha256(str(gini(p=1/3)).encode('utf-8')).hexdigest() == expected_hash_3\n",
    "\n",
    "expected_hash_4 = 'd2cbad71ff333de67d07ec676e352ab7f38248eb69c942950157220607c55e84'\n",
    "assert hashlib.sha256(str(gini(p=1/2)).encode('utf-8')).hexdigest() == expected_hash_4"
   ]
  },
  {
   "cell_type": "markdown",
   "metadata": {
    "deletable": false,
    "editable": false,
    "nbgrader": {
     "grade": false,
     "grade_id": "cell-04b84fddb28c08cc",
     "locked": true,
     "schema_version": 1,
     "solution": false
    }
   },
   "source": [
    "## 1.2 Applying the Gini \n",
    "\n",
    "### 1.2.1 Single node\n",
    "\n",
    "Compute the impurity of a node that includes all instances where $x_i^{Windy}$ is `'true'`.\n",
    "\n",
    "(Note that `'true'` is a string.)"
   ]
  },
  {
   "cell_type": "code",
   "execution_count": 7,
   "metadata": {},
   "outputs": [
    {
     "data": {
      "text/html": [
       "<div>\n",
       "<style scoped>\n",
       "    .dataframe tbody tr th:only-of-type {\n",
       "        vertical-align: middle;\n",
       "    }\n",
       "\n",
       "    .dataframe tbody tr th {\n",
       "        vertical-align: top;\n",
       "    }\n",
       "\n",
       "    .dataframe thead th {\n",
       "        text-align: right;\n",
       "    }\n",
       "</style>\n",
       "<table border=\"1\" class=\"dataframe\">\n",
       "  <thead>\n",
       "    <tr style=\"text-align: right;\">\n",
       "      <th></th>\n",
       "      <th>Outlook</th>\n",
       "      <th>Temperature</th>\n",
       "      <th>Humidity</th>\n",
       "      <th>Windy</th>\n",
       "      <th>Class</th>\n",
       "    </tr>\n",
       "  </thead>\n",
       "  <tbody>\n",
       "    <tr>\n",
       "      <th>1</th>\n",
       "      <td>sunny</td>\n",
       "      <td>hot</td>\n",
       "      <td>high</td>\n",
       "      <td>true</td>\n",
       "      <td>0</td>\n",
       "    </tr>\n",
       "    <tr>\n",
       "      <th>10</th>\n",
       "      <td>sunny</td>\n",
       "      <td>mild</td>\n",
       "      <td>normal</td>\n",
       "      <td>true</td>\n",
       "      <td>1</td>\n",
       "    </tr>\n",
       "    <tr>\n",
       "      <th>11</th>\n",
       "      <td>overcast</td>\n",
       "      <td>mild</td>\n",
       "      <td>high</td>\n",
       "      <td>true</td>\n",
       "      <td>1</td>\n",
       "    </tr>\n",
       "    <tr>\n",
       "      <th>13</th>\n",
       "      <td>rain</td>\n",
       "      <td>mild</td>\n",
       "      <td>high</td>\n",
       "      <td>true</td>\n",
       "      <td>0</td>\n",
       "    </tr>\n",
       "  </tbody>\n",
       "</table>\n",
       "</div>"
      ],
      "text/plain": [
       "     Outlook Temperature Humidity Windy  Class\n",
       "1      sunny         hot     high  true      0\n",
       "10     sunny        mild   normal  true      1\n",
       "11  overcast        mild     high  true      1\n",
       "13      rain        mild     high  true      0"
      ]
     },
     "execution_count": 7,
     "metadata": {},
     "output_type": "execute_result"
    }
   ],
   "source": []
  },
  {
   "cell_type": "code",
   "execution_count": 11,
   "metadata": {
    "deletable": false,
    "nbgrader": {
     "grade": false,
     "grade_id": "cell-1eb99a6c8f5fd94d",
     "locked": false,
     "schema_version": 1,
     "solution": true
    }
   },
   "outputs": [
    {
     "data": {
      "text/plain": [
       "0.5"
      ]
     },
     "execution_count": 11,
     "metadata": {},
     "output_type": "execute_result"
    }
   ],
   "source": [
    "single_node_gini = data[data.Windy=='true']\n",
    "\n",
    "# single_node_gini = ...\n",
    "def compute_probability(node):\n",
    "    # YOUR CODE HERE\n",
    "    return node['Class'].sum()/node['Class'].count()\n",
    "\n",
    "single_node_gini = gini(compute_probability(single_node_gini))\n",
    "# YOUR CODE HERE\n",
    "single_node_gini"
   ]
  },
  {
   "cell_type": "code",
   "execution_count": 12,
   "metadata": {
    "deletable": false,
    "editable": false,
    "nbgrader": {
     "grade": true,
     "grade_id": "cell-f847f2e82a8bd209",
     "locked": true,
     "points": 4,
     "schema_version": 1,
     "solution": false
    }
   },
   "outputs": [],
   "source": [
    "expected_hash_5 = 'd2cbad71ff333de67d07ec676e352ab7f38248eb69c942950157220607c55e84'\n",
    "assert hashlib.sha256(str(single_node_gini).encode('utf-8')).hexdigest() == expected_hash_5"
   ]
  },
  {
   "cell_type": "code",
   "execution_count": 15,
   "metadata": {},
   "outputs": [
    {
     "ename": "AttributeError",
     "evalue": "'numpy.ndarray' object has no attribute 'values'",
     "output_type": "error",
     "traceback": [
      "\u001b[1;31m---------------------------------------------------------------------------\u001b[0m",
      "\u001b[1;31mAttributeError\u001b[0m                            Traceback (most recent call last)",
      "\u001b[1;32m<ipython-input-15-404194bcbadc>\u001b[0m in \u001b[0;36m<module>\u001b[1;34m\u001b[0m\n\u001b[1;32m----> 1\u001b[1;33m \u001b[0mdata\u001b[0m\u001b[1;33m[\u001b[0m\u001b[1;34m'Outlook'\u001b[0m\u001b[1;33m]\u001b[0m\u001b[1;33m.\u001b[0m\u001b[0munique\u001b[0m\u001b[1;33m(\u001b[0m\u001b[1;33m)\u001b[0m\u001b[1;33m.\u001b[0m\u001b[0mvalues\u001b[0m\u001b[1;33m\u001b[0m\u001b[1;33m\u001b[0m\u001b[0m\n\u001b[0m",
      "\u001b[1;31mAttributeError\u001b[0m: 'numpy.ndarray' object has no attribute 'values'"
     ]
    }
   ],
   "source": [
    "data['Outlook'].unique()"
   ]
  },
  {
   "cell_type": "markdown",
   "metadata": {
    "deletable": false,
    "editable": false,
    "nbgrader": {
     "grade": false,
     "grade_id": "cell-be5197a0bc4535d5",
     "locked": true,
     "schema_version": 1,
     "solution": false
    }
   },
   "source": [
    "### 1.2.2 Single feature\n",
    "\n",
    "Write a function to compute the mean impurity of branching on a given feature.\n",
    "\n",
    "(Hint: compute the impurity of each resulting node and average the results.)"
   ]
  },
  {
   "cell_type": "code",
   "execution_count": 21,
   "metadata": {
    "deletable": false,
    "nbgrader": {
     "grade": false,
     "grade_id": "cell-ca4c34be595ebcb3",
     "locked": false,
     "schema_version": 1,
     "solution": true
    }
   },
   "outputs": [],
   "source": [
    "from statistics import mean\n",
    "\n",
    "\n",
    "def mean_impurity(data, feature_name):\n",
    "    # YOUR CODE HERE\n",
    "    impurities = []\n",
    "    for split in data[feature_name].unique():\n",
    "\n",
    "        single_node = data[data[feature_name]==split]\n",
    "\n",
    "        impurities.append( gini(compute_probability(single_node)))\n",
    "    return np.mean(impurities)"
   ]
  },
  {
   "cell_type": "code",
   "execution_count": 22,
   "metadata": {
    "deletable": false,
    "editable": false,
    "nbgrader": {
     "grade": true,
     "grade_id": "cell-92d7465bbb671305",
     "locked": true,
     "points": 4,
     "schema_version": 1,
     "solution": false
    }
   },
   "outputs": [],
   "source": [
    "assert mean_impurity(data, 'Temperature') == 0.4398148148148148\n",
    "\n",
    "expected_hash_6 = '60bb8f6c52a2aca85b1a3ae08e71f97dd3fa8603b55abefb09ebb0edfe5294d1'\n",
    "assert hashlib.sha256(str(mean_impurity(data, 'Outlook')).encode('utf-8')).hexdigest() == expected_hash_6\n",
    "\n",
    "expected_hash_7 = '1bd499c4b5bbae82a4f4a4efe3950b803e7dc64764c56115810e696db1b28afe'\n",
    "assert hashlib.sha256(str(mean_impurity(data, 'Humidity')).encode('utf-8')).hexdigest() == expected_hash_7\n",
    "\n",
    "expected_hash_8 = 'ccb9ffbc97edf0207e9b20dd9331f576984b45f178aa756421dd16508dd984fc'\n",
    "assert hashlib.sha256(str(mean_impurity(data, 'Windy')).encode('utf-8')).hexdigest() == expected_hash_8"
   ]
  },
  {
   "cell_type": "markdown",
   "metadata": {
    "deletable": false,
    "editable": false,
    "nbgrader": {
     "grade": false,
     "grade_id": "cell-64e25603766a0f61",
     "locked": true,
     "schema_version": 1,
     "solution": false
    }
   },
   "source": [
    "## 1.3 Worst split\n",
    "\n",
    "Use the `mean_impurity()` function above to identify the **least promising** feature.\n",
    "\n",
    "(Uncomment the **correct option**.)"
   ]
  },
  {
   "cell_type": "code",
   "execution_count": 26,
   "metadata": {},
   "outputs": [
    {
     "name": "stdout",
     "output_type": "stream",
     "text": [
      "Outlook: 0.32\n",
      "Temperature: 0.4398148148148148\n",
      "Humidity: 0.3673469387755103\n",
      "Windy: 0.45999999999999996\n",
      "Class: 0.0\n"
     ]
    }
   ],
   "source": [
    "for c in data.columns:\n",
    "    print('{}: {}'.format(c,mean_impurity(data, c)))"
   ]
  },
  {
   "cell_type": "code",
   "execution_count": 31,
   "metadata": {
    "deletable": false,
    "nbgrader": {
     "grade": false,
     "grade_id": "cell-1adca6f8556b71f2",
     "locked": false,
     "schema_version": 1,
     "solution": true
    }
   },
   "outputs": [],
   "source": [
    "# worst_split = 'Temperature'\n",
    "#worst_split = 'Outlook'\n",
    "# worst_split = 'Humidity'\n",
    "worst_split = 'Windy'\n",
    "\n",
    "# YOUR CODE HERE\n"
   ]
  },
  {
   "cell_type": "code",
   "execution_count": 32,
   "metadata": {
    "deletable": false,
    "editable": false,
    "nbgrader": {
     "grade": true,
     "grade_id": "cell-2b25486151a99ff4",
     "locked": true,
     "points": 4,
     "schema_version": 1,
     "solution": false
    }
   },
   "outputs": [],
   "source": [
    "expected_hash_9 = 'cdcaccab2e98e50c7fd550e5be166e6c260312708903794361d1815222ed0975'\n",
    "assert hashlib.sha256(str(worst_split).encode('utf-8')).hexdigest() == expected_hash_9"
   ]
  },
  {
   "cell_type": "markdown",
   "metadata": {
    "deletable": false,
    "editable": false,
    "nbgrader": {
     "grade": false,
     "grade_id": "cell-fd2ce5a9573d00ff",
     "locked": true,
     "schema_version": 1,
     "solution": false
    }
   },
   "source": [
    "# Exercise 2 - Random Forests"
   ]
  },
  {
   "cell_type": "markdown",
   "metadata": {
    "deletable": false,
    "editable": false,
    "nbgrader": {
     "grade": false,
     "grade_id": "cell-2367f357f5eb7f4a",
     "locked": true,
     "schema_version": 1,
     "solution": false
    }
   },
   "source": [
    "## 2.1 Bagging\n",
    "\n",
    "Uncomment the **incorrect statement**."
   ]
  },
  {
   "cell_type": "code",
   "execution_count": 34,
   "metadata": {
    "deletable": false,
    "nbgrader": {
     "grade": false,
     "grade_id": "cell-c734638ada0323ab",
     "locked": false,
     "schema_version": 1,
     "solution": true
    }
   },
   "outputs": [],
   "source": [
    "# incorrect_statement_1 = 'Bagging helps to deal with overfitting, which is a big risk when using Decision Trees.'\n",
    "# incorrect_statement_1 = 'Bagging involves averaging the predictions of multiple independent models.'\n",
    "# incorrect_statement_1 = 'Bagging involves creating multiple data sets by sampling observations.'\n",
    "incorrect_statement_1 = 'Bagging involves creating multiple data sets by sampling columns.'\n",
    "\n",
    "# YOUR CODE HERE\n"
   ]
  },
  {
   "cell_type": "code",
   "execution_count": 35,
   "metadata": {
    "deletable": false,
    "editable": false,
    "nbgrader": {
     "grade": true,
     "grade_id": "cell-f0ee1005cf77cd42",
     "locked": true,
     "points": 1,
     "schema_version": 1,
     "solution": false
    }
   },
   "outputs": [],
   "source": [
    "expected_hash_10 = '1fb9060eefe647e998b5868f95d4930673fa3645ed0120176f6867f6c43ecf71'\n",
    "assert hashlib.sha256(str(incorrect_statement_1).encode('utf-8')).hexdigest() == expected_hash_10"
   ]
  },
  {
   "cell_type": "markdown",
   "metadata": {
    "deletable": false,
    "editable": false,
    "nbgrader": {
     "grade": false,
     "grade_id": "cell-0eaa70d393975c48",
     "locked": true,
     "schema_version": 1,
     "solution": false
    }
   },
   "source": [
    "## 2.2 Random forests\n",
    "\n",
    "Uncomment the **incorrect statement**."
   ]
  },
  {
   "cell_type": "code",
   "execution_count": 37,
   "metadata": {
    "deletable": false,
    "nbgrader": {
     "grade": false,
     "grade_id": "cell-7841ec3e8a3d8ab4",
     "locked": false,
     "schema_version": 1,
     "solution": true
    }
   },
   "outputs": [],
   "source": [
    "# incorrect_statement_2 = 'Random forests rely on bootstrapping to build several training sets.'\n",
    "# incorrect_statement_2 = 'Random forests rely on random feature selection before each split.'\n",
    "# incorrect_statement_2 = 'Random forests aggregates the predictions of multiple models running in parallel.'\n",
    "incorrect_statement_2 = 'Random forests aggregates the predictions of multiple models running sequentially.'\n",
    "\n",
    "# YOUR CODE HERE\n"
   ]
  },
  {
   "cell_type": "code",
   "execution_count": 38,
   "metadata": {
    "deletable": false,
    "editable": false,
    "nbgrader": {
     "grade": true,
     "grade_id": "cell-d7e4db2d6899e82f",
     "locked": true,
     "points": 1,
     "schema_version": 1,
     "solution": false
    }
   },
   "outputs": [],
   "source": [
    "expected_hash_11 = '3a36af9faaf10138801ffef535b24bfe0a34217160a886dacdb3bd68b7777067'\n",
    "assert hashlib.sha256(str(incorrect_statement_2).encode('utf-8')).hexdigest() == expected_hash_11"
   ]
  },
  {
   "cell_type": "markdown",
   "metadata": {},
   "source": [
    "# 3 Gradient boosting\n",
    "\n",
    "Uncomment the **incorrect statement**."
   ]
  },
  {
   "cell_type": "code",
   "execution_count": 39,
   "metadata": {
    "deletable": false,
    "nbgrader": {
     "grade": false,
     "grade_id": "cell-19d101619190adb0",
     "locked": false,
     "schema_version": 1,
     "solution": true
    }
   },
   "outputs": [],
   "source": [
    "# incorrect_statement_3 = 'Gradient boosting fits individual trees sequentially.'\n",
    "incorrect_statement_3 = 'Gradient boosting fits individual trees on the predictions from the previous tree.'\n",
    "# incorrect_statement_3 = 'Gradient boosting fits individual trees on the pseudo-residuals of the previous tree.'\n",
    "# incorrect_statement_3 = 'Gradient boosting can be used to optimize a differentiable cost function.'\n",
    "\n",
    "# YOUR CODE HERE\n"
   ]
  },
  {
   "cell_type": "code",
   "execution_count": 40,
   "metadata": {
    "deletable": false,
    "editable": false,
    "nbgrader": {
     "grade": true,
     "grade_id": "cell-2aa78ad9cfadcba8",
     "locked": true,
     "points": 2,
     "schema_version": 1,
     "solution": false
    }
   },
   "outputs": [],
   "source": [
    "expected_hash_12 = '4000dc46debb11c42c4d44c82eb50120463cad49ae182b5130c9e276104570bd'\n",
    "assert hashlib.sha256(str(incorrect_statement_3).encode('utf-8')).hexdigest() == expected_hash_12"
   ]
  },
  {
   "cell_type": "code",
   "execution_count": null,
   "metadata": {},
   "outputs": [],
   "source": []
  }
 ],
 "metadata": {
  "kernelspec": {
   "display_name": "Python 3",
   "language": "python",
   "name": "python3"
  },
  "language_info": {
   "codemirror_mode": {
    "name": "ipython",
    "version": 3
   },
   "file_extension": ".py",
   "mimetype": "text/x-python",
   "name": "python",
   "nbconvert_exporter": "python",
   "pygments_lexer": "ipython3",
   "version": "3.7.3"
  }
 },
 "nbformat": 4,
 "nbformat_minor": 2
}
