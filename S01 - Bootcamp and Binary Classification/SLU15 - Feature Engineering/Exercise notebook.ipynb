{
 "cells": [
  {
   "cell_type": "markdown",
   "metadata": {
    "deletable": false,
    "editable": false,
    "nbgrader": {
     "grade": false,
     "grade_id": "cell-f16e3dd76b298ad4",
     "locked": true,
     "schema_version": 1,
     "solution": false
    }
   },
   "source": [
    "# SLU15 - Feature Engineering (aka Real World Data): Exercises notebook"
   ]
  },
  {
   "cell_type": "markdown",
   "metadata": {
    "deletable": false,
    "editable": false,
    "nbgrader": {
     "grade": false,
     "grade_id": "cell-de4512a037d6b7ce",
     "locked": true,
     "schema_version": 1,
     "solution": false
    }
   },
   "source": [
    "## 1 About the data\n",
    "\n",
    "In this exercise we will be using a synthetic financial dataset used for fraud detection, adapted from [here](https://www.kaggle.com/ntnu-testimon/paysim1)."
   ]
  },
  {
   "cell_type": "code",
   "execution_count": 1,
   "metadata": {
    "deletable": false,
    "editable": false,
    "nbgrader": {
     "grade": false,
     "grade_id": "cell-159bcb71f42e3691",
     "locked": true,
     "schema_version": 1,
     "solution": false
    }
   },
   "outputs": [
    {
     "data": {
      "text/html": [
       "<div>\n",
       "<style scoped>\n",
       "    .dataframe tbody tr th:only-of-type {\n",
       "        vertical-align: middle;\n",
       "    }\n",
       "\n",
       "    .dataframe tbody tr th {\n",
       "        vertical-align: top;\n",
       "    }\n",
       "\n",
       "    .dataframe thead th {\n",
       "        text-align: right;\n",
       "    }\n",
       "</style>\n",
       "<table border=\"1\" class=\"dataframe\">\n",
       "  <thead>\n",
       "    <tr style=\"text-align: right;\">\n",
       "      <th></th>\n",
       "      <th>time</th>\n",
       "      <th>type</th>\n",
       "      <th>risk</th>\n",
       "      <th>amount</th>\n",
       "      <th>availableBalance</th>\n",
       "      <th>nameOrig</th>\n",
       "      <th>nameDest</th>\n",
       "      <th>isFraud</th>\n",
       "    </tr>\n",
       "  </thead>\n",
       "  <tbody>\n",
       "    <tr>\n",
       "      <th>0</th>\n",
       "      <td>1</td>\n",
       "      <td>TRANSFER</td>\n",
       "      <td>medium</td>\n",
       "      <td>181.00</td>\n",
       "      <td>181.0</td>\n",
       "      <td>C1305486145</td>\n",
       "      <td>C553264065</td>\n",
       "      <td>True</td>\n",
       "    </tr>\n",
       "    <tr>\n",
       "      <th>1</th>\n",
       "      <td>1</td>\n",
       "      <td>CASH_OUT</td>\n",
       "      <td>medium</td>\n",
       "      <td>181.00</td>\n",
       "      <td>181.0</td>\n",
       "      <td>C840083671</td>\n",
       "      <td>C38997010</td>\n",
       "      <td>True</td>\n",
       "    </tr>\n",
       "    <tr>\n",
       "      <th>2</th>\n",
       "      <td>1</td>\n",
       "      <td>PAYMENT</td>\n",
       "      <td>high</td>\n",
       "      <td>11668.14</td>\n",
       "      <td>41554.0</td>\n",
       "      <td>C2048537720</td>\n",
       "      <td>M1230701703</td>\n",
       "      <td>False</td>\n",
       "    </tr>\n",
       "    <tr>\n",
       "      <th>3</th>\n",
       "      <td>1</td>\n",
       "      <td>PAYMENT</td>\n",
       "      <td>low</td>\n",
       "      <td>4024.36</td>\n",
       "      <td>2671.0</td>\n",
       "      <td>C1265012928</td>\n",
       "      <td>M1176932104</td>\n",
       "      <td>False</td>\n",
       "    </tr>\n",
       "    <tr>\n",
       "      <th>4</th>\n",
       "      <td>1</td>\n",
       "      <td>PAYMENT</td>\n",
       "      <td>low</td>\n",
       "      <td>13875.98</td>\n",
       "      <td>15818.0</td>\n",
       "      <td>C484199463</td>\n",
       "      <td>M2008106788</td>\n",
       "      <td>False</td>\n",
       "    </tr>\n",
       "  </tbody>\n",
       "</table>\n",
       "</div>"
      ],
      "text/plain": [
       "   time      type    risk    amount  availableBalance     nameOrig  \\\n",
       "0     1  TRANSFER  medium    181.00             181.0  C1305486145   \n",
       "1     1  CASH_OUT  medium    181.00             181.0   C840083671   \n",
       "2     1   PAYMENT    high  11668.14           41554.0  C2048537720   \n",
       "3     1   PAYMENT     low   4024.36            2671.0  C1265012928   \n",
       "4     1   PAYMENT     low  13875.98           15818.0   C484199463   \n",
       "\n",
       "      nameDest  isFraud  \n",
       "0   C553264065     True  \n",
       "1    C38997010     True  \n",
       "2  M1230701703    False  \n",
       "3  M1176932104    False  \n",
       "4  M2008106788    False  "
      ]
     },
     "execution_count": 1,
     "metadata": {},
     "output_type": "execute_result"
    }
   ],
   "source": [
    "import pandas as pd\n",
    "import numpy as np\n",
    "import math\n",
    "import matplotlib.pyplot as plt\n",
    "%matplotlib inline\n",
    "\n",
    "data = pd.read_csv('data/transactions.csv')\n",
    "data.head()"
   ]
  },
  {
   "cell_type": "markdown",
   "metadata": {
    "deletable": false,
    "editable": false,
    "nbgrader": {
     "grade": false,
     "grade_id": "cell-a0e51493f92dd216",
     "locked": true,
     "schema_version": 1,
     "solution": false
    }
   },
   "source": [
    "The fields in this dataset have the following meaning:\n",
    "* **time** - 1 hour of time in the real world. Total 744 hours (30 days simulation).\n",
    "* **type** - CASH-IN, CASH-OUT, DEBIT, PAYMENT and TRANSFER.\n",
    "* **risk** - low, medium, high.\n",
    "* **amount** - amount of the transaction in local currency.\n",
    "* **availableBalance** - initial balance before the transaction.\n",
    "* **nameOrig** - customer who started the transaction.\n",
    "* **nameDest** - customer who is the recipient of the transaction.\n",
    "* **isFraud** - This is the transactions made by the fraudulent agents inside the simulation. In this specific dataset the fraudulent behavior of the agents aims to profit by taking control or customers accounts and try to empty the funds by transferring to another account and then cashing out of the system."
   ]
  },
  {
   "cell_type": "code",
   "execution_count": 2,
   "metadata": {
    "deletable": false,
    "editable": false,
    "nbgrader": {
     "grade": false,
     "grade_id": "cell-5936bdea4958e13b",
     "locked": true,
     "schema_version": 1,
     "solution": false
    }
   },
   "outputs": [],
   "source": [
    "X = data.copy()\n",
    "y = X.pop('isFraud')"
   ]
  },
  {
   "cell_type": "markdown",
   "metadata": {
    "deletable": false,
    "editable": false,
    "nbgrader": {
     "grade": false,
     "grade_id": "cell-5b226bc3bf62c0ed",
     "locked": true,
     "schema_version": 1,
     "solution": false
    }
   },
   "source": [
    "The first thing we want to do is to check the dtypes of our features."
   ]
  },
  {
   "cell_type": "code",
   "execution_count": 3,
   "metadata": {
    "deletable": false,
    "editable": false,
    "nbgrader": {
     "grade": false,
     "grade_id": "cell-f632f5b88c090ec1",
     "locked": true,
     "schema_version": 1,
     "solution": false
    },
    "scrolled": true
   },
   "outputs": [
    {
     "data": {
      "text/plain": [
       "time                  int64\n",
       "type                 object\n",
       "risk                 object\n",
       "amount              float64\n",
       "availableBalance    float64\n",
       "nameOrig             object\n",
       "nameDest             object\n",
       "dtype: object"
      ]
     },
     "execution_count": 3,
     "metadata": {},
     "output_type": "execute_result"
    }
   ],
   "source": [
    "X.dtypes"
   ]
  },
  {
   "cell_type": "code",
   "execution_count": 5,
   "metadata": {},
   "outputs": [
    {
     "data": {
      "text/plain": [
       "0         medium\n",
       "1         medium\n",
       "2           high\n",
       "3            low\n",
       "4            low\n",
       "5            low\n",
       "6         medium\n",
       "7           high\n",
       "8            low\n",
       "9           high\n",
       "10        medium\n",
       "11        medium\n",
       "12          high\n",
       "13        medium\n",
       "14           low\n",
       "15           low\n",
       "16        medium\n",
       "17           low\n",
       "18           low\n",
       "19        medium\n",
       "20        medium\n",
       "21           low\n",
       "22          high\n",
       "23           low\n",
       "24          high\n",
       "25           low\n",
       "26           low\n",
       "27          high\n",
       "28          high\n",
       "29          high\n",
       "           ...  \n",
       "643624       low\n",
       "643625    medium\n",
       "643626       low\n",
       "643627      high\n",
       "643628      high\n",
       "643629    medium\n",
       "643630    medium\n",
       "643631    medium\n",
       "643632       low\n",
       "643633    medium\n",
       "643634      high\n",
       "643635       low\n",
       "643636      high\n",
       "643637    medium\n",
       "643638       low\n",
       "643639      high\n",
       "643640       low\n",
       "643641       low\n",
       "643642       low\n",
       "643643       low\n",
       "643644      high\n",
       "643645      high\n",
       "643646    medium\n",
       "643647    medium\n",
       "643648    medium\n",
       "643649       low\n",
       "643650      high\n",
       "643651      high\n",
       "643652       low\n",
       "643653       low\n",
       "Name: risk, Length: 643654, dtype: object"
      ]
     },
     "execution_count": 5,
     "metadata": {},
     "output_type": "execute_result"
    }
   ],
   "source": [
    "X['risk'].ipynb_checkpoints/"
   ]
  },
  {
   "cell_type": "markdown",
   "metadata": {
    "deletable": false,
    "editable": false,
    "nbgrader": {
     "grade": false,
     "grade_id": "cell-46a98ad5fefa0ebe",
     "locked": true,
     "schema_version": 1,
     "solution": false
    }
   },
   "source": [
    "## 2 Category dtype in pandas"
   ]
  },
  {
   "cell_type": "markdown",
   "metadata": {
    "deletable": false,
    "editable": false,
    "nbgrader": {
     "grade": false,
     "grade_id": "cell-2539330ad7ffa6a7",
     "locked": true,
     "schema_version": 1,
     "solution": false
    }
   },
   "source": [
    "### Exercise 1: Convert fields into category dtype (graded)\n",
    "\n",
    "The fields `type` and `risk` are of dtype `object` but can be converted into dtype `category`, as explained in the Learning Notebook. Moreover:\n",
    "* `type` is a *nominal* categorical field, that is, without any meaningful order;\n",
    "* `risk` is an *ordinal* categorical field, as its values has a natural order.\n",
    "\n",
    "In the following exercise, convert both fields into dtype `category` and, in the case of the field `risk`, assign a natural order for its categories."
   ]
  },
  {
   "cell_type": "code",
   "execution_count": 12,
   "metadata": {
    "deletable": false,
    "nbgrader": {
     "grade": false,
     "grade_id": "cell-3e4465f2a536b366",
     "locked": false,
     "schema_version": 1,
     "solution": true
    }
   },
   "outputs": [],
   "source": [
    "def convert_categorical_features(X, nominal_feat='type', ordinal_feat='risk'):\n",
    "\n",
    "    X_s = X.copy()\n",
    "    \n",
    "    ## convert nominal feature to dtype 'category'\n",
    "    X_s['type'] = X_s['type'].astype('category')\n",
    "    ## create list of ordered categories for ordinal feature\n",
    "    risk_ord = ['low','medium','high']\n",
    "    \n",
    "    X_s['risk'] = X_s['risk'].astype('category')\n",
    "    X_s['risk']=X_s['risk'].cat.set_categories(risk_ord, ordered=True)\n",
    "    \n",
    "    ## convert ordinal feature to dtype 'category'\n",
    "    # ...\n",
    "    ## Assign natural order to ordinal feature\n",
    "    # ...\n",
    "    \n",
    "    # YOUR CODE HERE\n",
    "\n",
    "    return X_s"
   ]
  },
  {
   "cell_type": "code",
   "execution_count": 13,
   "metadata": {
    "deletable": false,
    "editable": false,
    "nbgrader": {
     "grade": true,
     "grade_id": "cell-0c9076faa5559934",
     "locked": true,
     "points": 4,
     "schema_version": 1,
     "solution": false
    }
   },
   "outputs": [],
   "source": [
    "\"\"\"Check that the solution is correct.\"\"\"\n",
    "X_cat_conv = convert_categorical_features(X)\n",
    "\n",
    "assert X_cat_conv.type.dtype == 'category'\n",
    "assert X_cat_conv.risk.dtype == 'category'\n",
    "assert X_cat_conv.risk.min() == 'low'\n",
    "assert X_cat_conv.risk.max() == 'high'"
   ]
  },
  {
   "cell_type": "markdown",
   "metadata": {
    "deletable": false,
    "editable": false,
    "nbgrader": {
     "grade": false,
     "grade_id": "cell-531832e38e6f379e",
     "locked": true,
     "schema_version": 1,
     "solution": false
    }
   },
   "source": [
    "### Exercise 2: Encode binary target (graded)\n",
    "\n",
    "The target variable for this dataset is `isFraud`, which was read by pandas as a field of dtype `bool`."
   ]
  },
  {
   "cell_type": "code",
   "execution_count": 14,
   "metadata": {
    "deletable": false,
    "editable": false,
    "nbgrader": {
     "grade": false,
     "grade_id": "cell-d3b8deb1daee580b",
     "locked": true,
     "schema_version": 1,
     "solution": false
    }
   },
   "outputs": [
    {
     "data": {
      "text/plain": [
       "dtype('bool')"
      ]
     },
     "execution_count": 14,
     "metadata": {},
     "output_type": "execute_result"
    }
   ],
   "source": [
    "y.dtype"
   ]
  },
  {
   "cell_type": "markdown",
   "metadata": {
    "deletable": false,
    "editable": false,
    "nbgrader": {
     "grade": false,
     "grade_id": "cell-da6da745af7bdd89",
     "locked": true,
     "schema_version": 1,
     "solution": false
    }
   },
   "source": [
    "In this exercise, encode the target variable to be `1` when a transaction is fraudulent and `0` otherwise using the `map` method."
   ]
  },
  {
   "cell_type": "code",
   "execution_count": 15,
   "metadata": {},
   "outputs": [],
   "source": [
    "import category_encoders as ce"
   ]
  },
  {
   "cell_type": "code",
   "execution_count": 29,
   "metadata": {
    "deletable": false,
    "nbgrader": {
     "grade": false,
     "grade_id": "cell-ec7b5600256b7523",
     "locked": false,
     "schema_version": 1,
     "solution": true
    }
   },
   "outputs": [],
   "source": [
    "def encode_target(y):\n",
    "\n",
    "    y_e = y.copy()\n",
    "    \n",
    "    ## create a dictionary mapping the current values to int values\n",
    "    y_e = y_e.map({True:1,False:0})\n",
    "    #enconding_map = ce.BinaryEncoder(cols=y)\n",
    "    ## change target using the mapping\n",
    "    #enconding_map.fit(y_e)\n",
    "    #y_e = enconding_map.transform(y_e)\n",
    "    print(y_e)\n",
    "    # YOUR CODE HERE\n",
    "    \n",
    "    return y_e"
   ]
  },
  {
   "cell_type": "code",
   "execution_count": 30,
   "metadata": {
    "deletable": false,
    "editable": false,
    "nbgrader": {
     "grade": true,
     "grade_id": "cell-a63ec6dac3b0a300",
     "locked": true,
     "points": 2,
     "schema_version": 1,
     "solution": false
    }
   },
   "outputs": [],
   "source": [
    "\"\"\"Check that the solution is correct.\"\"\"\n",
    "y_encoded = encode_target(y)\n",
    "\n",
    "assert y_encoded.dtype == 'int64'\n",
    "assert y_encoded[120] == 0\n",
    "assert y_encoded[58128] == 1\n",
    "assert sum(y_encoded) == 8213"
   ]
  },
  {
   "cell_type": "markdown",
   "metadata": {
    "deletable": false,
    "editable": false,
    "nbgrader": {
     "grade": false,
     "grade_id": "cell-1e0697ce8670cf79",
     "locked": true,
     "schema_version": 1,
     "solution": false
    }
   },
   "source": [
    "### Exercise 3: Discretize amount field (graded)\n",
    "\n",
    "The field `amount` is a continuous field, with a distribution which is, not surprisingly, very skewed to the right (remember *skewness* from SLU04?)."
   ]
  },
  {
   "cell_type": "code",
   "execution_count": 31,
   "metadata": {
    "deletable": false,
    "editable": false,
    "nbgrader": {
     "grade": false,
     "grade_id": "cell-ada360e54d9bf9ea",
     "locked": true,
     "schema_version": 1,
     "solution": false
    }
   },
   "outputs": [
    {
     "name": "stdout",
     "output_type": "stream",
     "text": [
      "The field 'amount' ranges from 0.0 to 60642003.0\n"
     ]
    },
    {
     "data": {
      "image/png": "[encoded data removed]",
      "text/plain": [
       "<Figure size 720x432 with 1 Axes>"
      ]
     },
     "metadata": {
      "needs_background": "light"
     },
     "output_type": "display_data"
    }
   ],
   "source": [
    "X.amount.plot.hist(bins=100, figsize=(10,6));\n",
    "plt.xlim(0);\n",
    "plt.xlabel('amount');\n",
    "print(\"The field 'amount' ranges from\", X.amount.min(), \"to\", X.amount.max())"
   ]
  },
  {
   "cell_type": "markdown",
   "metadata": {
    "deletable": false,
    "editable": false,
    "nbgrader": {
     "grade": false,
     "grade_id": "cell-56a34dbfc823d4de",
     "locked": true,
     "schema_version": 1,
     "solution": false
    }
   },
   "source": [
    "We will deal with the skewness in a bit. Let's first discretize this field in two ways:\n",
    "* create a new field called `discrete_amount` which is the discretization of the `amount` field, such that the range is between 0 and 99 and the original instances are uniformly distributed;\n",
    "* create a new field called `binary_amount` which is the binarization of the `amount` field, such that amounts smaller than `10000` become `0` and amounts equal or greater than `10000` become 1.\n",
    "\n",
    "Use `sklearn` transformers in this exercise."
   ]
  },
  {
   "cell_type": "code",
   "execution_count": 34,
   "metadata": {
    "deletable": false,
    "nbgrader": {
     "grade": false,
     "grade_id": "cell-4720ba22be810107",
     "locked": false,
     "schema_version": 1,
     "solution": true
    }
   },
   "outputs": [],
   "source": [
    "from sklearn.preprocessing import KBinsDiscretizer\n",
    "from sklearn.preprocessing import Binarizer\n",
    "\n",
    "def discretize_amounts(X):\n",
    "\n",
    "    X_a = X.copy()\n",
    "    \n",
    "    ## create new column `discrete_amount` using suitable transformer\n",
    "    discretizer = KBinsDiscretizer(n_bins=100)\n",
    "    discretizer.fit(X_a['amount'])\n",
    "    ## create new column `binary_amount` using suitable transformer\n",
    "    # binarizer = ...\n",
    "    # ...\n",
    "    \n",
    "    # YOUR CODE HERE\n",
    "    \n",
    "    return X_a"
   ]
  },
  {
   "cell_type": "markdown",
   "metadata": {},
   "source": [
    "# "
   ]
  },
  {
   "cell_type": "code",
   "execution_count": 35,
   "metadata": {
    "deletable": false,
    "editable": false,
    "nbgrader": {
     "grade": true,
     "grade_id": "cell-3857c30743a25a50",
     "locked": true,
     "points": 4,
     "schema_version": 1,
     "solution": false
    }
   },
   "outputs": [
    {
     "ename": "AttributeError",
     "evalue": "'DataFrame' object has no attribute 'discrete_amount'",
     "output_type": "error",
     "traceback": [
      "\u001b[1;31m---------------------------------------------------------------------------\u001b[0m",
      "\u001b[1;31mAttributeError\u001b[0m                            Traceback (most recent call last)",
      "\u001b[1;32m<ipython-input-35-a5ebf6334e52>\u001b[0m in \u001b[0;36m<module>\u001b[1;34m()\u001b[0m\n\u001b[0;32m      2\u001b[0m \u001b[0mX_am\u001b[0m \u001b[1;33m=\u001b[0m \u001b[0mdiscretize_amounts\u001b[0m\u001b[1;33m(\u001b[0m\u001b[0mX\u001b[0m\u001b[1;33m)\u001b[0m\u001b[1;33m\u001b[0m\u001b[1;33m\u001b[0m\u001b[0m\n\u001b[0;32m      3\u001b[0m \u001b[1;33m\u001b[0m\u001b[0m\n\u001b[1;32m----> 4\u001b[1;33m \u001b[1;32massert\u001b[0m \u001b[0mX_am\u001b[0m\u001b[1;33m.\u001b[0m\u001b[0mdiscrete_amount\u001b[0m\u001b[1;33m.\u001b[0m\u001b[0mnunique\u001b[0m\u001b[1;33m(\u001b[0m\u001b[1;33m)\u001b[0m \u001b[1;33m==\u001b[0m \u001b[1;36m64\u001b[0m\u001b[1;33m\u001b[0m\u001b[1;33m\u001b[0m\u001b[0m\n\u001b[0m\u001b[0;32m      5\u001b[0m \u001b[1;32massert\u001b[0m \u001b[0mX_am\u001b[0m\u001b[1;33m.\u001b[0m\u001b[0mdiscrete_amount\u001b[0m\u001b[1;33m.\u001b[0m\u001b[0mmax\u001b[0m\u001b[1;33m(\u001b[0m\u001b[1;33m)\u001b[0m \u001b[1;33m==\u001b[0m \u001b[1;36m99\u001b[0m\u001b[1;33m\u001b[0m\u001b[1;33m\u001b[0m\u001b[0m\n\u001b[0;32m      6\u001b[0m \u001b[1;32massert\u001b[0m \u001b[0mX_am\u001b[0m\u001b[1;33m.\u001b[0m\u001b[0mloc\u001b[0m\u001b[1;33m[\u001b[0m\u001b[1;36m322179\u001b[0m\u001b[1;33m,\u001b[0m \u001b[1;34m'discrete_amount'\u001b[0m\u001b[1;33m]\u001b[0m \u001b[1;33m==\u001b[0m \u001b[1;36m16\u001b[0m\u001b[1;33m\u001b[0m\u001b[1;33m\u001b[0m\u001b[0m\n",
      "\u001b[1;32m~\\Anaconda3\\envs\\slu15\\lib\\site-packages\\pandas\\core\\generic.py\u001b[0m in \u001b[0;36m__getattr__\u001b[1;34m(self, name)\u001b[0m\n\u001b[0;32m   4374\u001b[0m             \u001b[1;32mif\u001b[0m \u001b[0mself\u001b[0m\u001b[1;33m.\u001b[0m\u001b[0m_info_axis\u001b[0m\u001b[1;33m.\u001b[0m\u001b[0m_can_hold_identifiers_and_holds_name\u001b[0m\u001b[1;33m(\u001b[0m\u001b[0mname\u001b[0m\u001b[1;33m)\u001b[0m\u001b[1;33m:\u001b[0m\u001b[1;33m\u001b[0m\u001b[1;33m\u001b[0m\u001b[0m\n\u001b[0;32m   4375\u001b[0m                 \u001b[1;32mreturn\u001b[0m \u001b[0mself\u001b[0m\u001b[1;33m[\u001b[0m\u001b[0mname\u001b[0m\u001b[1;33m]\u001b[0m\u001b[1;33m\u001b[0m\u001b[1;33m\u001b[0m\u001b[0m\n\u001b[1;32m-> 4376\u001b[1;33m             \u001b[1;32mreturn\u001b[0m \u001b[0mobject\u001b[0m\u001b[1;33m.\u001b[0m\u001b[0m__getattribute__\u001b[0m\u001b[1;33m(\u001b[0m\u001b[0mself\u001b[0m\u001b[1;33m,\u001b[0m \u001b[0mname\u001b[0m\u001b[1;33m)\u001b[0m\u001b[1;33m\u001b[0m\u001b[1;33m\u001b[0m\u001b[0m\n\u001b[0m\u001b[0;32m   4377\u001b[0m \u001b[1;33m\u001b[0m\u001b[0m\n\u001b[0;32m   4378\u001b[0m     \u001b[1;32mdef\u001b[0m \u001b[0m__setattr__\u001b[0m\u001b[1;33m(\u001b[0m\u001b[0mself\u001b[0m\u001b[1;33m,\u001b[0m \u001b[0mname\u001b[0m\u001b[1;33m,\u001b[0m \u001b[0mvalue\u001b[0m\u001b[1;33m)\u001b[0m\u001b[1;33m:\u001b[0m\u001b[1;33m\u001b[0m\u001b[1;33m\u001b[0m\u001b[0m\n",
      "\u001b[1;31mAttributeError\u001b[0m: 'DataFrame' object has no attribute 'discrete_amount'"
     ]
    }
   ],
   "source": [
    "\"\"\"Check that the solution is correct.\"\"\"\n",
    "X_am = discretize_amounts(X)\n",
    "\n",
    "assert X_am.discrete_amount.nunique() == 64\n",
    "assert X_am.discrete_amount.max() == 99\n",
    "assert X_am.loc[322179, 'discrete_amount'] == 16\n",
    "assert X_am.binary_amount.nunique() == 2\n",
    "assert X_am.binary_amount.max() == 1\n",
    "assert X_am.loc[322179, 'binary_amount'] == 1"
   ]
  },
  {
   "cell_type": "markdown",
   "metadata": {
    "deletable": false,
    "editable": false,
    "nbgrader": {
     "grade": false,
     "grade_id": "cell-4f4af6d4de3c102a",
     "locked": true,
     "schema_version": 1,
     "solution": false
    }
   },
   "source": [
    "Check the distribution of the two new fields you just calculated:"
   ]
  },
  {
   "cell_type": "code",
   "execution_count": null,
   "metadata": {
    "deletable": false,
    "editable": false,
    "nbgrader": {
     "grade": false,
     "grade_id": "cell-1f012f6fda3c3232",
     "locked": true,
     "schema_version": 1,
     "solution": false
    }
   },
   "outputs": [],
   "source": [
    "X_am.discrete_amount.plot.hist(bins=100, figsize=(10,6));\n",
    "plt.xlim(0,99);\n",
    "plt.xlabel('discrete_amount');\n",
    "plt.title('amount after discretization');"
   ]
  },
  {
   "cell_type": "code",
   "execution_count": null,
   "metadata": {
    "deletable": false,
    "editable": false,
    "nbgrader": {
     "grade": false,
     "grade_id": "cell-3db8e7b9b4ab0a02",
     "locked": true,
     "schema_version": 1,
     "solution": false
    }
   },
   "outputs": [],
   "source": [
    "X_am.binary_amount.plot.hist(figsize=(4,4));\n",
    "plt.xlim(0,1);\n",
    "plt.xlabel('binary_amount');\n",
    "plt.title('amount after binarization');"
   ]
  },
  {
   "cell_type": "markdown",
   "metadata": {
    "deletable": false,
    "editable": false,
    "nbgrader": {
     "grade": false,
     "grade_id": "cell-c24bc27b2866af9d",
     "locked": true,
     "schema_version": 1,
     "solution": false
    }
   },
   "source": [
    "### Exercise 4: Scale amount field (graded)\n",
    "\n",
    "In the Learning Notebook, you also learned that numerical data can be scaled. \n",
    "\n",
    "In this exercise, let's scale the field `amount` in three different ways and compare the results:\n",
    "* create a new field called `minmaxscaled_amount` which scales uniformly the `amount` field such that the values range from 0 to 1;\n",
    "* create a new field called `standardscaled_amount` which scales the `amount` field such that the *mean* is 0 and the standard deviation is 1;\n",
    "* create a new field called `robustscaled_amount` which scales the `amount` field such that the *median* is 0 and it is scaled according to the Interquartile Range."
   ]
  },
  {
   "cell_type": "code",
   "execution_count": null,
   "metadata": {
    "deletable": false,
    "nbgrader": {
     "grade": false,
     "grade_id": "cell-448ce1f0353e6cb8",
     "locked": false,
     "schema_version": 1,
     "solution": true
    }
   },
   "outputs": [],
   "source": [
    "from sklearn.preprocessing import MinMaxScaler\n",
    "from sklearn.preprocessing import StandardScaler\n",
    "from sklearn.preprocessing import RobustScaler\n",
    "\n",
    "def scale_amounts(X):\n",
    "\n",
    "    X_s = X.copy()\n",
    "    \n",
    "    ## create new column `minmaxscaled_amount` using suitable transformer\n",
    "    # ...\n",
    "    ## create new column `standardscaled_amount` using suitable transformer\n",
    "    # ...\n",
    "    ## create new column `robustscaled_amount` using suitable transformer\n",
    "    # ...\n",
    "    \n",
    "    # YOUR CODE HERE\n",
    "    raise NotImplementedError()\n",
    "    \n",
    "    return X_s"
   ]
  },
  {
   "cell_type": "code",
   "execution_count": null,
   "metadata": {
    "deletable": false,
    "editable": false,
    "nbgrader": {
     "grade": true,
     "grade_id": "cell-4d170aec616b4864",
     "locked": true,
     "points": 3,
     "schema_version": 1,
     "solution": false
    }
   },
   "outputs": [],
   "source": [
    "\"\"\"Check that the solution is correct.\"\"\"\n",
    "X_scaled = scale_amounts(X)\n",
    "\n",
    "assert X_scaled.minmaxscaled_amount.min() == 0\n",
    "assert X_scaled.minmaxscaled_amount.max() == 1\n",
    "assert math.isclose(X_scaled.minmaxscaled_amount.mean(), 0.0032, abs_tol = 0.0001)\n",
    "assert math.isclose(X_scaled.loc[12345, 'minmaxscaled_amount'], 0.00012, abs_tol = 0.00001)\n",
    "assert math.isclose(X_scaled.standardscaled_amount.min(), -0.298, abs_tol = 0.001)\n",
    "assert math.isclose(X_scaled.standardscaled_amount.max(), 92.75, abs_tol = 0.01)\n",
    "assert math.isclose(X_scaled.standardscaled_amount.mean(), 0, abs_tol = 0.001)\n",
    "assert math.isclose(X_scaled.loc[12345, 'standardscaled_amount'], -0.287, abs_tol = 0.01)\n",
    "assert math.isclose(X_scaled.robustscaled_amount.min(), -0.386, abs_tol = 0.001)\n",
    "assert math.isclose(X_scaled.robustscaled_amount.max(), 305.86, abs_tol = 0.01)\n",
    "assert math.isclose(X_scaled.robustscaled_amount.mean(), 0.595, abs_tol = 0.002)\n",
    "assert math.isclose(X_scaled.loc[12345, 'robustscaled_amount'], -0.349, abs_tol = 0.01)"
   ]
  },
  {
   "cell_type": "markdown",
   "metadata": {
    "deletable": false,
    "editable": false,
    "nbgrader": {
     "grade": false,
     "grade_id": "cell-5edff988face2155",
     "locked": true,
     "schema_version": 1,
     "solution": false
    }
   },
   "source": [
    "Plot the distributions for the new fields you just calculated:"
   ]
  },
  {
   "cell_type": "code",
   "execution_count": null,
   "metadata": {
    "deletable": false,
    "editable": false,
    "nbgrader": {
     "grade": false,
     "grade_id": "cell-8f8b2b454c57ba3b",
     "locked": true,
     "schema_version": 1,
     "solution": false
    }
   },
   "outputs": [],
   "source": [
    "X_scaled.minmaxscaled_amount.plot.hist(bins=50, figsize=(10,6));\n",
    "plt.xlim(0,1);\n",
    "plt.xlabel('minmaxscaled_amount');\n",
    "plt.title('amount after min-max scaling');"
   ]
  },
  {
   "cell_type": "code",
   "execution_count": null,
   "metadata": {
    "deletable": false,
    "editable": false,
    "nbgrader": {
     "grade": false,
     "grade_id": "cell-a6f75a8f36bac1f7",
     "locked": true,
     "schema_version": 1,
     "solution": false
    }
   },
   "outputs": [],
   "source": [
    "X_scaled.standardscaled_amount.plot.hist(bins=50, figsize=(10,6));\n",
    "plt.xlabel('standardscaled_amount');\n",
    "plt.title('amount after standard scaling');"
   ]
  },
  {
   "cell_type": "code",
   "execution_count": null,
   "metadata": {
    "deletable": false,
    "editable": false,
    "nbgrader": {
     "grade": false,
     "grade_id": "cell-de46ac280a117e0c",
     "locked": true,
     "schema_version": 1,
     "solution": false
    }
   },
   "outputs": [],
   "source": [
    "X_scaled.robustscaled_amount.plot.hist(bins=50, figsize=(10,6));\n",
    "plt.xlabel('robustscaled_amount');\n",
    "plt.title('amount after robust scaling');"
   ]
  },
  {
   "cell_type": "markdown",
   "metadata": {
    "deletable": false,
    "editable": false,
    "nbgrader": {
     "grade": false,
     "grade_id": "cell-99f58c18d48c5f61",
     "locked": true,
     "schema_version": 1,
     "solution": false
    }
   },
   "source": [
    "### Exercise 5: Ordinal encode risk feature\n",
    "\n",
    "Finally, let's deal with the categorical features.\n",
    "\n",
    "First, create a new field called `risk_encoded` which is the result of ordinal encoding of the `risk` feature."
   ]
  },
  {
   "cell_type": "code",
   "execution_count": null,
   "metadata": {
    "deletable": false,
    "nbgrader": {
     "grade": false,
     "grade_id": "cell-19c253c171a6330a",
     "locked": false,
     "schema_version": 1,
     "solution": true
    }
   },
   "outputs": [],
   "source": [
    "import category_encoders as ce\n",
    "\n",
    "def encode_risk(X):\n",
    "\n",
    "    X_r = X.copy()\n",
    "    \n",
    "    # create new column using suitable transformer\n",
    "    # YOUR CODE HERE\n",
    "    raise NotImplementedError()\n",
    "    \n",
    "    return X_r"
   ]
  },
  {
   "cell_type": "code",
   "execution_count": null,
   "metadata": {
    "deletable": false,
    "editable": false,
    "nbgrader": {
     "grade": true,
     "grade_id": "cell-1c3c0246ee35e543",
     "locked": true,
     "points": 3,
     "schema_version": 1,
     "solution": false
    }
   },
   "outputs": [],
   "source": [
    "\"\"\"Check that the solution is correct.\"\"\"\n",
    "X_risk = encode_risk(X)\n",
    "\n",
    "assert X_risk.risk_encoded.dtype == int\n",
    "assert X_risk.risk_encoded.min() == 1\n",
    "assert X_risk.risk_encoded.max() == 3\n",
    "assert X_risk.loc[12345, 'risk_encoded'] == 3"
   ]
  },
  {
   "cell_type": "markdown",
   "metadata": {
    "deletable": false,
    "editable": false,
    "nbgrader": {
     "grade": false,
     "grade_id": "cell-99f58c18d48c5f62",
     "locked": true,
     "schema_version": 1,
     "solution": false
    }
   },
   "source": [
    "### Exercise 6: One-hot encode type feature\n",
    "\n",
    "Finally, perform a one-hot encoding of the `type` feature. Pay attention to the following points:\n",
    "* return the original DataFrame `X`, but with the `type` feature replaced by the new ones resulting from the one-hot encoding;\n",
    "* make sure the new features have names of the form `type_<value>`, where `<value>` is the category being indicated by that feature."
   ]
  },
  {
   "cell_type": "code",
   "execution_count": null,
   "metadata": {
    "deletable": false,
    "nbgrader": {
     "grade": false,
     "grade_id": "cell-19c253c171a6330b",
     "locked": false,
     "schema_version": 1,
     "solution": true
    }
   },
   "outputs": [],
   "source": [
    "def encode_type(X):\n",
    "\n",
    "    X_t = X.copy()\n",
    "    \n",
    "    # perform one-hot encoding in X_t\n",
    "    # YOUR CODE HERE\n",
    "    raise NotImplementedError()\n",
    "    \n",
    "    return X_t"
   ]
  },
  {
   "cell_type": "code",
   "execution_count": null,
   "metadata": {
    "deletable": false,
    "editable": false,
    "nbgrader": {
     "grade": true,
     "grade_id": "cell-1c3c0246ee35e543b",
     "locked": true,
     "points": 4,
     "schema_version": 1,
     "solution": false
    }
   },
   "outputs": [],
   "source": [
    "\"\"\"Check that the solution is correct.\"\"\"\n",
    "X_type = encode_type(X)\n",
    "\n",
    "assert X_type.shape[1] > 10\n",
    "assert X_type.type_CASH_IN.sum() == 140058\n",
    "assert X_type['type_-1'].sum() == 0\n",
    "assert X_type.loc[12345, 'type_TRANSFER'] == 0\n",
    "assert X_type.loc[362312, 'type_CASH_OUT'] == 1"
   ]
  }
 ],
 "metadata": {
  "kernelspec": {
   "display_name": "Python 3",
   "language": "python",
   "name": "python3"
  },
  "language_info": {
   "codemirror_mode": {
    "name": "ipython",
    "version": 3
   },
   "file_extension": ".py",
   "mimetype": "text/x-python",
   "name": "python",
   "nbconvert_exporter": "python",
   "pygments_lexer": "ipython3",
   "version": "3.7.3"
  }
 },
 "nbformat": 4,
 "nbformat_minor": 2
}
