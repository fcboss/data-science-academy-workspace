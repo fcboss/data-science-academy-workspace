{
 "cells": [
  {
   "cell_type": "code",
   "execution_count": 27,
   "metadata": {},
   "outputs": [],
   "source": [
    "import pandas as pd\n",
    "import numpy as np\n",
    "\n",
    "from sklearn.base import BaseEstimator, TransformerMixin\n",
    "from sklearn.pipeline import Pipeline\n",
    "from category_encoders.target_encoder import TargetEncoder\n",
    "from category_encoders.one_hot import OneHotEncoder\n",
    "from category_encoders.cat_boost import CatBoostEncoder\n",
    "from sklearn.impute import SimpleImputer\n",
    "from lightgbm import LGBMModel\n",
    "from sklearn.metrics import accuracy_score, roc_curve, auc\n",
    "from sklearn.metrics import classification_report\n",
    "from sklearn.preprocessing import StandardScaler\n",
    "from lightgbm import LGBMClassifier\n",
    "from sklearn.ensemble import GradientBoostingClassifier\n",
    "import pickle\n",
    "import json\n",
    "import matplotlib.pyplot as plt\n",
    "from customtransformers.custom_transformers import (catboost_enc,target_enc,inputer,column_select,\n",
    "                                                    strip_strings,control_discrimination)"
   ]
  },
  {
   "cell_type": "code",
   "execution_count": 34,
   "metadata": {},
   "outputs": [],
   "source": []
  },
  {
   "cell_type": "markdown",
   "metadata": {},
   "source": [
    "# Get the data from the searched cars"
   ]
  },
  {
   "cell_type": "code",
   "execution_count": 28,
   "metadata": {},
   "outputs": [
    {
     "data": {
      "text/html": [
       "<div>\n",
       "<style scoped>\n",
       "    .dataframe tbody tr th:only-of-type {\n",
       "        vertical-align: middle;\n",
       "    }\n",
       "\n",
       "    .dataframe tbody tr th {\n",
       "        vertical-align: top;\n",
       "    }\n",
       "\n",
       "    .dataframe thead th {\n",
       "        text-align: right;\n",
       "    }\n",
       "</style>\n",
       "<table border=\"1\" class=\"dataframe\">\n",
       "  <thead>\n",
       "    <tr style=\"text-align: right;\">\n",
       "      <th></th>\n",
       "      <th>VehicleSearchedIndicator</th>\n",
       "      <th>ContrabandIndicator</th>\n",
       "      <th>Department Name</th>\n",
       "      <th>InterventionDateTime</th>\n",
       "      <th>InterventionLocationName</th>\n",
       "      <th>InterventionReasonCode</th>\n",
       "      <th>ReportingOfficerIdentificationID</th>\n",
       "      <th>ResidentIndicator</th>\n",
       "      <th>SearchAuthorizationCode</th>\n",
       "      <th>StatuteReason</th>\n",
       "      <th>SubjectAge</th>\n",
       "      <th>SubjectEthnicityCode</th>\n",
       "      <th>SubjectRaceCode</th>\n",
       "      <th>SubjectSexCode</th>\n",
       "      <th>TownResidentIndicator</th>\n",
       "    </tr>\n",
       "  </thead>\n",
       "  <tbody>\n",
       "    <tr>\n",
       "      <th>71</th>\n",
       "      <td>True</td>\n",
       "      <td>False</td>\n",
       "      <td>Bridgeport</td>\n",
       "      <td>10/01/2013 12:46:00 AM</td>\n",
       "      <td>Bridgeport</td>\n",
       "      <td>V</td>\n",
       "      <td>1207</td>\n",
       "      <td>True</td>\n",
       "      <td>I</td>\n",
       "      <td>Speed Related</td>\n",
       "      <td>37.0</td>\n",
       "      <td>H</td>\n",
       "      <td>W</td>\n",
       "      <td>M</td>\n",
       "      <td>True</td>\n",
       "    </tr>\n",
       "    <tr>\n",
       "      <th>143</th>\n",
       "      <td>True</td>\n",
       "      <td>True</td>\n",
       "      <td>Milford</td>\n",
       "      <td>10/01/2013 01:50:00 AM</td>\n",
       "      <td>MILFORD</td>\n",
       "      <td>E</td>\n",
       "      <td>2325</td>\n",
       "      <td>True</td>\n",
       "      <td>I</td>\n",
       "      <td>Defective Lights</td>\n",
       "      <td>30.0</td>\n",
       "      <td>N</td>\n",
       "      <td>W</td>\n",
       "      <td>M</td>\n",
       "      <td>True</td>\n",
       "    </tr>\n",
       "    <tr>\n",
       "      <th>184</th>\n",
       "      <td>True</td>\n",
       "      <td>False</td>\n",
       "      <td>Torrington</td>\n",
       "      <td>10/01/2013 03:49:00 AM</td>\n",
       "      <td>Torrington</td>\n",
       "      <td>V</td>\n",
       "      <td>DACYR048</td>\n",
       "      <td>True</td>\n",
       "      <td>C</td>\n",
       "      <td>Registration</td>\n",
       "      <td>43.0</td>\n",
       "      <td>N</td>\n",
       "      <td>W</td>\n",
       "      <td>M</td>\n",
       "      <td>True</td>\n",
       "    </tr>\n",
       "    <tr>\n",
       "      <th>203</th>\n",
       "      <td>True</td>\n",
       "      <td>False</td>\n",
       "      <td>State Police</td>\n",
       "      <td>10/01/2013 05:30:00 AM</td>\n",
       "      <td>TOLLAND</td>\n",
       "      <td>V</td>\n",
       "      <td>1000002715</td>\n",
       "      <td>False</td>\n",
       "      <td>C</td>\n",
       "      <td>Other</td>\n",
       "      <td>19.0</td>\n",
       "      <td>N</td>\n",
       "      <td>B</td>\n",
       "      <td>M</td>\n",
       "      <td>False</td>\n",
       "    </tr>\n",
       "    <tr>\n",
       "      <th>212</th>\n",
       "      <td>True</td>\n",
       "      <td>False</td>\n",
       "      <td>Greenwich</td>\n",
       "      <td>10/01/2013 05:47:00 AM</td>\n",
       "      <td>RIVERSIDE</td>\n",
       "      <td>V</td>\n",
       "      <td>110993</td>\n",
       "      <td>False</td>\n",
       "      <td>N</td>\n",
       "      <td>Speed Related</td>\n",
       "      <td>34.0</td>\n",
       "      <td>M</td>\n",
       "      <td>B</td>\n",
       "      <td>M</td>\n",
       "      <td>False</td>\n",
       "    </tr>\n",
       "  </tbody>\n",
       "</table>\n",
       "</div>"
      ],
      "text/plain": [
       "     VehicleSearchedIndicator  ContrabandIndicator Department Name  \\\n",
       "71                       True                False      Bridgeport   \n",
       "143                      True                 True         Milford   \n",
       "184                      True                False      Torrington   \n",
       "203                      True                False    State Police   \n",
       "212                      True                False       Greenwich   \n",
       "\n",
       "       InterventionDateTime InterventionLocationName InterventionReasonCode  \\\n",
       "71   10/01/2013 12:46:00 AM               Bridgeport                      V   \n",
       "143  10/01/2013 01:50:00 AM                  MILFORD                      E   \n",
       "184  10/01/2013 03:49:00 AM               Torrington                      V   \n",
       "203  10/01/2013 05:30:00 AM                  TOLLAND                      V   \n",
       "212  10/01/2013 05:47:00 AM                RIVERSIDE                      V   \n",
       "\n",
       "    ReportingOfficerIdentificationID  ResidentIndicator  \\\n",
       "71                              1207               True   \n",
       "143                             2325               True   \n",
       "184                         DACYR048               True   \n",
       "203                       1000002715              False   \n",
       "212                           110993              False   \n",
       "\n",
       "    SearchAuthorizationCode     StatuteReason  SubjectAge  \\\n",
       "71                        I     Speed Related        37.0   \n",
       "143                       I  Defective Lights        30.0   \n",
       "184                       C      Registration        43.0   \n",
       "203                       C             Other        19.0   \n",
       "212                       N     Speed Related        34.0   \n",
       "\n",
       "    SubjectEthnicityCode SubjectRaceCode SubjectSexCode  TownResidentIndicator  \n",
       "71                     H               W              M                   True  \n",
       "143                    N               W              M                   True  \n",
       "184                    N               W              M                   True  \n",
       "203                    N               B              M                  False  \n",
       "212                    M               B              M                  False  "
      ]
     },
     "execution_count": 28,
     "metadata": {},
     "output_type": "execute_result"
    }
   ],
   "source": [
    "data = pd.read_csv(\"data/train.csv\")\n",
    "data = data[data.VehicleSearchedIndicator]\n",
    "\n",
    "data['InterventionDateTime']= pd.to_datetime(data['InterventionDateTime'])\n",
    "data_train = data[(data['InterventionDateTime']<'2018') ]\n",
    "data_test = data[data['InterventionDateTime']>'2018']\n",
    "\n",
    "X_train,y_train = data_train.drop('ContrabandIndicator',axis=1),data_train.ContrabandIndicator*1\n",
    "X_test,y_test = data_test.drop('ContrabandIndicator',axis=1),data_test.ContrabandIndicator*1\n",
    "data.head()"
   ]
  },
  {
   "cell_type": "code",
   "execution_count": null,
   "metadata": {},
   "outputs": [],
   "source": []
  },
  {
   "cell_type": "markdown",
   "metadata": {},
   "source": [
    "# Create the pipeline"
   ]
  },
  {
   "cell_type": "code",
   "execution_count": 29,
   "metadata": {},
   "outputs": [],
   "source": [
    "target_cols = ['SearchAuthorizationCode', 'InterventionLocationName']\n",
    "cat_boos_cols =  ['Department Name','StatuteReason']\n",
    "\n",
    "drop_cols = ['VehicleSearchedIndicator','ReportingOfficerIdentificationID','InterventionReasonCode',\n",
    "       'SubjectRaceCode', 'SubjectEthnicityCode', 'SubjectSexCode',\n",
    "       'ResidentIndicator','lng','TownResidentIndicator','density','county_fips','day_of_year','lat']\n",
    "string_cols = ['InterventionLocationName']\n",
    "\n",
    "preprocess = Pipeline(steps=[\n",
    "    ('strip_string',strip_strings(string_cols)),\n",
    "    ('inpute_states', inputer(columns = ['InterventionLocationName'],strategy='constant',value='NA')),\n",
    "    ('target_enc', target_enc(columns = target_cols)),\n",
    "    ('catboost_enc', catboost_enc(columns =cat_boos_cols)),\n",
    "    ('inpute', inputer(columns = ['StatuteReason'])),\n",
    "    ('select_columns',column_select(['SearchAuthorizationCode', 'Department Name',\n",
    "       'InterventionLocationName', 'StatuteReason']))\n",
    "])\n",
    "\n",
    "# criando o modelo usando pipeline\n",
    "model = Pipeline(steps=[\n",
    "    ('preprocess',preprocess),\n",
    "    ('tree', LGBMClassifier(n_jobs=-1,n_estimators=1000,importance_type='gain'))\n",
    "])"
   ]
  },
  {
   "cell_type": "markdown",
   "metadata": {},
   "source": [
    "# Train and Test the model"
   ]
  },
  {
   "cell_type": "code",
   "execution_count": 31,
   "metadata": {},
   "outputs": [],
   "source": [
    "model.fit(X_train,y_train)\n",
    "preds_test = model.predict_proba(X_test)[:,1]\n"
   ]
  },
  {
   "cell_type": "code",
   "execution_count": 32,
   "metadata": {},
   "outputs": [
    {
     "name": "stderr",
     "output_type": "stream",
     "text": [
      "C:\\Users\\Francisco\\Anaconda3\\lib\\site-packages\\sklearn\\metrics\\_classification.py:1272: UndefinedMetricWarning: Precision and F-score are ill-defined and being set to 0.0 in labels with no predicted samples. Use `zero_division` parameter to control this behavior.\n",
      "  _warn_prf(average, modifier, msg_start, len(result))\n"
     ]
    },
    {
     "name": "stdout",
     "output_type": "stream",
     "text": [
      "Minimum k that guarantees 50% of success 0.393939393939394\n",
      "k that maximizes contraband found is: 0.393939393939394\n",
      " \n",
      "              precision    recall  f1-score   support\n",
      "\n",
      "           0       0.82      0.74      0.78      8412\n",
      "           1       0.60      0.70      0.65      4676\n",
      "\n",
      "    accuracy                           0.73     13088\n",
      "   macro avg       0.71      0.72      0.71     13088\n",
      "weighted avg       0.74      0.73      0.73     13088\n",
      "\n"
     ]
    },
    {
     "data": {
      "image/png": "[encoded data removed]",
      "text/plain": [
       "<Figure size 576x360 with 1 Axes>"
      ]
     },
     "metadata": {
      "needs_background": "light"
     },
     "output_type": "display_data"
    }
   ],
   "source": [
    "def get_threshold(preds,y_true,legend = False):\n",
    "    precision_hist = []\n",
    "    rec_hist = []\n",
    "    for th in np.linspace(0,1,100):\n",
    "        y_pred = (preds>th)*1\n",
    "        precision_hist.append((th,classification_report(y_true, y_pred,output_dict=True)['1']['precision']))\n",
    "        rec_hist.append((th,classification_report(y_true, y_pred,output_dict=True)['1']['recall']))\n",
    "\n",
    "    k = np.array(precision_hist)[np.argmax(np.array(precision_hist)[:,1]>0.6)][0]\n",
    "    print('Minimum k that guarantees 50% of success',k)\n",
    "    if(rec_hist[np.argmax(np.array(rec_hist)[:,1])][0]>k):\n",
    "        k = rec_hist[np.argmax(np.array(rec_hist)[:,1])][0]\n",
    "    print('k that maximizes contraband found is:',k)\n",
    "    y_pred = (preds>k)*1\n",
    "    print(' ')\n",
    "    print(classification_report(y_true, y_pred))\n",
    "    fig, ax = plt.subplots(figsize=(8, 5))\n",
    "    ax.plot(np.array(precision_hist)[:,0],np.array(precision_hist)[:,0]*0.7 +0.36)#This weuation was found for the whole dataset\n",
    "    pd.DataFrame(np.array(precision_hist)).plot(x=0,y=1,ax=ax,legend='0.4')\n",
    "    ax.set_xlabel('Threshold (k)')\n",
    "    ax.set_ylabel('Hit Rate')\n",
    "    if(legend):\n",
    "        ax.legend(['true variace','0.7*HR +0.36'])\n",
    "    return k\n",
    "\n",
    "\n",
    "k = get_threshold(preds_test,y_test,legend=True)"
   ]
  },
  {
   "cell_type": "markdown",
   "metadata": {},
   "source": [
    "# Saving the model"
   ]
  },
  {
   "cell_type": "code",
   "execution_count": 33,
   "metadata": {},
   "outputs": [],
   "source": [
    "with open('dtypes.pickle', 'wb') as fh:\n",
    "    pickle.dump(X_train.dtypes, fh)\n",
    "\n",
    "import joblib\n",
    "joblib.dump(model, 'modelv2.pickle') \n",
    "\n",
    "with open('columns.json', 'w') as fh:\n",
    "    json.dump(X_train.columns.tolist(), fh)"
   ]
  },
  {
   "cell_type": "markdown",
   "metadata": {},
   "source": [
    "# Train the model in the whole dataset"
   ]
  },
  {
   "cell_type": "markdown",
   "metadata": {},
   "source": [
    "For all the analysis of the notebooks and the report, the previously trained model on the training set was used. However, in order to increase the quality of the model, the final model that was depoyed was the following one, trained on the whole dataset"
   ]
  },
  {
   "cell_type": "code",
   "execution_count": 23,
   "metadata": {},
   "outputs": [
    {
     "data": {
      "text/plain": [
       "Pipeline(memory=None,\n",
       "         steps=[('preprocess',\n",
       "                 Pipeline(memory=None,\n",
       "                          steps=[('strip_string',\n",
       "                                  strip_strings(columns=['InterventionLocationName'])),\n",
       "                                 ('inpute_states',\n",
       "                                  inputer(columns=['InterventionLocationName'],\n",
       "                                          strategy='constant', value='NA')),\n",
       "                                 ('target_enc',\n",
       "                                  target_enc(columns=['SearchAuthorizationCode',\n",
       "                                                      'InterventionLocationName'])),\n",
       "                                 ('catboost_enc',\n",
       "                                  catboost_e...\n",
       "                 LGBMClassifier(boosting_type='gbdt', class_weight=None,\n",
       "                                colsample_bytree=1.0, importance_type='gain',\n",
       "                                learning_rate=0.1, max_depth=-1,\n",
       "                                min_child_samples=20, min_child_weight=0.001,\n",
       "                                min_split_gain=0.0, n_estimators=1000,\n",
       "                                n_jobs=-1, num_leaves=31, objective=None,\n",
       "                                random_state=None, reg_alpha=0.0,\n",
       "                                reg_lambda=0.0, silent=True, subsample=1.0,\n",
       "                                subsample_for_bin=200000, subsample_freq=0))],\n",
       "         verbose=False)"
      ]
     },
     "execution_count": 23,
     "metadata": {},
     "output_type": "execute_result"
    }
   ],
   "source": [
    "model = Pipeline(steps=[\n",
    "    ('preprocess',preprocess),\n",
    "    ('tree', LGBMClassifier(n_jobs=-1,n_estimators=1000,importance_type='gain'))\n",
    "])\n",
    "model.fit(data.drop('ContrabandIndicator',axis=1),data.ContrabandIndicator*1)\n"
   ]
  },
  {
   "cell_type": "code",
   "execution_count": 24,
   "metadata": {},
   "outputs": [],
   "source": [
    "with open('dtypes.pickle', 'wb') as fh:\n",
    "    pickle.dump(X_train.dtypes, fh)\n",
    "\n",
    "import joblib\n",
    "joblib.dump(model, 'modelv2.pickle') \n",
    "\n",
    "with open('columns.json', 'w') as fh:\n",
    "    json.dump(X_train.columns.tolist(), fh)"
   ]
  },
  {
   "cell_type": "code",
   "execution_count": null,
   "metadata": {},
   "outputs": [],
   "source": []
  }
 ],
 "metadata": {
  "kernelspec": {
   "display_name": "Python 3",
   "language": "python",
   "name": "python3"
  },
  "language_info": {
   "codemirror_mode": {
    "name": "ipython",
    "version": 3
   },
   "file_extension": ".py",
   "mimetype": "text/x-python",
   "name": "python",
   "nbconvert_exporter": "python",
   "pygments_lexer": "ipython3",
   "version": "3.7.3"
  }
 },
 "nbformat": 4,
 "nbformat_minor": 2
}
