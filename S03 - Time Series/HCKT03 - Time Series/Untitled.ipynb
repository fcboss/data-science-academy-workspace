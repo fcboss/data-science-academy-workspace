{
 "cells": [
  {
   "cell_type": "code",
   "execution_count": 1,
   "metadata": {},
   "outputs": [],
   "source": [
    "import pandas as pd\n",
    "import matplotlib.pyplot as plt\n",
    "import warnings\n",
    "idx = pd.IndexSlice\n",
    "warnings.simplefilter(action='ignore', category=FutureWarning)   \n",
    "from random import seed\n",
    "from sklearn.metrics import mean_absolute_error\n",
    "import statsmodels.api as sm\n",
    "from statsmodels.tsa.stattools import adfuller\n",
    "from statsmodels.tsa.statespace.sarimax import SARIMAX\n",
    "from sklearn.linear_model import LinearRegression\n",
    "import numpy as np\n",
    "from sklearn.metrics import mean_squared_error\n",
    "import math\n",
    "from sklearn.ensemble import GradientBoostingRegressor\n",
    "import itertools\n",
    "from statsmodels.tsa.seasonal import seasonal_decompose\n",
    "from statsmodels.graphics.tsaplots import plot_acf, plot_pacf\n",
    "from statsmodels.tsa import stattools\n",
    "import hashlib # for grading purposes\n",
    "from sklearn.model_selection import ParameterGrid\n",
    "\n",
    "from pandas.plotting import lag_plot\n",
    "from statsmodels.tsa.arima_model import ARIMA\n",
    "plt.rcParams['figure.figsize'] = (12, 4)\n",
    "\n",
    "from utils import *\n",
    "\n",
    "%matplotlib inline"
   ]
  },
  {
   "cell_type": "code",
   "execution_count": null,
   "metadata": {},
   "outputs": [],
   "source": []
  },
  {
   "cell_type": "code",
   "execution_count": 2,
   "metadata": {
    "scrolled": true
   },
   "outputs": [
    {
     "data": {
      "text/html": [
       "<div>\n",
       "<style scoped>\n",
       "    .dataframe tbody tr th:only-of-type {\n",
       "        vertical-align: middle;\n",
       "    }\n",
       "\n",
       "    .dataframe tbody tr th {\n",
       "        vertical-align: top;\n",
       "    }\n",
       "\n",
       "    .dataframe thead th {\n",
       "        text-align: right;\n",
       "    }\n",
       "</style>\n",
       "<table border=\"1\" class=\"dataframe\">\n",
       "  <thead>\n",
       "    <tr style=\"text-align: right;\">\n",
       "      <th></th>\n",
       "      <th>date</th>\n",
       "      <th>variable</th>\n",
       "      <th>value</th>\n",
       "    </tr>\n",
       "  </thead>\n",
       "  <tbody>\n",
       "    <tr>\n",
       "      <th>2290</th>\n",
       "      <td>2004-04-05 10:00:00</td>\n",
       "      <td>area_1</td>\n",
       "      <td>2.914468</td>\n",
       "    </tr>\n",
       "    <tr>\n",
       "      <th>8410</th>\n",
       "      <td>2004-12-16 10:00:00</td>\n",
       "      <td>area_1</td>\n",
       "      <td>3.139010</td>\n",
       "    </tr>\n",
       "    <tr>\n",
       "      <th>9241</th>\n",
       "      <td>2005-01-20 01:00:00</td>\n",
       "      <td>area_1</td>\n",
       "      <td>2.949584</td>\n",
       "    </tr>\n",
       "    <tr>\n",
       "      <th>47247</th>\n",
       "      <td>2005-06-22 15:00:00</td>\n",
       "      <td>area_3</td>\n",
       "      <td>NaN</td>\n",
       "    </tr>\n",
       "    <tr>\n",
       "      <th>36204</th>\n",
       "      <td>2004-03-19 12:00:00</td>\n",
       "      <td>area_3</td>\n",
       "      <td>4.387275</td>\n",
       "    </tr>\n",
       "    <tr>\n",
       "      <th>7336</th>\n",
       "      <td>2004-11-01 16:00:00</td>\n",
       "      <td>area_1</td>\n",
       "      <td>2.732222</td>\n",
       "    </tr>\n",
       "  </tbody>\n",
       "</table>\n",
       "</div>"
      ],
      "text/plain": [
       "                      date variable     value\n",
       "2290   2004-04-05 10:00:00   area_1  2.914468\n",
       "8410   2004-12-16 10:00:00   area_1  3.139010\n",
       "9241   2005-01-20 01:00:00   area_1  2.949584\n",
       "47247  2005-06-22 15:00:00   area_3       NaN\n",
       "36204  2004-03-19 12:00:00   area_3  4.387275\n",
       "7336   2004-11-01 16:00:00   area_1  2.732222"
      ]
     },
     "execution_count": 2,
     "metadata": {},
     "output_type": "execute_result"
    }
   ],
   "source": [
    "data = pd.read_csv('data/data.csv')\n",
    "data.value = data.value.map(np.log)\n",
    "data.sample(6)"
   ]
  },
  {
   "cell_type": "code",
   "execution_count": 3,
   "metadata": {},
   "outputs": [],
   "source": [
    "data['date']=pd.to_datetime(data['date'])"
   ]
  },
  {
   "cell_type": "code",
   "execution_count": 4,
   "metadata": {},
   "outputs": [],
   "source": [
    "data = data.set_index(['date','variable'])\n"
   ]
  },
  {
   "cell_type": "code",
   "execution_count": 5,
   "metadata": {},
   "outputs": [],
   "source": [
    "data = data.sort_index()"
   ]
  },
  {
   "cell_type": "code",
   "execution_count": 6,
   "metadata": {},
   "outputs": [],
   "source": [
    "area1 = data.loc[idx[:,'area_1'],:].reset_index(level='variable',drop=True)\n",
    "area1 = area1.loc[:area1[area1.value.isnull() == False].iloc[-1].name]\n",
    "area1.value = area1.value.interpolate()\n",
    "\n",
    "area2 = data.loc[idx[:,'area_2'],:].reset_index(level='variable',drop=True)\n",
    "area2 = area2.loc[:area2[area2.value.isnull() == False].iloc[-1].name]\n",
    "area2.value = area2.value.interpolate()\n",
    "\n",
    "area3 = data.loc[idx[:,'area_3'],:].reset_index(level='variable',drop=True)\n",
    "area3 = area3.loc[:area3[area3.value.isnull() == False].iloc[-1].name]\n",
    "area3.value = area3.value.interpolate()\n",
    "\n",
    "# area1.head(5)"
   ]
  },
  {
   "cell_type": "code",
   "execution_count": 36,
   "metadata": {},
   "outputs": [],
   "source": [
    "area1_logged = area2['value'].map(np.log)\n",
    "area1_logged_diffed = area1_logged.diff()"
   ]
  },
  {
   "cell_type": "code",
   "execution_count": 37,
   "metadata": {},
   "outputs": [
    {
     "data": {
      "image/png": "[encoded data removed]",
      "text/plain": [
       "<Figure size 432x288 with 1 Axes>"
      ]
     },
     "metadata": {
      "needs_background": "light"
     },
     "output_type": "display_data"
    }
   ],
   "source": [
    "plot_pacf(area1_logged_diffed.dropna(), alpha=.05, lags=40)  \n",
    "plt.xlabel('lag')\n",
    "plt.ylabel('Autocorrelation')\n",
    "plt.show()"
   ]
  },
  {
   "cell_type": "code",
   "execution_count": 38,
   "metadata": {
    "scrolled": true
   },
   "outputs": [],
   "source": [
    "#data.loc[idx[:,'area_2'],:].unstack(1).value.plot()"
   ]
  },
  {
   "cell_type": "code",
   "execution_count": 39,
   "metadata": {},
   "outputs": [],
   "source": [
    "#data.loc[idx[:,'area_1'],:].unstack(1).value.plot()"
   ]
  },
  {
   "cell_type": "code",
   "execution_count": 46,
   "metadata": {},
   "outputs": [],
   "source": [
    "p = q = [1]\n",
    "d = [0]\n",
    "P = D = Q = range(0, 2)   #  <--- all of the paramters between 0 and 2 \n",
    "\n",
    "S = [24] # <-- let's pretend we have a couple of hypothesis "
   ]
  },
  {
   "cell_type": "code",
   "execution_count": 47,
   "metadata": {},
   "outputs": [],
   "source": [
    "params_combinations = list(itertools.product(p, d, q, P, D, Q, S))"
   ]
  },
  {
   "cell_type": "code",
   "execution_count": 48,
   "metadata": {},
   "outputs": [],
   "source": [
    "inputs = [[x[0], x[1], x[2], x[3], x[4], x[5], x[6]] for x in params_combinations]"
   ]
  },
  {
   "cell_type": "code",
   "execution_count": 49,
   "metadata": {},
   "outputs": [],
   "source": [
    "def get_aic(series_, params):\n",
    "    # extract the params \n",
    "    p = params[0] \n",
    "    d = params[1] \n",
    "    q = params[2] \n",
    "    P = params[3]\n",
    "    D = params[4] \n",
    "    Q = params[5]\n",
    "    S = params[6]\n",
    "    \n",
    "    # fit a model with those params \n",
    "    model = SARIMAX(series_,order=(p, d, q), seasonal_order=(P, D, Q, S),\n",
    "                                     enforce_stationarity=False,\n",
    "                                     enforce_invertibility=False)\n",
    "    \n",
    "    # fit the model\n",
    "    results = model.fit(maxiter=200)\n",
    "    predictions_best_model = results.get_prediction()\n",
    "    mep = mean_absolute_percentage_error(series_[1:],np.exp(predictions_best_model.predicted_mean)[1:])\n",
    "    \n",
    "    # return the aic \n",
    "    return mep"
   ]
  },
  {
   "cell_type": "code",
   "execution_count": 50,
   "metadata": {
    "scrolled": true
   },
   "outputs": [
    {
     "name": "stderr",
     "output_type": "stream",
     "text": [
      "/home/fc/anaconda3/envs/hckt03/lib/python3.7/site-packages/statsmodels/tsa/base/tsa_model.py:165: ValueWarning: No frequency information was provided, so inferred frequency H will be used.\n",
      "  % freq, ValueWarning)\n",
      "/home/fc/anaconda3/envs/hckt03/lib/python3.7/site-packages/statsmodels/tsa/base/tsa_model.py:165: ValueWarning: No frequency information was provided, so inferred frequency H will be used.\n",
      "  % freq, ValueWarning)\n",
      "/home/fc/anaconda3/envs/hckt03/lib/python3.7/site-packages/statsmodels/tsa/base/tsa_model.py:165: ValueWarning: No frequency information was provided, so inferred frequency H will be used.\n",
      "  % freq, ValueWarning)\n",
      "/home/fc/anaconda3/envs/hckt03/lib/python3.7/site-packages/statsmodels/base/model.py:512: ConvergenceWarning: Maximum Likelihood optimization failed to converge. Check mle_retvals\n",
      "  \"Check mle_retvals\", ConvergenceWarning)\n",
      "/home/fc/anaconda3/envs/hckt03/lib/python3.7/site-packages/statsmodels/tsa/base/tsa_model.py:165: ValueWarning: No frequency information was provided, so inferred frequency H will be used.\n",
      "  % freq, ValueWarning)\n",
      "/home/fc/anaconda3/envs/hckt03/lib/python3.7/site-packages/statsmodels/tsa/base/tsa_model.py:165: ValueWarning: No frequency information was provided, so inferred frequency H will be used.\n",
      "  % freq, ValueWarning)\n",
      "/home/fc/anaconda3/envs/hckt03/lib/python3.7/site-packages/statsmodels/tsa/base/tsa_model.py:165: ValueWarning: No frequency information was provided, so inferred frequency H will be used.\n",
      "  % freq, ValueWarning)\n",
      "/home/fc/anaconda3/envs/hckt03/lib/python3.7/site-packages/statsmodels/tsa/base/tsa_model.py:165: ValueWarning: No frequency information was provided, so inferred frequency H will be used.\n",
      "  % freq, ValueWarning)\n",
      "/home/fc/anaconda3/envs/hckt03/lib/python3.7/site-packages/statsmodels/tsa/base/tsa_model.py:165: ValueWarning: No frequency information was provided, so inferred frequency H will be used.\n",
      "  % freq, ValueWarning)\n"
     ]
    },
    {
     "name": "stdout",
     "output_type": "stream",
     "text": [
      "CPU times: user 7min 37s, sys: 25.1 s, total: 8min 2s\n",
      "Wall time: 7min 35s\n"
     ]
    }
   ],
   "source": [
    "%%time \n",
    "\n",
    "aic_scores = {}\n",
    "params_index = {}\n",
    "\n",
    "for i in range(len(inputs)):\n",
    "    try: \n",
    "        param_set = inputs[i]\n",
    "        aic = get_aic(area1_logged, param_set) \n",
    "        aic_scores[i] = aic\n",
    "        params_index[i] = param_set\n",
    "    \n",
    "    # this will fail sometimes with impossible parameter combinations. \n",
    "    # ... and I'm too lazy to remember what they are. \n",
    "    except Exception as e: \n",
    "        continue"
   ]
  },
  {
   "cell_type": "code",
   "execution_count": 51,
   "metadata": {},
   "outputs": [
    {
     "data": {
      "text/html": [
       "<div>\n",
       "<style scoped>\n",
       "    .dataframe tbody tr th:only-of-type {\n",
       "        vertical-align: middle;\n",
       "    }\n",
       "\n",
       "    .dataframe tbody tr th {\n",
       "        vertical-align: top;\n",
       "    }\n",
       "\n",
       "    .dataframe thead th {\n",
       "        text-align: right;\n",
       "    }\n",
       "</style>\n",
       "<table border=\"1\" class=\"dataframe\">\n",
       "  <thead>\n",
       "    <tr style=\"text-align: right;\">\n",
       "      <th></th>\n",
       "      <th>p</th>\n",
       "      <th>d</th>\n",
       "      <th>q</th>\n",
       "      <th>P</th>\n",
       "      <th>D</th>\n",
       "      <th>Q</th>\n",
       "      <th>S</th>\n",
       "      <th>aic</th>\n",
       "    </tr>\n",
       "  </thead>\n",
       "  <tbody>\n",
       "    <tr>\n",
       "      <th>2</th>\n",
       "      <td>1</td>\n",
       "      <td>0</td>\n",
       "      <td>1</td>\n",
       "      <td>0</td>\n",
       "      <td>1</td>\n",
       "      <td>0</td>\n",
       "      <td>24</td>\n",
       "      <td>213.098596</td>\n",
       "    </tr>\n",
       "    <tr>\n",
       "      <th>6</th>\n",
       "      <td>1</td>\n",
       "      <td>0</td>\n",
       "      <td>1</td>\n",
       "      <td>1</td>\n",
       "      <td>1</td>\n",
       "      <td>0</td>\n",
       "      <td>24</td>\n",
       "      <td>213.204708</td>\n",
       "    </tr>\n",
       "    <tr>\n",
       "      <th>1</th>\n",
       "      <td>1</td>\n",
       "      <td>0</td>\n",
       "      <td>1</td>\n",
       "      <td>0</td>\n",
       "      <td>0</td>\n",
       "      <td>1</td>\n",
       "      <td>24</td>\n",
       "      <td>213.261106</td>\n",
       "    </tr>\n",
       "    <tr>\n",
       "      <th>0</th>\n",
       "      <td>1</td>\n",
       "      <td>0</td>\n",
       "      <td>1</td>\n",
       "      <td>0</td>\n",
       "      <td>0</td>\n",
       "      <td>0</td>\n",
       "      <td>24</td>\n",
       "      <td>213.263024</td>\n",
       "    </tr>\n",
       "    <tr>\n",
       "      <th>3</th>\n",
       "      <td>1</td>\n",
       "      <td>0</td>\n",
       "      <td>1</td>\n",
       "      <td>0</td>\n",
       "      <td>1</td>\n",
       "      <td>1</td>\n",
       "      <td>24</td>\n",
       "      <td>213.285867</td>\n",
       "    </tr>\n",
       "  </tbody>\n",
       "</table>\n",
       "</div>"
      ],
      "text/plain": [
       "   p  d  q  P  D  Q   S         aic\n",
       "2  1  0  1  0  1  0  24  213.098596\n",
       "6  1  0  1  1  1  0  24  213.204708\n",
       "1  1  0  1  0  0  1  24  213.261106\n",
       "0  1  0  1  0  0  0  24  213.263024\n",
       "3  1  0  1  0  1  1  24  213.285867"
      ]
     },
     "execution_count": 51,
     "metadata": {},
     "output_type": "execute_result"
    }
   ],
   "source": [
    "temp = pd.DataFrame(params_index).T\n",
    "temp.columns = ['p', 'd', 'q', 'P', 'D', 'Q', 'S']\n",
    "temp['aic'] = pd.Series(aic_scores)\n",
    "temp.sort_values('aic').head()"
   ]
  },
  {
   "cell_type": "code",
   "execution_count": 23,
   "metadata": {},
   "outputs": [
    {
     "name": "stderr",
     "output_type": "stream",
     "text": [
      "/home/fc/anaconda3/envs/hckt03/lib/python3.7/site-packages/statsmodels/tsa/base/tsa_model.py:165: ValueWarning: No frequency information was provided, so inferred frequency H will be used.\n",
      "  % freq, ValueWarning)\n",
      "/home/fc/anaconda3/envs/hckt03/lib/python3.7/site-packages/statsmodels/base/model.py:512: ConvergenceWarning: Maximum Likelihood optimization failed to converge. Check mle_retvals\n",
      "  \"Check mle_retvals\", ConvergenceWarning)\n"
     ]
    }
   ],
   "source": [
    "best_model = SARIMAX(area1_logged,\n",
    "                                      order=(1, 0, 1),\n",
    "                                      seasonal_order=(0, 1, 0, 24))\n",
    "\n",
    "results = best_model.fit()\n",
    "predictions_best_model = results.get_prediction()"
   ]
  },
  {
   "cell_type": "code",
   "execution_count": 25,
   "metadata": {},
   "outputs": [
    {
     "data": {
      "image/png": "[encoded data removed]",
      "text/plain": [
       "<Figure size 432x288 with 1 Axes>"
      ]
     },
     "metadata": {
      "needs_background": "light"
     },
     "output_type": "display_data"
    }
   ],
   "source": [
    "plt.plot(area1[-300:], label='original')\n",
    "plt.plot(np.exp(predictions_best_model.predicted_mean[-300:]), label='arima')\n",
    "plt.legend()\n",
    "plt.show();"
   ]
  },
  {
   "cell_type": "code",
   "execution_count": 27,
   "metadata": {},
   "outputs": [],
   "source": [
    "train_1 = area1_logged[:-168]\n",
    "test_1 = area1_logged[-168:]"
   ]
  },
  {
   "cell_type": "code",
   "execution_count": 29,
   "metadata": {},
   "outputs": [
    {
     "name": "stderr",
     "output_type": "stream",
     "text": [
      "/home/fc/anaconda3/envs/hckt03/lib/python3.7/site-packages/statsmodels/tsa/base/tsa_model.py:165: ValueWarning: No frequency information was provided, so inferred frequency H will be used.\n",
      "  % freq, ValueWarning)\n"
     ]
    }
   ],
   "source": [
    "mae_model = sm.tsa.statespace.SARIMAX(train_1,\n",
    "                                      order=(1, 0, 1),\n",
    "                                      seasonal_order=(0, 1, 0, 24))\n",
    "\n",
    "results = mae_model.fit()\n",
    "predictions_mae_model = results.get_forecast(steps=168)"
   ]
  },
  {
   "cell_type": "code",
   "execution_count": 33,
   "metadata": {},
   "outputs": [
    {
     "data": {
      "image/png": "[encoded data removed]",
      "text/plain": [
       "<Figure size 432x288 with 1 Axes>"
      ]
     },
     "metadata": {
      "needs_background": "light"
     },
     "output_type": "display_data"
    }
   ],
   "source": [
    "plt.plot(area1[-300:],label='original')\n",
    "plt.plot(np.exp(predictions_mae_model.predicted_mean), label='arima')\n",
    "plt.show();"
   ]
  },
  {
   "cell_type": "code",
   "execution_count": 34,
   "metadata": {},
   "outputs": [
    {
     "data": {
      "text/plain": [
       "9.555570739624415"
      ]
     },
     "execution_count": 34,
     "metadata": {},
     "output_type": "execute_result"
    }
   ],
   "source": [
    "mean_absolute_percentage_error(area1[-24:],np.exp(predictions_mae_model.predicted_mean))"
   ]
  },
  {
   "cell_type": "code",
   "execution_count": 35,
   "metadata": {},
   "outputs": [
    {
     "data": {
      "text/plain": [
       "2005-05-16 00:00:00    2.380426\n",
       "2005-05-16 01:00:00    2.285245\n",
       "2005-05-16 02:00:00    2.227001\n",
       "2005-05-16 03:00:00    2.200699\n",
       "2005-05-16 04:00:00    2.200452\n",
       "2005-05-16 05:00:00    2.210116\n",
       "2005-05-16 06:00:00    2.290015\n",
       "2005-05-16 07:00:00    2.456378\n",
       "2005-05-16 08:00:00    2.642457\n",
       "2005-05-16 09:00:00    2.723331\n",
       "2005-05-16 10:00:00    2.739307\n",
       "2005-05-16 11:00:00    2.719023\n",
       "2005-05-16 12:00:00    2.728608\n",
       "2005-05-16 13:00:00    2.709606\n",
       "2005-05-16 14:00:00    2.681852\n",
       "2005-05-16 15:00:00    2.649443\n",
       "2005-05-16 16:00:00    2.665820\n",
       "2005-05-16 17:00:00    2.709068\n",
       "2005-05-16 18:00:00    2.712627\n",
       "2005-05-16 19:00:00    2.738378\n",
       "2005-05-16 20:00:00    2.748375\n",
       "2005-05-16 21:00:00    2.723865\n",
       "2005-05-16 22:00:00    2.662552\n",
       "2005-05-16 23:00:00    2.529418\n",
       "2005-05-17 00:00:00    2.377812\n",
       "2005-05-17 01:00:00    2.282924\n",
       "2005-05-17 02:00:00    2.224910\n",
       "2005-05-17 03:00:00    2.198789\n",
       "2005-05-17 04:00:00    2.198686\n",
       "2005-05-17 05:00:00    2.208476\n",
       "                         ...   \n",
       "2005-05-21 18:00:00    2.711772\n",
       "2005-05-21 19:00:00    2.737580\n",
       "2005-05-21 20:00:00    2.747635\n",
       "2005-05-21 21:00:00    2.723187\n",
       "2005-05-21 22:00:00    2.661939\n",
       "2005-05-21 23:00:00    2.528879\n",
       "2005-05-22 00:00:00    2.377344\n",
       "2005-05-22 01:00:00    2.282509\n",
       "2005-05-22 02:00:00    2.224536\n",
       "2005-05-22 03:00:00    2.198447\n",
       "2005-05-22 04:00:00    2.198370\n",
       "2005-05-22 05:00:00    2.208183\n",
       "2005-05-22 06:00:00    2.288163\n",
       "2005-05-22 07:00:00    2.454542\n",
       "2005-05-22 08:00:00    2.640631\n",
       "2005-05-22 09:00:00    2.721591\n",
       "2005-05-22 10:00:00    2.737689\n",
       "2005-05-22 11:00:00    2.717539\n",
       "2005-05-22 12:00:00    2.727231\n",
       "2005-05-22 13:00:00    2.708342\n",
       "2005-05-22 14:00:00    2.680695\n",
       "2005-05-22 15:00:00    2.648386\n",
       "2005-05-22 16:00:00    2.664837\n",
       "2005-05-22 17:00:00    2.708144\n",
       "2005-05-22 18:00:00    2.711772\n",
       "2005-05-22 19:00:00    2.737580\n",
       "2005-05-22 20:00:00    2.747635\n",
       "2005-05-22 21:00:00    2.723187\n",
       "2005-05-22 22:00:00    2.661939\n",
       "2005-05-22 23:00:00    2.528879\n",
       "Freq: H, Length: 168, dtype: float64"
      ]
     },
     "execution_count": 35,
     "metadata": {},
     "output_type": "execute_result"
    }
   ],
   "source": [
    "area1_pred = np.exp(predictions_mae_model.predicted_mean)"
   ]
  },
  {
   "cell_type": "code",
   "execution_count": null,
   "metadata": {},
   "outputs": [],
   "source": []
  }
 ],
 "metadata": {
  "kernelspec": {
   "display_name": "Python 3",
   "language": "python",
   "name": "python3"
  },
  "language_info": {
   "codemirror_mode": {
    "name": "ipython",
    "version": 3
   },
   "file_extension": ".py",
   "mimetype": "text/x-python",
   "name": "python",
   "nbconvert_exporter": "python",
   "pygments_lexer": "ipython3",
   "version": "3.7.3"
  }
 },
 "nbformat": 4,
 "nbformat_minor": 2
}
