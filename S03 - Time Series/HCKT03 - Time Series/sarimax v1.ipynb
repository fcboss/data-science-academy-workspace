{
 "cells": [
  {
   "cell_type": "code",
   "execution_count": 2,
   "metadata": {},
   "outputs": [],
   "source": [
    "import pandas as pd\n",
    "import matplotlib.pyplot as plt\n",
    "import warnings\n",
    "idx = pd.IndexSlice\n",
    "warnings.simplefilter(action='ignore', category=FutureWarning)   \n",
    "from random import seed\n",
    "from sklearn.metrics import mean_absolute_error\n",
    "import statsmodels.api as sm\n",
    "from statsmodels.tsa.stattools import adfuller\n",
    "from statsmodels.tsa.statespace.sarimax import SARIMAX\n",
    "from sklearn.linear_model import LinearRegression\n",
    "import numpy as np\n",
    "from sklearn.metrics import mean_squared_error\n",
    "import math\n",
    "from sklearn.ensemble import GradientBoostingRegressor\n",
    "import itertools\n",
    "from statsmodels.tsa.seasonal import seasonal_decompose\n",
    "from statsmodels.graphics.tsaplots import plot_acf, plot_pacf\n",
    "from statsmodels.tsa import stattools\n",
    "import hashlib # for grading purposes\n",
    "from sklearn.model_selection import ParameterGrid\n",
    "\n",
    "from pandas.plotting import lag_plot\n",
    "from statsmodels.tsa.arima_model import ARIMA\n",
    "plt.rcParams['figure.figsize'] = (12, 4)\n",
    "\n",
    "from utils import *\n",
    "\n",
    "%matplotlib inline"
   ]
  },
  {
   "cell_type": "code",
   "execution_count": 3,
   "metadata": {
    "scrolled": true
   },
   "outputs": [
    {
     "data": {
      "text/html": [
       "<div>\n",
       "<style scoped>\n",
       "    .dataframe tbody tr th:only-of-type {\n",
       "        vertical-align: middle;\n",
       "    }\n",
       "\n",
       "    .dataframe tbody tr th {\n",
       "        vertical-align: top;\n",
       "    }\n",
       "\n",
       "    .dataframe thead th {\n",
       "        text-align: right;\n",
       "    }\n",
       "</style>\n",
       "<table border=\"1\" class=\"dataframe\">\n",
       "  <thead>\n",
       "    <tr style=\"text-align: right;\">\n",
       "      <th></th>\n",
       "      <th>date</th>\n",
       "      <th>variable</th>\n",
       "      <th>value</th>\n",
       "    </tr>\n",
       "  </thead>\n",
       "  <tbody>\n",
       "    <tr>\n",
       "      <th>82</th>\n",
       "      <td>2004-01-04 10:00:00</td>\n",
       "      <td>area_1</td>\n",
       "      <td>15.280</td>\n",
       "    </tr>\n",
       "    <tr>\n",
       "      <th>37977</th>\n",
       "      <td>2004-06-01 09:00:00</td>\n",
       "      <td>area_3</td>\n",
       "      <td>80.360</td>\n",
       "    </tr>\n",
       "    <tr>\n",
       "      <th>12347</th>\n",
       "      <td>2005-05-29 11:00:00</td>\n",
       "      <td>area_1</td>\n",
       "      <td>NaN</td>\n",
       "    </tr>\n",
       "    <tr>\n",
       "      <th>41703</th>\n",
       "      <td>2004-11-03 15:00:00</td>\n",
       "      <td>area_3</td>\n",
       "      <td>72.759</td>\n",
       "    </tr>\n",
       "    <tr>\n",
       "      <th>45405</th>\n",
       "      <td>2005-04-06 21:00:00</td>\n",
       "      <td>area_3</td>\n",
       "      <td>85.327</td>\n",
       "    </tr>\n",
       "  </tbody>\n",
       "</table>\n",
       "</div>"
      ],
      "text/plain": [
       "                      date variable   value\n",
       "82     2004-01-04 10:00:00   area_1  15.280\n",
       "37977  2004-06-01 09:00:00   area_3  80.360\n",
       "12347  2005-05-29 11:00:00   area_1     NaN\n",
       "41703  2004-11-03 15:00:00   area_3  72.759\n",
       "45405  2005-04-06 21:00:00   area_3  85.327"
      ]
     },
     "execution_count": 3,
     "metadata": {},
     "output_type": "execute_result"
    }
   ],
   "source": [
    "data = pd.read_csv('data/data.csv')\n",
    "data.sample(5)"
   ]
  },
  {
   "cell_type": "code",
   "execution_count": 4,
   "metadata": {},
   "outputs": [],
   "source": [
    "data['date']=pd.to_datetime(data['date'])\n",
    "data = data.set_index(['date','variable'])\n",
    "data = data.sort_index()\n"
   ]
  },
  {
   "cell_type": "code",
   "execution_count": null,
   "metadata": {},
   "outputs": [],
   "source": []
  },
  {
   "cell_type": "code",
   "execution_count": 5,
   "metadata": {},
   "outputs": [],
   "source": [
    "area1 = data.loc[idx[:,'area_1'],:].reset_index(level='variable',drop=True)\n",
    "area1 = area1.loc[:area1[area1.value.isnull() == False].iloc[-1].name]\n",
    "area1.value = area1.value.interpolate()\n",
    "\n",
    "area2 = data.loc[idx[:,'area_2'],:].reset_index(level='variable',drop=True)\n",
    "area2 = area2.loc[:area2[area2.value.isnull() == False].iloc[-1].name]\n",
    "area2.value = area2.value.interpolate()\n",
    "\n",
    "area3 = data.loc[idx[:,'area_3'],:].reset_index(level='variable',drop=True)\n",
    "area3 = area3.loc[:area3[area3.value.isnull() == False].iloc[-1].name]\n",
    "area3.value = area3.value.interpolate()\n",
    "\n",
    "# area1.head(5)"
   ]
  },
  {
   "cell_type": "code",
   "execution_count": null,
   "metadata": {},
   "outputs": [],
   "source": []
  },
  {
   "cell_type": "code",
   "execution_count": 50,
   "metadata": {},
   "outputs": [],
   "source": [
    "area1_logged = area2['value'].map(np.log)\n",
    "area1_logged_diffed = area1_logged.diff()"
   ]
  },
  {
   "cell_type": "code",
   "execution_count": 51,
   "metadata": {},
   "outputs": [],
   "source": [
    "# best_model = SARIMAX(area1_logged,\n",
    "#                                       order=(1, 0, 1),\n",
    "#                                       seasonal_order=(0, 1, 0, 24),\n",
    "#                                       exog=exo['day_of_week'])\n",
    "\n",
    "# results = best_model.fit()\n",
    "# predictions_best_model = results.get_prediction()"
   ]
  },
  {
   "cell_type": "code",
   "execution_count": 52,
   "metadata": {},
   "outputs": [],
   "source": [
    "# plt.plot(area1[-300:], label='original')\n",
    "# plt.plot(np.exp(predictions_best_model.predicted_mean[-300:]), label='arima')\n",
    "# plt.legend()\n",
    "# plt.show();"
   ]
  },
  {
   "cell_type": "code",
   "execution_count": 53,
   "metadata": {},
   "outputs": [],
   "source": [
    "# train_1 = area1_logged[:-168]\n",
    "# test_1 = area1_logged[-168:]"
   ]
  },
  {
   "cell_type": "code",
   "execution_count": 54,
   "metadata": {
    "scrolled": true
   },
   "outputs": [],
   "source": [
    "# mae_model = sm.tsa.statespace.SARIMAX(train_1,\n",
    "#                                       order=(1, 0, 1),\n",
    "#                                       seasonal_order=(0, 1, 0, 24),\n",
    "#                                       exog=exo[:-168],\n",
    "#                                      enforce_stationarity=False,\n",
    "#                                      enforce_invertibility=False)\n",
    "\n",
    "# results = mae_model.fit()\n",
    "# predictions_mae_model = results.get_forecast(steps=168)"
   ]
  },
  {
   "cell_type": "code",
   "execution_count": 55,
   "metadata": {},
   "outputs": [],
   "source": [
    "# predictions_mae_model = results.get_forecast(steps=168,exog=exo[-168:])"
   ]
  },
  {
   "cell_type": "code",
   "execution_count": 56,
   "metadata": {},
   "outputs": [],
   "source": [
    "# plt.plot(area1[-300:],label='original')\n",
    "# plt.plot(np.exp(predictions_mae_model.predicted_mean), label='arima')\n",
    "# plt.show();"
   ]
  },
  {
   "cell_type": "code",
   "execution_count": 57,
   "metadata": {},
   "outputs": [],
   "source": [
    "# mean_absolute_percentage_error(area1[-168:],np.exp(predictions_mae_model.predicted_mean))"
   ]
  },
  {
   "cell_type": "code",
   "execution_count": null,
   "metadata": {},
   "outputs": [],
   "source": []
  },
  {
   "cell_type": "code",
   "execution_count": 58,
   "metadata": {},
   "outputs": [
    {
     "name": "stderr",
     "output_type": "stream",
     "text": [
      "/home/fc/anaconda3/envs/hckt03/lib/python3.7/site-packages/statsmodels/tsa/base/tsa_model.py:165: ValueWarning: No frequency information was provided, so inferred frequency H will be used.\n",
      "  % freq, ValueWarning)\n"
     ]
    }
   ],
   "source": [
    "mae_model = sm.tsa.statespace.SARIMAX(area1_logged,\n",
    "                                      order=(1, 0, 1),\n",
    "                                      seasonal_order=(0, 1,0, 24))\n",
    "\n",
    "results = mae_model.fit()\n",
    "predictions_mae_model = results.get_forecast(steps=168)"
   ]
  },
  {
   "cell_type": "code",
   "execution_count": 59,
   "metadata": {},
   "outputs": [],
   "source": [
    "area1_pred = np.exp(predictions_mae_model.predicted_mean)"
   ]
  },
  {
   "cell_type": "code",
   "execution_count": 61,
   "metadata": {},
   "outputs": [
    {
     "data": {
      "image/png": "[encoded data removed]",
      "text/plain": [
       "<Figure size 432x288 with 1 Axes>"
      ]
     },
     "metadata": {
      "needs_background": "light"
     },
     "output_type": "display_data"
    }
   ],
   "source": [
    "plt.plot(area2[-600:], label='original')\n",
    "plt.plot(area1_pred[-300:], label='arima')\n",
    "plt.legend()\n",
    "plt.show();"
   ]
  },
  {
   "cell_type": "code",
   "execution_count": null,
   "metadata": {},
   "outputs": [],
   "source": [
    "mean_absolute_percentage_error(area1_pred, area1[-168:])"
   ]
  },
  {
   "cell_type": "code",
   "execution_count": null,
   "metadata": {},
   "outputs": [],
   "source": [
    "area1_pred"
   ]
  },
  {
   "cell_type": "code",
   "execution_count": 140,
   "metadata": {},
   "outputs": [],
   "source": [
    "area1_pred_day = pd.read_csv('daily_area3_pred.csv')\n",
    "area1_pred_day['Unnamed: 0'] = pd.to_datetime(area1_pred_day['Unnamed: 0'])\n",
    "area1_pred_day = area1_pred_day.set_index('Unnamed: 0')\n",
    "#area1_pred_day.resample('H').mean().interpolate()\n"
   ]
  },
  {
   "cell_type": "code",
   "execution_count": 141,
   "metadata": {},
   "outputs": [
    {
     "data": {
      "text/plain": [
       "value    0\n",
       "dtype: int64"
      ]
     },
     "execution_count": 141,
     "metadata": {},
     "output_type": "execute_result"
    }
   ],
   "source": [
    "area1_pred_day = area1_pred_day.resample('H').mean().interpolate()\n",
    "area1_pred_day = area1_pred_day.reset_index()\n",
    "area1_pred_day.columns = ['date','value']\n",
    "area1_pred_day =  area1_pred_day.set_index('date')\n",
    "area1_pred_day.isnull().sum()"
   ]
  },
  {
   "cell_type": "code",
   "execution_count": 148,
   "metadata": {},
   "outputs": [
    {
     "data": {
      "text/plain": [
       "<matplotlib.axes._subplots.AxesSubplot at 0x7f1a5f892b00>"
      ]
     },
     "execution_count": 148,
     "metadata": {},
     "output_type": "execute_result"
    },
    {
     "data": {
      "image/png": "[encoded data removed]",
      "text/plain": [
       "<Figure size 432x288 with 1 Axes>"
      ]
     },
     "metadata": {
      "needs_background": "light"
     },
     "output_type": "display_data"
    }
   ],
   "source": [
    "#area1_pred_day #+ \n",
    "#pd.DataFrame(area1_pred,columns=['value']).head(5)\n",
    "area1_pred_day.sort_index().loc['2005-12-16':'2005-12-22'].plot()"
   ]
  },
  {
   "cell_type": "code",
   "execution_count": 97,
   "metadata": {},
   "outputs": [
    {
     "data": {
      "text/plain": [
       "date\n",
       "2005-05-30 19:00:00    14.004643\n",
       "2005-05-30 20:00:00    13.990995\n",
       "2005-05-30 21:00:00    13.977347\n",
       "2005-05-30 22:00:00    13.963699\n",
       "2005-05-30 23:00:00    13.950051\n",
       "Name: value, dtype: float64"
      ]
     },
     "execution_count": 97,
     "metadata": {},
     "output_type": "execute_result"
    }
   ],
   "source": [
    "area1_pred_day['value'].loc['2005-05-23':'2005-05-30'].tail(5)"
   ]
  },
  {
   "cell_type": "code",
   "execution_count": 146,
   "metadata": {},
   "outputs": [
    {
     "data": {
      "text/plain": [
       "date\n",
       "2005-12-16 00:00:00     97.265493\n",
       "2005-12-16 01:00:00     97.312463\n",
       "2005-12-16 02:00:00     97.432006\n",
       "2005-12-16 03:00:00     97.602627\n",
       "2005-12-16 04:00:00     96.009773\n",
       "2005-12-16 05:00:00     99.783004\n",
       "2005-12-16 06:00:00    101.657919\n",
       "2005-12-16 07:00:00    107.471017\n",
       "2005-12-16 08:00:00    108.470451\n",
       "2005-12-16 09:00:00    109.431169\n",
       "2005-12-16 10:00:00    110.194807\n",
       "2005-12-16 11:00:00    110.416564\n",
       "2005-12-16 12:00:00    109.784913\n",
       "2005-12-16 13:00:00    108.802497\n",
       "2005-12-16 14:00:00    108.657600\n",
       "2005-12-16 15:00:00    108.839025\n",
       "2005-12-16 16:00:00    111.320226\n",
       "2005-12-16 17:00:00    112.064081\n",
       "2005-12-16 18:00:00    108.386177\n",
       "2005-12-16 19:00:00    111.219590\n",
       "2005-12-16 20:00:00    108.075331\n",
       "2005-12-16 21:00:00    105.069694\n",
       "2005-12-16 22:00:00    100.014340\n",
       "2005-12-16 23:00:00     95.755510\n",
       "2005-12-17 00:00:00     96.859297\n",
       "2005-12-17 01:00:00     96.978955\n",
       "2005-12-17 02:00:00     97.164460\n",
       "2005-12-17 03:00:00     97.395334\n",
       "2005-12-17 04:00:00     95.882947\n",
       "2005-12-17 05:00:00     99.659451\n",
       "                          ...    \n",
       "2005-12-21 18:00:00    108.890511\n",
       "2005-12-21 19:00:00    111.618791\n",
       "2005-12-21 20:00:00    108.396369\n",
       "2005-12-21 21:00:00    105.307961\n",
       "2005-12-21 22:00:00    100.174086\n",
       "2005-12-21 23:00:00     95.829527\n",
       "2005-12-22 00:00:00     96.826713\n",
       "2005-12-22 01:00:00     96.842254\n",
       "2005-12-22 02:00:00     96.922564\n",
       "2005-12-22 03:00:00     97.047328\n",
       "2005-12-22 04:00:00     95.432186\n",
       "2005-12-22 05:00:00     99.093217\n",
       "2005-12-22 06:00:00    100.886373\n",
       "2005-12-22 07:00:00    106.566692\n",
       "2005-12-22 08:00:00    107.497248\n",
       "2005-12-22 09:00:00    108.386780\n",
       "2005-12-22 10:00:00    109.078559\n",
       "2005-12-22 11:00:00    109.230654\n",
       "2005-12-22 12:00:00    108.533204\n",
       "2005-12-22 13:00:00    107.483443\n",
       "2005-12-22 14:00:00    107.260734\n",
       "2005-12-22 15:00:00    107.359112\n",
       "2005-12-22 16:00:00    109.740579\n",
       "2005-12-22 17:00:00    110.394539\n",
       "2005-12-22 18:00:00    106.648303\n",
       "2005-12-22 19:00:00    109.376584\n",
       "2005-12-22 20:00:00    106.154164\n",
       "2005-12-22 21:00:00    103.065757\n",
       "2005-12-22 22:00:00     97.931884\n",
       "2005-12-22 23:00:00     93.587327\n",
       "Length: 168, dtype: float64"
      ]
     },
     "execution_count": 146,
     "metadata": {},
     "output_type": "execute_result"
    }
   ],
   "source": [
    "(area1_pred_day['value'].loc['2005-12-16':'2005-12-22'] + area1_pred.loc['2005-12-16':'2005-12-22'])/2"
   ]
  },
  {
   "cell_type": "code",
   "execution_count": 147,
   "metadata": {
    "scrolled": true
   },
   "outputs": [
    {
     "data": {
      "image/png": "[encoded data removed]",
      "text/plain": [
       "<Figure size 432x288 with 1 Axes>"
      ]
     },
     "metadata": {
      "needs_background": "light"
     },
     "output_type": "display_data"
    }
   ],
   "source": [
    "media_dh = (area1_pred_day['value'].loc['2005-12-16':'2005-12-22'] + area1_pred.loc['2005-12-16':'2005-12-22'])/2\n",
    "pd.DataFrame(media_dh,columns=['value']).plot()\n",
    "plt.plot(area1[-300:],label='original')\n",
    "plt.show()"
   ]
  },
  {
   "cell_type": "code",
   "execution_count": 149,
   "metadata": {},
   "outputs": [
    {
     "data": {
      "text/plain": [
       "date\n",
       "2005-12-16 00:00:00     97.265493\n",
       "2005-12-16 01:00:00     97.312463\n",
       "2005-12-16 02:00:00     97.432006\n",
       "2005-12-16 03:00:00     97.602627\n",
       "2005-12-16 04:00:00     96.009773\n",
       "2005-12-16 05:00:00     99.783004\n",
       "2005-12-16 06:00:00    101.657919\n",
       "2005-12-16 07:00:00    107.471017\n",
       "2005-12-16 08:00:00    108.470451\n",
       "2005-12-16 09:00:00    109.431169\n",
       "2005-12-16 10:00:00    110.194807\n",
       "2005-12-16 11:00:00    110.416564\n",
       "2005-12-16 12:00:00    109.784913\n",
       "2005-12-16 13:00:00    108.802497\n",
       "2005-12-16 14:00:00    108.657600\n",
       "2005-12-16 15:00:00    108.839025\n",
       "2005-12-16 16:00:00    111.320226\n",
       "2005-12-16 17:00:00    112.064081\n",
       "2005-12-16 18:00:00    108.386177\n",
       "2005-12-16 19:00:00    111.219590\n",
       "2005-12-16 20:00:00    108.075331\n",
       "2005-12-16 21:00:00    105.069694\n",
       "2005-12-16 22:00:00    100.014340\n",
       "2005-12-16 23:00:00     95.755510\n",
       "2005-12-17 00:00:00     96.859297\n",
       "2005-12-17 01:00:00     96.978955\n",
       "2005-12-17 02:00:00     97.164460\n",
       "2005-12-17 03:00:00     97.395334\n",
       "2005-12-17 04:00:00     95.882947\n",
       "2005-12-17 05:00:00     99.659451\n",
       "                          ...    \n",
       "2005-12-21 18:00:00    108.890511\n",
       "2005-12-21 19:00:00    111.618791\n",
       "2005-12-21 20:00:00    108.396369\n",
       "2005-12-21 21:00:00    105.307961\n",
       "2005-12-21 22:00:00    100.174086\n",
       "2005-12-21 23:00:00     95.829527\n",
       "2005-12-22 00:00:00     96.826713\n",
       "2005-12-22 01:00:00     96.842254\n",
       "2005-12-22 02:00:00     96.922564\n",
       "2005-12-22 03:00:00     97.047328\n",
       "2005-12-22 04:00:00     95.432186\n",
       "2005-12-22 05:00:00     99.093217\n",
       "2005-12-22 06:00:00    100.886373\n",
       "2005-12-22 07:00:00    106.566692\n",
       "2005-12-22 08:00:00    107.497248\n",
       "2005-12-22 09:00:00    108.386780\n",
       "2005-12-22 10:00:00    109.078559\n",
       "2005-12-22 11:00:00    109.230654\n",
       "2005-12-22 12:00:00    108.533204\n",
       "2005-12-22 13:00:00    107.483443\n",
       "2005-12-22 14:00:00    107.260734\n",
       "2005-12-22 15:00:00    107.359112\n",
       "2005-12-22 16:00:00    109.740579\n",
       "2005-12-22 17:00:00    110.394539\n",
       "2005-12-22 18:00:00    106.648303\n",
       "2005-12-22 19:00:00    109.376584\n",
       "2005-12-22 20:00:00    106.154164\n",
       "2005-12-22 21:00:00    103.065757\n",
       "2005-12-22 22:00:00     97.931884\n",
       "2005-12-22 23:00:00     93.587327\n",
       "Length: 168, dtype: float64"
      ]
     },
     "execution_count": 149,
     "metadata": {},
     "output_type": "execute_result"
    }
   ],
   "source": [
    "media_dh"
   ]
  },
  {
   "cell_type": "code",
   "execution_count": 150,
   "metadata": {},
   "outputs": [],
   "source": [
    "media_dh.to_csv('area3_ponderada.csv')"
   ]
  },
  {
   "cell_type": "code",
   "execution_count": null,
   "metadata": {
    "scrolled": true
   },
   "outputs": [],
   "source": [
    "plt.scatter(area1_pred_day.index,area1_pred_day.values)\n",
    "plt.plot(area2[:],label='original')\n",
    "#area1_pred.plot()\n",
    "plt.show()"
   ]
  },
  {
   "cell_type": "code",
   "execution_count": null,
   "metadata": {
    "scrolled": true
   },
   "outputs": [],
   "source": [
    "plt.plot(area1[-300:].reset_index(drop=True)['value'],label='original')\n",
    "pd.read_csv('linear_model_data1.csv')['value'].plot()\n",
    "plt.show()"
   ]
  },
  {
   "cell_type": "code",
   "execution_count": 16,
   "metadata": {},
   "outputs": [
    {
     "data": {
      "image/png": "[encoded data removed]",
      "text/plain": [
       "<Figure size 432x288 with 1 Axes>"
      ]
     },
     "metadata": {
      "needs_background": "light"
     },
     "output_type": "display_data"
    }
   ],
   "source": [
    "plt.plot(area1[-300:].reset_index(drop=True)['value'],label='original')\n",
    "\n",
    "area1_pred.reset_index(drop=True).plot()\n",
    "plt.show()"
   ]
  },
  {
   "cell_type": "code",
   "execution_count": null,
   "metadata": {},
   "outputs": [],
   "source": [
    "area2_pred = np.exp(predictions_mae_model.predicted_mean)\n"
   ]
  },
  {
   "cell_type": "code",
   "execution_count": null,
   "metadata": {},
   "outputs": [],
   "source": [
    "area2_pred.plot()"
   ]
  },
  {
   "cell_type": "code",
   "execution_count": null,
   "metadata": {},
   "outputs": [],
   "source": [
    "area3_pred = np.exp(predictions_mae_model.predicted_mean)\n"
   ]
  },
  {
   "cell_type": "code",
   "execution_count": null,
   "metadata": {},
   "outputs": [],
   "source": [
    "area3_pred.plot()"
   ]
  },
  {
   "cell_type": "code",
   "execution_count": null,
   "metadata": {},
   "outputs": [],
   "source": [
    "generate_submission_file(area1_pred,area2_pred,area3_pred)"
   ]
  },
  {
   "cell_type": "code",
   "execution_count": 156,
   "metadata": {
    "scrolled": true
   },
   "outputs": [],
   "source": [
    "predictions_area_1 = pd.read_csv('area1_ponderada.csv',header=None).set_index([0])\n",
    "predictions_area_2 = pd.read_csv('area2_ponderada.csv',header=None).set_index([0])\n",
    "predictions_area_3 = pd.read_csv('area3_ponderada.csv',header=None).set_index([0])\n",
    "#test_1 = pd.DataFrame(predictions_area_1)\n"
   ]
  },
  {
   "cell_type": "code",
   "execution_count": 157,
   "metadata": {},
   "outputs": [
    {
     "data": {
      "text/html": [
       "<div>\n",
       "<style scoped>\n",
       "    .dataframe tbody tr th:only-of-type {\n",
       "        vertical-align: middle;\n",
       "    }\n",
       "\n",
       "    .dataframe tbody tr th {\n",
       "        vertical-align: top;\n",
       "    }\n",
       "\n",
       "    .dataframe thead th {\n",
       "        text-align: right;\n",
       "    }\n",
       "</style>\n",
       "<table border=\"1\" class=\"dataframe\">\n",
       "  <thead>\n",
       "    <tr style=\"text-align: right;\">\n",
       "      <th></th>\n",
       "      <th>1</th>\n",
       "    </tr>\n",
       "    <tr>\n",
       "      <th>0</th>\n",
       "      <th></th>\n",
       "    </tr>\n",
       "  </thead>\n",
       "  <tbody>\n",
       "    <tr>\n",
       "      <th>2005-12-16 00:00:00</th>\n",
       "      <td>97.265493</td>\n",
       "    </tr>\n",
       "    <tr>\n",
       "      <th>2005-12-16 01:00:00</th>\n",
       "      <td>97.312463</td>\n",
       "    </tr>\n",
       "    <tr>\n",
       "      <th>2005-12-16 02:00:00</th>\n",
       "      <td>97.432006</td>\n",
       "    </tr>\n",
       "    <tr>\n",
       "      <th>2005-12-16 03:00:00</th>\n",
       "      <td>97.602627</td>\n",
       "    </tr>\n",
       "    <tr>\n",
       "      <th>2005-12-16 04:00:00</th>\n",
       "      <td>96.009773</td>\n",
       "    </tr>\n",
       "    <tr>\n",
       "      <th>2005-12-16 05:00:00</th>\n",
       "      <td>99.783004</td>\n",
       "    </tr>\n",
       "    <tr>\n",
       "      <th>2005-12-16 06:00:00</th>\n",
       "      <td>101.657919</td>\n",
       "    </tr>\n",
       "    <tr>\n",
       "      <th>2005-12-16 07:00:00</th>\n",
       "      <td>107.471017</td>\n",
       "    </tr>\n",
       "    <tr>\n",
       "      <th>2005-12-16 08:00:00</th>\n",
       "      <td>108.470451</td>\n",
       "    </tr>\n",
       "    <tr>\n",
       "      <th>2005-12-16 09:00:00</th>\n",
       "      <td>109.431169</td>\n",
       "    </tr>\n",
       "    <tr>\n",
       "      <th>2005-12-16 10:00:00</th>\n",
       "      <td>110.194807</td>\n",
       "    </tr>\n",
       "    <tr>\n",
       "      <th>2005-12-16 11:00:00</th>\n",
       "      <td>110.416564</td>\n",
       "    </tr>\n",
       "    <tr>\n",
       "      <th>2005-12-16 12:00:00</th>\n",
       "      <td>109.784913</td>\n",
       "    </tr>\n",
       "    <tr>\n",
       "      <th>2005-12-16 13:00:00</th>\n",
       "      <td>108.802497</td>\n",
       "    </tr>\n",
       "    <tr>\n",
       "      <th>2005-12-16 14:00:00</th>\n",
       "      <td>108.657600</td>\n",
       "    </tr>\n",
       "    <tr>\n",
       "      <th>2005-12-16 15:00:00</th>\n",
       "      <td>108.839025</td>\n",
       "    </tr>\n",
       "    <tr>\n",
       "      <th>2005-12-16 16:00:00</th>\n",
       "      <td>111.320226</td>\n",
       "    </tr>\n",
       "    <tr>\n",
       "      <th>2005-12-16 17:00:00</th>\n",
       "      <td>112.064081</td>\n",
       "    </tr>\n",
       "    <tr>\n",
       "      <th>2005-12-16 18:00:00</th>\n",
       "      <td>108.386177</td>\n",
       "    </tr>\n",
       "    <tr>\n",
       "      <th>2005-12-16 19:00:00</th>\n",
       "      <td>111.219590</td>\n",
       "    </tr>\n",
       "    <tr>\n",
       "      <th>2005-12-16 20:00:00</th>\n",
       "      <td>108.075331</td>\n",
       "    </tr>\n",
       "    <tr>\n",
       "      <th>2005-12-16 21:00:00</th>\n",
       "      <td>105.069694</td>\n",
       "    </tr>\n",
       "    <tr>\n",
       "      <th>2005-12-16 22:00:00</th>\n",
       "      <td>100.014340</td>\n",
       "    </tr>\n",
       "    <tr>\n",
       "      <th>2005-12-16 23:00:00</th>\n",
       "      <td>95.755510</td>\n",
       "    </tr>\n",
       "    <tr>\n",
       "      <th>2005-12-17 00:00:00</th>\n",
       "      <td>96.859297</td>\n",
       "    </tr>\n",
       "    <tr>\n",
       "      <th>2005-12-17 01:00:00</th>\n",
       "      <td>96.978955</td>\n",
       "    </tr>\n",
       "    <tr>\n",
       "      <th>2005-12-17 02:00:00</th>\n",
       "      <td>97.164460</td>\n",
       "    </tr>\n",
       "    <tr>\n",
       "      <th>2005-12-17 03:00:00</th>\n",
       "      <td>97.395334</td>\n",
       "    </tr>\n",
       "    <tr>\n",
       "      <th>2005-12-17 04:00:00</th>\n",
       "      <td>95.882947</td>\n",
       "    </tr>\n",
       "    <tr>\n",
       "      <th>2005-12-17 05:00:00</th>\n",
       "      <td>99.659451</td>\n",
       "    </tr>\n",
       "    <tr>\n",
       "      <th>...</th>\n",
       "      <td>...</td>\n",
       "    </tr>\n",
       "    <tr>\n",
       "      <th>2005-12-21 18:00:00</th>\n",
       "      <td>108.890511</td>\n",
       "    </tr>\n",
       "    <tr>\n",
       "      <th>2005-12-21 19:00:00</th>\n",
       "      <td>111.618791</td>\n",
       "    </tr>\n",
       "    <tr>\n",
       "      <th>2005-12-21 20:00:00</th>\n",
       "      <td>108.396369</td>\n",
       "    </tr>\n",
       "    <tr>\n",
       "      <th>2005-12-21 21:00:00</th>\n",
       "      <td>105.307961</td>\n",
       "    </tr>\n",
       "    <tr>\n",
       "      <th>2005-12-21 22:00:00</th>\n",
       "      <td>100.174086</td>\n",
       "    </tr>\n",
       "    <tr>\n",
       "      <th>2005-12-21 23:00:00</th>\n",
       "      <td>95.829527</td>\n",
       "    </tr>\n",
       "    <tr>\n",
       "      <th>2005-12-22 00:00:00</th>\n",
       "      <td>96.826713</td>\n",
       "    </tr>\n",
       "    <tr>\n",
       "      <th>2005-12-22 01:00:00</th>\n",
       "      <td>96.842254</td>\n",
       "    </tr>\n",
       "    <tr>\n",
       "      <th>2005-12-22 02:00:00</th>\n",
       "      <td>96.922564</td>\n",
       "    </tr>\n",
       "    <tr>\n",
       "      <th>2005-12-22 03:00:00</th>\n",
       "      <td>97.047328</td>\n",
       "    </tr>\n",
       "    <tr>\n",
       "      <th>2005-12-22 04:00:00</th>\n",
       "      <td>95.432186</td>\n",
       "    </tr>\n",
       "    <tr>\n",
       "      <th>2005-12-22 05:00:00</th>\n",
       "      <td>99.093217</td>\n",
       "    </tr>\n",
       "    <tr>\n",
       "      <th>2005-12-22 06:00:00</th>\n",
       "      <td>100.886373</td>\n",
       "    </tr>\n",
       "    <tr>\n",
       "      <th>2005-12-22 07:00:00</th>\n",
       "      <td>106.566692</td>\n",
       "    </tr>\n",
       "    <tr>\n",
       "      <th>2005-12-22 08:00:00</th>\n",
       "      <td>107.497248</td>\n",
       "    </tr>\n",
       "    <tr>\n",
       "      <th>2005-12-22 09:00:00</th>\n",
       "      <td>108.386780</td>\n",
       "    </tr>\n",
       "    <tr>\n",
       "      <th>2005-12-22 10:00:00</th>\n",
       "      <td>109.078559</td>\n",
       "    </tr>\n",
       "    <tr>\n",
       "      <th>2005-12-22 11:00:00</th>\n",
       "      <td>109.230654</td>\n",
       "    </tr>\n",
       "    <tr>\n",
       "      <th>2005-12-22 12:00:00</th>\n",
       "      <td>108.533204</td>\n",
       "    </tr>\n",
       "    <tr>\n",
       "      <th>2005-12-22 13:00:00</th>\n",
       "      <td>107.483443</td>\n",
       "    </tr>\n",
       "    <tr>\n",
       "      <th>2005-12-22 14:00:00</th>\n",
       "      <td>107.260734</td>\n",
       "    </tr>\n",
       "    <tr>\n",
       "      <th>2005-12-22 15:00:00</th>\n",
       "      <td>107.359112</td>\n",
       "    </tr>\n",
       "    <tr>\n",
       "      <th>2005-12-22 16:00:00</th>\n",
       "      <td>109.740579</td>\n",
       "    </tr>\n",
       "    <tr>\n",
       "      <th>2005-12-22 17:00:00</th>\n",
       "      <td>110.394539</td>\n",
       "    </tr>\n",
       "    <tr>\n",
       "      <th>2005-12-22 18:00:00</th>\n",
       "      <td>106.648303</td>\n",
       "    </tr>\n",
       "    <tr>\n",
       "      <th>2005-12-22 19:00:00</th>\n",
       "      <td>109.376584</td>\n",
       "    </tr>\n",
       "    <tr>\n",
       "      <th>2005-12-22 20:00:00</th>\n",
       "      <td>106.154164</td>\n",
       "    </tr>\n",
       "    <tr>\n",
       "      <th>2005-12-22 21:00:00</th>\n",
       "      <td>103.065757</td>\n",
       "    </tr>\n",
       "    <tr>\n",
       "      <th>2005-12-22 22:00:00</th>\n",
       "      <td>97.931884</td>\n",
       "    </tr>\n",
       "    <tr>\n",
       "      <th>2005-12-22 23:00:00</th>\n",
       "      <td>93.587327</td>\n",
       "    </tr>\n",
       "  </tbody>\n",
       "</table>\n",
       "<p>168 rows × 1 columns</p>\n",
       "</div>"
      ],
      "text/plain": [
       "                              1\n",
       "0                              \n",
       "2005-12-16 00:00:00   97.265493\n",
       "2005-12-16 01:00:00   97.312463\n",
       "2005-12-16 02:00:00   97.432006\n",
       "2005-12-16 03:00:00   97.602627\n",
       "2005-12-16 04:00:00   96.009773\n",
       "2005-12-16 05:00:00   99.783004\n",
       "2005-12-16 06:00:00  101.657919\n",
       "2005-12-16 07:00:00  107.471017\n",
       "2005-12-16 08:00:00  108.470451\n",
       "2005-12-16 09:00:00  109.431169\n",
       "2005-12-16 10:00:00  110.194807\n",
       "2005-12-16 11:00:00  110.416564\n",
       "2005-12-16 12:00:00  109.784913\n",
       "2005-12-16 13:00:00  108.802497\n",
       "2005-12-16 14:00:00  108.657600\n",
       "2005-12-16 15:00:00  108.839025\n",
       "2005-12-16 16:00:00  111.320226\n",
       "2005-12-16 17:00:00  112.064081\n",
       "2005-12-16 18:00:00  108.386177\n",
       "2005-12-16 19:00:00  111.219590\n",
       "2005-12-16 20:00:00  108.075331\n",
       "2005-12-16 21:00:00  105.069694\n",
       "2005-12-16 22:00:00  100.014340\n",
       "2005-12-16 23:00:00   95.755510\n",
       "2005-12-17 00:00:00   96.859297\n",
       "2005-12-17 01:00:00   96.978955\n",
       "2005-12-17 02:00:00   97.164460\n",
       "2005-12-17 03:00:00   97.395334\n",
       "2005-12-17 04:00:00   95.882947\n",
       "2005-12-17 05:00:00   99.659451\n",
       "...                         ...\n",
       "2005-12-21 18:00:00  108.890511\n",
       "2005-12-21 19:00:00  111.618791\n",
       "2005-12-21 20:00:00  108.396369\n",
       "2005-12-21 21:00:00  105.307961\n",
       "2005-12-21 22:00:00  100.174086\n",
       "2005-12-21 23:00:00   95.829527\n",
       "2005-12-22 00:00:00   96.826713\n",
       "2005-12-22 01:00:00   96.842254\n",
       "2005-12-22 02:00:00   96.922564\n",
       "2005-12-22 03:00:00   97.047328\n",
       "2005-12-22 04:00:00   95.432186\n",
       "2005-12-22 05:00:00   99.093217\n",
       "2005-12-22 06:00:00  100.886373\n",
       "2005-12-22 07:00:00  106.566692\n",
       "2005-12-22 08:00:00  107.497248\n",
       "2005-12-22 09:00:00  108.386780\n",
       "2005-12-22 10:00:00  109.078559\n",
       "2005-12-22 11:00:00  109.230654\n",
       "2005-12-22 12:00:00  108.533204\n",
       "2005-12-22 13:00:00  107.483443\n",
       "2005-12-22 14:00:00  107.260734\n",
       "2005-12-22 15:00:00  107.359112\n",
       "2005-12-22 16:00:00  109.740579\n",
       "2005-12-22 17:00:00  110.394539\n",
       "2005-12-22 18:00:00  106.648303\n",
       "2005-12-22 19:00:00  109.376584\n",
       "2005-12-22 20:00:00  106.154164\n",
       "2005-12-22 21:00:00  103.065757\n",
       "2005-12-22 22:00:00   97.931884\n",
       "2005-12-22 23:00:00   93.587327\n",
       "\n",
       "[168 rows x 1 columns]"
      ]
     },
     "execution_count": 157,
     "metadata": {},
     "output_type": "execute_result"
    }
   ],
   "source": [
    "predicitons_area_3"
   ]
  },
  {
   "cell_type": "code",
   "execution_count": 169,
   "metadata": {},
   "outputs": [],
   "source": [
    "test_1 = pd.DataFrame(predictions_area_1)\n",
    "test_2 = pd.DataFrame(predictions_area_2)\n",
    "test_3 = pd.DataFrame(predicitons_area_3)\n",
    "test = pd.concat([test_1,test_2,test_3], axis=1)"
   ]
  },
  {
   "cell_type": "code",
   "execution_count": 170,
   "metadata": {},
   "outputs": [],
   "source": [
    "test.columns = ['area_1','area_2','area_3']\n",
    "test.index.name = 'date'\n",
    "test = test.reset_index().melt(id_vars='date',value_vars=['area_1','area_2','area_3']).set_index('date')\n",
    "test = test.dropna()\n",
    "test = test.drop('variable',axis=1)\n",
    "test.to_csv('submission2.csv')"
   ]
  },
  {
   "cell_type": "code",
   "execution_count": 172,
   "metadata": {},
   "outputs": [
    {
     "data": {
      "text/plain": [
       "<matplotlib.axes._subplots.AxesSubplot at 0x7f1a2ecd5748>"
      ]
     },
     "execution_count": 172,
     "metadata": {},
     "output_type": "execute_result"
    },
    {
     "data": {
      "image/png": "[encoded data removed]",
      "text/plain": [
       "<Figure size 432x288 with 1 Axes>"
      ]
     },
     "metadata": {
      "needs_background": "light"
     },
     "output_type": "display_data"
    }
   ],
   "source": [
    "test.plot()"
   ]
  },
  {
   "cell_type": "code",
   "execution_count": null,
   "metadata": {},
   "outputs": [],
   "source": []
  }
 ],
 "metadata": {
  "kernelspec": {
   "display_name": "Python 3",
   "language": "python",
   "name": "python3"
  },
  "language_info": {
   "codemirror_mode": {
    "name": "ipython",
    "version": 3
   },
   "file_extension": ".py",
   "mimetype": "text/x-python",
   "name": "python",
   "nbconvert_exporter": "python",
   "pygments_lexer": "ipython3",
   "version": "3.7.3"
  }
 },
 "nbformat": 4,
 "nbformat_minor": 2
}
