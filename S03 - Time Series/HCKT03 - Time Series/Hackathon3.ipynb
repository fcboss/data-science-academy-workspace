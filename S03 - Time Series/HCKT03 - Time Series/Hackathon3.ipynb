{
 "cells": [
  {
   "cell_type": "markdown",
   "metadata": {},
   "source": [
    "## Time Series Hackathon"
   ]
  },
  {
   "cell_type": "code",
   "execution_count": 1,
   "metadata": {},
   "outputs": [],
   "source": [
    "import pandas as pd\n",
    "import numpy as np\n",
    "import matplotlib.pyplot as plt\n",
    "plt.rcParams[\"figure.figsize\"] = (20,10)\n",
    "\n",
    "idx = pd.IndexSlice  # <---- convention, get ready to copy paste this a lot \n",
    "import datetime as dt\n",
    "\n",
    "from statsmodels.graphics.tsaplots import plot_acf, plot_pacf\n",
    "from statsmodels.tsa.stattools import acf, pacf\n",
    "from scipy.special import boxcox1p\n",
    "from scipy.special import inv_boxcox1p\n",
    "from scipy.special import boxcox\n",
    "from scipy.stats import boxcox_normplot\n",
    "\n",
    "\n",
    "from sklearn.model_selection import KFold\n",
    "from sklearn.linear_model import LinearRegression\n",
    "from sklearn import svm\n",
    "from sklearn.ensemble import GradientBoostingRegressor\n",
    "#from sklearn import linear_model.SGDRegressor\n",
    "\n",
    "\n",
    "\n",
    "from sklearn.model_selection import cross_val_score\n",
    "from sklearn.linear_model import LinearRegression\n",
    "\n",
    "from sklearn.metrics import mean_absolute_error\n",
    "\n",
    "import itertools\n",
    "\n",
    "from utils import generate_submission_file"
   ]
  },
  {
   "cell_type": "code",
   "execution_count": 2,
   "metadata": {},
   "outputs": [],
   "source": [
    "dataOrig = pd.read_csv('./data/data.csv')\n",
    "data = dataOrig.copy()"
   ]
  },
  {
   "cell_type": "code",
   "execution_count": 3,
   "metadata": {},
   "outputs": [],
   "source": [
    "#dataOrig1 = dataOrig[dataOrig['variable'] == 'area_1']\n",
    "#dataOrig2 = dataOrig[dataOrig['variable'] == 'area_2']\n",
    "#dataOrig3 = dataOrig[dataOrig['variable'] == 'area_3']"
   ]
  },
  {
   "cell_type": "markdown",
   "metadata": {},
   "source": [
    "# Create indexes"
   ]
  },
  {
   "cell_type": "code",
   "execution_count": 4,
   "metadata": {},
   "outputs": [],
   "source": [
    "data['date'] = pd.to_datetime(data['date'])\n",
    "data = data.set_index(['date', 'variable'])\n",
    "data = data.sort_index()"
   ]
  },
  {
   "cell_type": "markdown",
   "metadata": {},
   "source": [
    "## Pre Processing -> Put averything in function"
   ]
  },
  {
   "cell_type": "code",
   "execution_count": 5,
   "metadata": {},
   "outputs": [],
   "source": [
    "data1 = pd.DataFrame(data.loc[idx[: , 'area_1'], 'value'])\n",
    "data2 = pd.DataFrame(data.loc[idx[: , 'area_2'], 'value'])\n",
    "data3 = pd.DataFrame(data.loc[idx[: , 'area_3'], 'value'])\n",
    "\n",
    "#print(data3.last_valid_index())\n",
    "data1_last_hour = '2005-05-22 23:00:00'\n",
    "data2_last_hour = '2005-10-06 23:00:00'\n",
    "data3_last_hour = '2005-12-15 23:00:00'\n",
    "\n",
    "data1_next_hour = pd.to_datetime(data1_last_hour) + dt.timedelta(hours=1)\n",
    "data2_next_hour = pd.to_datetime(data2_last_hour) + dt.timedelta(hours=1)\n",
    "data2_next_hour = pd.to_datetime(data2_last_hour) + dt.timedelta(hours=1)\n",
    "\n",
    "data1_test_hour = '2005-05-16 00:00:00'\n",
    "data2_test_hour = '2005-09-30 00:00:00'\n",
    "data3_test_hour = '2005-12-9 00:00:00'\n",
    "\n",
    "data1_train_hour = pd.to_datetime(data1_test_hour) - dt.timedelta(hours=1)\n",
    "data2_train_hour = pd.to_datetime(data2_test_hour) - dt.timedelta(hours=1)\n",
    "data3_train_hour = pd.to_datetime(data3_test_hour) - dt.timedelta(hours=1)"
   ]
  },
  {
   "cell_type": "markdown",
   "metadata": {},
   "source": [
    "# Data Exploration plots"
   ]
  },
  {
   "cell_type": "code",
   "execution_count": 6,
   "metadata": {},
   "outputs": [
    {
     "data": {
      "text/html": [
       "<div>\n",
       "<style scoped>\n",
       "    .dataframe tbody tr th:only-of-type {\n",
       "        vertical-align: middle;\n",
       "    }\n",
       "\n",
       "    .dataframe tbody tr th {\n",
       "        vertical-align: top;\n",
       "    }\n",
       "\n",
       "    .dataframe thead th {\n",
       "        text-align: right;\n",
       "    }\n",
       "</style>\n",
       "<table border=\"1\" class=\"dataframe\">\n",
       "  <thead>\n",
       "    <tr style=\"text-align: right;\">\n",
       "      <th></th>\n",
       "      <th></th>\n",
       "      <th>value</th>\n",
       "    </tr>\n",
       "    <tr>\n",
       "      <th>date</th>\n",
       "      <th>variable</th>\n",
       "      <th></th>\n",
       "    </tr>\n",
       "  </thead>\n",
       "  <tbody>\n",
       "  </tbody>\n",
       "</table>\n",
       "</div>"
      ],
      "text/plain": [
       "Empty DataFrame\n",
       "Columns: [value]\n",
       "Index: []"
      ]
     },
     "execution_count": 6,
     "metadata": {},
     "output_type": "execute_result"
    }
   ],
   "source": [
    "data2.loc[idx[\"2015-12-15 00:00:00\":,:],:]"
   ]
  },
  {
   "cell_type": "code",
   "execution_count": 7,
   "metadata": {},
   "outputs": [
    {
     "data": {
      "image/png": "[encoded data removed]",
      "text/plain": [
       "<Figure size 432x288 with 1 Axes>"
      ]
     },
     "metadata": {
      "needs_background": "light"
     },
     "output_type": "display_data"
    }
   ],
   "source": [
    "\n",
    "fig, ax = plt.subplots()\n",
    "ax.plot(data2['value'].reset_index(drop=True).interpolate(method='linear'))\n",
    "ax.plot(data2['value'].reset_index(drop=True))\n",
    "\n",
    "plt.show()"
   ]
  },
  {
   "cell_type": "markdown",
   "metadata": {},
   "source": [
    "## Machine Learning Preparation"
   ]
  },
  {
   "cell_type": "code",
   "execution_count": 8,
   "metadata": {},
   "outputs": [],
   "source": [
    "#Pre processes the dataframe\n",
    "def machine_processor(df_,last_day):\n",
    "    df_ = df_.copy()\n",
    "    df_ = df_.reset_index().set_index('date').drop(columns='variable').loc[idx[:last_day],:]\n",
    "    \n",
    "    df_ = (build_some_features(df_,\n",
    "                     target_column='value',\n",
    "                     num_periods_lagged=8, \n",
    "                     num_periods_diffed=8, \n",
    "                     weekday=True, \n",
    "                     month=True, \n",
    "                     hour=True#,\n",
    "                     #rolling=[np.mean,np.min,np.max,np.std]\n",
    "                    ).dropna())\n",
    "    return df_"
   ]
  },
  {
   "cell_type": "code",
   "execution_count": 9,
   "metadata": {},
   "outputs": [],
   "source": [
    "#dataprep1 = data1.copy().reset_index().set_index('date').drop(columns='variable').loc[idx[:data1_last_hour],:]"
   ]
  },
  {
   "cell_type": "code",
   "execution_count": 10,
   "metadata": {},
   "outputs": [],
   "source": [
    "def build_some_features(df_, \n",
    "                        target_column='value', \n",
    "                        num_periods_lagged=1, \n",
    "                        num_periods_diffed=0, \n",
    "                        weekday=False, \n",
    "                        month=False, \n",
    "                        hour=True, \n",
    "                        rolling =[]): \n",
    "    \"\"\"\n",
    "    Builds some features by calculating differences between periods  \n",
    "    \"\"\"\n",
    "    # make a copy \n",
    "    df_ = df_.copy()\n",
    "        \n",
    "    # for a few values, get the lags  \n",
    "    for i in range(1, num_periods_lagged+1):\n",
    "        # make a new feature, with the lags in the observed values column\n",
    "        df_['lagged_%s' % str(i)] = df_[target_column].shift(i)\n",
    "        \n",
    "    # for a few values, get the diffs  \n",
    "    for i in range(1, num_periods_diffed+1):\n",
    "        # make a new feature, with the diffs in the observed values column\n",
    "        df_['diff_%s' % str(i)] = df_[target_column].diff(i)\n",
    "    \n",
    "    for stat in rolling:\n",
    "        df_['rolling_%s'%str(stat)] = df_[target_column].rolling('12h').aggregate(stat)\n",
    "        \n",
    "    if weekday == True:\n",
    "        df_['sin_weekday'] = np.sin(2*np.pi*df_.index.weekday/7)\n",
    "        df_['cos_weekday'] = np.sin(2*np.pi*df_.index.weekday/7)\n",
    "        \n",
    "    if month == True:\n",
    "        df_['sin_month'] = np.sin(2*np.pi*df_.index.month/12)\n",
    "        df_['cos_month'] = np.sin(2*np.pi*df_.index.month/12)\n",
    "        \n",
    "    if hour == True:\n",
    "        df_['sin_hour'] = np.sin(2*np.pi*df_.index.hour/24)\n",
    "        df_['cos_hour'] = np.sin(2*np.pi*df_.index.hour/24)        \n",
    "\n",
    "    \n",
    "    return df_"
   ]
  },
  {
   "cell_type": "code",
   "execution_count": 11,
   "metadata": {},
   "outputs": [],
   "source": [
    "# data1ready = (build_some_features(dataprep1,\n",
    "#                      target_column='value',\n",
    "#                      num_periods_lagged=8, \n",
    "#                      num_periods_diffed=8, \n",
    "#                      weekday=True, \n",
    "#                      month=True, \n",
    "#                      hour=True#,\n",
    "#                      #rolling=[np.mean,np.min,np.max,np.std]\n",
    "#                     )\n",
    "#  .dropna())"
   ]
  },
  {
   "cell_type": "code",
   "execution_count": 12,
   "metadata": {},
   "outputs": [],
   "source": [
    "#creates the target shift\n",
    "def target_shift(df_, target_columnn, shift_period=1):\n",
    "    #returns the same dataframe with the column \"target\" as the input columns but shifted \"shift_period\" times\n",
    "    df_ = df_.copy()\n",
    "    df_['target'] = df_[target_columnn].shift(-shift_period)\n",
    "    df_ = df_.dropna()\n",
    "    return df_\n",
    "\n",
    "\n",
    "def separate_last_day(df_):\n",
    "    \n",
    "    \"\"\"\n",
    "    takes a dataset which has the target and features built \n",
    "    and separates it into the last day\n",
    "    \"\"\"\n",
    "    # take the last period \n",
    "    last_period = df_.iloc[-1]\n",
    "    \n",
    "    # the last period is now a series, so it's name will be the timestamp\n",
    "    training_data = df_.loc[df_.index < last_period.name]\n",
    "\n",
    "    return last_period, training_data\n",
    "\n",
    "\n",
    "def separate_train_and_test_set(last_period_, training_data_, target='target'): \n",
    "    \n",
    "    \"\"\" \n",
    "    separates training and test set (clue was in the name, really... )\n",
    "    Ok, we were lazy and left the target hardcoded as 'target'. Shame on us. \n",
    "    \"\"\"\n",
    "    \n",
    "    # anything that isn't a target is a feature \n",
    "    features = [feature for feature in training_data_.columns if feature != target]\n",
    "    \n",
    "    # adding a sneaky little dropna to avoid the missing data problem above \n",
    "    X_train = training_data_.dropna()[features]\n",
    "    y_train = training_data_.dropna()[target]\n",
    "    \n",
    "    X_last_period = last_period_[features]\n",
    "    \n",
    "    return X_train, y_train, X_last_period\n",
    "\n",
    "\n",
    "\n",
    "def predict_period_n(df_, model,period):\n",
    "\n",
    "    df_ = df_.copy()\n",
    "    \n",
    "    df_ = target_shift(df_,'value',period)\n",
    "\n",
    "    last_period, training_data = separate_last_day(df_)\n",
    "\n",
    "    X_train, y_train, X_last_period = separate_train_and_test_set(last_period, \n",
    "                                                           training_data, \n",
    "                                                           target='target')\n",
    "    model.fit(X_train, y_train)\n",
    "    return model.predict(X_last_period.values.reshape(1, -1))\n",
    "\n",
    "\n",
    "def predict_n_periods(df_, model, n_periods): \n",
    "    predictions = []\n",
    "\n",
    "    for period_ahead in range(1, n_periods+1):\n",
    "        pred = predict_period_n(df_, model, period_ahead)\n",
    "        \n",
    "        predictions.append(pred[0])\n",
    "        \n",
    "    return predictions "
   ]
  },
  {
   "cell_type": "markdown",
   "metadata": {},
   "source": [
    "## Whole Data"
   ]
  },
  {
   "cell_type": "code",
   "execution_count": 13,
   "metadata": {},
   "outputs": [],
   "source": [
    "data1ReadyWhole = machine_processor(data1,data1_last_hour)\n",
    "data2ReadyWhole = machine_processor(data2,data2_last_hour)\n",
    "data3ReadyWhole = machine_processor(data3,data3_last_hour)"
   ]
  },
  {
   "cell_type": "markdown",
   "metadata": {},
   "source": [
    "## Just to create output . Validation next"
   ]
  },
  {
   "cell_type": "code",
   "execution_count": 14,
   "metadata": {},
   "outputs": [],
   "source": [
    "areasPredict = [data1ReadyWhole, data2ReadyWhole, data3ReadyWhole]\n",
    "areasModels = [LinearRegression(),LinearRegression(), LinearRegression()]\n",
    "\n",
    "predictions = pd.DataFrame()\n",
    "for counter,areas in enumerate(areasPredict):\n",
    "    \n",
    "    predictions = predict_n_periods(areas, model = areasModels[counter], n_periods=24*7)\n",
    "    predictions_time =pd.DataFrame(predictions).set_index(\n",
    "        pd.date_range(start=data1_next_hour, periods = 7 * 24, freq='1h')\n",
    "    )\n",
    "    predictions_time.index.name = 'date'\n",
    "    predictions_time.columns=[\"value\"]\n",
    "    \n",
    "    predictions_time.to_csv('linear_model_data_{}.csv'.format(counter + 1))"
   ]
  },
  {
   "cell_type": "code",
   "execution_count": 15,
   "metadata": {},
   "outputs": [
    {
     "ename": "NameError",
     "evalue": "name 'data2ready' is not defined",
     "output_type": "error",
     "traceback": [
      "\u001b[0;31m---------------------------------------------------------------------------\u001b[0m",
      "\u001b[0;31mNameError\u001b[0m                                 Traceback (most recent call last)",
      "\u001b[0;32m<ipython-input-15-443297ad8d33>\u001b[0m in \u001b[0;36m<module>\u001b[0;34m\u001b[0m\n\u001b[0;32m----> 1\u001b[0;31m \u001b[0mpredictions\u001b[0m \u001b[0;34m=\u001b[0m \u001b[0mpredict_n_periods\u001b[0m\u001b[0;34m(\u001b[0m\u001b[0mdata2ready\u001b[0m\u001b[0;34m,\u001b[0m \u001b[0mmodel\u001b[0m \u001b[0;34m=\u001b[0m \u001b[0mLinearRegression\u001b[0m\u001b[0;34m(\u001b[0m\u001b[0;34m)\u001b[0m\u001b[0;34m,\u001b[0m \u001b[0mn_periods\u001b[0m\u001b[0;34m=\u001b[0m\u001b[0;36m24\u001b[0m\u001b[0;34m*\u001b[0m\u001b[0;36m7\u001b[0m\u001b[0;34m)\u001b[0m\u001b[0;34m\u001b[0m\u001b[0;34m\u001b[0m\u001b[0m\n\u001b[0m",
      "\u001b[0;31mNameError\u001b[0m: name 'data2ready' is not defined"
     ]
    }
   ],
   "source": [
    "predictions = predict_n_periods(data2ready, model = LinearRegression(), n_periods=24*7)"
   ]
  },
  {
   "cell_type": "code",
   "execution_count": null,
   "metadata": {},
   "outputs": [],
   "source": [
    "predictions_time =pd.DataFrame(predictions).set_index(\n",
    "pd.date_range(start=data1_next_hour, periods = 7 * 24, freq='1h')\n",
    ")\n",
    "predictions_time.index.name = 'date'\n",
    "predictions_time.columns=[\"value\"]"
   ]
  },
  {
   "cell_type": "code",
   "execution_count": null,
   "metadata": {},
   "outputs": [],
   "source": [
    "data3.reset_index(drop=True).plot()\n",
    "pd.read_csv('linear_model_data_3.csv').reset_index(drop=True).plot()\n",
    "plt.show()"
   ]
  },
  {
   "cell_type": "code",
   "execution_count": null,
   "metadata": {},
   "outputs": [],
   "source": []
  },
  {
   "cell_type": "code",
   "execution_count": 267,
   "metadata": {},
   "outputs": [
    {
     "data": {
      "text/plain": [
       "Timestamp('2005-05-22 23:00:00')"
      ]
     },
     "execution_count": 267,
     "metadata": {},
     "output_type": "execute_result"
    }
   ],
   "source": [
    "data1ReadyWhole.index[-1]"
   ]
  },
  {
   "cell_type": "markdown",
   "metadata": {},
   "source": [
    "## Cross Validation??"
   ]
  },
  {
   "cell_type": "code",
   "execution_count": 11,
   "metadata": {},
   "outputs": [],
   "source": [
    "def predict_machine(df_, model, n_periods= 7 * 24):\n",
    "\n",
    "    predictions = pd.DataFrame()\n",
    "    last_date_dataframe = df_.index[-1]\n",
    "    first_date_prediction = pd.to_datetime(last_date_dataframe) + dt.timedelta(hours=1)\n",
    "    \n",
    "    predictions = predict_n_periods(df_, model, n_periods)\n",
    "    predictions_time =pd.DataFrame(predictions).set_index(\n",
    "        pd.date_range(start=first_date_prediction, periods = n_periods, freq='1h')\n",
    "    )\n",
    "    predictions_time.index.name = 'date'\n",
    "    predictions_time.columns=[\"value\"]\n",
    "    return predictions_time\n",
    "    "
   ]
  },
  {
   "cell_type": "markdown",
   "metadata": {},
   "source": [
    "## Train Test Split"
   ]
  },
  {
   "cell_type": "code",
   "execution_count": 12,
   "metadata": {},
   "outputs": [],
   "source": [
    "data1ReadyTest = data1ReadyWhole.loc[idx[data1_test_hour:]]\n",
    "data2ReadyTest = data2ReadyWhole.loc[idx[data2_test_hour:]]\n",
    "data3ReadyTest = data3ReadyWhole.loc[idx[data3_test_hour:]]\n",
    "\n",
    "data1ReadyTrain = data1ReadyWhole.loc[idx[:data1_train_hour]]\n",
    "data2ReadyTrain = data2ReadyWhole.loc[idx[:data2_train_hour]]\n",
    "data3ReadyTrain = data3ReadyWhole.loc[idx[:data3_train_hour]]"
   ]
  },
  {
   "cell_type": "code",
   "execution_count": 13,
   "metadata": {},
   "outputs": [],
   "source": [
    "loss=['ls', 'lad', 'huber', 'quantile']\n",
    "learning_rate=[0.1, 1]\n",
    "n_estimators=[100]\n",
    "subsample=[1.0]\n",
    "criterion=['friedman_mse']\n",
    "min_samples_split=[2]\n",
    "min_samples_leaf=[1]\n",
    "random_state=[42]\n",
    "max_features=[None]\n",
    "alpha=[0.9]\n",
    "\n",
    "\n",
    "\n",
    "params_combinations = list(itertools.product(loss,\n",
    "                                            learning_rate,\n",
    "                                            n_estimators,\n",
    "                                            subsample,\n",
    "                                            criterion,\n",
    "                                            min_samples_split,\n",
    "                                            min_samples_leaf,\n",
    "                                            random_state,\n",
    "                                            max_features,\n",
    "                                            alpha))\n",
    "inputs = [[x[0], x[1], x[2], x[3], x[4], x[5], x[6], x[7], x[8], x[9]] for x in params_combinations]"
   ]
  },
  {
   "cell_type": "code",
   "execution_count": 20,
   "metadata": {},
   "outputs": [
    {
     "name": "stdout",
     "output_type": "stream",
     "text": [
      "counter = 0\n"
     ]
    },
    {
     "ename": "NameError",
     "evalue": "name 'model_mae' is not defined",
     "output_type": "error",
     "traceback": [
      "\u001b[1;31m---------------------------------------------------------------------------\u001b[0m",
      "\u001b[1;31mNameError\u001b[0m                                 Traceback (most recent call last)",
      "\u001b[1;32m<ipython-input-20-d0f19f7fee75>\u001b[0m in \u001b[0;36m<module>\u001b[1;34m\u001b[0m\n\u001b[0;32m     31\u001b[0m     \u001b[0mpredictions\u001b[0m \u001b[1;33m=\u001b[0m \u001b[0mpredict_machine\u001b[0m\u001b[1;33m(\u001b[0m\u001b[0mdata1ReadyTrain\u001b[0m \u001b[1;33m,\u001b[0m\u001b[0mmodel\u001b[0m \u001b[1;33m=\u001b[0m \u001b[0mmodel\u001b[0m\u001b[1;33m,\u001b[0m\u001b[0mn_periods\u001b[0m \u001b[1;33m=\u001b[0m \u001b[1;36m168\u001b[0m\u001b[1;33m)\u001b[0m\u001b[1;33m\u001b[0m\u001b[1;33m\u001b[0m\u001b[0m\n\u001b[0;32m     32\u001b[0m     \u001b[0mmae_model\u001b[0m \u001b[1;33m=\u001b[0m \u001b[0mmean_absolute_error\u001b[0m\u001b[1;33m(\u001b[0m\u001b[0mdata1ReadyTest\u001b[0m\u001b[1;33m[\u001b[0m\u001b[1;34m'value'\u001b[0m\u001b[1;33m]\u001b[0m\u001b[1;33m,\u001b[0m\u001b[0mpredictions\u001b[0m\u001b[1;33m)\u001b[0m\u001b[1;33m\u001b[0m\u001b[1;33m\u001b[0m\u001b[0m\n\u001b[1;32m---> 33\u001b[1;33m     \u001b[0mmae_scores\u001b[0m\u001b[1;33m[\u001b[0m\u001b[0mi\u001b[0m\u001b[1;33m]\u001b[0m \u001b[1;33m=\u001b[0m \u001b[0mmodel_mae\u001b[0m\u001b[1;33m\u001b[0m\u001b[1;33m\u001b[0m\u001b[0m\n\u001b[0m\u001b[0;32m     34\u001b[0m     \u001b[0mparams_index\u001b[0m\u001b[1;33m[\u001b[0m\u001b[0mi\u001b[0m\u001b[1;33m]\u001b[0m \u001b[1;33m=\u001b[0m \u001b[0minp\u001b[0m\u001b[1;33m\u001b[0m\u001b[1;33m\u001b[0m\u001b[0m\n",
      "\u001b[1;31mNameError\u001b[0m: name 'model_mae' is not defined"
     ]
    }
   ],
   "source": [
    "\n",
    "#GradientBoostingRegressor cross validation\n",
    "\n",
    "mae_scores = {}\n",
    "param_index = {}\n",
    "\n",
    "for counter, inp in enumerate(inputs):\n",
    "    print('counter =', counter)\n",
    "    loss=inp[0]\n",
    "    learning_rate=inp[1]\n",
    "    n_estimators=inp[2]\n",
    "    subsample=inp[3]\n",
    "    criterion=inp[4]\n",
    "    min_samples_split=inp[5]\n",
    "    min_samples_leaf=inp[6]\n",
    "    random_state=inp[7]\n",
    "    max_features=inp[8]\n",
    "    alpha=inp[9]\n",
    "    \n",
    "    model = GradientBoostingRegressor(loss=loss,\n",
    "                                      learning_rate=learning_rate,\n",
    "                                      n_estimators=n_estimators,\n",
    "                                      subsample=subsample,\n",
    "                                      criterion=criterion,\n",
    "                                      min_samples_split=min_samples_split,\n",
    "                                      min_samples_leaf=min_samples_leaf,\n",
    "                                      random_state=random_state,\n",
    "                                      max_features=max_features,\n",
    "                                      alpha=alpha)\n",
    "    \n",
    "    \n",
    "    predictions = predict_machine(data1ReadyTrain ,model = model,n_periods = 168)\n",
    "    mae_model = mean_absolute_error(data1ReadyTest['value'],predictions)\n",
    "    mae_scores[i] = mae_model\n",
    "    params_index[i] = inp"
   ]
  },
  {
   "cell_type": "code",
   "execution_count": 19,
   "metadata": {},
   "outputs": [
    {
     "data": {
      "text/plain": [
       "2.7320819703413033"
      ]
     },
     "execution_count": 19,
     "metadata": {},
     "output_type": "execute_result"
    }
   ],
   "source": [
    "mean_absolute_error(data1ReadyTest['value'],predictions)"
   ]
  },
  {
   "cell_type": "code",
   "execution_count": null,
   "metadata": {},
   "outputs": [],
   "source": [
    "temp = pd.DataFrame(params_index).T\n",
    "#temp.columns = ['p', 'd', 'q', 'P', 'D', 'Q', 'S']\n",
    "temp['mae'] = pd.Series(mae_scores)\n",
    "\n",
    "temp.sort_values('mae')"
   ]
  },
  {
   "cell_type": "markdown",
   "metadata": {},
   "source": [
    "## Gradient Results"
   ]
  },
  {
   "cell_type": "code",
   "execution_count": null,
   "metadata": {},
   "outputs": [],
   "source": [
    "   areasPredict = [data1ReadyWhole, data2ReadyWhole, data3ReadyWhole]\n",
    "areasModels = [GradientBoostingRegressor(random_state=42),GradientBoostingRegressor(random_state=42), GradientBoostingRegressor(random_state=42)]\n",
    "\n",
    "predictions = pd.DataFrame()\n",
    "for counter,areas in enumerate(areasPredict):\n",
    "    \n",
    "    predictions = predict_n_periods(areas, model = areasModels[counter], n_periods=24*7)\n",
    "    predictions_time =pd.DataFrame(predictions).set_index(\n",
    "        pd.date_range(start=data1_next_hour, periods = 7 * 24, freq='1h')\n",
    "    )\n",
    "    predictions_time.index.name = 'date'\n",
    "    predictions_time.columns=[\"value\"]\n",
    "    \n",
    "    predictions_time.to_csv('gradientboosting_model_data_{}.csv'.format(counter + 1))\n",
    "    "
   ]
  },
  {
   "cell_type": "markdown",
   "metadata": {},
   "source": [
    "## SVM Results"
   ]
  },
  {
   "cell_type": "code",
   "execution_count": 24,
   "metadata": {},
   "outputs": [
    {
     "ename": "KeyboardInterrupt",
     "evalue": "",
     "output_type": "error",
     "traceback": [
      "\u001b[1;31m---------------------------------------------------------------------------\u001b[0m",
      "\u001b[1;31mKeyboardInterrupt\u001b[0m                         Traceback (most recent call last)",
      "\u001b[1;32m<ipython-input-24-e32db903ea99>\u001b[0m in \u001b[0;36m<module>\u001b[1;34m\u001b[0m\n\u001b[0;32m     19\u001b[0m \u001b[1;32mfor\u001b[0m \u001b[0mcounter\u001b[0m\u001b[1;33m,\u001b[0m\u001b[0mareas\u001b[0m \u001b[1;32min\u001b[0m \u001b[0menumerate\u001b[0m\u001b[1;33m(\u001b[0m\u001b[0mareasPredict\u001b[0m\u001b[1;33m)\u001b[0m\u001b[1;33m:\u001b[0m\u001b[1;33m\u001b[0m\u001b[1;33m\u001b[0m\u001b[0m\n\u001b[0;32m     20\u001b[0m \u001b[1;33m\u001b[0m\u001b[0m\n\u001b[1;32m---> 21\u001b[1;33m     \u001b[0mpredictions\u001b[0m \u001b[1;33m=\u001b[0m \u001b[0mpredict_n_periods\u001b[0m\u001b[1;33m(\u001b[0m\u001b[0mareas\u001b[0m\u001b[1;33m,\u001b[0m \u001b[0mmodel\u001b[0m \u001b[1;33m=\u001b[0m \u001b[0mareasModels\u001b[0m\u001b[1;33m[\u001b[0m\u001b[0mcounter\u001b[0m\u001b[1;33m]\u001b[0m\u001b[1;33m,\u001b[0m \u001b[0mn_periods\u001b[0m\u001b[1;33m=\u001b[0m\u001b[1;36m24\u001b[0m\u001b[1;33m*\u001b[0m\u001b[1;36m7\u001b[0m\u001b[1;33m)\u001b[0m\u001b[1;33m\u001b[0m\u001b[1;33m\u001b[0m\u001b[0m\n\u001b[0m\u001b[0;32m     22\u001b[0m     predictions_time =pd.DataFrame(predictions).set_index(\n\u001b[0;32m     23\u001b[0m         \u001b[0mpd\u001b[0m\u001b[1;33m.\u001b[0m\u001b[0mdate_range\u001b[0m\u001b[1;33m(\u001b[0m\u001b[0mstart\u001b[0m\u001b[1;33m=\u001b[0m\u001b[0mdata1_next_hour\u001b[0m\u001b[1;33m,\u001b[0m \u001b[0mperiods\u001b[0m \u001b[1;33m=\u001b[0m \u001b[1;36m7\u001b[0m \u001b[1;33m*\u001b[0m \u001b[1;36m24\u001b[0m\u001b[1;33m,\u001b[0m \u001b[0mfreq\u001b[0m\u001b[1;33m=\u001b[0m\u001b[1;34m'1h'\u001b[0m\u001b[1;33m)\u001b[0m\u001b[1;33m\u001b[0m\u001b[1;33m\u001b[0m\u001b[0m\n",
      "\u001b[1;32m<ipython-input-8-a3422693ee07>\u001b[0m in \u001b[0;36mpredict_n_periods\u001b[1;34m(df_, model, n_periods)\u001b[0m\n\u001b[0;32m     62\u001b[0m \u001b[1;33m\u001b[0m\u001b[0m\n\u001b[0;32m     63\u001b[0m     \u001b[1;32mfor\u001b[0m \u001b[0mperiod_ahead\u001b[0m \u001b[1;32min\u001b[0m \u001b[0mrange\u001b[0m\u001b[1;33m(\u001b[0m\u001b[1;36m1\u001b[0m\u001b[1;33m,\u001b[0m \u001b[0mn_periods\u001b[0m\u001b[1;33m+\u001b[0m\u001b[1;36m1\u001b[0m\u001b[1;33m)\u001b[0m\u001b[1;33m:\u001b[0m\u001b[1;33m\u001b[0m\u001b[1;33m\u001b[0m\u001b[0m\n\u001b[1;32m---> 64\u001b[1;33m         \u001b[0mpred\u001b[0m \u001b[1;33m=\u001b[0m \u001b[0mpredict_period_n\u001b[0m\u001b[1;33m(\u001b[0m\u001b[0mdf_\u001b[0m\u001b[1;33m,\u001b[0m \u001b[0mmodel\u001b[0m\u001b[1;33m,\u001b[0m \u001b[0mperiod_ahead\u001b[0m\u001b[1;33m)\u001b[0m\u001b[1;33m\u001b[0m\u001b[1;33m\u001b[0m\u001b[0m\n\u001b[0m\u001b[0;32m     65\u001b[0m \u001b[1;33m\u001b[0m\u001b[0m\n\u001b[0;32m     66\u001b[0m         \u001b[0mpredictions\u001b[0m\u001b[1;33m.\u001b[0m\u001b[0mappend\u001b[0m\u001b[1;33m(\u001b[0m\u001b[0mpred\u001b[0m\u001b[1;33m[\u001b[0m\u001b[1;36m0\u001b[0m\u001b[1;33m]\u001b[0m\u001b[1;33m)\u001b[0m\u001b[1;33m\u001b[0m\u001b[1;33m\u001b[0m\u001b[0m\n",
      "\u001b[1;32m<ipython-input-8-a3422693ee07>\u001b[0m in \u001b[0;36mpredict_period_n\u001b[1;34m(df_, model, period)\u001b[0m\n\u001b[0;32m     54\u001b[0m                                                            \u001b[0mtraining_data\u001b[0m\u001b[1;33m,\u001b[0m\u001b[1;33m\u001b[0m\u001b[1;33m\u001b[0m\u001b[0m\n\u001b[0;32m     55\u001b[0m                                                            target='target')\n\u001b[1;32m---> 56\u001b[1;33m     \u001b[0mmodel\u001b[0m\u001b[1;33m.\u001b[0m\u001b[0mfit\u001b[0m\u001b[1;33m(\u001b[0m\u001b[0mX_train\u001b[0m\u001b[1;33m,\u001b[0m \u001b[0my_train\u001b[0m\u001b[1;33m)\u001b[0m\u001b[1;33m\u001b[0m\u001b[1;33m\u001b[0m\u001b[0m\n\u001b[0m\u001b[0;32m     57\u001b[0m     \u001b[1;32mreturn\u001b[0m \u001b[0mmodel\u001b[0m\u001b[1;33m.\u001b[0m\u001b[0mpredict\u001b[0m\u001b[1;33m(\u001b[0m\u001b[0mX_last_period\u001b[0m\u001b[1;33m.\u001b[0m\u001b[0mvalues\u001b[0m\u001b[1;33m.\u001b[0m\u001b[0mreshape\u001b[0m\u001b[1;33m(\u001b[0m\u001b[1;36m1\u001b[0m\u001b[1;33m,\u001b[0m \u001b[1;33m-\u001b[0m\u001b[1;36m1\u001b[0m\u001b[1;33m)\u001b[0m\u001b[1;33m)\u001b[0m\u001b[1;33m\u001b[0m\u001b[1;33m\u001b[0m\u001b[0m\n\u001b[0;32m     58\u001b[0m \u001b[1;33m\u001b[0m\u001b[0m\n",
      "\u001b[1;32md:\\programdata\\anaconda3\\envs\\HCK03\\lib\\site-packages\\sklearn\\svm\\base.py\u001b[0m in \u001b[0;36mfit\u001b[1;34m(self, X, y, sample_weight)\u001b[0m\n\u001b[0;32m    207\u001b[0m \u001b[1;33m\u001b[0m\u001b[0m\n\u001b[0;32m    208\u001b[0m         \u001b[0mseed\u001b[0m \u001b[1;33m=\u001b[0m \u001b[0mrnd\u001b[0m\u001b[1;33m.\u001b[0m\u001b[0mrandint\u001b[0m\u001b[1;33m(\u001b[0m\u001b[0mnp\u001b[0m\u001b[1;33m.\u001b[0m\u001b[0miinfo\u001b[0m\u001b[1;33m(\u001b[0m\u001b[1;34m'i'\u001b[0m\u001b[1;33m)\u001b[0m\u001b[1;33m.\u001b[0m\u001b[0mmax\u001b[0m\u001b[1;33m)\u001b[0m\u001b[1;33m\u001b[0m\u001b[1;33m\u001b[0m\u001b[0m\n\u001b[1;32m--> 209\u001b[1;33m         \u001b[0mfit\u001b[0m\u001b[1;33m(\u001b[0m\u001b[0mX\u001b[0m\u001b[1;33m,\u001b[0m \u001b[0my\u001b[0m\u001b[1;33m,\u001b[0m \u001b[0msample_weight\u001b[0m\u001b[1;33m,\u001b[0m \u001b[0msolver_type\u001b[0m\u001b[1;33m,\u001b[0m \u001b[0mkernel\u001b[0m\u001b[1;33m,\u001b[0m \u001b[0mrandom_seed\u001b[0m\u001b[1;33m=\u001b[0m\u001b[0mseed\u001b[0m\u001b[1;33m)\u001b[0m\u001b[1;33m\u001b[0m\u001b[1;33m\u001b[0m\u001b[0m\n\u001b[0m\u001b[0;32m    210\u001b[0m         \u001b[1;31m# see comment on the other call to np.iinfo in this file\u001b[0m\u001b[1;33m\u001b[0m\u001b[1;33m\u001b[0m\u001b[1;33m\u001b[0m\u001b[0m\n\u001b[0;32m    211\u001b[0m \u001b[1;33m\u001b[0m\u001b[0m\n",
      "\u001b[1;32md:\\programdata\\anaconda3\\envs\\HCK03\\lib\\site-packages\\sklearn\\svm\\base.py\u001b[0m in \u001b[0;36m_dense_fit\u001b[1;34m(self, X, y, sample_weight, solver_type, kernel, random_seed)\u001b[0m\n\u001b[0;32m    266\u001b[0m                 \u001b[0mcache_size\u001b[0m\u001b[1;33m=\u001b[0m\u001b[0mself\u001b[0m\u001b[1;33m.\u001b[0m\u001b[0mcache_size\u001b[0m\u001b[1;33m,\u001b[0m \u001b[0mcoef0\u001b[0m\u001b[1;33m=\u001b[0m\u001b[0mself\u001b[0m\u001b[1;33m.\u001b[0m\u001b[0mcoef0\u001b[0m\u001b[1;33m,\u001b[0m\u001b[1;33m\u001b[0m\u001b[1;33m\u001b[0m\u001b[0m\n\u001b[0;32m    267\u001b[0m                 \u001b[0mgamma\u001b[0m\u001b[1;33m=\u001b[0m\u001b[0mself\u001b[0m\u001b[1;33m.\u001b[0m\u001b[0m_gamma\u001b[0m\u001b[1;33m,\u001b[0m \u001b[0mepsilon\u001b[0m\u001b[1;33m=\u001b[0m\u001b[0mself\u001b[0m\u001b[1;33m.\u001b[0m\u001b[0mepsilon\u001b[0m\u001b[1;33m,\u001b[0m\u001b[1;33m\u001b[0m\u001b[1;33m\u001b[0m\u001b[0m\n\u001b[1;32m--> 268\u001b[1;33m                 max_iter=self.max_iter, random_seed=random_seed)\n\u001b[0m\u001b[0;32m    269\u001b[0m \u001b[1;33m\u001b[0m\u001b[0m\n\u001b[0;32m    270\u001b[0m         \u001b[0mself\u001b[0m\u001b[1;33m.\u001b[0m\u001b[0m_warn_from_fit_status\u001b[0m\u001b[1;33m(\u001b[0m\u001b[1;33m)\u001b[0m\u001b[1;33m\u001b[0m\u001b[1;33m\u001b[0m\u001b[0m\n",
      "\u001b[1;31mKeyboardInterrupt\u001b[0m: "
     ]
    }
   ],
   "source": [
    "model_SVM=svm.SVR(kernel='rbf',\n",
    "        degree=3,\n",
    "        gamma='auto_deprecated',\n",
    "        coef0=0.0,\n",
    "        tol=0.001,\n",
    "        C=1.0,\n",
    "        epsilon=0.1,\n",
    "        shrinking=True,\n",
    "        cache_size=200,\n",
    "        verbose=False,\n",
    "        max_iter=-1)\n",
    "\n",
    "areasPredict = [data1ReadyWhole, data2ReadyWhole, data3ReadyWhole]\n",
    "areasModels = [model_SVM, model_SVM, model_SVM]\n",
    "\n",
    "\n",
    "\n",
    "predictions = pd.DataFrame()\n",
    "for counter,areas in enumerate(areasPredict):\n",
    "    \n",
    "    predictions = predict_n_periods(areas, model = areasModels[counter], n_periods=24*7)\n",
    "    predictions_time =pd.DataFrame(predictions).set_index(\n",
    "        pd.date_range(start=data1_next_hour, periods = 7 * 24, freq='1h')\n",
    "    )\n",
    "    predictions_time.index.name = 'date'\n",
    "    predictions_time.columns=[\"value\"]\n",
    "    \n",
    "    predictions_time.to_csv('SVM_model_data_{}.csv'.format(counter + 1))"
   ]
  },
  {
   "cell_type": "code",
   "execution_count": 29,
   "metadata": {},
   "outputs": [],
   "source": [
    "#creating gradient output result\n",
    "dataread1 = pd.read_csv('gradientboosting_model_data_1.csv')\n",
    "dataread1['date'] = pd.to_datetime(dataread1['date'])\n",
    "dataread1 = dataread1.set_index(['date'])\n",
    "dataread1 = dataread1.sort_index()"
   ]
  },
  {
   "cell_type": "code",
   "execution_count": 30,
   "metadata": {},
   "outputs": [],
   "source": [
    "dataread2 = pd.read_csv('gradientboosting_model_data_2.csv')\n",
    "dataread2['date'] = pd.to_datetime(dataread2['date'])\n",
    "dataread2 = dataread2.set_index(['date'])\n",
    "dataread2 = dataread2.sort_index()"
   ]
  },
  {
   "cell_type": "code",
   "execution_count": 31,
   "metadata": {},
   "outputs": [],
   "source": [
    "dataread3 = pd.read_csv('gradientboosting_model_data_3.csv')\n",
    "dataread3['date'] = pd.to_datetime(dataread3['date'])\n",
    "dataread3 = dataread3.set_index(['date'])\n",
    "dataread3 = dataread3.sort_index()"
   ]
  },
  {
   "cell_type": "code",
   "execution_count": 34,
   "metadata": {},
   "outputs": [
    {
     "data": {
      "text/html": [
       "<div>\n",
       "<style scoped>\n",
       "    .dataframe tbody tr th:only-of-type {\n",
       "        vertical-align: middle;\n",
       "    }\n",
       "\n",
       "    .dataframe tbody tr th {\n",
       "        vertical-align: top;\n",
       "    }\n",
       "\n",
       "    .dataframe thead th {\n",
       "        text-align: right;\n",
       "    }\n",
       "</style>\n",
       "<table border=\"1\" class=\"dataframe\">\n",
       "  <thead>\n",
       "    <tr style=\"text-align: right;\">\n",
       "      <th></th>\n",
       "      <th>value</th>\n",
       "    </tr>\n",
       "    <tr>\n",
       "      <th>date</th>\n",
       "      <th></th>\n",
       "    </tr>\n",
       "  </thead>\n",
       "  <tbody>\n",
       "    <tr>\n",
       "      <th>2005-05-23 00:00:00</th>\n",
       "      <td>13.443584</td>\n",
       "    </tr>\n",
       "    <tr>\n",
       "      <th>2005-05-23 01:00:00</th>\n",
       "      <td>14.103060</td>\n",
       "    </tr>\n",
       "    <tr>\n",
       "      <th>2005-05-23 02:00:00</th>\n",
       "      <td>15.249488</td>\n",
       "    </tr>\n",
       "    <tr>\n",
       "      <th>2005-05-23 03:00:00</th>\n",
       "      <td>14.349435</td>\n",
       "    </tr>\n",
       "    <tr>\n",
       "      <th>2005-05-23 04:00:00</th>\n",
       "      <td>12.551493</td>\n",
       "    </tr>\n",
       "    <tr>\n",
       "      <th>2005-05-23 05:00:00</th>\n",
       "      <td>12.052554</td>\n",
       "    </tr>\n",
       "    <tr>\n",
       "      <th>2005-05-23 06:00:00</th>\n",
       "      <td>12.076208</td>\n",
       "    </tr>\n",
       "    <tr>\n",
       "      <th>2005-05-23 07:00:00</th>\n",
       "      <td>12.496120</td>\n",
       "    </tr>\n",
       "    <tr>\n",
       "      <th>2005-05-23 08:00:00</th>\n",
       "      <td>13.675471</td>\n",
       "    </tr>\n",
       "    <tr>\n",
       "      <th>2005-05-23 09:00:00</th>\n",
       "      <td>13.557470</td>\n",
       "    </tr>\n",
       "    <tr>\n",
       "      <th>2005-05-23 10:00:00</th>\n",
       "      <td>13.049224</td>\n",
       "    </tr>\n",
       "    <tr>\n",
       "      <th>2005-05-23 11:00:00</th>\n",
       "      <td>12.086627</td>\n",
       "    </tr>\n",
       "    <tr>\n",
       "      <th>2005-05-23 12:00:00</th>\n",
       "      <td>13.001113</td>\n",
       "    </tr>\n",
       "    <tr>\n",
       "      <th>2005-05-23 13:00:00</th>\n",
       "      <td>13.173973</td>\n",
       "    </tr>\n",
       "    <tr>\n",
       "      <th>2005-05-23 14:00:00</th>\n",
       "      <td>12.603365</td>\n",
       "    </tr>\n",
       "    <tr>\n",
       "      <th>2005-05-23 15:00:00</th>\n",
       "      <td>12.000316</td>\n",
       "    </tr>\n",
       "    <tr>\n",
       "      <th>2005-05-23 16:00:00</th>\n",
       "      <td>12.270473</td>\n",
       "    </tr>\n",
       "    <tr>\n",
       "      <th>2005-05-23 17:00:00</th>\n",
       "      <td>12.443300</td>\n",
       "    </tr>\n",
       "    <tr>\n",
       "      <th>2005-05-23 18:00:00</th>\n",
       "      <td>12.408080</td>\n",
       "    </tr>\n",
       "    <tr>\n",
       "      <th>2005-05-23 19:00:00</th>\n",
       "      <td>12.450300</td>\n",
       "    </tr>\n",
       "    <tr>\n",
       "      <th>2005-05-23 20:00:00</th>\n",
       "      <td>12.399751</td>\n",
       "    </tr>\n",
       "    <tr>\n",
       "      <th>2005-05-23 21:00:00</th>\n",
       "      <td>12.297735</td>\n",
       "    </tr>\n",
       "    <tr>\n",
       "      <th>2005-05-23 22:00:00</th>\n",
       "      <td>12.439874</td>\n",
       "    </tr>\n",
       "    <tr>\n",
       "      <th>2005-05-23 23:00:00</th>\n",
       "      <td>12.180487</td>\n",
       "    </tr>\n",
       "    <tr>\n",
       "      <th>2005-05-24 00:00:00</th>\n",
       "      <td>13.939051</td>\n",
       "    </tr>\n",
       "    <tr>\n",
       "      <th>2005-05-24 01:00:00</th>\n",
       "      <td>15.710936</td>\n",
       "    </tr>\n",
       "    <tr>\n",
       "      <th>2005-05-24 02:00:00</th>\n",
       "      <td>15.906194</td>\n",
       "    </tr>\n",
       "    <tr>\n",
       "      <th>2005-05-24 03:00:00</th>\n",
       "      <td>14.055807</td>\n",
       "    </tr>\n",
       "    <tr>\n",
       "      <th>2005-05-24 04:00:00</th>\n",
       "      <td>13.203526</td>\n",
       "    </tr>\n",
       "    <tr>\n",
       "      <th>2005-05-24 05:00:00</th>\n",
       "      <td>13.375512</td>\n",
       "    </tr>\n",
       "    <tr>\n",
       "      <th>...</th>\n",
       "      <td>...</td>\n",
       "    </tr>\n",
       "    <tr>\n",
       "      <th>2005-12-21 18:00:00</th>\n",
       "      <td>102.363995</td>\n",
       "    </tr>\n",
       "    <tr>\n",
       "      <th>2005-12-21 19:00:00</th>\n",
       "      <td>102.019596</td>\n",
       "    </tr>\n",
       "    <tr>\n",
       "      <th>2005-12-21 20:00:00</th>\n",
       "      <td>103.782375</td>\n",
       "    </tr>\n",
       "    <tr>\n",
       "      <th>2005-12-21 21:00:00</th>\n",
       "      <td>101.124613</td>\n",
       "    </tr>\n",
       "    <tr>\n",
       "      <th>2005-12-21 22:00:00</th>\n",
       "      <td>103.651455</td>\n",
       "    </tr>\n",
       "    <tr>\n",
       "      <th>2005-12-21 23:00:00</th>\n",
       "      <td>103.823290</td>\n",
       "    </tr>\n",
       "    <tr>\n",
       "      <th>2005-12-22 00:00:00</th>\n",
       "      <td>105.311316</td>\n",
       "    </tr>\n",
       "    <tr>\n",
       "      <th>2005-12-22 01:00:00</th>\n",
       "      <td>102.685458</td>\n",
       "    </tr>\n",
       "    <tr>\n",
       "      <th>2005-12-22 02:00:00</th>\n",
       "      <td>100.260027</td>\n",
       "    </tr>\n",
       "    <tr>\n",
       "      <th>2005-12-22 03:00:00</th>\n",
       "      <td>97.269054</td>\n",
       "    </tr>\n",
       "    <tr>\n",
       "      <th>2005-12-22 04:00:00</th>\n",
       "      <td>90.087694</td>\n",
       "    </tr>\n",
       "    <tr>\n",
       "      <th>2005-12-22 05:00:00</th>\n",
       "      <td>87.732388</td>\n",
       "    </tr>\n",
       "    <tr>\n",
       "      <th>2005-12-22 06:00:00</th>\n",
       "      <td>86.210985</td>\n",
       "    </tr>\n",
       "    <tr>\n",
       "      <th>2005-12-22 07:00:00</th>\n",
       "      <td>90.944671</td>\n",
       "    </tr>\n",
       "    <tr>\n",
       "      <th>2005-12-22 08:00:00</th>\n",
       "      <td>90.226877</td>\n",
       "    </tr>\n",
       "    <tr>\n",
       "      <th>2005-12-22 09:00:00</th>\n",
       "      <td>94.032530</td>\n",
       "    </tr>\n",
       "    <tr>\n",
       "      <th>2005-12-22 10:00:00</th>\n",
       "      <td>93.949212</td>\n",
       "    </tr>\n",
       "    <tr>\n",
       "      <th>2005-12-22 11:00:00</th>\n",
       "      <td>96.774154</td>\n",
       "    </tr>\n",
       "    <tr>\n",
       "      <th>2005-12-22 12:00:00</th>\n",
       "      <td>99.603910</td>\n",
       "    </tr>\n",
       "    <tr>\n",
       "      <th>2005-12-22 13:00:00</th>\n",
       "      <td>101.061590</td>\n",
       "    </tr>\n",
       "    <tr>\n",
       "      <th>2005-12-22 14:00:00</th>\n",
       "      <td>102.216708</td>\n",
       "    </tr>\n",
       "    <tr>\n",
       "      <th>2005-12-22 15:00:00</th>\n",
       "      <td>101.149368</td>\n",
       "    </tr>\n",
       "    <tr>\n",
       "      <th>2005-12-22 16:00:00</th>\n",
       "      <td>99.875062</td>\n",
       "    </tr>\n",
       "    <tr>\n",
       "      <th>2005-12-22 17:00:00</th>\n",
       "      <td>100.659332</td>\n",
       "    </tr>\n",
       "    <tr>\n",
       "      <th>2005-12-22 18:00:00</th>\n",
       "      <td>100.677962</td>\n",
       "    </tr>\n",
       "    <tr>\n",
       "      <th>2005-12-22 19:00:00</th>\n",
       "      <td>99.761213</td>\n",
       "    </tr>\n",
       "    <tr>\n",
       "      <th>2005-12-22 20:00:00</th>\n",
       "      <td>99.651543</td>\n",
       "    </tr>\n",
       "    <tr>\n",
       "      <th>2005-12-22 21:00:00</th>\n",
       "      <td>100.757729</td>\n",
       "    </tr>\n",
       "    <tr>\n",
       "      <th>2005-12-22 22:00:00</th>\n",
       "      <td>99.236229</td>\n",
       "    </tr>\n",
       "    <tr>\n",
       "      <th>2005-12-22 23:00:00</th>\n",
       "      <td>99.296544</td>\n",
       "    </tr>\n",
       "  </tbody>\n",
       "</table>\n",
       "<p>504 rows × 1 columns</p>\n",
       "</div>"
      ],
      "text/plain": [
       "                          value\n",
       "date                           \n",
       "2005-05-23 00:00:00   13.443584\n",
       "2005-05-23 01:00:00   14.103060\n",
       "2005-05-23 02:00:00   15.249488\n",
       "2005-05-23 03:00:00   14.349435\n",
       "2005-05-23 04:00:00   12.551493\n",
       "2005-05-23 05:00:00   12.052554\n",
       "2005-05-23 06:00:00   12.076208\n",
       "2005-05-23 07:00:00   12.496120\n",
       "2005-05-23 08:00:00   13.675471\n",
       "2005-05-23 09:00:00   13.557470\n",
       "2005-05-23 10:00:00   13.049224\n",
       "2005-05-23 11:00:00   12.086627\n",
       "2005-05-23 12:00:00   13.001113\n",
       "2005-05-23 13:00:00   13.173973\n",
       "2005-05-23 14:00:00   12.603365\n",
       "2005-05-23 15:00:00   12.000316\n",
       "2005-05-23 16:00:00   12.270473\n",
       "2005-05-23 17:00:00   12.443300\n",
       "2005-05-23 18:00:00   12.408080\n",
       "2005-05-23 19:00:00   12.450300\n",
       "2005-05-23 20:00:00   12.399751\n",
       "2005-05-23 21:00:00   12.297735\n",
       "2005-05-23 22:00:00   12.439874\n",
       "2005-05-23 23:00:00   12.180487\n",
       "2005-05-24 00:00:00   13.939051\n",
       "2005-05-24 01:00:00   15.710936\n",
       "2005-05-24 02:00:00   15.906194\n",
       "2005-05-24 03:00:00   14.055807\n",
       "2005-05-24 04:00:00   13.203526\n",
       "2005-05-24 05:00:00   13.375512\n",
       "...                         ...\n",
       "2005-12-21 18:00:00  102.363995\n",
       "2005-12-21 19:00:00  102.019596\n",
       "2005-12-21 20:00:00  103.782375\n",
       "2005-12-21 21:00:00  101.124613\n",
       "2005-12-21 22:00:00  103.651455\n",
       "2005-12-21 23:00:00  103.823290\n",
       "2005-12-22 00:00:00  105.311316\n",
       "2005-12-22 01:00:00  102.685458\n",
       "2005-12-22 02:00:00  100.260027\n",
       "2005-12-22 03:00:00   97.269054\n",
       "2005-12-22 04:00:00   90.087694\n",
       "2005-12-22 05:00:00   87.732388\n",
       "2005-12-22 06:00:00   86.210985\n",
       "2005-12-22 07:00:00   90.944671\n",
       "2005-12-22 08:00:00   90.226877\n",
       "2005-12-22 09:00:00   94.032530\n",
       "2005-12-22 10:00:00   93.949212\n",
       "2005-12-22 11:00:00   96.774154\n",
       "2005-12-22 12:00:00   99.603910\n",
       "2005-12-22 13:00:00  101.061590\n",
       "2005-12-22 14:00:00  102.216708\n",
       "2005-12-22 15:00:00  101.149368\n",
       "2005-12-22 16:00:00   99.875062\n",
       "2005-12-22 17:00:00  100.659332\n",
       "2005-12-22 18:00:00  100.677962\n",
       "2005-12-22 19:00:00   99.761213\n",
       "2005-12-22 20:00:00   99.651543\n",
       "2005-12-22 21:00:00  100.757729\n",
       "2005-12-22 22:00:00   99.236229\n",
       "2005-12-22 23:00:00   99.296544\n",
       "\n",
       "[504 rows x 1 columns]"
      ]
     },
     "execution_count": 34,
     "metadata": {},
     "output_type": "execute_result"
    }
   ],
   "source": [
    "def generate_submission_file(predictions_area_1, predictions_area_2, predicitons_area_3):\n",
    "    test_1 = pd.DataFrame(predictions_area_1,index=pd.date_range(start='23/05/2005', end='30/05/2005', freq='h')[:-1])\n",
    "    test_2 = pd.DataFrame(predictions_area_2,index=pd.date_range(start='2005-10-07', end='2005-10-14', freq='h')[:-1])\n",
    "    test_3 = pd.DataFrame(predicitons_area_3,index=pd.date_range(start='2005-12-16', end='2005-12-23', freq='h')[:-1])\n",
    "    test = pd.concat([test_1,test_2,test_3], axis=1)\n",
    "    test.columns = ['area_1','area_2','area_3']\n",
    "    test.index.name = 'date'\n",
    "    test = test.reset_index().melt(id_vars='date',value_vars=['area_1','area_2','area_3']).set_index('date')\n",
    "    test = test.dropna()\n",
    "    test = test.drop('variable',axis=1)\n",
    "    test.to_csv('submission.csv')\n",
    "    return test\n",
    "\n",
    "\n",
    "generate_submission_file(dataread1.values,dataread2.values,dataread3.values)"
   ]
  }
 ],
 "metadata": {
  "kernelspec": {
   "display_name": "Python 3",
   "language": "python",
   "name": "python3"
  },
  "language_info": {
   "codemirror_mode": {
    "name": "ipython",
    "version": 3
   },
   "file_extension": ".py",
   "mimetype": "text/x-python",
   "name": "python",
   "nbconvert_exporter": "python",
   "pygments_lexer": "ipython3",
   "version": "3.7.3"
  }
 },
 "nbformat": 4,
 "nbformat_minor": 2
}
