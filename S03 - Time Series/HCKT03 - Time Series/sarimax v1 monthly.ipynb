{
 "cells": [
  {
   "cell_type": "code",
   "execution_count": 90,
   "metadata": {},
   "outputs": [],
   "source": [
    "import pandas as pd\n",
    "import matplotlib.pyplot as plt\n",
    "import warnings\n",
    "idx = pd.IndexSlice\n",
    "warnings.simplefilter(action='ignore', category=FutureWarning)   \n",
    "from random import seed\n",
    "from sklearn.metrics import mean_absolute_error\n",
    "import statsmodels.api as sm\n",
    "from statsmodels.tsa.stattools import adfuller\n",
    "from statsmodels.tsa.statespace.sarimax import SARIMAX\n",
    "from sklearn.linear_model import LinearRegression\n",
    "import numpy as np\n",
    "from sklearn.metrics import mean_squared_error\n",
    "import math\n",
    "from sklearn.ensemble import GradientBoostingRegressor\n",
    "import itertools\n",
    "from statsmodels.tsa.seasonal import seasonal_decompose\n",
    "from statsmodels.graphics.tsaplots import plot_acf, plot_pacf\n",
    "from statsmodels.tsa import stattools\n",
    "import hashlib # for grading purposes\n",
    "from sklearn.model_selection import ParameterGrid\n",
    "\n",
    "from pandas.plotting import lag_plot\n",
    "from statsmodels.tsa.arima_model import ARIMA\n",
    "plt.rcParams['figure.figsize'] = (12, 4)\n",
    "\n",
    "from utils import *\n",
    "\n",
    "%matplotlib inline"
   ]
  },
  {
   "cell_type": "code",
   "execution_count": null,
   "metadata": {},
   "outputs": [],
   "source": []
  },
  {
   "cell_type": "code",
   "execution_count": 91,
   "metadata": {
    "scrolled": true
   },
   "outputs": [
    {
     "data": {
      "text/html": [
       "<div>\n",
       "<style scoped>\n",
       "    .dataframe tbody tr th:only-of-type {\n",
       "        vertical-align: middle;\n",
       "    }\n",
       "\n",
       "    .dataframe tbody tr th {\n",
       "        vertical-align: top;\n",
       "    }\n",
       "\n",
       "    .dataframe thead th {\n",
       "        text-align: right;\n",
       "    }\n",
       "</style>\n",
       "<table border=\"1\" class=\"dataframe\">\n",
       "  <thead>\n",
       "    <tr style=\"text-align: right;\">\n",
       "      <th></th>\n",
       "      <th>date</th>\n",
       "      <th>variable</th>\n",
       "      <th>value</th>\n",
       "    </tr>\n",
       "  </thead>\n",
       "  <tbody>\n",
       "    <tr>\n",
       "      <th>6949</th>\n",
       "      <td>2004-10-16 13:00:00</td>\n",
       "      <td>area_1</td>\n",
       "      <td>14.635</td>\n",
       "    </tr>\n",
       "    <tr>\n",
       "      <th>45026</th>\n",
       "      <td>2005-03-22 02:00:00</td>\n",
       "      <td>area_3</td>\n",
       "      <td>85.425</td>\n",
       "    </tr>\n",
       "    <tr>\n",
       "      <th>35279</th>\n",
       "      <td>2004-02-09 23:00:00</td>\n",
       "      <td>area_3</td>\n",
       "      <td>92.357</td>\n",
       "    </tr>\n",
       "    <tr>\n",
       "      <th>37334</th>\n",
       "      <td>2004-05-05 14:00:00</td>\n",
       "      <td>area_3</td>\n",
       "      <td>72.814</td>\n",
       "    </tr>\n",
       "    <tr>\n",
       "      <th>19086</th>\n",
       "      <td>2004-03-21 06:00:00</td>\n",
       "      <td>area_2</td>\n",
       "      <td>117.010</td>\n",
       "    </tr>\n",
       "  </tbody>\n",
       "</table>\n",
       "</div>"
      ],
      "text/plain": [
       "                      date variable    value\n",
       "6949   2004-10-16 13:00:00   area_1   14.635\n",
       "45026  2005-03-22 02:00:00   area_3   85.425\n",
       "35279  2004-02-09 23:00:00   area_3   92.357\n",
       "37334  2004-05-05 14:00:00   area_3   72.814\n",
       "19086  2004-03-21 06:00:00   area_2  117.010"
      ]
     },
     "execution_count": 91,
     "metadata": {},
     "output_type": "execute_result"
    }
   ],
   "source": [
    "data = pd.read_csv('data/data.csv')\n",
    "data.sample(5)"
   ]
  },
  {
   "cell_type": "code",
   "execution_count": 92,
   "metadata": {},
   "outputs": [],
   "source": [
    "data['date']=pd.to_datetime(data['date'])"
   ]
  },
  {
   "cell_type": "code",
   "execution_count": 93,
   "metadata": {},
   "outputs": [],
   "source": [
    "data = data.set_index(['date','variable'])\n"
   ]
  },
  {
   "cell_type": "code",
   "execution_count": 94,
   "metadata": {},
   "outputs": [],
   "source": [
    "data = data.sort_index()"
   ]
  },
  {
   "cell_type": "code",
   "execution_count": 117,
   "metadata": {},
   "outputs": [],
   "source": [
    "area1 = data.loc[idx[:,'area_1'],:].reset_index(level='variable',drop=True)\n",
    "area1 = area1.loc[:area1[area1.value.isnull() == False].iloc[-1].name]\n",
    "area1.value = area1.value.interpolate()\n",
    "\n",
    "area2 = data.loc[idx[:,'area_2'],:].reset_index(level='variable',drop=True)\n",
    "area2 = area2.loc[:area2[area2.value.isnull() == False].iloc[-1].name]\n",
    "area2.value = area2.value.interpolate()\n",
    "\n",
    "area3 = data.loc[idx[:,'area_3'],:].reset_index(level='variable',drop=True)\n",
    "area3 = area3.loc[:area3[area3.value.isnull() == False].iloc[-1].name]\n",
    "area3.value = area3.value.interpolate()\n",
    "\n",
    "# area1.head(5)"
   ]
  },
  {
   "cell_type": "code",
   "execution_count": 118,
   "metadata": {
    "scrolled": true
   },
   "outputs": [
    {
     "data": {
      "text/html": [
       "<div>\n",
       "<style scoped>\n",
       "    .dataframe tbody tr th:only-of-type {\n",
       "        vertical-align: middle;\n",
       "    }\n",
       "\n",
       "    .dataframe tbody tr th {\n",
       "        vertical-align: top;\n",
       "    }\n",
       "\n",
       "    .dataframe thead th {\n",
       "        text-align: right;\n",
       "    }\n",
       "</style>\n",
       "<table border=\"1\" class=\"dataframe\">\n",
       "  <thead>\n",
       "    <tr style=\"text-align: right;\">\n",
       "      <th></th>\n",
       "      <th>value</th>\n",
       "    </tr>\n",
       "    <tr>\n",
       "      <th>date</th>\n",
       "      <th></th>\n",
       "    </tr>\n",
       "  </thead>\n",
       "  <tbody>\n",
       "    <tr>\n",
       "      <th>2004-01-01 00:00:00</th>\n",
       "      <td>16.853</td>\n",
       "    </tr>\n",
       "    <tr>\n",
       "      <th>2004-01-01 01:00:00</th>\n",
       "      <td>16.450</td>\n",
       "    </tr>\n",
       "    <tr>\n",
       "      <th>2004-01-01 02:00:00</th>\n",
       "      <td>16.517</td>\n",
       "    </tr>\n",
       "    <tr>\n",
       "      <th>2004-01-01 03:00:00</th>\n",
       "      <td>16.873</td>\n",
       "    </tr>\n",
       "    <tr>\n",
       "      <th>2004-01-01 04:00:00</th>\n",
       "      <td>17.064</td>\n",
       "    </tr>\n",
       "    <tr>\n",
       "      <th>2004-01-01 05:00:00</th>\n",
       "      <td>17.727</td>\n",
       "    </tr>\n",
       "    <tr>\n",
       "      <th>2004-01-01 06:00:00</th>\n",
       "      <td>18.574</td>\n",
       "    </tr>\n",
       "    <tr>\n",
       "      <th>2004-01-01 07:00:00</th>\n",
       "      <td>19.355</td>\n",
       "    </tr>\n",
       "    <tr>\n",
       "      <th>2004-01-01 08:00:00</th>\n",
       "      <td>19.534</td>\n",
       "    </tr>\n",
       "    <tr>\n",
       "      <th>2004-01-01 09:00:00</th>\n",
       "      <td>18.611</td>\n",
       "    </tr>\n",
       "    <tr>\n",
       "      <th>2004-01-01 10:00:00</th>\n",
       "      <td>17.666</td>\n",
       "    </tr>\n",
       "    <tr>\n",
       "      <th>2004-01-01 11:00:00</th>\n",
       "      <td>16.374</td>\n",
       "    </tr>\n",
       "    <tr>\n",
       "      <th>2004-01-01 12:00:00</th>\n",
       "      <td>15.106</td>\n",
       "    </tr>\n",
       "    <tr>\n",
       "      <th>2004-01-01 13:00:00</th>\n",
       "      <td>14.455</td>\n",
       "    </tr>\n",
       "    <tr>\n",
       "      <th>2004-01-01 14:00:00</th>\n",
       "      <td>13.518</td>\n",
       "    </tr>\n",
       "    <tr>\n",
       "      <th>2004-01-01 15:00:00</th>\n",
       "      <td>13.138</td>\n",
       "    </tr>\n",
       "    <tr>\n",
       "      <th>2004-01-01 16:00:00</th>\n",
       "      <td>14.130</td>\n",
       "    </tr>\n",
       "    <tr>\n",
       "      <th>2004-01-01 17:00:00</th>\n",
       "      <td>16.809</td>\n",
       "    </tr>\n",
       "    <tr>\n",
       "      <th>2004-01-01 18:00:00</th>\n",
       "      <td>18.150</td>\n",
       "    </tr>\n",
       "    <tr>\n",
       "      <th>2004-01-01 19:00:00</th>\n",
       "      <td>18.235</td>\n",
       "    </tr>\n",
       "    <tr>\n",
       "      <th>2004-01-01 20:00:00</th>\n",
       "      <td>17.925</td>\n",
       "    </tr>\n",
       "    <tr>\n",
       "      <th>2004-01-01 21:00:00</th>\n",
       "      <td>16.904</td>\n",
       "    </tr>\n",
       "    <tr>\n",
       "      <th>2004-01-01 22:00:00</th>\n",
       "      <td>16.162</td>\n",
       "    </tr>\n",
       "    <tr>\n",
       "      <th>2004-01-01 23:00:00</th>\n",
       "      <td>14.750</td>\n",
       "    </tr>\n",
       "    <tr>\n",
       "      <th>2004-01-02 00:00:00</th>\n",
       "      <td>14.155</td>\n",
       "    </tr>\n",
       "    <tr>\n",
       "      <th>2004-01-02 01:00:00</th>\n",
       "      <td>14.038</td>\n",
       "    </tr>\n",
       "    <tr>\n",
       "      <th>2004-01-02 02:00:00</th>\n",
       "      <td>14.019</td>\n",
       "    </tr>\n",
       "    <tr>\n",
       "      <th>2004-01-02 03:00:00</th>\n",
       "      <td>14.489</td>\n",
       "    </tr>\n",
       "    <tr>\n",
       "      <th>2004-01-02 04:00:00</th>\n",
       "      <td>14.920</td>\n",
       "    </tr>\n",
       "    <tr>\n",
       "      <th>2004-01-02 05:00:00</th>\n",
       "      <td>16.072</td>\n",
       "    </tr>\n",
       "    <tr>\n",
       "      <th>...</th>\n",
       "      <td>...</td>\n",
       "    </tr>\n",
       "    <tr>\n",
       "      <th>2005-05-21 18:00:00</th>\n",
       "      <td>15.750</td>\n",
       "    </tr>\n",
       "    <tr>\n",
       "      <th>2005-05-21 19:00:00</th>\n",
       "      <td>15.275</td>\n",
       "    </tr>\n",
       "    <tr>\n",
       "      <th>2005-05-21 20:00:00</th>\n",
       "      <td>15.396</td>\n",
       "    </tr>\n",
       "    <tr>\n",
       "      <th>2005-05-21 21:00:00</th>\n",
       "      <td>15.376</td>\n",
       "    </tr>\n",
       "    <tr>\n",
       "      <th>2005-05-21 22:00:00</th>\n",
       "      <td>13.958</td>\n",
       "    </tr>\n",
       "    <tr>\n",
       "      <th>2005-05-21 23:00:00</th>\n",
       "      <td>11.643</td>\n",
       "    </tr>\n",
       "    <tr>\n",
       "      <th>2005-05-22 00:00:00</th>\n",
       "      <td>9.954</td>\n",
       "    </tr>\n",
       "    <tr>\n",
       "      <th>2005-05-22 01:00:00</th>\n",
       "      <td>9.110</td>\n",
       "    </tr>\n",
       "    <tr>\n",
       "      <th>2005-05-22 02:00:00</th>\n",
       "      <td>8.743</td>\n",
       "    </tr>\n",
       "    <tr>\n",
       "      <th>2005-05-22 03:00:00</th>\n",
       "      <td>8.577</td>\n",
       "    </tr>\n",
       "    <tr>\n",
       "      <th>2005-05-22 04:00:00</th>\n",
       "      <td>8.693</td>\n",
       "    </tr>\n",
       "    <tr>\n",
       "      <th>2005-05-22 05:00:00</th>\n",
       "      <td>9.031</td>\n",
       "    </tr>\n",
       "    <tr>\n",
       "      <th>2005-05-22 06:00:00</th>\n",
       "      <td>10.010</td>\n",
       "    </tr>\n",
       "    <tr>\n",
       "      <th>2005-05-22 07:00:00</th>\n",
       "      <td>12.095</td>\n",
       "    </tr>\n",
       "    <tr>\n",
       "      <th>2005-05-22 08:00:00</th>\n",
       "      <td>14.212</td>\n",
       "    </tr>\n",
       "    <tr>\n",
       "      <th>2005-05-22 09:00:00</th>\n",
       "      <td>15.074</td>\n",
       "    </tr>\n",
       "    <tr>\n",
       "      <th>2005-05-22 10:00:00</th>\n",
       "      <td>14.601</td>\n",
       "    </tr>\n",
       "    <tr>\n",
       "      <th>2005-05-22 11:00:00</th>\n",
       "      <td>14.307</td>\n",
       "    </tr>\n",
       "    <tr>\n",
       "      <th>2005-05-22 12:00:00</th>\n",
       "      <td>14.674</td>\n",
       "    </tr>\n",
       "    <tr>\n",
       "      <th>2005-05-22 13:00:00</th>\n",
       "      <td>14.862</td>\n",
       "    </tr>\n",
       "    <tr>\n",
       "      <th>2005-05-22 14:00:00</th>\n",
       "      <td>15.037</td>\n",
       "    </tr>\n",
       "    <tr>\n",
       "      <th>2005-05-22 15:00:00</th>\n",
       "      <td>15.078</td>\n",
       "    </tr>\n",
       "    <tr>\n",
       "      <th>2005-05-22 16:00:00</th>\n",
       "      <td>15.514</td>\n",
       "    </tr>\n",
       "    <tr>\n",
       "      <th>2005-05-22 17:00:00</th>\n",
       "      <td>15.870</td>\n",
       "    </tr>\n",
       "    <tr>\n",
       "      <th>2005-05-22 18:00:00</th>\n",
       "      <td>16.110</td>\n",
       "    </tr>\n",
       "    <tr>\n",
       "      <th>2005-05-22 19:00:00</th>\n",
       "      <td>16.231</td>\n",
       "    </tr>\n",
       "    <tr>\n",
       "      <th>2005-05-22 20:00:00</th>\n",
       "      <td>16.382</td>\n",
       "    </tr>\n",
       "    <tr>\n",
       "      <th>2005-05-22 21:00:00</th>\n",
       "      <td>15.660</td>\n",
       "    </tr>\n",
       "    <tr>\n",
       "      <th>2005-05-22 22:00:00</th>\n",
       "      <td>14.477</td>\n",
       "    </tr>\n",
       "    <tr>\n",
       "      <th>2005-05-22 23:00:00</th>\n",
       "      <td>12.409</td>\n",
       "    </tr>\n",
       "  </tbody>\n",
       "</table>\n",
       "<p>12192 rows × 1 columns</p>\n",
       "</div>"
      ],
      "text/plain": [
       "                      value\n",
       "date                       \n",
       "2004-01-01 00:00:00  16.853\n",
       "2004-01-01 01:00:00  16.450\n",
       "2004-01-01 02:00:00  16.517\n",
       "2004-01-01 03:00:00  16.873\n",
       "2004-01-01 04:00:00  17.064\n",
       "2004-01-01 05:00:00  17.727\n",
       "2004-01-01 06:00:00  18.574\n",
       "2004-01-01 07:00:00  19.355\n",
       "2004-01-01 08:00:00  19.534\n",
       "2004-01-01 09:00:00  18.611\n",
       "2004-01-01 10:00:00  17.666\n",
       "2004-01-01 11:00:00  16.374\n",
       "2004-01-01 12:00:00  15.106\n",
       "2004-01-01 13:00:00  14.455\n",
       "2004-01-01 14:00:00  13.518\n",
       "2004-01-01 15:00:00  13.138\n",
       "2004-01-01 16:00:00  14.130\n",
       "2004-01-01 17:00:00  16.809\n",
       "2004-01-01 18:00:00  18.150\n",
       "2004-01-01 19:00:00  18.235\n",
       "2004-01-01 20:00:00  17.925\n",
       "2004-01-01 21:00:00  16.904\n",
       "2004-01-01 22:00:00  16.162\n",
       "2004-01-01 23:00:00  14.750\n",
       "2004-01-02 00:00:00  14.155\n",
       "2004-01-02 01:00:00  14.038\n",
       "2004-01-02 02:00:00  14.019\n",
       "2004-01-02 03:00:00  14.489\n",
       "2004-01-02 04:00:00  14.920\n",
       "2004-01-02 05:00:00  16.072\n",
       "...                     ...\n",
       "2005-05-21 18:00:00  15.750\n",
       "2005-05-21 19:00:00  15.275\n",
       "2005-05-21 20:00:00  15.396\n",
       "2005-05-21 21:00:00  15.376\n",
       "2005-05-21 22:00:00  13.958\n",
       "2005-05-21 23:00:00  11.643\n",
       "2005-05-22 00:00:00   9.954\n",
       "2005-05-22 01:00:00   9.110\n",
       "2005-05-22 02:00:00   8.743\n",
       "2005-05-22 03:00:00   8.577\n",
       "2005-05-22 04:00:00   8.693\n",
       "2005-05-22 05:00:00   9.031\n",
       "2005-05-22 06:00:00  10.010\n",
       "2005-05-22 07:00:00  12.095\n",
       "2005-05-22 08:00:00  14.212\n",
       "2005-05-22 09:00:00  15.074\n",
       "2005-05-22 10:00:00  14.601\n",
       "2005-05-22 11:00:00  14.307\n",
       "2005-05-22 12:00:00  14.674\n",
       "2005-05-22 13:00:00  14.862\n",
       "2005-05-22 14:00:00  15.037\n",
       "2005-05-22 15:00:00  15.078\n",
       "2005-05-22 16:00:00  15.514\n",
       "2005-05-22 17:00:00  15.870\n",
       "2005-05-22 18:00:00  16.110\n",
       "2005-05-22 19:00:00  16.231\n",
       "2005-05-22 20:00:00  16.382\n",
       "2005-05-22 21:00:00  15.660\n",
       "2005-05-22 22:00:00  14.477\n",
       "2005-05-22 23:00:00  12.409\n",
       "\n",
       "[12192 rows x 1 columns]"
      ]
     },
     "execution_count": 118,
     "metadata": {},
     "output_type": "execute_result"
    }
   ],
   "source": [
    "area1"
   ]
  },
  {
   "cell_type": "code",
   "execution_count": 181,
   "metadata": {},
   "outputs": [],
   "source": [
    "area1 = area3.resample('3D',closed = 'right').mean()"
   ]
  },
  {
   "cell_type": "code",
   "execution_count": 182,
   "metadata": {},
   "outputs": [],
   "source": [
    "area1_logged = area1['value'].map(np.log)\n"
   ]
  },
  {
   "cell_type": "code",
   "execution_count": 183,
   "metadata": {},
   "outputs": [],
   "source": [
    "area1_logged_diffed = area1_logged.diff()"
   ]
  },
  {
   "cell_type": "code",
   "execution_count": 184,
   "metadata": {},
   "outputs": [
    {
     "data": {
      "image/png": "[encoded data removed]",
      "text/plain": [
       "<Figure size 432x288 with 1 Axes>"
      ]
     },
     "metadata": {
      "needs_background": "light"
     },
     "output_type": "display_data"
    }
   ],
   "source": [
    "area1_logged_diffed = area1_logged.diff()\n",
    "plot_pacf(area1_logged_diffed.dropna(), alpha=.05, lags=20,method='ols')  \n",
    "plt.xlabel('lag')\n",
    "plt.ylabel('Autocorrelation')\n",
    "plt.show()"
   ]
  },
  {
   "cell_type": "code",
   "execution_count": 167,
   "metadata": {
    "scrolled": true
   },
   "outputs": [],
   "source": [
    "#data.loc[idx[:,'area_2'],:].unstack(1).value.plot()"
   ]
  },
  {
   "cell_type": "code",
   "execution_count": 168,
   "metadata": {},
   "outputs": [],
   "source": [
    "#data.loc[idx[:,'area_1'],:].unstack(1).value.plot()"
   ]
  },
  {
   "cell_type": "code",
   "execution_count": 185,
   "metadata": {},
   "outputs": [],
   "source": [
    "p = q = [1]\n",
    "d = [0]\n",
    "P = D = Q = range(0, 2)   #  <--- all of the paramters between 0 and 2 \n",
    "\n",
    "S = [6, 9, 14] # <-- let's pretend we have a couple of hypothesis "
   ]
  },
  {
   "cell_type": "code",
   "execution_count": 186,
   "metadata": {},
   "outputs": [],
   "source": [
    "params_combinations = list(itertools.product(p, d, q, P, D, Q, S))"
   ]
  },
  {
   "cell_type": "code",
   "execution_count": 187,
   "metadata": {},
   "outputs": [],
   "source": [
    "inputs = [[x[0], x[1], x[2], x[3], x[4], x[5], x[6]] for x in params_combinations]"
   ]
  },
  {
   "cell_type": "code",
   "execution_count": 188,
   "metadata": {},
   "outputs": [],
   "source": [
    "def get_aic(series_, params):\n",
    "    # extract the params \n",
    "    p = params[0] \n",
    "    d = params[1] \n",
    "    q = params[2] \n",
    "    P = params[3]\n",
    "    D = params[4] \n",
    "    Q = params[5]\n",
    "    S = params[6]\n",
    "    \n",
    "    # fit a model with those params \n",
    "    model = SARIMAX(series_,order=(p, d, q), seasonal_order=(P, D, Q, S),\n",
    "                                     enforce_stationarity=False,\n",
    "                                     enforce_invertibility=False)\n",
    "    \n",
    "    # fit the model\n",
    "    results = model.fit(maxiter=200)\n",
    "    predictions_best_model = results.get_prediction()\n",
    "    mep = mean_absolute_percentage_error(series_[1:],np.exp(predictions_best_model.predicted_mean)[1:])\n",
    "    \n",
    "    # return the aic \n",
    "    return mep"
   ]
  },
  {
   "cell_type": "code",
   "execution_count": 189,
   "metadata": {
    "scrolled": true
   },
   "outputs": [
    {
     "name": "stdout",
     "output_type": "stream",
     "text": [
      "CPU times: user 8.78 s, sys: 62.5 ms, total: 8.84 s\n",
      "Wall time: 9.59 s\n"
     ]
    }
   ],
   "source": [
    "%%time \n",
    "\n",
    "aic_scores = {}\n",
    "params_index = {}\n",
    "\n",
    "for i in range(len(inputs)):\n",
    "    try: \n",
    "        param_set = inputs[i]\n",
    "        aic = get_aic(area1_logged, param_set) \n",
    "        aic_scores[i] = aic\n",
    "        params_index[i] = param_set\n",
    "    \n",
    "    # this will fail sometimes with impossible parameter combinations. \n",
    "    # ... and I'm too lazy to remember what they are. \n",
    "    except Exception as e: \n",
    "        continue"
   ]
  },
  {
   "cell_type": "code",
   "execution_count": 190,
   "metadata": {},
   "outputs": [
    {
     "data": {
      "text/html": [
       "<div>\n",
       "<style scoped>\n",
       "    .dataframe tbody tr th:only-of-type {\n",
       "        vertical-align: middle;\n",
       "    }\n",
       "\n",
       "    .dataframe tbody tr th {\n",
       "        vertical-align: top;\n",
       "    }\n",
       "\n",
       "    .dataframe thead th {\n",
       "        text-align: right;\n",
       "    }\n",
       "</style>\n",
       "<table border=\"1\" class=\"dataframe\">\n",
       "  <thead>\n",
       "    <tr style=\"text-align: right;\">\n",
       "      <th></th>\n",
       "      <th>p</th>\n",
       "      <th>d</th>\n",
       "      <th>q</th>\n",
       "      <th>P</th>\n",
       "      <th>D</th>\n",
       "      <th>Q</th>\n",
       "      <th>S</th>\n",
       "      <th>aic</th>\n",
       "    </tr>\n",
       "  </thead>\n",
       "  <tbody>\n",
       "    <tr>\n",
       "      <th>8</th>\n",
       "      <td>1</td>\n",
       "      <td>0</td>\n",
       "      <td>1</td>\n",
       "      <td>0</td>\n",
       "      <td>1</td>\n",
       "      <td>0</td>\n",
       "      <td>14</td>\n",
       "      <td>1714.676278</td>\n",
       "    </tr>\n",
       "    <tr>\n",
       "      <th>7</th>\n",
       "      <td>1</td>\n",
       "      <td>0</td>\n",
       "      <td>1</td>\n",
       "      <td>0</td>\n",
       "      <td>1</td>\n",
       "      <td>0</td>\n",
       "      <td>9</td>\n",
       "      <td>1755.554826</td>\n",
       "    </tr>\n",
       "    <tr>\n",
       "      <th>6</th>\n",
       "      <td>1</td>\n",
       "      <td>0</td>\n",
       "      <td>1</td>\n",
       "      <td>0</td>\n",
       "      <td>1</td>\n",
       "      <td>0</td>\n",
       "      <td>6</td>\n",
       "      <td>1785.837220</td>\n",
       "    </tr>\n",
       "    <tr>\n",
       "      <th>20</th>\n",
       "      <td>1</td>\n",
       "      <td>0</td>\n",
       "      <td>1</td>\n",
       "      <td>1</td>\n",
       "      <td>1</td>\n",
       "      <td>0</td>\n",
       "      <td>14</td>\n",
       "      <td>1797.128038</td>\n",
       "    </tr>\n",
       "    <tr>\n",
       "      <th>18</th>\n",
       "      <td>1</td>\n",
       "      <td>0</td>\n",
       "      <td>1</td>\n",
       "      <td>1</td>\n",
       "      <td>1</td>\n",
       "      <td>0</td>\n",
       "      <td>6</td>\n",
       "      <td>1800.772282</td>\n",
       "    </tr>\n",
       "  </tbody>\n",
       "</table>\n",
       "</div>"
      ],
      "text/plain": [
       "    p  d  q  P  D  Q   S          aic\n",
       "8   1  0  1  0  1  0  14  1714.676278\n",
       "7   1  0  1  0  1  0   9  1755.554826\n",
       "6   1  0  1  0  1  0   6  1785.837220\n",
       "20  1  0  1  1  1  0  14  1797.128038\n",
       "18  1  0  1  1  1  0   6  1800.772282"
      ]
     },
     "execution_count": 190,
     "metadata": {},
     "output_type": "execute_result"
    }
   ],
   "source": [
    "temp = pd.DataFrame(params_index).T\n",
    "temp.columns = ['p', 'd', 'q', 'P', 'D', 'Q', 'S']\n",
    "temp['aic'] = pd.Series(aic_scores)\n",
    "temp.sort_values('aic').head()"
   ]
  },
  {
   "cell_type": "code",
   "execution_count": 191,
   "metadata": {},
   "outputs": [],
   "source": [
    "best_model = SARIMAX(area1_logged,\n",
    "                                      order=(1, 0, 1),\n",
    "                                      seasonal_order=(1, 1, 0, 17))\n",
    "\n",
    "results = best_model.fit()\n",
    "predictions_best_model = results.get_prediction()"
   ]
  },
  {
   "cell_type": "code",
   "execution_count": 145,
   "metadata": {},
   "outputs": [
    {
     "data": {
      "text/html": [
       "<div>\n",
       "<style scoped>\n",
       "    .dataframe tbody tr th:only-of-type {\n",
       "        vertical-align: middle;\n",
       "    }\n",
       "\n",
       "    .dataframe tbody tr th {\n",
       "        vertical-align: top;\n",
       "    }\n",
       "\n",
       "    .dataframe thead th {\n",
       "        text-align: right;\n",
       "    }\n",
       "</style>\n",
       "<table border=\"1\" class=\"dataframe\">\n",
       "  <thead>\n",
       "    <tr style=\"text-align: right;\">\n",
       "      <th></th>\n",
       "      <th>value</th>\n",
       "    </tr>\n",
       "    <tr>\n",
       "      <th>date</th>\n",
       "      <th></th>\n",
       "    </tr>\n",
       "  </thead>\n",
       "  <tbody>\n",
       "    <tr>\n",
       "      <th>2005-05-10</th>\n",
       "      <td>15.538847</td>\n",
       "    </tr>\n",
       "    <tr>\n",
       "      <th>2005-05-13</th>\n",
       "      <td>13.615250</td>\n",
       "    </tr>\n",
       "    <tr>\n",
       "      <th>2005-05-16</th>\n",
       "      <td>13.768111</td>\n",
       "    </tr>\n",
       "    <tr>\n",
       "      <th>2005-05-19</th>\n",
       "      <td>13.184042</td>\n",
       "    </tr>\n",
       "    <tr>\n",
       "      <th>2005-05-22</th>\n",
       "      <td>13.196292</td>\n",
       "    </tr>\n",
       "  </tbody>\n",
       "</table>\n",
       "</div>"
      ],
      "text/plain": [
       "                value\n",
       "date                 \n",
       "2005-05-10  15.538847\n",
       "2005-05-13  13.615250\n",
       "2005-05-16  13.768111\n",
       "2005-05-19  13.184042\n",
       "2005-05-22  13.196292"
      ]
     },
     "execution_count": 145,
     "metadata": {},
     "output_type": "execute_result"
    }
   ],
   "source": [
    "area1.tail()"
   ]
  },
  {
   "cell_type": "code",
   "execution_count": 133,
   "metadata": {
    "scrolled": true
   },
   "outputs": [
    {
     "data": {
      "image/png": "[encoded data removed]",
      "text/plain": [
       "<Figure size 432x288 with 1 Axes>"
      ]
     },
     "metadata": {
      "needs_background": "light"
     },
     "output_type": "display_data"
    }
   ],
   "source": [
    "plt.plot(area1[-300:], label='original')\n",
    "plt.plot(np.exp(predictions_best_model.predicted_mean[-300:]), label='arima')\n",
    "plt.legend()\n",
    "plt.show();"
   ]
  },
  {
   "cell_type": "code",
   "execution_count": 56,
   "metadata": {},
   "outputs": [],
   "source": [
    "# train_1 = area1_logged[:-1]\n",
    "# test_1 = area1_logged[-1:]"
   ]
  },
  {
   "cell_type": "code",
   "execution_count": 107,
   "metadata": {},
   "outputs": [],
   "source": [
    "# mae_model = sm.tsa.statespace.SARIMAX(train_1,\n",
    "#                                       order=(1, 0, 1),\n",
    "#                                       seasonal_order=(0, 1, 0, 15),\n",
    "#                                      enforce_stationarity=False,\n",
    "#                                      enforce_invertibility=False)\n",
    "\n",
    "# results = mae_model.fit()\n",
    "# predictions_mae_model = results.get_forecast(steps=7)"
   ]
  },
  {
   "cell_type": "code",
   "execution_count": 108,
   "metadata": {},
   "outputs": [
    {
     "data": {
      "image/png": "[encoded data removed]",
      "text/plain": [
       "<Figure size 432x288 with 1 Axes>"
      ]
     },
     "metadata": {
      "needs_background": "light"
     },
     "output_type": "display_data"
    }
   ],
   "source": [
    "# plt.plot(area1[-1200:],label='original')\n",
    "# plt.plot(np.exp(predictions_mae_model.predicted_mean), label='arima')\n",
    "# plt.show();"
   ]
  },
  {
   "cell_type": "code",
   "execution_count": 41,
   "metadata": {},
   "outputs": [
    {
     "data": {
      "text/plain": [
       "1018.4637945166232"
      ]
     },
     "execution_count": 41,
     "metadata": {},
     "output_type": "execute_result"
    }
   ],
   "source": [
    "# mean_absolute_percentage_error(area1[-168:],np.exp(predictions_mae_model.predicted_mean))"
   ]
  },
  {
   "cell_type": "code",
   "execution_count": null,
   "metadata": {},
   "outputs": [],
   "source": []
  },
  {
   "cell_type": "code",
   "execution_count": null,
   "metadata": {},
   "outputs": [],
   "source": []
  },
  {
   "cell_type": "code",
   "execution_count": null,
   "metadata": {},
   "outputs": [],
   "source": []
  },
  {
   "cell_type": "code",
   "execution_count": null,
   "metadata": {},
   "outputs": [],
   "source": []
  },
  {
   "cell_type": "code",
   "execution_count": null,
   "metadata": {},
   "outputs": [],
   "source": []
  },
  {
   "cell_type": "code",
   "execution_count": 149,
   "metadata": {},
   "outputs": [
    {
     "data": {
      "text/plain": [
       "date\n",
       "2004-01-01    2.792981\n",
       "2004-01-04    2.807943\n",
       "2004-01-07    3.266075\n",
       "2004-01-10    3.244234\n",
       "2004-01-13    2.990122\n",
       "2004-01-16    3.089628\n",
       "2004-01-19    3.263356\n",
       "2004-01-22    3.132561\n",
       "2004-01-25    3.379562\n",
       "2004-01-28    3.182050\n",
       "2004-01-31    3.258344\n",
       "2004-02-03    3.086384\n",
       "2004-02-06    3.135621\n",
       "2004-02-09    3.036600\n",
       "2004-02-12    2.998965\n",
       "2004-02-15    3.159069\n",
       "2004-02-18    2.944666\n",
       "2004-02-21    2.909334\n",
       "2004-02-24    3.008011\n",
       "2004-02-27    2.922329\n",
       "2004-03-01    2.669683\n",
       "2004-03-04    2.547852\n",
       "2004-03-07    2.818367\n",
       "2004-03-10    2.863720\n",
       "2004-03-13    2.747933\n",
       "2004-03-16    2.844143\n",
       "2004-03-19    2.743535\n",
       "2004-03-22    2.957558\n",
       "2004-03-25    2.585363\n",
       "2004-03-28    2.672584\n",
       "                ...   \n",
       "2005-02-24    3.094327\n",
       "2005-02-27    3.166444\n",
       "2005-03-02    3.184397\n",
       "2005-03-05    3.025815\n",
       "2005-03-08    2.901312\n",
       "2005-03-11    2.784736\n",
       "2005-03-14    2.960293\n",
       "2005-03-17    2.993885\n",
       "2005-03-20    2.790236\n",
       "2005-03-23    2.793410\n",
       "2005-03-26    2.823876\n",
       "2005-03-29    2.654805\n",
       "2005-04-01    2.790714\n",
       "2005-04-04    2.628993\n",
       "2005-04-07    2.553636\n",
       "2005-04-10    2.629174\n",
       "2005-04-13    2.762200\n",
       "2005-04-16    2.697199\n",
       "2005-04-19    2.630026\n",
       "2005-04-22    2.677101\n",
       "2005-04-25    2.652996\n",
       "2005-04-28    2.624787\n",
       "2005-05-01    2.657802\n",
       "2005-05-04    2.646918\n",
       "2005-05-07    2.635434\n",
       "2005-05-10    2.743343\n",
       "2005-05-13    2.611190\n",
       "2005-05-16    2.622355\n",
       "2005-05-19    2.579007\n",
       "2005-05-22    2.579936\n",
       "Freq: 3D, Name: value, Length: 170, dtype: float64"
      ]
     },
     "execution_count": 149,
     "metadata": {},
     "output_type": "execute_result"
    }
   ],
   "source": [
    "area1_logged"
   ]
  },
  {
   "cell_type": "code",
   "execution_count": 192,
   "metadata": {},
   "outputs": [],
   "source": [
    "mae_model = sm.tsa.statespace.SARIMAX(area1_logged,\n",
    "                                      order=(1, 0, 1),\n",
    "                                      seasonal_order=(0, 1,0, 14),\n",
    "                                      enforce_stationarity=False,\n",
    "                                      enforce_invertibility=False)\n",
    "\n",
    "results = mae_model.fit()\n",
    "predictions_mae_model = results.get_forecast(steps=4)"
   ]
  },
  {
   "cell_type": "code",
   "execution_count": 193,
   "metadata": {},
   "outputs": [],
   "source": [
    "area1_pred = np.exp(predictions_mae_model.predicted_mean)"
   ]
  },
  {
   "cell_type": "code",
   "execution_count": 194,
   "metadata": {},
   "outputs": [
    {
     "data": {
      "text/plain": [
       "2005-12-15     95.347112\n",
       "2005-12-18     98.589777\n",
       "2005-12-21    102.239454\n",
       "2005-12-24     88.786301\n",
       "Freq: 3D, dtype: float64"
      ]
     },
     "execution_count": 194,
     "metadata": {},
     "output_type": "execute_result"
    }
   ],
   "source": [
    "area1_pred"
   ]
  },
  {
   "cell_type": "code",
   "execution_count": 195,
   "metadata": {},
   "outputs": [],
   "source": [
    "pd.DataFrame(area1_pred).to_csv('daily_area3_pred.csv')"
   ]
  },
  {
   "cell_type": "code",
   "execution_count": 196,
   "metadata": {},
   "outputs": [
    {
     "data": {
      "text/plain": [
       "2005-12-15     95.347112\n",
       "2005-12-18     98.589777\n",
       "2005-12-21    102.239454\n",
       "2005-12-24     88.786301\n",
       "Freq: 3D, dtype: float64"
      ]
     },
     "execution_count": 196,
     "metadata": {},
     "output_type": "execute_result"
    }
   ],
   "source": [
    "area1_pred"
   ]
  },
  {
   "cell_type": "code",
   "execution_count": 85,
   "metadata": {
    "scrolled": true
   },
   "outputs": [
    {
     "data": {
      "image/png": "[encoded data removed]",
      "text/plain": [
       "<Figure size 432x288 with 1 Axes>"
      ]
     },
     "metadata": {
      "needs_background": "light"
     },
     "output_type": "display_data"
    }
   ],
   "source": [
    "\n",
    "plt.plot(area3[-120:],label='original')\n",
    "area1_pred.plot()\n",
    "plt.show()"
   ]
  },
  {
   "cell_type": "code",
   "execution_count": 33,
   "metadata": {
    "scrolled": true
   },
   "outputs": [
    {
     "data": {
      "image/png": "[encoded data removed]",
      "text/plain": [
       "<Figure size 432x288 with 1 Axes>"
      ]
     },
     "metadata": {
      "needs_background": "light"
     },
     "output_type": "display_data"
    }
   ],
   "source": [
    "plt.plot(area1[-300:].reset_index(drop=True)['value'],label='original')\n",
    "pd.read_csv('linear_model_data1.csv')['value'].plot()\n",
    "plt.show()"
   ]
  },
  {
   "cell_type": "code",
   "execution_count": 32,
   "metadata": {},
   "outputs": [
    {
     "data": {
      "image/png": "[encoded data removed]",
      "text/plain": [
       "<Figure size 432x288 with 1 Axes>"
      ]
     },
     "metadata": {
      "needs_background": "light"
     },
     "output_type": "display_data"
    }
   ],
   "source": [
    "plt.plot(area1[-300:].reset_index(drop=True)['value'],label='original')\n",
    "\n",
    "area1_pred.reset_index(drop=True).plot()\n",
    "plt.show()"
   ]
  },
  {
   "cell_type": "code",
   "execution_count": 64,
   "metadata": {},
   "outputs": [],
   "source": [
    "area2_pred = np.exp(predictions_mae_model.predicted_mean)\n"
   ]
  },
  {
   "cell_type": "code",
   "execution_count": 65,
   "metadata": {},
   "outputs": [
    {
     "data": {
      "text/plain": [
       "<matplotlib.axes._subplots.AxesSubplot at 0x7f0874485208>"
      ]
     },
     "execution_count": 65,
     "metadata": {},
     "output_type": "execute_result"
    },
    {
     "data": {
      "image/png": "[encoded data removed]",
      "text/plain": [
       "<Figure size 432x288 with 1 Axes>"
      ]
     },
     "metadata": {
      "needs_background": "light"
     },
     "output_type": "display_data"
    }
   ],
   "source": [
    "area2_pred.plot()"
   ]
  },
  {
   "cell_type": "code",
   "execution_count": 71,
   "metadata": {},
   "outputs": [],
   "source": [
    "area3_pred = np.exp(predictions_mae_model.predicted_mean)\n"
   ]
  },
  {
   "cell_type": "code",
   "execution_count": null,
   "metadata": {},
   "outputs": [],
   "source": [
    "area3_pred.plot()"
   ]
  },
  {
   "cell_type": "code",
   "execution_count": null,
   "metadata": {},
   "outputs": [],
   "source": [
    "generate_submission_file(area1_pred,area2_pred,area3_pred)"
   ]
  },
  {
   "cell_type": "code",
   "execution_count": 72,
   "metadata": {},
   "outputs": [],
   "source": [
    "predictions_area_1 = area1_pred\n",
    "predictions_area_2 = area2_pred\n",
    "predicitons_area_3 = area3_pred\n",
    "#test_1 = pd.DataFrame(predictions_area_1)\n"
   ]
  },
  {
   "cell_type": "code",
   "execution_count": 73,
   "metadata": {},
   "outputs": [],
   "source": [
    "test_1 = pd.DataFrame(predictions_area_1)\n",
    "test_2 = pd.DataFrame(predictions_area_2)\n",
    "test_3 = pd.DataFrame(predicitons_area_3)\n",
    "test = pd.concat([test_1,test_2,test_3], axis=1)\n"
   ]
  },
  {
   "cell_type": "code",
   "execution_count": 74,
   "metadata": {},
   "outputs": [],
   "source": [
    "test.columns = ['area_1','area_2','area_3']\n",
    "test.index.name = 'date'\n",
    "test = test.reset_index().melt(id_vars='date',value_vars=['area_1','area_2','area_3']).set_index('date')\n",
    "test = test.dropna()\n",
    "test = test.drop('variable',axis=1)\n",
    "test.to_csv('submission.csv')"
   ]
  },
  {
   "cell_type": "code",
   "execution_count": 75,
   "metadata": {},
   "outputs": [
    {
     "data": {
      "text/plain": [
       "<matplotlib.axes._subplots.AxesSubplot at 0x7f087446ca20>"
      ]
     },
     "execution_count": 75,
     "metadata": {},
     "output_type": "execute_result"
    },
    {
     "data": {
      "image/png": "[encoded data removed]",
      "text/plain": [
       "<Figure size 432x288 with 1 Axes>"
      ]
     },
     "metadata": {
      "needs_background": "light"
     },
     "output_type": "display_data"
    }
   ],
   "source": [
    "test.plot()"
   ]
  },
  {
   "cell_type": "code",
   "execution_count": null,
   "metadata": {},
   "outputs": [],
   "source": []
  }
 ],
 "metadata": {
  "kernelspec": {
   "display_name": "Python 3",
   "language": "python",
   "name": "python3"
  },
  "language_info": {
   "codemirror_mode": {
    "name": "ipython",
    "version": 3
   },
   "file_extension": ".py",
   "mimetype": "text/x-python",
   "name": "python",
   "nbconvert_exporter": "python",
   "pygments_lexer": "ipython3",
   "version": "3.7.3"
  }
 },
 "nbformat": 4,
 "nbformat_minor": 2
}
