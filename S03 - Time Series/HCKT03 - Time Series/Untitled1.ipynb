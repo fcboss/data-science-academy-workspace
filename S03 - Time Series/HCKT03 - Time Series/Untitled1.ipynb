{
 "cells": [
  {
   "cell_type": "code",
   "execution_count": 1,
   "metadata": {},
   "outputs": [],
   "source": [
    "%matplotlib inline\n",
    "import datetime\n",
    "import matplotlib.pyplot as plt\n",
    "import pandas as pd\n",
    "from sklearn.decomposition import PCA\n",
    "from sklearn.preprocessing import LabelEncoder, StandardScaler\n",
    "import pandas as pd\n",
    "import matplotlib.pyplot as plt\n",
    "import warnings\n",
    "idx = pd.IndexSlice\n",
    "warnings.simplefilter(action='ignore', category=FutureWarning)   \n",
    "from random import seed\n",
    "from sklearn.metrics import mean_absolute_error\n",
    "import statsmodels.api as sm\n",
    "from statsmodels.tsa.stattools import adfuller\n",
    "from statsmodels.tsa.statespace.sarimax import SARIMAX\n",
    "from sklearn.linear_model import LinearRegression\n",
    "import numpy as np\n",
    "from sklearn.metrics import mean_squared_error\n",
    "import math\n",
    "from sklearn.ensemble import GradientBoostingRegressor\n",
    "import itertools\n",
    "from statsmodels.tsa.seasonal import seasonal_decompose\n",
    "from statsmodels.graphics.tsaplots import plot_acf, plot_pacf\n",
    "from statsmodels.tsa import stattools\n",
    "import hashlib # for grading purposes\n",
    "from sklearn.model_selection import ParameterGrid\n",
    "\n",
    "from pandas.plotting import lag_plot\n",
    "from statsmodels.tsa.arima_model import ARIMA\n",
    "plt.rcParams['figure.figsize'] = (12, 4)\n",
    "\n",
    "from utils import *\n",
    "\n",
    "%matplotlib inline\n",
    "\n",
    "PATH = '/'"
   ]
  },
  {
   "cell_type": "code",
   "execution_count": 2,
   "metadata": {
    "scrolled": true
   },
   "outputs": [
    {
     "data": {
      "text/html": [
       "<div>\n",
       "<style scoped>\n",
       "    .dataframe tbody tr th:only-of-type {\n",
       "        vertical-align: middle;\n",
       "    }\n",
       "\n",
       "    .dataframe tbody tr th {\n",
       "        vertical-align: top;\n",
       "    }\n",
       "\n",
       "    .dataframe thead th {\n",
       "        text-align: right;\n",
       "    }\n",
       "</style>\n",
       "<table border=\"1\" class=\"dataframe\">\n",
       "  <thead>\n",
       "    <tr style=\"text-align: right;\">\n",
       "      <th></th>\n",
       "      <th></th>\n",
       "      <th>value</th>\n",
       "      <th>day_of_week</th>\n",
       "      <th>month</th>\n",
       "      <th>sin_weekday</th>\n",
       "      <th>cos_weekday</th>\n",
       "      <th>sin_month</th>\n",
       "      <th>cos_month</th>\n",
       "    </tr>\n",
       "    <tr>\n",
       "      <th>date</th>\n",
       "      <th>variable</th>\n",
       "      <th></th>\n",
       "      <th></th>\n",
       "      <th></th>\n",
       "      <th></th>\n",
       "      <th></th>\n",
       "      <th></th>\n",
       "      <th></th>\n",
       "    </tr>\n",
       "  </thead>\n",
       "  <tbody>\n",
       "    <tr>\n",
       "      <th rowspan=\"3\" valign=\"top\">2004-01-01 00:00:00</th>\n",
       "      <th>area_1</th>\n",
       "      <td>16.853</td>\n",
       "      <td>3</td>\n",
       "      <td>1</td>\n",
       "      <td>0.433884</td>\n",
       "      <td>-0.900969</td>\n",
       "      <td>0.5</td>\n",
       "      <td>0.866025</td>\n",
       "    </tr>\n",
       "    <tr>\n",
       "      <th>area_2</th>\n",
       "      <td>126.259</td>\n",
       "      <td>3</td>\n",
       "      <td>1</td>\n",
       "      <td>0.433884</td>\n",
       "      <td>-0.900969</td>\n",
       "      <td>0.5</td>\n",
       "      <td>0.866025</td>\n",
       "    </tr>\n",
       "    <tr>\n",
       "      <th>area_3</th>\n",
       "      <td>79.830</td>\n",
       "      <td>3</td>\n",
       "      <td>1</td>\n",
       "      <td>0.433884</td>\n",
       "      <td>-0.900969</td>\n",
       "      <td>0.5</td>\n",
       "      <td>0.866025</td>\n",
       "    </tr>\n",
       "    <tr>\n",
       "      <th rowspan=\"2\" valign=\"top\">2004-01-01 01:00:00</th>\n",
       "      <th>area_1</th>\n",
       "      <td>16.450</td>\n",
       "      <td>3</td>\n",
       "      <td>1</td>\n",
       "      <td>0.433884</td>\n",
       "      <td>-0.900969</td>\n",
       "      <td>0.5</td>\n",
       "      <td>0.866025</td>\n",
       "    </tr>\n",
       "    <tr>\n",
       "      <th>area_2</th>\n",
       "      <td>123.313</td>\n",
       "      <td>3</td>\n",
       "      <td>1</td>\n",
       "      <td>0.433884</td>\n",
       "      <td>-0.900969</td>\n",
       "      <td>0.5</td>\n",
       "      <td>0.866025</td>\n",
       "    </tr>\n",
       "  </tbody>\n",
       "</table>\n",
       "</div>"
      ],
      "text/plain": [
       "                                value  day_of_week  month  sin_weekday  \\\n",
       "date                variable                                             \n",
       "2004-01-01 00:00:00 area_1     16.853            3      1     0.433884   \n",
       "                    area_2    126.259            3      1     0.433884   \n",
       "                    area_3     79.830            3      1     0.433884   \n",
       "2004-01-01 01:00:00 area_1     16.450            3      1     0.433884   \n",
       "                    area_2    123.313            3      1     0.433884   \n",
       "\n",
       "                              cos_weekday  sin_month  cos_month  \n",
       "date                variable                                     \n",
       "2004-01-01 00:00:00 area_1      -0.900969        0.5   0.866025  \n",
       "                    area_2      -0.900969        0.5   0.866025  \n",
       "                    area_3      -0.900969        0.5   0.866025  \n",
       "2004-01-01 01:00:00 area_1      -0.900969        0.5   0.866025  \n",
       "                    area_2      -0.900969        0.5   0.866025  "
      ]
     },
     "execution_count": 2,
     "metadata": {},
     "output_type": "execute_result"
    }
   ],
   "source": [
    "data = pd.read_csv('data/data.csv')\n",
    "data.sample(5)\n",
    "data['date'] = pd.to_datetime(data['date'])\n",
    "data['day_of_week'] = data['date'].dt.dayofweek\n",
    "data['month'] = data['date'].dt.month\n",
    "data['sin_weekday'] = np.sin(2*np.pi*data['date'].dt.dayofweek/7)\n",
    "data['cos_weekday'] = np.cos(2*np.pi*data['date'].dt.dayofweek/7)\n",
    "data['sin_month'] = np.sin(2*np.pi*data['date'].dt.month/12)\n",
    "data['cos_month'] = np.cos(2*np.pi*data['date'].dt.month/12)\n",
    "data = data.set_index(['date', 'variable'])\n",
    "data = data.sort_index()\n",
    "data.head()"
   ]
  },
  {
   "cell_type": "code",
   "execution_count": 3,
   "metadata": {},
   "outputs": [],
   "source": [
    "area1 = data.loc[idx[:,'area_1'],:].reset_index(level='variable',drop=True)\n",
    "area1 = area1.loc[:area1[area1.value.isnull() == False].iloc[-1].name]\n",
    "area1.value = area1.value.interpolate()\n",
    "\n",
    "area2 = data.loc[idx[:,'area_2'],:].reset_index(level='variable',drop=True)\n",
    "area2 = area2.loc[:area2[area2.value.isnull() == False].iloc[-1].name]\n",
    "area2.value = area2.value.interpolate()\n",
    "\n",
    "area3 = data.loc[idx[:,'area_3'],:].reset_index(level='variable',drop=True)\n",
    "area3 = area3.loc[:area3[area3.value.isnull() == False].iloc[-1].name]\n",
    "area3.value = area3.value.interpolate()"
   ]
  },
  {
   "cell_type": "code",
   "execution_count": 4,
   "metadata": {},
   "outputs": [],
   "source": [
    "target = 'value'"
   ]
  },
  {
   "cell_type": "code",
   "execution_count": 5,
   "metadata": {},
   "outputs": [
    {
     "name": "stdout",
     "output_type": "stream",
     "text": [
      "day_of_week: [0 1 2 3 4 5 6]\n",
      "month: [ 1  2  3  4  5  6  7  8  9 10 11 12]\n"
     ]
    }
   ],
   "source": [
    "cat_vars = ['day_of_week','month']\n",
    "cont_vars = ['sin_weekday','cos_weekday','sin_month','cos_month']\n",
    "encoders = {}\n",
    "for v in cat_vars:\n",
    "    le = LabelEncoder()\n",
    "    le.fit(data[v].values)\n",
    "    encoders[v] = le\n",
    "    data.loc[:, v] = le.transform(data[v].values)\n",
    "    print('{0}: {1}'.format(v, le.classes_))"
   ]
  },
  {
   "cell_type": "code",
   "execution_count": 6,
   "metadata": {},
   "outputs": [],
   "source": [
    "train = area1[:-168]\n",
    "val = area1[-168:]\n",
    "\n",
    "X = train[cat_vars + cont_vars].copy()\n",
    "X_val = val[cat_vars + cont_vars].copy()\n",
    "y = train[target].copy()\n",
    "y_val = val[target].copy()"
   ]
  },
  {
   "cell_type": "code",
   "execution_count": 7,
   "metadata": {},
   "outputs": [],
   "source": [
    "scaler = StandardScaler()\n",
    "X.loc[:, cont_vars] = scaler.fit_transform(X[cont_vars].values)\n",
    "X_val.loc[:, cont_vars] = scaler.transform(X_val[cont_vars].values)"
   ]
  },
  {
   "cell_type": "code",
   "execution_count": 8,
   "metadata": {},
   "outputs": [],
   "source": [
    "for v in cat_vars:\n",
    "    X[v] = X[v].astype('int').astype('category').cat.as_ordered()\n",
    "    X_val[v] = X_val[v].astype('int').astype('category').cat.as_ordered()\n",
    "for v in cont_vars:\n",
    "    X[v] = X[v].astype('float32')\n",
    "    X_val[v] = X_val[v].astype('float32')"
   ]
  },
  {
   "cell_type": "code",
   "execution_count": 15,
   "metadata": {},
   "outputs": [
    {
     "data": {
      "text/plain": [
       "[('day_of_week', 8), ('month', 13)]"
      ]
     },
     "execution_count": 15,
     "metadata": {},
     "output_type": "execute_result"
    }
   ],
   "source": [
    "cat_sizes = [(c, len(X[c].cat.categories)+1) for c in cat_vars]\n",
    "cat_sizes"
   ]
  },
  {
   "cell_type": "code",
   "execution_count": 16,
   "metadata": {},
   "outputs": [
    {
     "data": {
      "text/plain": [
       "[(8, 4), (13, 7)]"
      ]
     },
     "execution_count": 16,
     "metadata": {},
     "output_type": "execute_result"
    }
   ],
   "source": [
    "embedding_sizes = [(c, min(50, (c + 1) // 2)) for _, c in cat_sizes]\n",
    "embedding_sizes"
   ]
  },
  {
   "cell_type": "code",
   "execution_count": 17,
   "metadata": {},
   "outputs": [
    {
     "data": {
      "text/plain": [
       "(3, 3)"
      ]
     },
     "execution_count": 17,
     "metadata": {},
     "output_type": "execute_result"
    }
   ],
   "source": [
    "X_array = []\n",
    "X_val_array = []\n",
    "\n",
    "for i, v in enumerate(cat_vars):\n",
    "    X_array.append(X.iloc[:, i])\n",
    "    X_val_array.append(X_val.iloc[:, i])\n",
    "\n",
    "X_array.append(X.iloc[:, len(cat_vars):])\n",
    "X_val_array.append(X_val.iloc[:, len(cat_vars):])\n",
    "\n",
    "len(X_array), len(X_val_array)"
   ]
  },
  {
   "cell_type": "code",
   "execution_count": 18,
   "metadata": {},
   "outputs": [],
   "source": [
    "from keras import backend as K\n",
    "from keras import regularizers\n",
    "from keras.models import Sequential\n",
    "from keras.models import Model\n",
    "from keras.layers import Activation, BatchNormalization, Concatenate\n",
    "from keras.layers import Dropout, Dense, Input, Reshape\n",
    "from keras.layers.embeddings import Embedding\n",
    "from keras.optimizers import Adam\n",
    "from keras.callbacks import ModelCheckpoint, ReduceLROnPlateau\n",
    "\n",
    "def rmspe(y_true, y_pred):\n",
    "    pct_var = (y_true - y_pred) / y_true\n",
    "    return K.sqrt(K.mean(K.square(pct_var)))"
   ]
  },
  {
   "cell_type": "code",
   "execution_count": 19,
   "metadata": {},
   "outputs": [],
   "source": [
    "def EmbeddingNet(cat_vars, cont_vars, embedding_sizes):\n",
    "    inputs = []\n",
    "    embed_layers = []\n",
    "    for (c, (in_size, out_size)) in zip(cat_vars, embedding_sizes):\n",
    "        i = Input(shape=(1,))\n",
    "        o = Embedding(in_size, out_size, name=c)(i)\n",
    "        o = Reshape(target_shape=(out_size,))(o)\n",
    "        inputs.append(i)\n",
    "        embed_layers.append(o)\n",
    "\n",
    "    embed = Concatenate()(embed_layers)\n",
    "    embed = Dropout(0.04)(embed)\n",
    "\n",
    "    cont_input = Input(shape=(len(cont_vars),))\n",
    "    inputs.append(cont_input)\n",
    "\n",
    "    x = Concatenate()([embed, cont_input])\n",
    "\n",
    "    x = Dense(1000, kernel_initializer='he_normal')(x)\n",
    "    x = Activation('relu')(x)\n",
    "    x = Dropout(0.1)(x)\n",
    "\n",
    "    x = Dense(500, kernel_initializer='he_normal')(x)\n",
    "    x = Activation('relu')(x)\n",
    "    x = Dropout(0.1)(x)\n",
    "\n",
    "    x = Dense(1, kernel_initializer='he_normal')(x)\n",
    "    x = Activation('linear')(x)\n",
    "\n",
    "    model = Model(inputs=inputs, outputs=x)\n",
    "    opt = Adam(lr=0.001)\n",
    "    model.compile(loss='mean_absolute_error', optimizer=opt, metrics=[rmspe])\n",
    "\n",
    "    return model"
   ]
  },
  {
   "cell_type": "code",
   "execution_count": 56,
   "metadata": {},
   "outputs": [
    {
     "data": {
      "text/plain": [
       "[date\n",
       " 2005-05-16 00:00:00    0\n",
       " 2005-05-16 01:00:00    0\n",
       " 2005-05-16 02:00:00    0\n",
       " 2005-05-16 03:00:00    0\n",
       " 2005-05-16 04:00:00    0\n",
       " 2005-05-16 05:00:00    0\n",
       " 2005-05-16 06:00:00    0\n",
       " 2005-05-16 07:00:00    0\n",
       " 2005-05-16 08:00:00    0\n",
       " 2005-05-16 09:00:00    0\n",
       " 2005-05-16 10:00:00    0\n",
       " 2005-05-16 11:00:00    0\n",
       " 2005-05-16 12:00:00    0\n",
       " 2005-05-16 13:00:00    0\n",
       " 2005-05-16 14:00:00    0\n",
       " 2005-05-16 15:00:00    0\n",
       " 2005-05-16 16:00:00    0\n",
       " 2005-05-16 17:00:00    0\n",
       " 2005-05-16 18:00:00    0\n",
       " 2005-05-16 19:00:00    0\n",
       " 2005-05-16 20:00:00    0\n",
       " 2005-05-16 21:00:00    0\n",
       " 2005-05-16 22:00:00    0\n",
       " 2005-05-16 23:00:00    0\n",
       " 2005-05-17 00:00:00    1\n",
       " 2005-05-17 01:00:00    1\n",
       " 2005-05-17 02:00:00    1\n",
       " 2005-05-17 03:00:00    1\n",
       " 2005-05-17 04:00:00    1\n",
       " 2005-05-17 05:00:00    1\n",
       "                       ..\n",
       " 2005-05-21 18:00:00    5\n",
       " 2005-05-21 19:00:00    5\n",
       " 2005-05-21 20:00:00    5\n",
       " 2005-05-21 21:00:00    5\n",
       " 2005-05-21 22:00:00    5\n",
       " 2005-05-21 23:00:00    5\n",
       " 2005-05-22 00:00:00    6\n",
       " 2005-05-22 01:00:00    6\n",
       " 2005-05-22 02:00:00    6\n",
       " 2005-05-22 03:00:00    6\n",
       " 2005-05-22 04:00:00    6\n",
       " 2005-05-22 05:00:00    6\n",
       " 2005-05-22 06:00:00    6\n",
       " 2005-05-22 07:00:00    6\n",
       " 2005-05-22 08:00:00    6\n",
       " 2005-05-22 09:00:00    6\n",
       " 2005-05-22 10:00:00    6\n",
       " 2005-05-22 11:00:00    6\n",
       " 2005-05-22 12:00:00    6\n",
       " 2005-05-22 13:00:00    6\n",
       " 2005-05-22 14:00:00    6\n",
       " 2005-05-22 15:00:00    6\n",
       " 2005-05-22 16:00:00    6\n",
       " 2005-05-22 17:00:00    6\n",
       " 2005-05-22 18:00:00    6\n",
       " 2005-05-22 19:00:00    6\n",
       " 2005-05-22 20:00:00    6\n",
       " 2005-05-22 21:00:00    6\n",
       " 2005-05-22 22:00:00    6\n",
       " 2005-05-22 23:00:00    6\n",
       " Name: day_of_week, Length: 168, dtype: category\n",
       " Categories (7, int64): [0 < 1 < 2 < 3 < 4 < 5 < 6], date\n",
       " 2005-05-16 00:00:00    5\n",
       " 2005-05-16 01:00:00    5\n",
       " 2005-05-16 02:00:00    5\n",
       " 2005-05-16 03:00:00    5\n",
       " 2005-05-16 04:00:00    5\n",
       " 2005-05-16 05:00:00    5\n",
       " 2005-05-16 06:00:00    5\n",
       " 2005-05-16 07:00:00    5\n",
       " 2005-05-16 08:00:00    5\n",
       " 2005-05-16 09:00:00    5\n",
       " 2005-05-16 10:00:00    5\n",
       " 2005-05-16 11:00:00    5\n",
       " 2005-05-16 12:00:00    5\n",
       " 2005-05-16 13:00:00    5\n",
       " 2005-05-16 14:00:00    5\n",
       " 2005-05-16 15:00:00    5\n",
       " 2005-05-16 16:00:00    5\n",
       " 2005-05-16 17:00:00    5\n",
       " 2005-05-16 18:00:00    5\n",
       " 2005-05-16 19:00:00    5\n",
       " 2005-05-16 20:00:00    5\n",
       " 2005-05-16 21:00:00    5\n",
       " 2005-05-16 22:00:00    5\n",
       " 2005-05-16 23:00:00    5\n",
       " 2005-05-17 00:00:00    5\n",
       " 2005-05-17 01:00:00    5\n",
       " 2005-05-17 02:00:00    5\n",
       " 2005-05-17 03:00:00    5\n",
       " 2005-05-17 04:00:00    5\n",
       " 2005-05-17 05:00:00    5\n",
       "                       ..\n",
       " 2005-05-21 18:00:00    5\n",
       " 2005-05-21 19:00:00    5\n",
       " 2005-05-21 20:00:00    5\n",
       " 2005-05-21 21:00:00    5\n",
       " 2005-05-21 22:00:00    5\n",
       " 2005-05-21 23:00:00    5\n",
       " 2005-05-22 00:00:00    5\n",
       " 2005-05-22 01:00:00    5\n",
       " 2005-05-22 02:00:00    5\n",
       " 2005-05-22 03:00:00    5\n",
       " 2005-05-22 04:00:00    5\n",
       " 2005-05-22 05:00:00    5\n",
       " 2005-05-22 06:00:00    5\n",
       " 2005-05-22 07:00:00    5\n",
       " 2005-05-22 08:00:00    5\n",
       " 2005-05-22 09:00:00    5\n",
       " 2005-05-22 10:00:00    5\n",
       " 2005-05-22 11:00:00    5\n",
       " 2005-05-22 12:00:00    5\n",
       " 2005-05-22 13:00:00    5\n",
       " 2005-05-22 14:00:00    5\n",
       " 2005-05-22 15:00:00    5\n",
       " 2005-05-22 16:00:00    5\n",
       " 2005-05-22 17:00:00    5\n",
       " 2005-05-22 18:00:00    5\n",
       " 2005-05-22 19:00:00    5\n",
       " 2005-05-22 20:00:00    5\n",
       " 2005-05-22 21:00:00    5\n",
       " 2005-05-22 22:00:00    5\n",
       " 2005-05-22 23:00:00    5\n",
       " Name: month, Length: 168, dtype: category\n",
       " Categories (1, int64): [5],                      sin_weekday  cos_weekday  sin_month  cos_month\n",
       " date                                                               \n",
       " 2005-05-16 00:00:00     0.004960     1.418005   0.418697  -1.308744\n",
       " 2005-05-16 01:00:00     0.004960     1.418005   0.418697  -1.308744\n",
       " 2005-05-16 02:00:00     0.004960     1.418005   0.418697  -1.308744\n",
       " 2005-05-16 03:00:00     0.004960     1.418005   0.418697  -1.308744\n",
       " 2005-05-16 04:00:00     0.004960     1.418005   0.418697  -1.308744\n",
       " 2005-05-16 05:00:00     0.004960     1.418005   0.418697  -1.308744\n",
       " 2005-05-16 06:00:00     0.004960     1.418005   0.418697  -1.308744\n",
       " 2005-05-16 07:00:00     0.004960     1.418005   0.418697  -1.308744\n",
       " 2005-05-16 08:00:00     0.004960     1.418005   0.418697  -1.308744\n",
       " 2005-05-16 09:00:00     0.004960     1.418005   0.418697  -1.308744\n",
       " 2005-05-16 10:00:00     0.004960     1.418005   0.418697  -1.308744\n",
       " 2005-05-16 11:00:00     0.004960     1.418005   0.418697  -1.308744\n",
       " 2005-05-16 12:00:00     0.004960     1.418005   0.418697  -1.308744\n",
       " 2005-05-16 13:00:00     0.004960     1.418005   0.418697  -1.308744\n",
       " 2005-05-16 14:00:00     0.004960     1.418005   0.418697  -1.308744\n",
       " 2005-05-16 15:00:00     0.004960     1.418005   0.418697  -1.308744\n",
       " 2005-05-16 16:00:00     0.004960     1.418005   0.418697  -1.308744\n",
       " 2005-05-16 17:00:00     0.004960     1.418005   0.418697  -1.308744\n",
       " 2005-05-16 18:00:00     0.004960     1.418005   0.418697  -1.308744\n",
       " 2005-05-16 19:00:00     0.004960     1.418005   0.418697  -1.308744\n",
       " 2005-05-16 20:00:00     0.004960     1.418005   0.418697  -1.308744\n",
       " 2005-05-16 21:00:00     0.004960     1.418005   0.418697  -1.308744\n",
       " 2005-05-16 22:00:00     0.004960     1.418005   0.418697  -1.308744\n",
       " 2005-05-16 23:00:00     0.004960     1.418005   0.418697  -1.308744\n",
       " 2005-05-17 00:00:00     1.110786     0.885600   0.418697  -1.308744\n",
       " 2005-05-17 01:00:00     1.110786     0.885600   0.418697  -1.308744\n",
       " 2005-05-17 02:00:00     1.110786     0.885600   0.418697  -1.308744\n",
       " 2005-05-17 03:00:00     1.110786     0.885600   0.418697  -1.308744\n",
       " 2005-05-17 04:00:00     1.110786     0.885600   0.418697  -1.308744\n",
       " 2005-05-17 05:00:00     1.110786     0.885600   0.418697  -1.308744\n",
       " ...                          ...          ...        ...        ...\n",
       " 2005-05-21 18:00:00    -1.373984    -0.310702   0.418697  -1.308744\n",
       " 2005-05-21 19:00:00    -1.373984    -0.310702   0.418697  -1.308744\n",
       " 2005-05-21 20:00:00    -1.373984    -0.310702   0.418697  -1.308744\n",
       " 2005-05-21 21:00:00    -1.373984    -0.310702   0.418697  -1.308744\n",
       " 2005-05-21 22:00:00    -1.373984    -0.310702   0.418697  -1.308744\n",
       " 2005-05-21 23:00:00    -1.373984    -0.310702   0.418697  -1.308744\n",
       " 2005-05-22 00:00:00    -1.100867     0.885600   0.418697  -1.308744\n",
       " 2005-05-22 01:00:00    -1.100867     0.885600   0.418697  -1.308744\n",
       " 2005-05-22 02:00:00    -1.100867     0.885600   0.418697  -1.308744\n",
       " 2005-05-22 03:00:00    -1.100867     0.885600   0.418697  -1.308744\n",
       " 2005-05-22 04:00:00    -1.100867     0.885600   0.418697  -1.308744\n",
       " 2005-05-22 05:00:00    -1.100867     0.885600   0.418697  -1.308744\n",
       " 2005-05-22 06:00:00    -1.100867     0.885600   0.418697  -1.308744\n",
       " 2005-05-22 07:00:00    -1.100867     0.885600   0.418697  -1.308744\n",
       " 2005-05-22 08:00:00    -1.100867     0.885600   0.418697  -1.308744\n",
       " 2005-05-22 09:00:00    -1.100867     0.885600   0.418697  -1.308744\n",
       " 2005-05-22 10:00:00    -1.100867     0.885600   0.418697  -1.308744\n",
       " 2005-05-22 11:00:00    -1.100867     0.885600   0.418697  -1.308744\n",
       " 2005-05-22 12:00:00    -1.100867     0.885600   0.418697  -1.308744\n",
       " 2005-05-22 13:00:00    -1.100867     0.885600   0.418697  -1.308744\n",
       " 2005-05-22 14:00:00    -1.100867     0.885600   0.418697  -1.308744\n",
       " 2005-05-22 15:00:00    -1.100867     0.885600   0.418697  -1.308744\n",
       " 2005-05-22 16:00:00    -1.100867     0.885600   0.418697  -1.308744\n",
       " 2005-05-22 17:00:00    -1.100867     0.885600   0.418697  -1.308744\n",
       " 2005-05-22 18:00:00    -1.100867     0.885600   0.418697  -1.308744\n",
       " 2005-05-22 19:00:00    -1.100867     0.885600   0.418697  -1.308744\n",
       " 2005-05-22 20:00:00    -1.100867     0.885600   0.418697  -1.308744\n",
       " 2005-05-22 21:00:00    -1.100867     0.885600   0.418697  -1.308744\n",
       " 2005-05-22 22:00:00    -1.100867     0.885600   0.418697  -1.308744\n",
       " 2005-05-22 23:00:00    -1.100867     0.885600   0.418697  -1.308744\n",
       " \n",
       " [168 rows x 4 columns]]"
      ]
     },
     "execution_count": 56,
     "metadata": {},
     "output_type": "execute_result"
    }
   ],
   "source": [
    "X_val_array"
   ]
  },
  {
   "cell_type": "code",
   "execution_count": 20,
   "metadata": {},
   "outputs": [
    {
     "name": "stdout",
     "output_type": "stream",
     "text": [
      "Train on 12024 samples, validate on 168 samples\n",
      "Epoch 1/20\n",
      "12024/12024 [==============================] - 2s 171us/step - loss: 5.0640 - rmspe: 0.3451 - val_loss: 3.1035 - val_rmspe: 0.2383\n",
      "Epoch 2/20\n",
      "12024/12024 [==============================] - 1s 97us/step - loss: 3.9933 - rmspe: 0.2908 - val_loss: 3.0477 - val_rmspe: 0.2343\n",
      "Epoch 3/20\n",
      "12024/12024 [==============================] - 1s 90us/step - loss: 4.1808 - rmspe: 0.3021 - val_loss: 2.5066 - val_rmspe: 0.2040\n",
      "Epoch 4/20\n",
      "12024/12024 [==============================] - 1s 95us/step - loss: 4.3133 - rmspe: 0.3154 - val_loss: 2.0659 - val_rmspe: 0.2197\n",
      "\n",
      "Epoch 00004: ReduceLROnPlateau reducing learning rate to 0.00020000000949949026.\n",
      "Epoch 5/20\n",
      "12024/12024 [==============================] - 1s 94us/step - loss: 7.1259 - rmspe: 0.4363 - val_loss: 10.1193 - val_rmspe: 0.8948\n",
      "Epoch 6/20\n",
      "12024/12024 [==============================] - 1s 92us/step - loss: 4.5002 - rmspe: 0.3152 - val_loss: 6.8808 - val_rmspe: 0.6468\n",
      "Epoch 7/20\n",
      "12024/12024 [==============================] - 1s 91us/step - loss: 4.0397 - rmspe: 0.2886 - val_loss: 4.8871 - val_rmspe: 0.4995\n",
      "\n",
      "Epoch 00007: ReduceLROnPlateau reducing learning rate to 0.0001.\n",
      "Epoch 8/20\n",
      "12024/12024 [==============================] - 1s 92us/step - loss: 3.8488 - rmspe: 0.2793 - val_loss: 4.3129 - val_rmspe: 0.4576\n",
      "Epoch 9/20\n",
      "12024/12024 [==============================] - 1s 92us/step - loss: 3.7974 - rmspe: 0.2761 - val_loss: 3.8312 - val_rmspe: 0.4214\n",
      "Epoch 10/20\n",
      "12024/12024 [==============================] - 1s 94us/step - loss: 3.7554 - rmspe: 0.2722 - val_loss: 3.5166 - val_rmspe: 0.3972\n",
      "Epoch 11/20\n",
      "12024/12024 [==============================] - 1s 93us/step - loss: 3.7474 - rmspe: 0.2717 - val_loss: 3.2689 - val_rmspe: 0.3771\n",
      "Epoch 12/20\n",
      "12024/12024 [==============================] - 1s 92us/step - loss: 3.7142 - rmspe: 0.2691 - val_loss: 3.1340 - val_rmspe: 0.3662\n",
      "Epoch 13/20\n",
      "12024/12024 [==============================] - 1s 89us/step - loss: 3.7197 - rmspe: 0.2698 - val_loss: 2.9260 - val_rmspe: 0.3484\n",
      "Epoch 14/20\n",
      "12024/12024 [==============================] - 1s 89us/step - loss: 3.7064 - rmspe: 0.2682 - val_loss: 2.7405 - val_rmspe: 0.3321\n",
      "Epoch 15/20\n",
      "12024/12024 [==============================] - 1s 94us/step - loss: 3.6997 - rmspe: 0.2685 - val_loss: 2.6628 - val_rmspe: 0.3250\n",
      "Epoch 16/20\n",
      "12024/12024 [==============================] - 1s 91us/step - loss: 3.6910 - rmspe: 0.2670 - val_loss: 2.5957 - val_rmspe: 0.3192\n",
      "Epoch 17/20\n",
      "12024/12024 [==============================] - 1s 94us/step - loss: 3.6841 - rmspe: 0.2678 - val_loss: 2.5529 - val_rmspe: 0.3152\n",
      "Epoch 18/20\n",
      "12024/12024 [==============================] - 1s 90us/step - loss: 3.6843 - rmspe: 0.2673 - val_loss: 2.4743 - val_rmspe: 0.3085\n",
      "Epoch 19/20\n",
      "12024/12024 [==============================] - 1s 92us/step - loss: 3.6813 - rmspe: 0.2673 - val_loss: 2.4165 - val_rmspe: 0.3032\n",
      "Epoch 20/20\n",
      "12024/12024 [==============================] - 1s 89us/step - loss: 3.6733 - rmspe: 0.2666 - val_loss: 2.4242 - val_rmspe: 0.3040\n"
     ]
    }
   ],
   "source": [
    "model = EmbeddingNet(cat_vars, cont_vars, embedding_sizes)\n",
    "lr_reducer = ReduceLROnPlateau(monitor='val_loss', factor=0.2, patience=3,\n",
    "                               verbose=1, mode='auto', min_delta=10, cooldown=0,\n",
    "                               min_lr=0.0001)\n",
    "checkpoint = ModelCheckpoint('best_model_weights.hdf5', monitor='val_loss',\n",
    "                             save_best_only=True)\n",
    "history = model.fit(x=X_array, y=y, batch_size=128, epochs=20, verbose=1,\n",
    "                    callbacks=[lr_reducer, checkpoint],\n",
    "                    validation_data=(X_val_array, y_val), shuffle=False)"
   ]
  },
  {
   "cell_type": "code",
   "execution_count": 21,
   "metadata": {},
   "outputs": [
    {
     "name": "stdout",
     "output_type": "stream",
     "text": [
      "min training loss = 3.6733165033166597\n",
      "min val loss = 2.0658841871079945\n",
      "min val epoch = 4\n"
     ]
    }
   ],
   "source": [
    "loss_history = history.history['loss']\n",
    "val_loss_history = history.history['val_loss']\n",
    "min_val_epoch = val_loss_history.index(min(val_loss_history)) + 1\n",
    "\n",
    "print('min training loss = {0}'.format(min(loss_history)))\n",
    "print('min val loss = {0}'.format(min(val_loss_history)))\n",
    "print('min val epoch = {0}'.format(min_val_epoch))"
   ]
  },
  {
   "cell_type": "code",
   "execution_count": 23,
   "metadata": {},
   "outputs": [
    {
     "data": {
      "image/png": "[encoded data removed]",
      "text/plain": [
       "<Figure size 576x432 with 1 Axes>"
      ]
     },
     "metadata": {
      "needs_background": "light"
     },
     "output_type": "display_data"
    }
   ],
   "source": [
    "\n",
    "def plot_loss_history(history, n_epochs):\n",
    "    fig, ax = plt.subplots(figsize=(8, 8 * 3 / 4))\n",
    "    ax.plot(list(range(n_epochs)), history.history['loss'], label='Training Loss')\n",
    "    ax.plot(list(range(n_epochs)), history.history['val_loss'], label='Validation Loss')\n",
    "    ax.set_xlabel('Epoch')\n",
    "    ax.set_ylabel('Loss')\n",
    "    ax.legend(loc='upper right')\n",
    "    fig.tight_layout()\n",
    "\n",
    "plot_loss_history(history, 20)"
   ]
  },
  {
   "cell_type": "code",
   "execution_count": 24,
   "metadata": {},
   "outputs": [
    {
     "data": {
      "image/png": "[encoded data removed]",
      "text/plain": [
       "<Figure size 576x432 with 1 Axes>"
      ]
     },
     "metadata": {
      "needs_background": "light"
     },
     "output_type": "display_data"
    }
   ],
   "source": [
    "def plot_learning_rate(history):\n",
    "    fig, ax = plt.subplots(figsize=(8, 8 * 3 / 4))\n",
    "    ax.set_xlabel('Training Iterations')\n",
    "    ax.set_ylabel('Learning Rate')\n",
    "    ax.plot(history.history['lr'])\n",
    "    fig.tight_layout()\n",
    "\n",
    "plot_learning_rate(history)"
   ]
  },
  {
   "cell_type": "code",
   "execution_count": 59,
   "metadata": {},
   "outputs": [
    {
     "data": {
      "text/plain": [
       "[date\n",
       " 2004-01-01 00:00:00    3\n",
       " 2004-01-01 01:00:00    3\n",
       " 2004-01-01 02:00:00    3\n",
       " 2004-01-01 03:00:00    3\n",
       " 2004-01-01 04:00:00    3\n",
       " 2004-01-01 05:00:00    3\n",
       " 2004-01-01 06:00:00    3\n",
       " 2004-01-01 07:00:00    3\n",
       " 2004-01-01 08:00:00    3\n",
       " 2004-01-01 09:00:00    3\n",
       " 2004-01-01 10:00:00    3\n",
       " 2004-01-01 11:00:00    3\n",
       " 2004-01-01 12:00:00    3\n",
       " 2004-01-01 13:00:00    3\n",
       " 2004-01-01 14:00:00    3\n",
       " 2004-01-01 15:00:00    3\n",
       " 2004-01-01 16:00:00    3\n",
       " 2004-01-01 17:00:00    3\n",
       " 2004-01-01 18:00:00    3\n",
       " 2004-01-01 19:00:00    3\n",
       " 2004-01-01 20:00:00    3\n",
       " 2004-01-01 21:00:00    3\n",
       " 2004-01-01 22:00:00    3\n",
       " 2004-01-01 23:00:00    3\n",
       " 2004-01-02 00:00:00    4\n",
       " 2004-01-02 01:00:00    4\n",
       " 2004-01-02 02:00:00    4\n",
       " 2004-01-02 03:00:00    4\n",
       " 2004-01-02 04:00:00    4\n",
       " 2004-01-02 05:00:00    4\n",
       "                       ..\n",
       " 2005-05-14 18:00:00    5\n",
       " 2005-05-14 19:00:00    5\n",
       " 2005-05-14 20:00:00    5\n",
       " 2005-05-14 21:00:00    5\n",
       " 2005-05-14 22:00:00    5\n",
       " 2005-05-14 23:00:00    5\n",
       " 2005-05-15 00:00:00    6\n",
       " 2005-05-15 01:00:00    6\n",
       " 2005-05-15 02:00:00    6\n",
       " 2005-05-15 03:00:00    6\n",
       " 2005-05-15 04:00:00    6\n",
       " 2005-05-15 05:00:00    6\n",
       " 2005-05-15 06:00:00    6\n",
       " 2005-05-15 07:00:00    6\n",
       " 2005-05-15 08:00:00    6\n",
       " 2005-05-15 09:00:00    6\n",
       " 2005-05-15 10:00:00    6\n",
       " 2005-05-15 11:00:00    6\n",
       " 2005-05-15 12:00:00    6\n",
       " 2005-05-15 13:00:00    6\n",
       " 2005-05-15 14:00:00    6\n",
       " 2005-05-15 15:00:00    6\n",
       " 2005-05-15 16:00:00    6\n",
       " 2005-05-15 17:00:00    6\n",
       " 2005-05-15 18:00:00    6\n",
       " 2005-05-15 19:00:00    6\n",
       " 2005-05-15 20:00:00    6\n",
       " 2005-05-15 21:00:00    6\n",
       " 2005-05-15 22:00:00    6\n",
       " 2005-05-15 23:00:00    6\n",
       " Name: day_of_week, Length: 12024, dtype: category\n",
       " Categories (7, int64): [0 < 1 < 2 < 3 < 4 < 5 < 6], date\n",
       " 2004-01-01 00:00:00    1\n",
       " 2004-01-01 01:00:00    1\n",
       " 2004-01-01 02:00:00    1\n",
       " 2004-01-01 03:00:00    1\n",
       " 2004-01-01 04:00:00    1\n",
       " 2004-01-01 05:00:00    1\n",
       " 2004-01-01 06:00:00    1\n",
       " 2004-01-01 07:00:00    1\n",
       " 2004-01-01 08:00:00    1\n",
       " 2004-01-01 09:00:00    1\n",
       " 2004-01-01 10:00:00    1\n",
       " 2004-01-01 11:00:00    1\n",
       " 2004-01-01 12:00:00    1\n",
       " 2004-01-01 13:00:00    1\n",
       " 2004-01-01 14:00:00    1\n",
       " 2004-01-01 15:00:00    1\n",
       " 2004-01-01 16:00:00    1\n",
       " 2004-01-01 17:00:00    1\n",
       " 2004-01-01 18:00:00    1\n",
       " 2004-01-01 19:00:00    1\n",
       " 2004-01-01 20:00:00    1\n",
       " 2004-01-01 21:00:00    1\n",
       " 2004-01-01 22:00:00    1\n",
       " 2004-01-01 23:00:00    1\n",
       " 2004-01-02 00:00:00    1\n",
       " 2004-01-02 01:00:00    1\n",
       " 2004-01-02 02:00:00    1\n",
       " 2004-01-02 03:00:00    1\n",
       " 2004-01-02 04:00:00    1\n",
       " 2004-01-02 05:00:00    1\n",
       "                       ..\n",
       " 2005-05-14 18:00:00    5\n",
       " 2005-05-14 19:00:00    5\n",
       " 2005-05-14 20:00:00    5\n",
       " 2005-05-14 21:00:00    5\n",
       " 2005-05-14 22:00:00    5\n",
       " 2005-05-14 23:00:00    5\n",
       " 2005-05-15 00:00:00    5\n",
       " 2005-05-15 01:00:00    5\n",
       " 2005-05-15 02:00:00    5\n",
       " 2005-05-15 03:00:00    5\n",
       " 2005-05-15 04:00:00    5\n",
       " 2005-05-15 05:00:00    5\n",
       " 2005-05-15 06:00:00    5\n",
       " 2005-05-15 07:00:00    5\n",
       " 2005-05-15 08:00:00    5\n",
       " 2005-05-15 09:00:00    5\n",
       " 2005-05-15 10:00:00    5\n",
       " 2005-05-15 11:00:00    5\n",
       " 2005-05-15 12:00:00    5\n",
       " 2005-05-15 13:00:00    5\n",
       " 2005-05-15 14:00:00    5\n",
       " 2005-05-15 15:00:00    5\n",
       " 2005-05-15 16:00:00    5\n",
       " 2005-05-15 17:00:00    5\n",
       " 2005-05-15 18:00:00    5\n",
       " 2005-05-15 19:00:00    5\n",
       " 2005-05-15 20:00:00    5\n",
       " 2005-05-15 21:00:00    5\n",
       " 2005-05-15 22:00:00    5\n",
       " 2005-05-15 23:00:00    5\n",
       " Name: month, Length: 12024, dtype: category\n",
       " Categories (12, int64): [1 < 2 < 3 < 4 ... 9 < 10 < 11 < 12],                      sin_weekday  cos_weekday  sin_month  cos_month\n",
       " date                                                               \n",
       " 2004-01-01 00:00:00     0.618647    -1.270061   0.418697   1.235501\n",
       " 2004-01-01 01:00:00     0.618647    -1.270061   0.418697   1.235501\n",
       " 2004-01-01 02:00:00     0.618647    -1.270061   0.418697   1.235501\n",
       " 2004-01-01 03:00:00     0.618647    -1.270061   0.418697   1.235501\n",
       " 2004-01-01 04:00:00     0.618647    -1.270061   0.418697   1.235501\n",
       " 2004-01-01 05:00:00     0.618647    -1.270061   0.418697   1.235501\n",
       " 2004-01-01 06:00:00     0.618647    -1.270061   0.418697   1.235501\n",
       " 2004-01-01 07:00:00     0.618647    -1.270061   0.418697   1.235501\n",
       " 2004-01-01 08:00:00     0.618647    -1.270061   0.418697   1.235501\n",
       " 2004-01-01 09:00:00     0.618647    -1.270061   0.418697   1.235501\n",
       " 2004-01-01 10:00:00     0.618647    -1.270061   0.418697   1.235501\n",
       " 2004-01-01 11:00:00     0.618647    -1.270061   0.418697   1.235501\n",
       " 2004-01-01 12:00:00     0.618647    -1.270061   0.418697   1.235501\n",
       " 2004-01-01 13:00:00     0.618647    -1.270061   0.418697   1.235501\n",
       " 2004-01-01 14:00:00     0.618647    -1.270061   0.418697   1.235501\n",
       " 2004-01-01 15:00:00     0.618647    -1.270061   0.418697   1.235501\n",
       " 2004-01-01 16:00:00     0.618647    -1.270061   0.418697   1.235501\n",
       " 2004-01-01 17:00:00     0.618647    -1.270061   0.418697   1.235501\n",
       " 2004-01-01 18:00:00     0.618647    -1.270061   0.418697   1.235501\n",
       " 2004-01-01 19:00:00     0.618647    -1.270061   0.418697   1.235501\n",
       " 2004-01-01 20:00:00     0.618647    -1.270061   0.418697   1.235501\n",
       " 2004-01-01 21:00:00     0.618647    -1.270061   0.418697   1.235501\n",
       " 2004-01-01 22:00:00     0.618647    -1.270061   0.418697   1.235501\n",
       " 2004-01-01 23:00:00     0.618647    -1.270061   0.418697   1.235501\n",
       " 2004-01-02 00:00:00    -0.608728    -1.270061   0.418697   1.235501\n",
       " 2004-01-02 01:00:00    -0.608728    -1.270061   0.418697   1.235501\n",
       " 2004-01-02 02:00:00    -0.608728    -1.270061   0.418697   1.235501\n",
       " 2004-01-02 03:00:00    -0.608728    -1.270061   0.418697   1.235501\n",
       " 2004-01-02 04:00:00    -0.608728    -1.270061   0.418697   1.235501\n",
       " 2004-01-02 05:00:00    -0.608728    -1.270061   0.418697   1.235501\n",
       " ...                          ...          ...        ...        ...\n",
       " 2005-05-14 18:00:00    -1.373984    -0.310702   0.418697  -1.308744\n",
       " 2005-05-14 19:00:00    -1.373984    -0.310702   0.418697  -1.308744\n",
       " 2005-05-14 20:00:00    -1.373984    -0.310702   0.418697  -1.308744\n",
       " 2005-05-14 21:00:00    -1.373984    -0.310702   0.418697  -1.308744\n",
       " 2005-05-14 22:00:00    -1.373984    -0.310702   0.418697  -1.308744\n",
       " 2005-05-14 23:00:00    -1.373984    -0.310702   0.418697  -1.308744\n",
       " 2005-05-15 00:00:00    -1.100867     0.885600   0.418697  -1.308744\n",
       " 2005-05-15 01:00:00    -1.100867     0.885600   0.418697  -1.308744\n",
       " 2005-05-15 02:00:00    -1.100867     0.885600   0.418697  -1.308744\n",
       " 2005-05-15 03:00:00    -1.100867     0.885600   0.418697  -1.308744\n",
       " 2005-05-15 04:00:00    -1.100867     0.885600   0.418697  -1.308744\n",
       " 2005-05-15 05:00:00    -1.100867     0.885600   0.418697  -1.308744\n",
       " 2005-05-15 06:00:00    -1.100867     0.885600   0.418697  -1.308744\n",
       " 2005-05-15 07:00:00    -1.100867     0.885600   0.418697  -1.308744\n",
       " 2005-05-15 08:00:00    -1.100867     0.885600   0.418697  -1.308744\n",
       " 2005-05-15 09:00:00    -1.100867     0.885600   0.418697  -1.308744\n",
       " 2005-05-15 10:00:00    -1.100867     0.885600   0.418697  -1.308744\n",
       " 2005-05-15 11:00:00    -1.100867     0.885600   0.418697  -1.308744\n",
       " 2005-05-15 12:00:00    -1.100867     0.885600   0.418697  -1.308744\n",
       " 2005-05-15 13:00:00    -1.100867     0.885600   0.418697  -1.308744\n",
       " 2005-05-15 14:00:00    -1.100867     0.885600   0.418697  -1.308744\n",
       " 2005-05-15 15:00:00    -1.100867     0.885600   0.418697  -1.308744\n",
       " 2005-05-15 16:00:00    -1.100867     0.885600   0.418697  -1.308744\n",
       " 2005-05-15 17:00:00    -1.100867     0.885600   0.418697  -1.308744\n",
       " 2005-05-15 18:00:00    -1.100867     0.885600   0.418697  -1.308744\n",
       " 2005-05-15 19:00:00    -1.100867     0.885600   0.418697  -1.308744\n",
       " 2005-05-15 20:00:00    -1.100867     0.885600   0.418697  -1.308744\n",
       " 2005-05-15 21:00:00    -1.100867     0.885600   0.418697  -1.308744\n",
       " 2005-05-15 22:00:00    -1.100867     0.885600   0.418697  -1.308744\n",
       " 2005-05-15 23:00:00    -1.100867     0.885600   0.418697  -1.308744\n",
       " \n",
       " [12024 rows x 4 columns]]"
      ]
     },
     "execution_count": 59,
     "metadata": {},
     "output_type": "execute_result"
    }
   ],
   "source": [
    "X_array"
   ]
  },
  {
   "cell_type": "code",
   "execution_count": 26,
   "metadata": {},
   "outputs": [
    {
     "name": "stdout",
     "output_type": "stream",
     "text": [
      "Train on 12024 samples, validate on 168 samples\n",
      "Epoch 1/10\n",
      "12024/12024 [==============================] - 2s 185us/step - loss: 5.1553 - rmspe: 0.3482 - val_loss: 2.8275 - val_rmspe: 0.2182\n",
      "Epoch 2/10\n",
      "12024/12024 [==============================] - 1s 93us/step - loss: 3.9323 - rmspe: 0.2849 - val_loss: 2.8884 - val_rmspe: 0.2203\n",
      "Epoch 3/10\n",
      "12024/12024 [==============================] - 1s 98us/step - loss: 4.0687 - rmspe: 0.2938 - val_loss: 2.6617 - val_rmspe: 0.2110\n",
      "Epoch 4/10\n",
      "12024/12024 [==============================] - 1s 107us/step - loss: 4.1558 - rmspe: 0.3037 - val_loss: 2.2378 - val_rmspe: 0.2168\n",
      "Epoch 5/10\n",
      "12024/12024 [==============================] - 1s 113us/step - loss: 4.8906 - rmspe: 0.3444 - val_loss: 2.8556 - val_rmspe: 0.3349\n",
      "Epoch 6/10\n",
      "12024/12024 [==============================] - 1s 114us/step - loss: 5.6150 - rmspe: 0.3719 - val_loss: 4.3877 - val_rmspe: 0.4656\n",
      "Epoch 7/10\n",
      "12024/12024 [==============================] - 1s 103us/step - loss: 5.9991 - rmspe: 0.3867 - val_loss: 5.8209 - val_rmspe: 0.5663\n",
      "Epoch 8/10\n",
      "12024/12024 [==============================] - 1s 99us/step - loss: 5.1134 - rmspe: 0.3404 - val_loss: 2.2924 - val_rmspe: 0.2862\n",
      "Epoch 9/10\n",
      "12024/12024 [==============================] - 1s 101us/step - loss: 4.0823 - rmspe: 0.2990 - val_loss: 2.1152 - val_rmspe: 0.2016\n",
      "Epoch 10/10\n",
      "12024/12024 [==============================] - 1s 113us/step - loss: 4.2712 - rmspe: 0.3168 - val_loss: 2.8618 - val_rmspe: 0.2205\n"
     ]
    }
   ],
   "source": [
    "model2 = EmbeddingNet(cat_vars, cont_vars, embedding_sizes)\n",
    "batch_size = 128\n",
    "n_epochs = 10\n",
    "\n",
    "history = model2.fit(x=X_array, y=y, batch_size=batch_size, epochs=n_epochs,\n",
    "                     verbose=1, callbacks=[checkpoint],\n",
    "                     validation_data=(X_val_array, y_val), shuffle=False)"
   ]
  },
  {
   "cell_type": "code",
   "execution_count": 39,
   "metadata": {},
   "outputs": [],
   "source": [
    "test_orig = pd.read_csv('area1_ponderada.csv',header=None)\n",
    "test_orig.columns = ['date','value']\n"
   ]
  },
  {
   "cell_type": "code",
   "execution_count": 41,
   "metadata": {},
   "outputs": [],
   "source": [
    "test_orig['date'] = pd.to_datetime(test_orig['date'])\n",
    "test_orig['day_of_week'] = test_orig['date'].dt.dayofweek\n",
    "test_orig['month'] = test_orig['date'].dt.month\n",
    "test_orig['sin_weekday'] = np.sin(2*np.pi*test_orig['date'].dt.dayofweek/7)\n",
    "test_orig['cos_weekday'] = np.cos(2*np.pi*test_orig['date'].dt.dayofweek/7)\n",
    "test_orig['sin_month'] = np.sin(2*np.pi*test_orig['date'].dt.month/12)\n",
    "test_orig['cos_month'] = np.cos(2*np.pi*test_orig['date'].dt.month/12)\n",
    "test_orig = test_orig.set_index(['date'])\n",
    "test_orig = test_orig.sort_index()"
   ]
  },
  {
   "cell_type": "code",
   "execution_count": 43,
   "metadata": {},
   "outputs": [
    {
     "name": "stdout",
     "output_type": "stream",
     "text": [
      "day_of_week: [0 1 2 3 4 5 6]\n",
      "month: [5]\n"
     ]
    }
   ],
   "source": [
    "cat_vars = ['day_of_week','month']\n",
    "cont_vars = ['sin_weekday','cos_weekday','sin_month','cos_month']\n",
    "encoders = {}\n",
    "for v in cat_vars:\n",
    "    le = LabelEncoder()\n",
    "    le.fit(test_orig[v].values)\n",
    "    encoders[v] = le\n",
    "    test_orig.loc[:, v] = le.transform(test_orig[v].values)\n",
    "    print('{0}: {1}'.format(v, le.classes_))"
   ]
  },
  {
   "cell_type": "code",
   "execution_count": 45,
   "metadata": {},
   "outputs": [],
   "source": [
    "test_orig = test_orig.drop('value', axis=1)"
   ]
  },
  {
   "cell_type": "code",
   "execution_count": 49,
   "metadata": {},
   "outputs": [
    {
     "data": {
      "text/plain": [
       "['sin_weekday', 'cos_weekday', 'sin_month', 'cos_month']"
      ]
     },
     "execution_count": 49,
     "metadata": {},
     "output_type": "execute_result"
    }
   ],
   "source": [
    "cont_vars"
   ]
  },
  {
   "cell_type": "code",
   "execution_count": 50,
   "metadata": {},
   "outputs": [],
   "source": [
    "test_orig[cont_vars]=scaler.transform(test_orig[cont_vars].values)"
   ]
  },
  {
   "cell_type": "code",
   "execution_count": 51,
   "metadata": {},
   "outputs": [],
   "source": [
    "for v in cat_vars:\n",
    "    test_orig[v] = test_orig[v].astype('int').astype('category').cat.as_ordered()\n",
    "    for v in cont_vars:\n",
    "        test_orig[v] = test_orig[v].astype('float32')\n",
    "        "
   ]
  },
  {
   "cell_type": "code",
   "execution_count": 65,
   "metadata": {},
   "outputs": [
    {
     "ename": "ValueError",
     "evalue": "Error when checking input: expected input_12 to have shape (4,) but got array with shape (166,)",
     "output_type": "error",
     "traceback": [
      "\u001b[0;31m---------------------------------------------------------------------------\u001b[0m",
      "\u001b[0;31mValueError\u001b[0m                                Traceback (most recent call last)",
      "\u001b[0;32m<ipython-input-65-bdbc6e3b57d9>\u001b[0m in \u001b[0;36m<module>\u001b[0;34m\u001b[0m\n\u001b[0;32m----> 1\u001b[0;31m \u001b[0mmodel2\u001b[0m\u001b[0;34m.\u001b[0m\u001b[0mpredict\u001b[0m\u001b[0;34m(\u001b[0m\u001b[0mX_test\u001b[0m\u001b[0;34m)\u001b[0m\u001b[0;34m\u001b[0m\u001b[0;34m\u001b[0m\u001b[0m\n\u001b[0m",
      "\u001b[0;32m~/anaconda3/envs/hckt03/lib/python3.7/site-packages/keras/engine/training.py\u001b[0m in \u001b[0;36mpredict\u001b[0;34m(self, x, batch_size, verbose, steps)\u001b[0m\n\u001b[1;32m   1147\u001b[0m                              'argument.')\n\u001b[1;32m   1148\u001b[0m         \u001b[0;31m# Validate user data.\u001b[0m\u001b[0;34m\u001b[0m\u001b[0;34m\u001b[0m\u001b[0;34m\u001b[0m\u001b[0m\n\u001b[0;32m-> 1149\u001b[0;31m         \u001b[0mx\u001b[0m\u001b[0;34m,\u001b[0m \u001b[0m_\u001b[0m\u001b[0;34m,\u001b[0m \u001b[0m_\u001b[0m \u001b[0;34m=\u001b[0m \u001b[0mself\u001b[0m\u001b[0;34m.\u001b[0m\u001b[0m_standardize_user_data\u001b[0m\u001b[0;34m(\u001b[0m\u001b[0mx\u001b[0m\u001b[0;34m)\u001b[0m\u001b[0;34m\u001b[0m\u001b[0;34m\u001b[0m\u001b[0m\n\u001b[0m\u001b[1;32m   1150\u001b[0m         \u001b[0;32mif\u001b[0m \u001b[0mself\u001b[0m\u001b[0;34m.\u001b[0m\u001b[0mstateful\u001b[0m\u001b[0;34m:\u001b[0m\u001b[0;34m\u001b[0m\u001b[0;34m\u001b[0m\u001b[0m\n\u001b[1;32m   1151\u001b[0m             \u001b[0;32mif\u001b[0m \u001b[0mx\u001b[0m\u001b[0;34m[\u001b[0m\u001b[0;36m0\u001b[0m\u001b[0;34m]\u001b[0m\u001b[0;34m.\u001b[0m\u001b[0mshape\u001b[0m\u001b[0;34m[\u001b[0m\u001b[0;36m0\u001b[0m\u001b[0;34m]\u001b[0m \u001b[0;34m>\u001b[0m \u001b[0mbatch_size\u001b[0m \u001b[0;32mand\u001b[0m \u001b[0mx\u001b[0m\u001b[0;34m[\u001b[0m\u001b[0;36m0\u001b[0m\u001b[0;34m]\u001b[0m\u001b[0;34m.\u001b[0m\u001b[0mshape\u001b[0m\u001b[0;34m[\u001b[0m\u001b[0;36m0\u001b[0m\u001b[0;34m]\u001b[0m \u001b[0;34m%\u001b[0m \u001b[0mbatch_size\u001b[0m \u001b[0;34m!=\u001b[0m \u001b[0;36m0\u001b[0m\u001b[0;34m:\u001b[0m\u001b[0;34m\u001b[0m\u001b[0;34m\u001b[0m\u001b[0m\n",
      "\u001b[0;32m~/anaconda3/envs/hckt03/lib/python3.7/site-packages/keras/engine/training.py\u001b[0m in \u001b[0;36m_standardize_user_data\u001b[0;34m(self, x, y, sample_weight, class_weight, check_array_lengths, batch_size)\u001b[0m\n\u001b[1;32m    749\u001b[0m             \u001b[0mfeed_input_shapes\u001b[0m\u001b[0;34m,\u001b[0m\u001b[0;34m\u001b[0m\u001b[0;34m\u001b[0m\u001b[0m\n\u001b[1;32m    750\u001b[0m             \u001b[0mcheck_batch_axis\u001b[0m\u001b[0;34m=\u001b[0m\u001b[0;32mFalse\u001b[0m\u001b[0;34m,\u001b[0m  \u001b[0;31m# Don't enforce the batch size.\u001b[0m\u001b[0;34m\u001b[0m\u001b[0;34m\u001b[0m\u001b[0m\n\u001b[0;32m--> 751\u001b[0;31m             exception_prefix='input')\n\u001b[0m\u001b[1;32m    752\u001b[0m \u001b[0;34m\u001b[0m\u001b[0m\n\u001b[1;32m    753\u001b[0m         \u001b[0;32mif\u001b[0m \u001b[0my\u001b[0m \u001b[0;32mis\u001b[0m \u001b[0;32mnot\u001b[0m \u001b[0;32mNone\u001b[0m\u001b[0;34m:\u001b[0m\u001b[0;34m\u001b[0m\u001b[0;34m\u001b[0m\u001b[0m\n",
      "\u001b[0;32m~/anaconda3/envs/hckt03/lib/python3.7/site-packages/keras/engine/training_utils.py\u001b[0m in \u001b[0;36mstandardize_input_data\u001b[0;34m(data, names, shapes, check_batch_axis, exception_prefix)\u001b[0m\n\u001b[1;32m    136\u001b[0m                             \u001b[0;34m': expected '\u001b[0m \u001b[0;34m+\u001b[0m \u001b[0mnames\u001b[0m\u001b[0;34m[\u001b[0m\u001b[0mi\u001b[0m\u001b[0;34m]\u001b[0m \u001b[0;34m+\u001b[0m \u001b[0;34m' to have shape '\u001b[0m \u001b[0;34m+\u001b[0m\u001b[0;34m\u001b[0m\u001b[0;34m\u001b[0m\u001b[0m\n\u001b[1;32m    137\u001b[0m                             \u001b[0mstr\u001b[0m\u001b[0;34m(\u001b[0m\u001b[0mshape\u001b[0m\u001b[0;34m)\u001b[0m \u001b[0;34m+\u001b[0m \u001b[0;34m' but got array with shape '\u001b[0m \u001b[0;34m+\u001b[0m\u001b[0;34m\u001b[0m\u001b[0;34m\u001b[0m\u001b[0m\n\u001b[0;32m--> 138\u001b[0;31m                             str(data_shape))\n\u001b[0m\u001b[1;32m    139\u001b[0m     \u001b[0;32mreturn\u001b[0m \u001b[0mdata\u001b[0m\u001b[0;34m\u001b[0m\u001b[0;34m\u001b[0m\u001b[0m\n\u001b[1;32m    140\u001b[0m \u001b[0;34m\u001b[0m\u001b[0m\n",
      "\u001b[0;31mValueError\u001b[0m: Error when checking input: expected input_12 to have shape (4,) but got array with shape (166,)"
     ]
    }
   ],
   "source": [
    "model2.predict(X_test)"
   ]
  },
  {
   "cell_type": "code",
   "execution_count": 64,
   "metadata": {},
   "outputs": [],
   "source": [
    "X_test = []\n",
    "\n",
    "for i, v in enumerate(cat_vars):\n",
    "    X_test.append(test_orig.iloc[:, i])\n",
    "\n",
    "X_test.append(pd.DataFrame(X_test).iloc[:, len(cat_vars):])\n"
   ]
  },
  {
   "cell_type": "code",
   "execution_count": 66,
   "metadata": {},
   "outputs": [
    {
     "data": {
      "text/plain": [
       "date\n",
       "2005-05-23 00:00:00    0\n",
       "2005-05-23 01:00:00    0\n",
       "2005-05-23 02:00:00    0\n",
       "2005-05-23 03:00:00    0\n",
       "2005-05-23 04:00:00    0\n",
       "2005-05-23 05:00:00    0\n",
       "2005-05-23 06:00:00    0\n",
       "2005-05-23 07:00:00    0\n",
       "2005-05-23 08:00:00    0\n",
       "2005-05-23 09:00:00    0\n",
       "2005-05-23 10:00:00    0\n",
       "2005-05-23 11:00:00    0\n",
       "2005-05-23 12:00:00    0\n",
       "2005-05-23 13:00:00    0\n",
       "2005-05-23 14:00:00    0\n",
       "2005-05-23 15:00:00    0\n",
       "2005-05-23 16:00:00    0\n",
       "2005-05-23 17:00:00    0\n",
       "2005-05-23 18:00:00    0\n",
       "2005-05-23 19:00:00    0\n",
       "2005-05-23 20:00:00    0\n",
       "2005-05-23 21:00:00    0\n",
       "2005-05-23 22:00:00    0\n",
       "2005-05-23 23:00:00    0\n",
       "2005-05-24 00:00:00    1\n",
       "2005-05-24 01:00:00    1\n",
       "2005-05-24 02:00:00    1\n",
       "2005-05-24 03:00:00    1\n",
       "2005-05-24 04:00:00    1\n",
       "2005-05-24 05:00:00    1\n",
       "                      ..\n",
       "2005-05-28 18:00:00    5\n",
       "2005-05-28 19:00:00    5\n",
       "2005-05-28 20:00:00    5\n",
       "2005-05-28 21:00:00    5\n",
       "2005-05-28 22:00:00    5\n",
       "2005-05-28 23:00:00    5\n",
       "2005-05-29 00:00:00    6\n",
       "2005-05-29 01:00:00    6\n",
       "2005-05-29 02:00:00    6\n",
       "2005-05-29 03:00:00    6\n",
       "2005-05-29 04:00:00    6\n",
       "2005-05-29 05:00:00    6\n",
       "2005-05-29 06:00:00    6\n",
       "2005-05-29 07:00:00    6\n",
       "2005-05-29 08:00:00    6\n",
       "2005-05-29 09:00:00    6\n",
       "2005-05-29 10:00:00    6\n",
       "2005-05-29 11:00:00    6\n",
       "2005-05-29 12:00:00    6\n",
       "2005-05-29 13:00:00    6\n",
       "2005-05-29 14:00:00    6\n",
       "2005-05-29 15:00:00    6\n",
       "2005-05-29 16:00:00    6\n",
       "2005-05-29 17:00:00    6\n",
       "2005-05-29 18:00:00    6\n",
       "2005-05-29 19:00:00    6\n",
       "2005-05-29 20:00:00    6\n",
       "2005-05-29 21:00:00    6\n",
       "2005-05-29 22:00:00    6\n",
       "2005-05-29 23:00:00    6\n",
       "Name: day_of_week, Length: 168, dtype: category\n",
       "Categories (7, int64): [0 < 1 < 2 < 3 < 4 < 5 < 6]"
      ]
     },
     "execution_count": 66,
     "metadata": {},
     "output_type": "execute_result"
    }
   ],
   "source": [
    "X_test[0]"
   ]
  },
  {
   "cell_type": "code",
   "execution_count": null,
   "metadata": {},
   "outputs": [],
   "source": []
  }
 ],
 "metadata": {
  "kernelspec": {
   "display_name": "Python 3",
   "language": "python",
   "name": "python3"
  },
  "language_info": {
   "codemirror_mode": {
    "name": "ipython",
    "version": 3
   },
   "file_extension": ".py",
   "mimetype": "text/x-python",
   "name": "python",
   "nbconvert_exporter": "python",
   "pygments_lexer": "ipython3",
   "version": "3.7.3"
  }
 },
 "nbformat": 4,
 "nbformat_minor": 2
}
