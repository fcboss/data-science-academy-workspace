{
 "cells": [
  {
   "cell_type": "markdown",
   "metadata": {},
   "source": [
    "# BLU11 - Exercise Notebook\n",
    "\n",
    "## Create your own movie recommender system\n",
    "\n",
    "This exercise notebook will help you create a Recommender System using Collaborative and Content-based filtering and, in the end, it will help you to pick some movies according to your preferences. We will add you as a new user and we will check out what are the best suggestions for you!! 😀\n",
    "\n",
    "## Overall Strategy\n",
    "\n",
    "1. **Setup:** Import and preprocess the data\n",
    "1. **Collaborative Filtering:** normally better but may have the cold-start problem\n",
    "1. **Content-based Filtering:** higher availability of rating suggestions"
   ]
  },
  {
   "cell_type": "code",
   "execution_count": 1,
   "metadata": {},
   "outputs": [],
   "source": [
    "# Define your setup\n",
    "import os\n",
    "import hashlib # for grading purposes\n",
    "import pandas as pd\n",
    "import numpy as np\n",
    "\n",
    "from scipy.sparse import csr_matrix, triu, coo_matrix\n",
    "\n",
    "from sklearn.metrics.pairwise import cosine_similarity\n",
    "from sklearn.feature_extraction.text import TfidfVectorizer"
   ]
  },
  {
   "cell_type": "markdown",
   "metadata": {},
   "source": [
    "# Q0 - Setup (non-graded)\n",
    "\n",
    "The first step is to import and analyze the data (in `data/ml-latest-small`).\n",
    "\n",
    "For these exercises, we'll be using a standard dataset for recommendations, called the [MovieLens](https://grouplens.org/datasets/movielens/) dataset. We'll be using the smallest version of the dataset.\n",
    "\n",
    "Small: 100,000 ratings and 3,600 tag applications applied to 9,000 movies by 600 users. Last updated 9/2018.\n",
    "\n",
    "We have three data files:\n",
    "* `ratings.csv`: has 100k ratings of 9k movies by 600 users\n",
    "* `movies.csv`: has the movieId, title and genre for 9k movies\n",
    "* `tags.csv`: has 3.6k tags applied to 9k movies by 600 users"
   ]
  },
  {
   "cell_type": "code",
   "execution_count": 2,
   "metadata": {},
   "outputs": [],
   "source": [
    "def import_ratings_list(path):\n",
    "    \"\"\"\n",
    "    Parameters\n",
    "    ----------\n",
    "    path : filepath of the ratings file to import\n",
    "    \n",
    "    \n",
    "    Returns\n",
    "    -------\n",
    "    all_ratings : DataFrame of the ratings.\n",
    "    \"\"\"\n",
    "    all_ratings = pd.read_csv(path)\n",
    "    return all_ratings\n",
    "\n",
    "all_ratings = import_ratings_list(os.path.join(\"data\", \"ml-latest-small\", \"ratings.csv\"))"
   ]
  },
  {
   "cell_type": "code",
   "execution_count": 3,
   "metadata": {},
   "outputs": [
    {
     "name": "stdout",
     "output_type": "stream",
     "text": [
      "In total we have 100836 ratings available.\n"
     ]
    }
   ],
   "source": [
    "print(f\"In total we have {len(all_ratings)} ratings available.\")"
   ]
  },
  {
   "cell_type": "code",
   "execution_count": 4,
   "metadata": {},
   "outputs": [
    {
     "data": {
      "text/html": [
       "<div>\n",
       "<style scoped>\n",
       "    .dataframe tbody tr th:only-of-type {\n",
       "        vertical-align: middle;\n",
       "    }\n",
       "\n",
       "    .dataframe tbody tr th {\n",
       "        vertical-align: top;\n",
       "    }\n",
       "\n",
       "    .dataframe thead th {\n",
       "        text-align: right;\n",
       "    }\n",
       "</style>\n",
       "<table border=\"1\" class=\"dataframe\">\n",
       "  <thead>\n",
       "    <tr style=\"text-align: right;\">\n",
       "      <th></th>\n",
       "      <th>userId</th>\n",
       "      <th>movieId</th>\n",
       "      <th>rating</th>\n",
       "      <th>timestamp</th>\n",
       "    </tr>\n",
       "  </thead>\n",
       "  <tbody>\n",
       "    <tr>\n",
       "      <th>0</th>\n",
       "      <td>1</td>\n",
       "      <td>1</td>\n",
       "      <td>4.0</td>\n",
       "      <td>964982703</td>\n",
       "    </tr>\n",
       "    <tr>\n",
       "      <th>1</th>\n",
       "      <td>1</td>\n",
       "      <td>3</td>\n",
       "      <td>4.0</td>\n",
       "      <td>964981247</td>\n",
       "    </tr>\n",
       "    <tr>\n",
       "      <th>2</th>\n",
       "      <td>1</td>\n",
       "      <td>6</td>\n",
       "      <td>4.0</td>\n",
       "      <td>964982224</td>\n",
       "    </tr>\n",
       "    <tr>\n",
       "      <th>3</th>\n",
       "      <td>1</td>\n",
       "      <td>47</td>\n",
       "      <td>5.0</td>\n",
       "      <td>964983815</td>\n",
       "    </tr>\n",
       "    <tr>\n",
       "      <th>4</th>\n",
       "      <td>1</td>\n",
       "      <td>50</td>\n",
       "      <td>5.0</td>\n",
       "      <td>964982931</td>\n",
       "    </tr>\n",
       "  </tbody>\n",
       "</table>\n",
       "</div>"
      ],
      "text/plain": [
       "   userId  movieId  rating  timestamp\n",
       "0       1        1     4.0  964982703\n",
       "1       1        3     4.0  964981247\n",
       "2       1        6     4.0  964982224\n",
       "3       1       47     5.0  964983815\n",
       "4       1       50     5.0  964982931"
      ]
     },
     "execution_count": 4,
     "metadata": {},
     "output_type": "execute_result"
    }
   ],
   "source": [
    "# Get a glimpse of the all_ratings DataFrame\n",
    "all_ratings.head()"
   ]
  },
  {
   "cell_type": "code",
   "execution_count": 5,
   "metadata": {},
   "outputs": [],
   "source": [
    "def import_movies_details(path):\n",
    "    \"\"\"\n",
    "    Parameters\n",
    "    ----------\n",
    "    path : filepath of the movies file to import\n",
    "    \n",
    "    \n",
    "    Returns\n",
    "    -------\n",
    "    movies_df : DataFrame of the movies details\n",
    "    \"\"\"\n",
    "    return pd.read_csv(path).set_index(\"movieId\")\n",
    "\n",
    "movies_df = import_movies_details(os.path.join(\"data\", \"ml-latest-small\", \"movies.csv\"))"
   ]
  },
  {
   "cell_type": "code",
   "execution_count": 6,
   "metadata": {},
   "outputs": [
    {
     "data": {
      "text/html": [
       "<div>\n",
       "<style scoped>\n",
       "    .dataframe tbody tr th:only-of-type {\n",
       "        vertical-align: middle;\n",
       "    }\n",
       "\n",
       "    .dataframe tbody tr th {\n",
       "        vertical-align: top;\n",
       "    }\n",
       "\n",
       "    .dataframe thead th {\n",
       "        text-align: right;\n",
       "    }\n",
       "</style>\n",
       "<table border=\"1\" class=\"dataframe\">\n",
       "  <thead>\n",
       "    <tr style=\"text-align: right;\">\n",
       "      <th></th>\n",
       "      <th>title</th>\n",
       "      <th>genres</th>\n",
       "    </tr>\n",
       "    <tr>\n",
       "      <th>movieId</th>\n",
       "      <th></th>\n",
       "      <th></th>\n",
       "    </tr>\n",
       "  </thead>\n",
       "  <tbody>\n",
       "    <tr>\n",
       "      <th>1</th>\n",
       "      <td>Toy Story (1995)</td>\n",
       "      <td>Adventure|Animation|Children|Comedy|Fantasy</td>\n",
       "    </tr>\n",
       "    <tr>\n",
       "      <th>2</th>\n",
       "      <td>Jumanji (1995)</td>\n",
       "      <td>Adventure|Children|Fantasy</td>\n",
       "    </tr>\n",
       "    <tr>\n",
       "      <th>3</th>\n",
       "      <td>Grumpier Old Men (1995)</td>\n",
       "      <td>Comedy|Romance</td>\n",
       "    </tr>\n",
       "    <tr>\n",
       "      <th>4</th>\n",
       "      <td>Waiting to Exhale (1995)</td>\n",
       "      <td>Comedy|Drama|Romance</td>\n",
       "    </tr>\n",
       "    <tr>\n",
       "      <th>5</th>\n",
       "      <td>Father of the Bride Part II (1995)</td>\n",
       "      <td>Comedy</td>\n",
       "    </tr>\n",
       "    <tr>\n",
       "      <th>...</th>\n",
       "      <td>...</td>\n",
       "      <td>...</td>\n",
       "    </tr>\n",
       "    <tr>\n",
       "      <th>193581</th>\n",
       "      <td>Black Butler: Book of the Atlantic (2017)</td>\n",
       "      <td>Action|Animation|Comedy|Fantasy</td>\n",
       "    </tr>\n",
       "    <tr>\n",
       "      <th>193583</th>\n",
       "      <td>No Game No Life: Zero (2017)</td>\n",
       "      <td>Animation|Comedy|Fantasy</td>\n",
       "    </tr>\n",
       "    <tr>\n",
       "      <th>193585</th>\n",
       "      <td>Flint (2017)</td>\n",
       "      <td>Drama</td>\n",
       "    </tr>\n",
       "    <tr>\n",
       "      <th>193587</th>\n",
       "      <td>Bungo Stray Dogs: Dead Apple (2018)</td>\n",
       "      <td>Action|Animation</td>\n",
       "    </tr>\n",
       "    <tr>\n",
       "      <th>193609</th>\n",
       "      <td>Andrew Dice Clay: Dice Rules (1991)</td>\n",
       "      <td>Comedy</td>\n",
       "    </tr>\n",
       "  </tbody>\n",
       "</table>\n",
       "<p>9742 rows × 2 columns</p>\n",
       "</div>"
      ],
      "text/plain": [
       "                                             title  \\\n",
       "movieId                                              \n",
       "1                                 Toy Story (1995)   \n",
       "2                                   Jumanji (1995)   \n",
       "3                          Grumpier Old Men (1995)   \n",
       "4                         Waiting to Exhale (1995)   \n",
       "5               Father of the Bride Part II (1995)   \n",
       "...                                            ...   \n",
       "193581   Black Butler: Book of the Atlantic (2017)   \n",
       "193583                No Game No Life: Zero (2017)   \n",
       "193585                                Flint (2017)   \n",
       "193587         Bungo Stray Dogs: Dead Apple (2018)   \n",
       "193609         Andrew Dice Clay: Dice Rules (1991)   \n",
       "\n",
       "                                              genres  \n",
       "movieId                                               \n",
       "1        Adventure|Animation|Children|Comedy|Fantasy  \n",
       "2                         Adventure|Children|Fantasy  \n",
       "3                                     Comedy|Romance  \n",
       "4                               Comedy|Drama|Romance  \n",
       "5                                             Comedy  \n",
       "...                                              ...  \n",
       "193581               Action|Animation|Comedy|Fantasy  \n",
       "193583                      Animation|Comedy|Fantasy  \n",
       "193585                                         Drama  \n",
       "193587                              Action|Animation  \n",
       "193609                                        Comedy  \n",
       "\n",
       "[9742 rows x 2 columns]"
      ]
     },
     "execution_count": 6,
     "metadata": {},
     "output_type": "execute_result"
    }
   ],
   "source": [
    "movies_df"
   ]
  },
  {
   "cell_type": "markdown",
   "metadata": {},
   "source": [
    "# Q1 - Add new Preferences\n",
    "\n",
    "So, imagine you've just created a Netflix account.\n",
    "In the setup process, you're asked to rate some movies so that you have some data associated with your profile.\n",
    "\n",
    "To simulate this, we will add your movie preferences to the existing `all_ratings` DataFrame.\n",
    "\n",
    "Note: we will use predefined ratings (to evaluate the exercises), but in the end you can play with these initial ratings to test out the recommender system."
   ]
  },
  {
   "cell_type": "code",
   "execution_count": 7,
   "metadata": {},
   "outputs": [],
   "source": [
    "# new_user_id is the maximum user id available plus one (because science).\n",
    "new_user_id = max(all_ratings[\"userId\"]) + 1\n",
    "\n",
    "\n",
    "preference_1 = {\"userId\": new_user_id,\n",
    "                \"movieId\": 1,          #Toy Story\n",
    "                \"rating\": 4.0,\n",
    "                \"timestamp\": 964982703}\n",
    "\n",
    "preference_2 = {\"userId\": new_user_id,\n",
    "                \"movieId\": 32,         #Twelve Monkeys\n",
    "                \"rating\": 4.5,\n",
    "                \"timestamp\": 964982931}\n",
    "\n",
    "preference_3 = {\"userId\": new_user_id,\n",
    "                \"movieId\": 33672,      #Lords of Dogtown\n",
    "                \"rating\": 2.5,\n",
    "                \"timestamp\": 964982224}\n",
    "\n",
    "new_preferences = [preference_1, preference_2, preference_3]"
   ]
  },
  {
   "cell_type": "code",
   "execution_count": 8,
   "metadata": {},
   "outputs": [
    {
     "data": {
      "text/plain": [
       "[{'userId': 611, 'movieId': 1, 'rating': 4.0, 'timestamp': 964982703},\n",
       " {'userId': 611, 'movieId': 32, 'rating': 4.5, 'timestamp': 964982931},\n",
       " {'userId': 611, 'movieId': 33672, 'rating': 2.5, 'timestamp': 964982224}]"
      ]
     },
     "execution_count": 8,
     "metadata": {},
     "output_type": "execute_result"
    }
   ],
   "source": [
    "new_preferences"
   ]
  },
  {
   "cell_type": "code",
   "execution_count": 9,
   "metadata": {
    "deletable": false,
    "nbgrader": {
     "grade": false,
     "grade_id": "cell-1209c8fa8eec74fc",
     "locked": false,
     "schema_version": 3,
     "solution": true,
     "task": false
    }
   },
   "outputs": [],
   "source": [
    "def add_new_preferences(new_preferences, all_ratings):\n",
    "    \"\"\"\n",
    "    Add the new preferences to the existing all_ratings DataFrame.\n",
    "    \n",
    "    Parameters\n",
    "    ----------\n",
    "    new_preferences : list\n",
    "                      A list of dicts containing the new preferences.\n",
    "                      \n",
    "    all_ratings : pd.DataFrame\n",
    "                  DataFrame containing all the ratings available.\n",
    "    \n",
    "    Returns\n",
    "    -------\n",
    "    all_ratings_extended : pd.DataFrame\n",
    "                           Existing all_ratings DataFrame extended with the new_preferences.\n",
    "                           Keep the original structure of 4 columns and guarantee the index is correctly ordered.\n",
    "    \"\"\"\n",
    "    # YOUR CODE HERE\n",
    "    return all_ratings.append(new_preferences)\n",
    "    \n",
    "all_ratings_extended = add_new_preferences(new_preferences, all_ratings)"
   ]
  },
  {
   "cell_type": "code",
   "execution_count": 10,
   "metadata": {
    "deletable": false,
    "editable": false,
    "nbgrader": {
     "grade": true,
     "grade_id": "cell-772850ad26f9249f",
     "locked": true,
     "points": 1,
     "schema_version": 3,
     "solution": false,
     "task": false
    }
   },
   "outputs": [],
   "source": [
    "expected_hash = 'ba4b0c26c8e4a2dd240461d4891c265af433569d06cd61f18fdd2d429615e0d5'\n",
    "assert hashlib.sha256(str(all_ratings_extended.shape).encode()).hexdigest() == expected_hash\n",
    "\n",
    "expected_hash = 'b7a56873cd771f2c446d369b649430b65a756ba278ff97ec81bb6f55b2e73569'\n",
    "test_value = str(int(all_ratings_extended.tail().iloc[-1][\"rating\"] * 10))\n",
    "assert hashlib.sha256(test_value.encode()).hexdigest() == expected_hash"
   ]
  },
  {
   "cell_type": "markdown",
   "metadata": {},
   "source": [
    "# Q2 - Build the Ratings Matrix\n",
    "\n",
    "Based on the ratings data, create the ratings matrix. This should follow the format adopted in the Learning Notebooks: rows are users, columns are items, and ratings are the matrix values.\n",
    "\n",
    "Note that the `userId=1` will be represented in the row with index `0`. And the same for items."
   ]
  },
  {
   "cell_type": "code",
   "execution_count": 11,
   "metadata": {
    "deletable": false,
    "nbgrader": {
     "grade": false,
     "grade_id": "cell-73eacf1225425c60",
     "locked": false,
     "schema_version": 3,
     "solution": true,
     "task": false
    }
   },
   "outputs": [],
   "source": [
    "def create_ratings_matrix(all_ratings_extended):\n",
    "    \"\"\"\n",
    "    Parameters\n",
    "    ----------\n",
    "    all_ratings_extended : pd.DataFrame\n",
    "                           DataFrame with the original ratings list plus the new preferences defined above.\n",
    "                   \n",
    "    Returns\n",
    "    -------\n",
    "    ratings : csr_matrix\n",
    "              DataFrame with the ratings matrix. Index should be sorted.\n",
    "    \"\"\"\n",
    "    # YOUR CODE HERE\n",
    "    return csr_matrix(all_ratings_extended.pivot(index='userId', columns='movieId', values='rating')\n",
    "                          # Good practice when setting the index.\n",
    "                                      .sort_index()\n",
    "                                      # Sparse matrices don't assume NaN value as zeros.\n",
    "                                      .fillna(0)) \n",
    "\n",
    "    \n",
    "ratings = create_ratings_matrix(all_ratings_extended)"
   ]
  },
  {
   "cell_type": "code",
   "execution_count": 12,
   "metadata": {
    "deletable": false,
    "editable": false,
    "nbgrader": {
     "grade": true,
     "grade_id": "cell-a027a752832fa141",
     "locked": true,
     "points": 1,
     "schema_version": 3,
     "solution": false,
     "task": false
    }
   },
   "outputs": [],
   "source": [
    "expected_hash = '1b25bb37050096f8d9533f5c295f77a2705db79def84cccabbdc97db9dd34ef5'\n",
    "assert hashlib.sha256(str(ratings.shape).encode()).hexdigest() == expected_hash"
   ]
  },
  {
   "cell_type": "code",
   "execution_count": 13,
   "metadata": {
    "deletable": false,
    "editable": false,
    "nbgrader": {
     "grade": true,
     "grade_id": "cell-ba7f191b7dce2e95",
     "locked": true,
     "points": 1,
     "schema_version": 3,
     "solution": false,
     "task": false
    }
   },
   "outputs": [],
   "source": [
    "availability = ratings.nnz / (ratings.shape[0] * ratings.shape[1])\n",
    "np.testing.assert_approx_equal(availability, 0.01697, significant=3)"
   ]
  },
  {
   "cell_type": "code",
   "execution_count": 14,
   "metadata": {},
   "outputs": [
    {
     "name": "stdout",
     "output_type": "stream",
     "text": [
      "Our ratings matrix has now 611 users and 9724 items.\n",
      "Our availability of ratings is 1.7% of the total!\n"
     ]
    }
   ],
   "source": [
    "print(f\"Our ratings matrix has now {ratings.shape[0]} users and {ratings.shape[1]} items.\")\n",
    "print(f\"Our availability of ratings is {round(availability*100, 2)}% of the total!\")"
   ]
  },
  {
   "cell_type": "markdown",
   "metadata": {},
   "source": [
    "\n",
    "# Q3 - User Similarities\n",
    "\n",
    "Now that we have the ratings matrix already built, let's check some similarities.\n",
    "\n",
    "\n",
    "## Q3.1 - Overall User Similarities\n",
    "\n",
    "Get the similarities between users using the cosine similarity."
   ]
  },
  {
   "cell_type": "code",
   "execution_count": 15,
   "metadata": {
    "deletable": false,
    "nbgrader": {
     "grade": false,
     "grade_id": "cell-7ba0f4b6ac6e6c79",
     "locked": false,
     "schema_version": 3,
     "solution": true,
     "task": false
    }
   },
   "outputs": [],
   "source": [
    "def get_users_cosine_similarity(ratings):\n",
    "    \"\"\"\n",
    "    Get the cosine similarity between users.\n",
    "    \n",
    "    Parameters\n",
    "    ----------\n",
    "    ratings : csr_matrix\n",
    "              Ratings matrix.\n",
    "\n",
    "    Returns\n",
    "    -------\n",
    "    users_similarities : csr_matrix\n",
    "                        sparse representaion of the cosine similarity between users.\n",
    "    \"\"\"\n",
    "    # YOUR CODE HERE\n",
    "    return cosine_similarity(ratings, dense_output=False)\n",
    "    \n",
    "users_similarities = get_users_cosine_similarity(ratings)"
   ]
  },
  {
   "cell_type": "code",
   "execution_count": 16,
   "metadata": {
    "deletable": false,
    "editable": false,
    "nbgrader": {
     "grade": true,
     "grade_id": "cell-845a9a541f4e82d1",
     "locked": true,
     "points": 1,
     "schema_version": 3,
     "solution": false,
     "task": false
    }
   },
   "outputs": [],
   "source": [
    "expected_hash = '8cde0a5542e6a6e1551ffbd9a804edabe20b546a4c3dbdd870ee4a478eed3efe'\n",
    "assert hashlib.sha256(str(users_similarities.shape).encode()).hexdigest() == expected_hash\n",
    "\n",
    "expected_hash = '46e0bd98d1e6c6519f99e2a20f74425f2ecc53e654bdb68182663dbf19271f63'\n",
    "assert hashlib.sha256(str(users_similarities.nnz).encode()).hexdigest() == expected_hash"
   ]
  },
  {
   "cell_type": "markdown",
   "metadata": {},
   "source": [
    "## Q3.2 - What is the nearest neighbor of our newly added user?\n",
    "\n",
    "Here we want to find the existing user who is the most similar to the newly added user.\n",
    "Return the index of the nearest neighbor user."
   ]
  },
  {
   "cell_type": "code",
   "execution_count": 17,
   "metadata": {
    "deletable": false,
    "nbgrader": {
     "grade": false,
     "grade_id": "cell-cbf93a8d2861a14a",
     "locked": false,
     "schema_version": 3,
     "solution": true,
     "task": false
    }
   },
   "outputs": [
    {
     "data": {
      "text/plain": [
       "528"
      ]
     },
     "execution_count": 17,
     "metadata": {},
     "output_type": "execute_result"
    }
   ],
   "source": [
    "def get_closest_user_index(users_similarities):\n",
    "    \"\"\"\n",
    "    Return the index of the closest user to the newly added user.\n",
    "    Hint: since the newly added user had the highest userId, they will be at the last row/column of\n",
    "    the similarities matrix.\n",
    "    \n",
    "    Parameters\n",
    "    ----------\n",
    "    users_similarities : csr_matrix\n",
    "                         Cosine similarity between users matrix.\n",
    "    \n",
    "    Returns\n",
    "    -------\n",
    "    closest_user_index : int\n",
    "    \"\"\"\n",
    "    \n",
    "    # YOUR CODE HERE\n",
    "    return (users_similarities[-1,:]).toarray().argsort()[0][-2]\n",
    "    \n",
    "closest_user_index = get_closest_user_index(users_similarities)\n",
    "closest_user_index"
   ]
  },
  {
   "cell_type": "code",
   "execution_count": 18,
   "metadata": {
    "deletable": false,
    "editable": false,
    "nbgrader": {
     "grade": true,
     "grade_id": "cell-fcf1a359253285eb",
     "locked": true,
     "points": 2,
     "schema_version": 3,
     "solution": false,
     "task": false
    }
   },
   "outputs": [],
   "source": [
    "expected_hash = 'bd3a797ba948938978965781bd341bc0fc7711ed00e513b9c63a61cf3d916562'\n",
    "assert hashlib.sha256(str(closest_user_index).encode()).hexdigest() == expected_hash"
   ]
  },
  {
   "cell_type": "markdown",
   "metadata": {},
   "source": [
    "## Q3.3 - Compare the preferences of these two users (non-graded)\n",
    "\n",
    "Now that we have the index of our nearest neighbor user, let's check if the preferences of these two users are in fact, similar."
   ]
  },
  {
   "cell_type": "code",
   "execution_count": 19,
   "metadata": {},
   "outputs": [],
   "source": [
    "def compare_with_new_user(all_ratings, userId, new_preferences):\n",
    "    \"\"\"\n",
    "    Compare a userId ratings with the ones we have in the new preferences.\n",
    "    Remeber that the userId must be the index of the users in the matrix plus 1, since the python index is 0-based\n",
    "    and our Ids are pegged to 1.\n",
    "    \"\"\"\n",
    "    moviesIds = [x[\"movieId\"] for x in new_preferences]\n",
    "    comparable_ratings = all_ratings[all_ratings[\"userId\"] == userId]\n",
    "    comparable_ratings = comparable_ratings[comparable_ratings[\"movieId\"].isin(moviesIds)]\n",
    "    return comparable_ratings"
   ]
  },
  {
   "cell_type": "code",
   "execution_count": 20,
   "metadata": {},
   "outputs": [
    {
     "name": "stdout",
     "output_type": "stream",
     "text": [
      "New user's preferences\n"
     ]
    },
    {
     "data": {
      "text/html": [
       "<div>\n",
       "<style scoped>\n",
       "    .dataframe tbody tr th:only-of-type {\n",
       "        vertical-align: middle;\n",
       "    }\n",
       "\n",
       "    .dataframe tbody tr th {\n",
       "        vertical-align: top;\n",
       "    }\n",
       "\n",
       "    .dataframe thead th {\n",
       "        text-align: right;\n",
       "    }\n",
       "</style>\n",
       "<table border=\"1\" class=\"dataframe\">\n",
       "  <thead>\n",
       "    <tr style=\"text-align: right;\">\n",
       "      <th></th>\n",
       "      <th>userId</th>\n",
       "      <th>movieId</th>\n",
       "      <th>rating</th>\n",
       "      <th>timestamp</th>\n",
       "    </tr>\n",
       "  </thead>\n",
       "  <tbody>\n",
       "    <tr>\n",
       "      <th>0</th>\n",
       "      <td>611</td>\n",
       "      <td>1</td>\n",
       "      <td>4.0</td>\n",
       "      <td>964982703</td>\n",
       "    </tr>\n",
       "    <tr>\n",
       "      <th>1</th>\n",
       "      <td>611</td>\n",
       "      <td>32</td>\n",
       "      <td>4.5</td>\n",
       "      <td>964982931</td>\n",
       "    </tr>\n",
       "    <tr>\n",
       "      <th>2</th>\n",
       "      <td>611</td>\n",
       "      <td>33672</td>\n",
       "      <td>2.5</td>\n",
       "      <td>964982224</td>\n",
       "    </tr>\n",
       "  </tbody>\n",
       "</table>\n",
       "</div>"
      ],
      "text/plain": [
       "   userId  movieId  rating  timestamp\n",
       "0     611        1     4.0  964982703\n",
       "1     611       32     4.5  964982931\n",
       "2     611    33672     2.5  964982224"
      ]
     },
     "execution_count": 20,
     "metadata": {},
     "output_type": "execute_result"
    }
   ],
   "source": [
    "print(\"New user's preferences\")\n",
    "pd.DataFrame(new_preferences)"
   ]
  },
  {
   "cell_type": "code",
   "execution_count": 21,
   "metadata": {},
   "outputs": [
    {
     "name": "stdout",
     "output_type": "stream",
     "text": [
      "Nearest neighbor's preferences\n"
     ]
    },
    {
     "data": {
      "text/html": [
       "<div>\n",
       "<style scoped>\n",
       "    .dataframe tbody tr th:only-of-type {\n",
       "        vertical-align: middle;\n",
       "    }\n",
       "\n",
       "    .dataframe tbody tr th {\n",
       "        vertical-align: top;\n",
       "    }\n",
       "\n",
       "    .dataframe thead th {\n",
       "        text-align: right;\n",
       "    }\n",
       "</style>\n",
       "<table border=\"1\" class=\"dataframe\">\n",
       "  <thead>\n",
       "    <tr style=\"text-align: right;\">\n",
       "      <th></th>\n",
       "      <th>userId</th>\n",
       "      <th>movieId</th>\n",
       "      <th>rating</th>\n",
       "      <th>timestamp</th>\n",
       "    </tr>\n",
       "  </thead>\n",
       "  <tbody>\n",
       "    <tr>\n",
       "      <th>83411</th>\n",
       "      <td>529</td>\n",
       "      <td>1</td>\n",
       "      <td>3.0</td>\n",
       "      <td>855583216</td>\n",
       "    </tr>\n",
       "    <tr>\n",
       "      <th>83413</th>\n",
       "      <td>529</td>\n",
       "      <td>32</td>\n",
       "      <td>5.0</td>\n",
       "      <td>855583215</td>\n",
       "    </tr>\n",
       "  </tbody>\n",
       "</table>\n",
       "</div>"
      ],
      "text/plain": [
       "       userId  movieId  rating  timestamp\n",
       "83411     529        1     3.0  855583216\n",
       "83413     529       32     5.0  855583215"
      ]
     },
     "execution_count": 21,
     "metadata": {},
     "output_type": "execute_result"
    }
   ],
   "source": [
    "print(\"Nearest neighbor's preferences\")\n",
    "compare_with_new_user(all_ratings, closest_user_index+1, new_preferences)"
   ]
  },
  {
   "cell_type": "markdown",
   "metadata": {},
   "source": [
    "## Q3.4 - Get Users Predictions\n",
    "To make the predictions using only the users, you can leverage what you know about the true ratings (`ratings` matrix) and the similarity between the users previously calculated (`users_similarities`)."
   ]
  },
  {
   "cell_type": "code",
   "execution_count": 22,
   "metadata": {
    "deletable": false,
    "nbgrader": {
     "grade": false,
     "grade_id": "cell-4b927f9157112c21",
     "locked": false,
     "schema_version": 3,
     "solution": true,
     "task": false
    }
   },
   "outputs": [],
   "source": [
    "def make_user_predictions(user_sims, R):\n",
    "    \"\"\"\n",
    "    Parameters\n",
    "    ----------\n",
    "    user_sims : csr_matrix, shape: (n_users, n_users)\n",
    "                Matrix with the similarities between users.\n",
    "    \n",
    "    R : csr_matrix, shape: (n_users, n_items)\n",
    "        Matrix with the available ratings.\n",
    "    \n",
    "    Returns\n",
    "    -------\n",
    "    users_predictions : csr_matrix, shape: (n_users, n_items)\n",
    "                        Ratings predictions.\n",
    "    \"\"\"\n",
    "    # YOUR CODE HERE\n",
    "    weighted_sum = np.dot(user_sims, R)\n",
    "    \n",
    "    # We use the absolute value to support negative similarities.\n",
    "    # In this particular example there are none.\n",
    "    sum_of_weights = np.abs(user_sims).sum(axis=1)\n",
    "    \n",
    "    preds = weighted_sum / sum_of_weights\n",
    "    \n",
    "    # Exclude previously rated items.\n",
    "    preds[R.nonzero()] = 0\n",
    "    \n",
    "    return csr_matrix(preds)\n",
    "\n",
    "users_predictions = make_user_predictions(users_similarities, ratings)"
   ]
  },
  {
   "cell_type": "code",
   "execution_count": 23,
   "metadata": {
    "deletable": false,
    "editable": false,
    "nbgrader": {
     "grade": true,
     "grade_id": "cell-65508521973c7fee",
     "locked": true,
     "points": 1,
     "schema_version": 3,
     "solution": false,
     "task": false
    }
   },
   "outputs": [],
   "source": [
    "expected_hash = '1b25bb37050096f8d9533f5c295f77a2705db79def84cccabbdc97db9dd34ef5'\n",
    "assert hashlib.sha256(str(users_predictions.shape).encode()).hexdigest() == expected_hash"
   ]
  },
  {
   "cell_type": "code",
   "execution_count": 24,
   "metadata": {
    "deletable": false,
    "editable": false,
    "nbgrader": {
     "grade": true,
     "grade_id": "cell-23c301075b3d4c00",
     "locked": true,
     "points": 1,
     "schema_version": 3,
     "solution": false,
     "task": false
    }
   },
   "outputs": [],
   "source": [
    "np.testing.assert_almost_equal(users_predictions[-1, 1], 0.7765, decimal=4)\n",
    "np.testing.assert_almost_equal(users_predictions[-1].toarray()[0, 3000], 0.0526, decimal=4)"
   ]
  },
  {
   "cell_type": "markdown",
   "metadata": {},
   "source": [
    "# Q4 - Content-based Filtering\n",
    "Now let's move to predict based on the characteristics of the items themselves.\n",
    "\n",
    "We already imported the `movies_df` DataFrame, we just need to preprocess it a bit.\n",
    "\n",
    "We also have the tags file `tags.csv`that we can use. Since we have multiple tags for the same movie, we will join them."
   ]
  },
  {
   "cell_type": "code",
   "execution_count": 25,
   "metadata": {},
   "outputs": [
    {
     "data": {
      "text/html": [
       "<div>\n",
       "<style scoped>\n",
       "    .dataframe tbody tr th:only-of-type {\n",
       "        vertical-align: middle;\n",
       "    }\n",
       "\n",
       "    .dataframe tbody tr th {\n",
       "        vertical-align: top;\n",
       "    }\n",
       "\n",
       "    .dataframe thead th {\n",
       "        text-align: right;\n",
       "    }\n",
       "</style>\n",
       "<table border=\"1\" class=\"dataframe\">\n",
       "  <thead>\n",
       "    <tr style=\"text-align: right;\">\n",
       "      <th></th>\n",
       "      <th>tag</th>\n",
       "    </tr>\n",
       "    <tr>\n",
       "      <th>movieId</th>\n",
       "      <th></th>\n",
       "    </tr>\n",
       "  </thead>\n",
       "  <tbody>\n",
       "    <tr>\n",
       "      <th>60756</th>\n",
       "      <td>funny</td>\n",
       "    </tr>\n",
       "    <tr>\n",
       "      <th>60756</th>\n",
       "      <td>highlyquotable</td>\n",
       "    </tr>\n",
       "    <tr>\n",
       "      <th>60756</th>\n",
       "      <td>willferrell</td>\n",
       "    </tr>\n",
       "    <tr>\n",
       "      <th>89774</th>\n",
       "      <td>boxingstory</td>\n",
       "    </tr>\n",
       "    <tr>\n",
       "      <th>89774</th>\n",
       "      <td>mma</td>\n",
       "    </tr>\n",
       "    <tr>\n",
       "      <th>89774</th>\n",
       "      <td>tomhardy</td>\n",
       "    </tr>\n",
       "    <tr>\n",
       "      <th>106782</th>\n",
       "      <td>drugs</td>\n",
       "    </tr>\n",
       "    <tr>\n",
       "      <th>106782</th>\n",
       "      <td>leonardodicaprio</td>\n",
       "    </tr>\n",
       "    <tr>\n",
       "      <th>106782</th>\n",
       "      <td>martinscorsese</td>\n",
       "    </tr>\n",
       "    <tr>\n",
       "      <th>48516</th>\n",
       "      <td>waytoolong</td>\n",
       "    </tr>\n",
       "    <tr>\n",
       "      <th>431</th>\n",
       "      <td>alpacino</td>\n",
       "    </tr>\n",
       "    <tr>\n",
       "      <th>431</th>\n",
       "      <td>gangster</td>\n",
       "    </tr>\n",
       "    <tr>\n",
       "      <th>431</th>\n",
       "      <td>mafia</td>\n",
       "    </tr>\n",
       "    <tr>\n",
       "      <th>1221</th>\n",
       "      <td>alpacino</td>\n",
       "    </tr>\n",
       "    <tr>\n",
       "      <th>1221</th>\n",
       "      <td>mafia</td>\n",
       "    </tr>\n",
       "    <tr>\n",
       "      <th>5995</th>\n",
       "      <td>holocaust</td>\n",
       "    </tr>\n",
       "    <tr>\n",
       "      <th>5995</th>\n",
       "      <td>truestory</td>\n",
       "    </tr>\n",
       "    <tr>\n",
       "      <th>44665</th>\n",
       "      <td>twistending</td>\n",
       "    </tr>\n",
       "    <tr>\n",
       "      <th>52604</th>\n",
       "      <td>anthonyhopkins</td>\n",
       "    </tr>\n",
       "    <tr>\n",
       "      <th>52604</th>\n",
       "      <td>courtroomdrama</td>\n",
       "    </tr>\n",
       "    <tr>\n",
       "      <th>52604</th>\n",
       "      <td>twistending</td>\n",
       "    </tr>\n",
       "    <tr>\n",
       "      <th>88094</th>\n",
       "      <td>britpop</td>\n",
       "    </tr>\n",
       "    <tr>\n",
       "      <th>88094</th>\n",
       "      <td>indierecordlabel</td>\n",
       "    </tr>\n",
       "    <tr>\n",
       "      <th>88094</th>\n",
       "      <td>music</td>\n",
       "    </tr>\n",
       "    <tr>\n",
       "      <th>144210</th>\n",
       "      <td>dumpsterdiving</td>\n",
       "    </tr>\n",
       "    <tr>\n",
       "      <th>144210</th>\n",
       "      <td>sustainability</td>\n",
       "    </tr>\n",
       "    <tr>\n",
       "      <th>1569</th>\n",
       "      <td>romanticcomedy</td>\n",
       "    </tr>\n",
       "    <tr>\n",
       "      <th>1569</th>\n",
       "      <td>wedding</td>\n",
       "    </tr>\n",
       "    <tr>\n",
       "      <th>118985</th>\n",
       "      <td>painter</td>\n",
       "    </tr>\n",
       "    <tr>\n",
       "      <th>119141</th>\n",
       "      <td>bloody</td>\n",
       "    </tr>\n",
       "  </tbody>\n",
       "</table>\n",
       "</div>"
      ],
      "text/plain": [
       "                      tag\n",
       "movieId                  \n",
       "60756               funny\n",
       "60756      highlyquotable\n",
       "60756         willferrell\n",
       "89774         boxingstory\n",
       "89774                 mma\n",
       "89774            tomhardy\n",
       "106782              drugs\n",
       "106782   leonardodicaprio\n",
       "106782     martinscorsese\n",
       "48516          waytoolong\n",
       "431              alpacino\n",
       "431              gangster\n",
       "431                 mafia\n",
       "1221             alpacino\n",
       "1221                mafia\n",
       "5995            holocaust\n",
       "5995            truestory\n",
       "44665         twistending\n",
       "52604      anthonyhopkins\n",
       "52604      courtroomdrama\n",
       "52604         twistending\n",
       "88094             britpop\n",
       "88094    indierecordlabel\n",
       "88094               music\n",
       "144210     dumpsterdiving\n",
       "144210     sustainability\n",
       "1569       romanticcomedy\n",
       "1569              wedding\n",
       "118985            painter\n",
       "119141             bloody"
      ]
     },
     "execution_count": 25,
     "metadata": {},
     "output_type": "execute_result"
    }
   ],
   "source": [
    "def import_tags_file(path):\n",
    "    df = pd.read_csv(path)                             # Import the DataFrame\n",
    "    df = df [[\"movieId\", \"tag\"]]                       # Select relevant features\n",
    "    df = df.set_index(\"movieId\")                       # Set movieId as the index\n",
    "    df[\"tag\"] = df[\"tag\"].str.replace(\" \", \"\")         # Remove the whitespaces for multi-word tags\n",
    "    df[\"tag\"] = df[\"tag\"].str.lower()                  # Lowercase all the genres for the sake of uniformity\n",
    "\n",
    "    return df\n",
    "\n",
    "tags_df = import_tags_file(os.path.join(\"data\", \"ml-latest-small\", \"tags.csv\"))\n",
    "tags_df.head(30)"
   ]
  },
  {
   "cell_type": "markdown",
   "metadata": {},
   "source": [
    "## Q4.1  - Preprocessing the contents"
   ]
  },
  {
   "cell_type": "markdown",
   "metadata": {},
   "source": [
    "Since the preprocessing step will have several steps, we will do what each programmer must do when facing complex tasks: *divide into multiple digestible understandble chunks of work*."
   ]
  },
  {
   "cell_type": "markdown",
   "metadata": {},
   "source": [
    "### Q4.1.1 - Preprocessing the Tags"
   ]
  },
  {
   "cell_type": "code",
   "execution_count": null,
   "metadata": {},
   "outputs": [],
   "source": []
  },
  {
   "cell_type": "code",
   "execution_count": 26,
   "metadata": {
    "deletable": false,
    "nbgrader": {
     "grade": false,
     "grade_id": "cell-6394b2a5662fff0d",
     "locked": false,
     "schema_version": 3,
     "solution": true,
     "task": false
    }
   },
   "outputs": [
    {
     "data": {
      "text/plain": [
       "movieId\n",
       "1                                      pixar|pixar|fun\n",
       "2            fantasy|magicboardgame|robinwilliams|game\n",
       "3                                            moldy|old\n",
       "5                                     pregnancy|remake\n",
       "7                                               remake\n",
       "                              ...                     \n",
       "183611                      comedy|funny|rachelmcadams\n",
       "184471    adventure|aliciavikander|videogameadaptation\n",
       "187593                 joshbrolin|ryanreynolds|sarcasm\n",
       "187595                           emiliaclarke|starwars\n",
       "193565                   anime|comedy|gintama|remaster\n",
       "Name: tag, Length: 1572, dtype: object"
      ]
     },
     "execution_count": 26,
     "metadata": {},
     "output_type": "execute_result"
    }
   ],
   "source": [
    "def preprocess_tags(tags_df):\n",
    "    \"\"\"\n",
    "    1st step of preprocessing the movies contents.\n",
    "    Join the multiple tags in a single row for each movie, with the tags separated by pipes and their whitespaces removed.\n",
    "    \n",
    "    Parameters\n",
    "    ----------\n",
    "    tags_df : pd.DataFrame\n",
    "              Original dataframe for the tags\n",
    "              \n",
    "    Returns\n",
    "    -------\n",
    "    preprocessed_tags : pd.Series\n",
    "                        Series with movieId as Index and the multiple tags without whitespaces pipe-separated.\n",
    "    \"\"\"\n",
    "    # YOUR CODE HERE\n",
    "    return tags_df.groupby('movieId').agg(lambda x: '|'.join(x)).tag\n",
    "\n",
    "preprocessed_tags = preprocess_tags(tags_df)\n",
    "preprocessed_tags"
   ]
  },
  {
   "cell_type": "code",
   "execution_count": 27,
   "metadata": {
    "deletable": false,
    "editable": false,
    "nbgrader": {
     "grade": true,
     "grade_id": "cell-81574ffe73d3be48",
     "locked": true,
     "points": 1,
     "schema_version": 3,
     "solution": false,
     "task": false
    }
   },
   "outputs": [],
   "source": [
    "expected_hash = '9a7537a814317708c2e672111fd17f6a117a932ebdff5584bbedd67152396a7b'\n",
    "assert hashlib.sha256(str(preprocessed_tags.shape).encode()).hexdigest() == expected_hash\n",
    "\n",
    "assert isinstance(preprocessed_tags, pd.Series)"
   ]
  },
  {
   "cell_type": "markdown",
   "metadata": {},
   "source": [
    "### Q4.1.2 - Join the Movies with the Tags"
   ]
  },
  {
   "cell_type": "code",
   "execution_count": 28,
   "metadata": {
    "deletable": false,
    "nbgrader": {
     "grade": false,
     "grade_id": "cell-dbf862ffa00ccdd4",
     "locked": false,
     "schema_version": 3,
     "solution": true,
     "task": false
    }
   },
   "outputs": [],
   "source": [
    "def join_movies_with_tags(movies_df, tags_df):\n",
    "    \"\"\"\n",
    "    2nd step of preprocessing the movie contents.\n",
    "    Join the new tags obtained onto the movies_df.\n",
    "    CAUTION: Since we will not have tags for all the movies, just fill the missing ones with empty strings.\n",
    "    \n",
    "    Parameters\n",
    "    ----------\n",
    "    movies_df : pd.DataFrame\n",
    "    \n",
    "    tags_df : pd.DataFrame\n",
    "    \n",
    "    \n",
    "    Returns\n",
    "    -------\n",
    "    movies_with_tags : pd.DataFrame\n",
    "    \"\"\"\n",
    "    # YOUR CODE HERE\n",
    "\n",
    "    \n",
    "    return movies_df.join(tags_df).fillna('')\n",
    "    \n",
    "    \n",
    "movies_with_tags = join_movies_with_tags(movies_df, preprocessed_tags)\n"
   ]
  },
  {
   "cell_type": "code",
   "execution_count": 29,
   "metadata": {},
   "outputs": [
    {
     "data": {
      "text/html": [
       "<div>\n",
       "<style scoped>\n",
       "    .dataframe tbody tr th:only-of-type {\n",
       "        vertical-align: middle;\n",
       "    }\n",
       "\n",
       "    .dataframe tbody tr th {\n",
       "        vertical-align: top;\n",
       "    }\n",
       "\n",
       "    .dataframe thead th {\n",
       "        text-align: right;\n",
       "    }\n",
       "</style>\n",
       "<table border=\"1\" class=\"dataframe\">\n",
       "  <thead>\n",
       "    <tr style=\"text-align: right;\">\n",
       "      <th></th>\n",
       "      <th>title</th>\n",
       "      <th>genres</th>\n",
       "      <th>tag</th>\n",
       "    </tr>\n",
       "    <tr>\n",
       "      <th>movieId</th>\n",
       "      <th></th>\n",
       "      <th></th>\n",
       "      <th></th>\n",
       "    </tr>\n",
       "  </thead>\n",
       "  <tbody>\n",
       "    <tr>\n",
       "      <th>1</th>\n",
       "      <td>Toy Story (1995)</td>\n",
       "      <td>Adventure|Animation|Children|Comedy|Fantasy</td>\n",
       "      <td>pixar|pixar|fun</td>\n",
       "    </tr>\n",
       "    <tr>\n",
       "      <th>2</th>\n",
       "      <td>Jumanji (1995)</td>\n",
       "      <td>Adventure|Children|Fantasy</td>\n",
       "      <td>fantasy|magicboardgame|robinwilliams|game</td>\n",
       "    </tr>\n",
       "    <tr>\n",
       "      <th>3</th>\n",
       "      <td>Grumpier Old Men (1995)</td>\n",
       "      <td>Comedy|Romance</td>\n",
       "      <td>moldy|old</td>\n",
       "    </tr>\n",
       "    <tr>\n",
       "      <th>4</th>\n",
       "      <td>Waiting to Exhale (1995)</td>\n",
       "      <td>Comedy|Drama|Romance</td>\n",
       "      <td></td>\n",
       "    </tr>\n",
       "    <tr>\n",
       "      <th>5</th>\n",
       "      <td>Father of the Bride Part II (1995)</td>\n",
       "      <td>Comedy</td>\n",
       "      <td>pregnancy|remake</td>\n",
       "    </tr>\n",
       "    <tr>\n",
       "      <th>...</th>\n",
       "      <td>...</td>\n",
       "      <td>...</td>\n",
       "      <td>...</td>\n",
       "    </tr>\n",
       "    <tr>\n",
       "      <th>193581</th>\n",
       "      <td>Black Butler: Book of the Atlantic (2017)</td>\n",
       "      <td>Action|Animation|Comedy|Fantasy</td>\n",
       "      <td></td>\n",
       "    </tr>\n",
       "    <tr>\n",
       "      <th>193583</th>\n",
       "      <td>No Game No Life: Zero (2017)</td>\n",
       "      <td>Animation|Comedy|Fantasy</td>\n",
       "      <td></td>\n",
       "    </tr>\n",
       "    <tr>\n",
       "      <th>193585</th>\n",
       "      <td>Flint (2017)</td>\n",
       "      <td>Drama</td>\n",
       "      <td></td>\n",
       "    </tr>\n",
       "    <tr>\n",
       "      <th>193587</th>\n",
       "      <td>Bungo Stray Dogs: Dead Apple (2018)</td>\n",
       "      <td>Action|Animation</td>\n",
       "      <td></td>\n",
       "    </tr>\n",
       "    <tr>\n",
       "      <th>193609</th>\n",
       "      <td>Andrew Dice Clay: Dice Rules (1991)</td>\n",
       "      <td>Comedy</td>\n",
       "      <td></td>\n",
       "    </tr>\n",
       "  </tbody>\n",
       "</table>\n",
       "<p>9742 rows × 3 columns</p>\n",
       "</div>"
      ],
      "text/plain": [
       "                                             title  \\\n",
       "movieId                                              \n",
       "1                                 Toy Story (1995)   \n",
       "2                                   Jumanji (1995)   \n",
       "3                          Grumpier Old Men (1995)   \n",
       "4                         Waiting to Exhale (1995)   \n",
       "5               Father of the Bride Part II (1995)   \n",
       "...                                            ...   \n",
       "193581   Black Butler: Book of the Atlantic (2017)   \n",
       "193583                No Game No Life: Zero (2017)   \n",
       "193585                                Flint (2017)   \n",
       "193587         Bungo Stray Dogs: Dead Apple (2018)   \n",
       "193609         Andrew Dice Clay: Dice Rules (1991)   \n",
       "\n",
       "                                              genres  \\\n",
       "movieId                                                \n",
       "1        Adventure|Animation|Children|Comedy|Fantasy   \n",
       "2                         Adventure|Children|Fantasy   \n",
       "3                                     Comedy|Romance   \n",
       "4                               Comedy|Drama|Romance   \n",
       "5                                             Comedy   \n",
       "...                                              ...   \n",
       "193581               Action|Animation|Comedy|Fantasy   \n",
       "193583                      Animation|Comedy|Fantasy   \n",
       "193585                                         Drama   \n",
       "193587                              Action|Animation   \n",
       "193609                                        Comedy   \n",
       "\n",
       "                                               tag  \n",
       "movieId                                             \n",
       "1                                  pixar|pixar|fun  \n",
       "2        fantasy|magicboardgame|robinwilliams|game  \n",
       "3                                        moldy|old  \n",
       "4                                                   \n",
       "5                                 pregnancy|remake  \n",
       "...                                            ...  \n",
       "193581                                              \n",
       "193583                                              \n",
       "193585                                              \n",
       "193587                                              \n",
       "193609                                              \n",
       "\n",
       "[9742 rows x 3 columns]"
      ]
     },
     "execution_count": 29,
     "metadata": {},
     "output_type": "execute_result"
    }
   ],
   "source": [
    "movies_with_tags"
   ]
  },
  {
   "cell_type": "code",
   "execution_count": 30,
   "metadata": {
    "deletable": false,
    "editable": false,
    "nbgrader": {
     "grade": true,
     "grade_id": "cell-e0a7a28284e623e0",
     "locked": true,
     "points": 1,
     "schema_version": 3,
     "solution": false,
     "task": false
    }
   },
   "outputs": [],
   "source": [
    "expected_hash = '4e07408562bedb8b60ce05c1decfe3ad16b72230967de01f640b7e4729b49fce'\n",
    "assert hashlib.sha256(str(len(movies_with_tags.columns)).encode()).hexdigest() == expected_hash\n",
    "\n",
    "assert isinstance(movies_with_tags, pd.DataFrame)"
   ]
  },
  {
   "cell_type": "markdown",
   "metadata": {},
   "source": [
    "### Q4.1.3 - Preprocessing the Movies Contents"
   ]
  },
  {
   "cell_type": "code",
   "execution_count": 31,
   "metadata": {},
   "outputs": [
    {
     "data": {
      "text/html": [
       "<div>\n",
       "<style scoped>\n",
       "    .dataframe tbody tr th:only-of-type {\n",
       "        vertical-align: middle;\n",
       "    }\n",
       "\n",
       "    .dataframe tbody tr th {\n",
       "        vertical-align: top;\n",
       "    }\n",
       "\n",
       "    .dataframe thead th {\n",
       "        text-align: right;\n",
       "    }\n",
       "</style>\n",
       "<table border=\"1\" class=\"dataframe\">\n",
       "  <thead>\n",
       "    <tr style=\"text-align: right;\">\n",
       "      <th></th>\n",
       "      <th>title</th>\n",
       "      <th>genres</th>\n",
       "    </tr>\n",
       "    <tr>\n",
       "      <th>movieId</th>\n",
       "      <th></th>\n",
       "      <th></th>\n",
       "    </tr>\n",
       "  </thead>\n",
       "  <tbody>\n",
       "    <tr>\n",
       "      <th>1</th>\n",
       "      <td>Toy Story (1995)</td>\n",
       "      <td>Adventure|Animation|Children|Comedy|Fantasy</td>\n",
       "    </tr>\n",
       "    <tr>\n",
       "      <th>2</th>\n",
       "      <td>Jumanji (1995)</td>\n",
       "      <td>Adventure|Children|Fantasy</td>\n",
       "    </tr>\n",
       "    <tr>\n",
       "      <th>3</th>\n",
       "      <td>Grumpier Old Men (1995)</td>\n",
       "      <td>Comedy|Romance</td>\n",
       "    </tr>\n",
       "    <tr>\n",
       "      <th>4</th>\n",
       "      <td>Waiting to Exhale (1995)</td>\n",
       "      <td>Comedy|Drama|Romance</td>\n",
       "    </tr>\n",
       "    <tr>\n",
       "      <th>5</th>\n",
       "      <td>Father of the Bride Part II (1995)</td>\n",
       "      <td>Comedy</td>\n",
       "    </tr>\n",
       "    <tr>\n",
       "      <th>...</th>\n",
       "      <td>...</td>\n",
       "      <td>...</td>\n",
       "    </tr>\n",
       "    <tr>\n",
       "      <th>193581</th>\n",
       "      <td>Black Butler: Book of the Atlantic (2017)</td>\n",
       "      <td>Action|Animation|Comedy|Fantasy</td>\n",
       "    </tr>\n",
       "    <tr>\n",
       "      <th>193583</th>\n",
       "      <td>No Game No Life: Zero (2017)</td>\n",
       "      <td>Animation|Comedy|Fantasy</td>\n",
       "    </tr>\n",
       "    <tr>\n",
       "      <th>193585</th>\n",
       "      <td>Flint (2017)</td>\n",
       "      <td>Drama</td>\n",
       "    </tr>\n",
       "    <tr>\n",
       "      <th>193587</th>\n",
       "      <td>Bungo Stray Dogs: Dead Apple (2018)</td>\n",
       "      <td>Action|Animation</td>\n",
       "    </tr>\n",
       "    <tr>\n",
       "      <th>193609</th>\n",
       "      <td>Andrew Dice Clay: Dice Rules (1991)</td>\n",
       "      <td>Comedy</td>\n",
       "    </tr>\n",
       "  </tbody>\n",
       "</table>\n",
       "<p>9742 rows × 2 columns</p>\n",
       "</div>"
      ],
      "text/plain": [
       "                                             title  \\\n",
       "movieId                                              \n",
       "1                                 Toy Story (1995)   \n",
       "2                                   Jumanji (1995)   \n",
       "3                          Grumpier Old Men (1995)   \n",
       "4                         Waiting to Exhale (1995)   \n",
       "5               Father of the Bride Part II (1995)   \n",
       "...                                            ...   \n",
       "193581   Black Butler: Book of the Atlantic (2017)   \n",
       "193583                No Game No Life: Zero (2017)   \n",
       "193585                                Flint (2017)   \n",
       "193587         Bungo Stray Dogs: Dead Apple (2018)   \n",
       "193609         Andrew Dice Clay: Dice Rules (1991)   \n",
       "\n",
       "                                              genres  \n",
       "movieId                                               \n",
       "1        Adventure|Animation|Children|Comedy|Fantasy  \n",
       "2                         Adventure|Children|Fantasy  \n",
       "3                                     Comedy|Romance  \n",
       "4                               Comedy|Drama|Romance  \n",
       "5                                             Comedy  \n",
       "...                                              ...  \n",
       "193581               Action|Animation|Comedy|Fantasy  \n",
       "193583                      Animation|Comedy|Fantasy  \n",
       "193585                                         Drama  \n",
       "193587                              Action|Animation  \n",
       "193609                                        Comedy  \n",
       "\n",
       "[9742 rows x 2 columns]"
      ]
     },
     "execution_count": 31,
     "metadata": {},
     "output_type": "execute_result"
    }
   ],
   "source": [
    "movies_df"
   ]
  },
  {
   "cell_type": "code",
   "execution_count": null,
   "metadata": {},
   "outputs": [],
   "source": []
  },
  {
   "cell_type": "code",
   "execution_count": null,
   "metadata": {},
   "outputs": [],
   "source": []
  },
  {
   "cell_type": "code",
   "execution_count": null,
   "metadata": {},
   "outputs": [],
   "source": []
  },
  {
   "cell_type": "code",
   "execution_count": null,
   "metadata": {},
   "outputs": [],
   "source": []
  },
  {
   "cell_type": "code",
   "execution_count": 32,
   "metadata": {
    "scrolled": false
   },
   "outputs": [
    {
     "data": {
      "text/plain": [
       "movieId  match\n",
       "1        0        False\n",
       "2        0        False\n",
       "3        0        False\n",
       "4        0        False\n",
       "5        0        False\n",
       "                  ...  \n",
       "193581   0        False\n",
       "193583   0        False\n",
       "193585   0        False\n",
       "193587   0        False\n",
       "193609   0        False\n",
       "Name: 1, Length: 9730, dtype: bool"
      ]
     },
     "execution_count": 32,
     "metadata": {},
     "output_type": "execute_result"
    }
   ],
   "source": [
    "(movies_df.title.str.extractall(r'(.*)\\((\\d{4})')).isna().iloc[:,1]"
   ]
  },
  {
   "cell_type": "code",
   "execution_count": 33,
   "metadata": {
    "deletable": false,
    "nbgrader": {
     "grade": false,
     "grade_id": "cell-9c992405479ec2f9",
     "locked": false,
     "schema_version": 3,
     "solution": true,
     "task": false
    }
   },
   "outputs": [
    {
     "data": {
      "text/html": [
       "<div>\n",
       "<style scoped>\n",
       "    .dataframe tbody tr th:only-of-type {\n",
       "        vertical-align: middle;\n",
       "    }\n",
       "\n",
       "    .dataframe tbody tr th {\n",
       "        vertical-align: top;\n",
       "    }\n",
       "\n",
       "    .dataframe thead th {\n",
       "        text-align: right;\n",
       "    }\n",
       "</style>\n",
       "<table border=\"1\" class=\"dataframe\">\n",
       "  <thead>\n",
       "    <tr style=\"text-align: right;\">\n",
       "      <th></th>\n",
       "      <th>Description</th>\n",
       "    </tr>\n",
       "    <tr>\n",
       "      <th>movieId</th>\n",
       "      <th></th>\n",
       "    </tr>\n",
       "  </thead>\n",
       "  <tbody>\n",
       "    <tr>\n",
       "      <th>3695</th>\n",
       "      <td>Comedy|Horror||1989</td>\n",
       "    </tr>\n",
       "    <tr>\n",
       "      <th>3361</th>\n",
       "      <td>Comedy|Drama|Romance||1988</td>\n",
       "    </tr>\n",
       "    <tr>\n",
       "      <th>96430</th>\n",
       "      <td>Comedy|Drama|Fantasy||2012</td>\n",
       "    </tr>\n",
       "    <tr>\n",
       "      <th>63393</th>\n",
       "      <td>Comedy|Musical|Romance||2008</td>\n",
       "    </tr>\n",
       "    <tr>\n",
       "      <th>4772</th>\n",
       "      <td>Drama||2000</td>\n",
       "    </tr>\n",
       "    <tr>\n",
       "      <th>82857</th>\n",
       "      <td>Adventure|Documentary|Western||2009</td>\n",
       "    </tr>\n",
       "    <tr>\n",
       "      <th>6264</th>\n",
       "      <td>Action|Drama|Sci-Fi|Thriller||2003</td>\n",
       "    </tr>\n",
       "    <tr>\n",
       "      <th>1275</th>\n",
       "      <td>Action|Adventure|Fantasy||1986</td>\n",
       "    </tr>\n",
       "    <tr>\n",
       "      <th>5382</th>\n",
       "      <td>Comedy||1978</td>\n",
       "    </tr>\n",
       "    <tr>\n",
       "      <th>7560</th>\n",
       "      <td>Drama|Thriller|War||1964</td>\n",
       "    </tr>\n",
       "    <tr>\n",
       "      <th>31878</th>\n",
       "      <td>Action|Comedy||2004</td>\n",
       "    </tr>\n",
       "    <tr>\n",
       "      <th>2376</th>\n",
       "      <td>Action|Adventure|Thriller||1985</td>\n",
       "    </tr>\n",
       "    <tr>\n",
       "      <th>26124</th>\n",
       "      <td>Sci-Fi||1964</td>\n",
       "    </tr>\n",
       "    <tr>\n",
       "      <th>181659</th>\n",
       "      <td>Comedy||2017</td>\n",
       "    </tr>\n",
       "    <tr>\n",
       "      <th>810</th>\n",
       "      <td>Children|Comedy|Fantasy||1996</td>\n",
       "    </tr>\n",
       "    <tr>\n",
       "      <th>8511</th>\n",
       "      <td>Comedy||1917</td>\n",
       "    </tr>\n",
       "    <tr>\n",
       "      <th>580</th>\n",
       "      <td>Drama||1994</td>\n",
       "    </tr>\n",
       "    <tr>\n",
       "      <th>128520</th>\n",
       "      <td>Comedy||2015</td>\n",
       "    </tr>\n",
       "    <tr>\n",
       "      <th>53161</th>\n",
       "      <td>Comedy|Drama|Romance|Sci-Fi||2006</td>\n",
       "    </tr>\n",
       "    <tr>\n",
       "      <th>4888</th>\n",
       "      <td>Drama||2001</td>\n",
       "    </tr>\n",
       "    <tr>\n",
       "      <th>110718</th>\n",
       "      <td>Comedy||2013</td>\n",
       "    </tr>\n",
       "    <tr>\n",
       "      <th>69746</th>\n",
       "      <td>Action|Adventure|Animation|Horror||2009</td>\n",
       "    </tr>\n",
       "    <tr>\n",
       "      <th>4003</th>\n",
       "      <td>Comedy||1988</td>\n",
       "    </tr>\n",
       "    <tr>\n",
       "      <th>4814</th>\n",
       "      <td>Thriller||2001</td>\n",
       "    </tr>\n",
       "    <tr>\n",
       "      <th>4776</th>\n",
       "      <td>Crime|Drama|Thriller||2001</td>\n",
       "    </tr>\n",
       "    <tr>\n",
       "      <th>5596</th>\n",
       "      <td>Adventure|Comedy|Sci-Fi||1990</td>\n",
       "    </tr>\n",
       "    <tr>\n",
       "      <th>44851</th>\n",
       "      <td>Comedy||2004</td>\n",
       "    </tr>\n",
       "    <tr>\n",
       "      <th>2977</th>\n",
       "      <td>Comedy|Drama||1999</td>\n",
       "    </tr>\n",
       "    <tr>\n",
       "      <th>34338</th>\n",
       "      <td>Comedy|Documentary||2005</td>\n",
       "    </tr>\n",
       "    <tr>\n",
       "      <th>52973</th>\n",
       "      <td>Comedy|Drama|Romance||2007</td>\n",
       "    </tr>\n",
       "    <tr>\n",
       "      <th>2697</th>\n",
       "      <td>Comedy|Drama|Romance||1997</td>\n",
       "    </tr>\n",
       "    <tr>\n",
       "      <th>2590</th>\n",
       "      <td>Drama||1998</td>\n",
       "    </tr>\n",
       "    <tr>\n",
       "      <th>173751</th>\n",
       "      <td>Thriller||2016</td>\n",
       "    </tr>\n",
       "    <tr>\n",
       "      <th>38992</th>\n",
       "      <td>Drama||2005</td>\n",
       "    </tr>\n",
       "    <tr>\n",
       "      <th>4232</th>\n",
       "      <td>Action|Adventure|Children|Comedy|spying|2001</td>\n",
       "    </tr>\n",
       "    <tr>\n",
       "      <th>3788</th>\n",
       "      <td>Drama|Mystery||1966</td>\n",
       "    </tr>\n",
       "    <tr>\n",
       "      <th>57669</th>\n",
       "      <td>Comedy|Crime|Drama|Thriller|blackcomedy|colinfarrell|darkcomedy|drugs|friendship|irreverent|ralphfiennes|stylized|2008</td>\n",
       "    </tr>\n",
       "    <tr>\n",
       "      <th>4812</th>\n",
       "      <td>Adventure|Sci-Fi|nasa|space|1986</td>\n",
       "    </tr>\n",
       "    <tr>\n",
       "      <th>1117</th>\n",
       "      <td>Drama||1996</td>\n",
       "    </tr>\n",
       "    <tr>\n",
       "      <th>2493</th>\n",
       "      <td>Drama||1997</td>\n",
       "    </tr>\n",
       "    <tr>\n",
       "      <th>3738</th>\n",
       "      <td>Drama||1974</td>\n",
       "    </tr>\n",
       "    <tr>\n",
       "      <th>3364</th>\n",
       "      <td>Crime|Film-Noir||1950</td>\n",
       "    </tr>\n",
       "    <tr>\n",
       "      <th>3142</th>\n",
       "      <td>Documentary|Musical||1988</td>\n",
       "    </tr>\n",
       "    <tr>\n",
       "      <th>163134</th>\n",
       "      <td>Animation|Drama|Fantasy|Romance||2016</td>\n",
       "    </tr>\n",
       "    <tr>\n",
       "      <th>1014</th>\n",
       "      <td>Children|Comedy|Drama||1960</td>\n",
       "    </tr>\n",
       "    <tr>\n",
       "      <th>147196</th>\n",
       "      <td>Comedy|Romance||1961</td>\n",
       "    </tr>\n",
       "    <tr>\n",
       "      <th>60074</th>\n",
       "      <td>Action|Adventure|Comedy|Crime|Fantasy|badscript|charlizetheron|willsmith|2008</td>\n",
       "    </tr>\n",
       "    <tr>\n",
       "      <th>2408</th>\n",
       "      <td>Comedy|Sci-Fi||1988</td>\n",
       "    </tr>\n",
       "    <tr>\n",
       "      <th>8290</th>\n",
       "      <td>Action|Crime||1975</td>\n",
       "    </tr>\n",
       "    <tr>\n",
       "      <th>3586</th>\n",
       "      <td>Drama|Romance||1980</td>\n",
       "    </tr>\n",
       "  </tbody>\n",
       "</table>\n",
       "</div>"
      ],
      "text/plain": [
       "                                                                                                                    Description\n",
       "movieId                                                                                                                        \n",
       "3695                                                                                                        Comedy|Horror||1989\n",
       "3361                                                                                                 Comedy|Drama|Romance||1988\n",
       "96430                                                                                                Comedy|Drama|Fantasy||2012\n",
       "63393                                                                                              Comedy|Musical|Romance||2008\n",
       "4772                                                                                                                Drama||2000\n",
       "82857                                                                                       Adventure|Documentary|Western||2009\n",
       "6264                                                                                         Action|Drama|Sci-Fi|Thriller||2003\n",
       "1275                                                                                             Action|Adventure|Fantasy||1986\n",
       "5382                                                                                                               Comedy||1978\n",
       "7560                                                                                                   Drama|Thriller|War||1964\n",
       "31878                                                                                                       Action|Comedy||2004\n",
       "2376                                                                                            Action|Adventure|Thriller||1985\n",
       "26124                                                                                                              Sci-Fi||1964\n",
       "181659                                                                                                             Comedy||2017\n",
       "810                                                                                               Children|Comedy|Fantasy||1996\n",
       "8511                                                                                                               Comedy||1917\n",
       "580                                                                                                                 Drama||1994\n",
       "128520                                                                                                             Comedy||2015\n",
       "53161                                                                                         Comedy|Drama|Romance|Sci-Fi||2006\n",
       "4888                                                                                                                Drama||2001\n",
       "110718                                                                                                             Comedy||2013\n",
       "69746                                                                                   Action|Adventure|Animation|Horror||2009\n",
       "4003                                                                                                               Comedy||1988\n",
       "4814                                                                                                             Thriller||2001\n",
       "4776                                                                                                 Crime|Drama|Thriller||2001\n",
       "5596                                                                                              Adventure|Comedy|Sci-Fi||1990\n",
       "44851                                                                                                              Comedy||2004\n",
       "2977                                                                                                         Comedy|Drama||1999\n",
       "34338                                                                                                  Comedy|Documentary||2005\n",
       "52973                                                                                                Comedy|Drama|Romance||2007\n",
       "2697                                                                                                 Comedy|Drama|Romance||1997\n",
       "2590                                                                                                                Drama||1998\n",
       "173751                                                                                                           Thriller||2016\n",
       "38992                                                                                                               Drama||2005\n",
       "4232                                                                               Action|Adventure|Children|Comedy|spying|2001\n",
       "3788                                                                                                        Drama|Mystery||1966\n",
       "57669    Comedy|Crime|Drama|Thriller|blackcomedy|colinfarrell|darkcomedy|drugs|friendship|irreverent|ralphfiennes|stylized|2008\n",
       "4812                                                                                           Adventure|Sci-Fi|nasa|space|1986\n",
       "1117                                                                                                                Drama||1996\n",
       "2493                                                                                                                Drama||1997\n",
       "3738                                                                                                                Drama||1974\n",
       "3364                                                                                                      Crime|Film-Noir||1950\n",
       "3142                                                                                                  Documentary|Musical||1988\n",
       "163134                                                                                    Animation|Drama|Fantasy|Romance||2016\n",
       "1014                                                                                                Children|Comedy|Drama||1960\n",
       "147196                                                                                                     Comedy|Romance||1961\n",
       "60074                                             Action|Adventure|Comedy|Crime|Fantasy|badscript|charlizetheron|willsmith|2008\n",
       "2408                                                                                                        Comedy|Sci-Fi||1988\n",
       "8290                                                                                                         Action|Crime||1975\n",
       "3586                                                                                                        Drama|Romance||1980"
      ]
     },
     "execution_count": 33,
     "metadata": {},
     "output_type": "execute_result"
    }
   ],
   "source": [
    "from IPython.display import display, HTML\n",
    "pd.set_option('max_colwidth', 120)\n",
    "def preprocess_movies(movies_df, tags_df):\n",
    "    \"\"\"\n",
    "    Get the \"Description\" column by joining the genres, the tags and the year (separated by pipes \"|\").\n",
    "    Remove the year from the title and add it as a feature.\n",
    "    This \"Description\" column will be used for the TF-IDF.\n",
    "    \n",
    "    Steps needed:\n",
    "    1. Get the tags. Preprocess their content to have multiple pipe-separated tabs for each movie.\n",
    "    2. Join the movies_df with the new preprocessed_tags.\n",
    "    3. Get the year as a feature. Clean the text in the \"title\" feature and add the year as a new \"year\" feature.\n",
    "    4. Create a new \"Description\" feature with \"genres\", \"tag\" and \"year\" features. Join them with a pipe \"|\".\n",
    "    \n",
    "    You can use the functions \"preprocess_tags\" and \"join_movies_with_tags\" as defined above.\n",
    "    \n",
    "    Parameters\n",
    "    ----------\n",
    "    movies_df : pd.DataFrame\n",
    "                original movies dataframe\n",
    "                \n",
    "    tags_df : pd.DataFrame\n",
    "              contains the tags as imported above\n",
    "    \n",
    "    Returns\n",
    "    -------\n",
    "    preprocessed_movies : pd.DataFrame, shape: (n_items, 1)\n",
    "                          Movies DataFrame preprocessed with both tags and genres ready to be TF-IDF Vectorized.\n",
    "    \"\"\"\n",
    "    preprocessed_tags = preprocess_tags(tags_df)\n",
    "    preprocessed_movies = join_movies_with_tags(movies_df, preprocessed_tags)\n",
    "    #display(preprocessed_movies)\n",
    "    preprocessed_movies[['clean_title','year']] = preprocessed_movies.title.str.extract(r'(.*)\\((\\d{4})')\n",
    "    preprocessed_movies[\"year\"] = preprocessed_movies[\"title\"].str.split().apply(lambda x: x[-1]).str.replace(\"(\\(|\\))\", \"\")\n",
    "    preprocessed_movies.clean_title.loc[preprocessed_movies.clean_title.isna()] = preprocessed_movies.loc[preprocessed_movies.clean_title.isna()].title.copy()    # YOUR CODE HERE\n",
    "    preprocessed_movies.year.loc[preprocessed_movies.year.isna()] = ''\n",
    "    preprocessed_movies[\"Description\"] = preprocessed_movies.genres+'|'+preprocessed_movies.tag+'|'+preprocessed_movies.year\n",
    "    #display(preprocessed_movies)\n",
    "    return preprocessed_movies[[\"Description\"]]\n",
    "\n",
    "preprocessed_movies = preprocess_movies(movies_df, tags_df)\n",
    "preprocessed_movies.sample(50)"
   ]
  },
  {
   "cell_type": "code",
   "execution_count": 34,
   "metadata": {
    "deletable": false,
    "editable": false,
    "nbgrader": {
     "grade": true,
     "grade_id": "cell-6b5ecfc3945fff0c",
     "locked": true,
     "points": 4,
     "schema_version": 3,
     "solution": false,
     "task": false
    }
   },
   "outputs": [],
   "source": [
    "expected_hash = '4c59be6c9b0a96e2ead911ccca3567ac875d14038d9a420c100cb9fe6a0f17d3'\n",
    "assert hashlib.sha256(str(preprocessed_movies.shape).encode()).hexdigest() == expected_hash\n",
    "\n",
    "expected_hash = '2ce22ef15aca0e77d083cb5a74a14297279231df2016013f18971f1f598e7fdf'\n",
    "assert hashlib.sha256(str(preprocessed_movies.loc[1][\"Description\"].lower()).encode()).hexdigest() == expected_hash"
   ]
  },
  {
   "cell_type": "code",
   "execution_count": 35,
   "metadata": {},
   "outputs": [
    {
     "data": {
      "text/html": [
       "<div>\n",
       "<style scoped>\n",
       "    .dataframe tbody tr th:only-of-type {\n",
       "        vertical-align: middle;\n",
       "    }\n",
       "\n",
       "    .dataframe tbody tr th {\n",
       "        vertical-align: top;\n",
       "    }\n",
       "\n",
       "    .dataframe thead th {\n",
       "        text-align: right;\n",
       "    }\n",
       "</style>\n",
       "<table border=\"1\" class=\"dataframe\">\n",
       "  <thead>\n",
       "    <tr style=\"text-align: right;\">\n",
       "      <th></th>\n",
       "      <th>Description</th>\n",
       "    </tr>\n",
       "    <tr>\n",
       "      <th>movieId</th>\n",
       "      <th></th>\n",
       "    </tr>\n",
       "  </thead>\n",
       "  <tbody>\n",
       "    <tr>\n",
       "      <th>1</th>\n",
       "      <td>Adventure|Animation|Children|Comedy|Fantasy|pixar|pixar|fun|1995</td>\n",
       "    </tr>\n",
       "    <tr>\n",
       "      <th>2</th>\n",
       "      <td>Adventure|Children|Fantasy|fantasy|magicboardgame|robinwilliams|game|1995</td>\n",
       "    </tr>\n",
       "    <tr>\n",
       "      <th>3</th>\n",
       "      <td>Comedy|Romance|moldy|old|1995</td>\n",
       "    </tr>\n",
       "    <tr>\n",
       "      <th>4</th>\n",
       "      <td>Comedy|Drama|Romance||1995</td>\n",
       "    </tr>\n",
       "    <tr>\n",
       "      <th>5</th>\n",
       "      <td>Comedy|pregnancy|remake|1995</td>\n",
       "    </tr>\n",
       "  </tbody>\n",
       "</table>\n",
       "</div>"
      ],
      "text/plain": [
       "                                                                       Description\n",
       "movieId                                                                           \n",
       "1                 Adventure|Animation|Children|Comedy|Fantasy|pixar|pixar|fun|1995\n",
       "2        Adventure|Children|Fantasy|fantasy|magicboardgame|robinwilliams|game|1995\n",
       "3                                                    Comedy|Romance|moldy|old|1995\n",
       "4                                                       Comedy|Drama|Romance||1995\n",
       "5                                                     Comedy|pregnancy|remake|1995"
      ]
     },
     "execution_count": 35,
     "metadata": {},
     "output_type": "execute_result"
    }
   ],
   "source": [
    "# Get a glimpse of the preprocessed movies\n",
    "preprocessed_movies.head()"
   ]
  },
  {
   "cell_type": "markdown",
   "metadata": {},
   "source": [
    "## Q4.2 - Matching the Contents\n",
    "### Matching variables (non-graded)\n",
    "\n",
    "After preprocessing the content for the movies (items), we need to match them to the original ratings listing we have already. To do this we match the index of our `preprocessed_movies` DataFrame (already unique) with the unique items we have in our original listing of ratings `all_ratings_extended`."
   ]
  },
  {
   "cell_type": "code",
   "execution_count": 36,
   "metadata": {},
   "outputs": [
    {
     "name": "stderr",
     "output_type": "stream",
     "text": [
      "/home/fc/anaconda3/envs/blu12/lib/python3.7/site-packages/ipykernel_launcher.py:1: DeprecationWarning: elementwise comparison failed; this will raise an error in the future.\n",
      "  \"\"\"Entry point for launching an IPython kernel.\n"
     ]
    },
    {
     "data": {
      "text/plain": [
       "False"
      ]
     },
     "execution_count": 36,
     "metadata": {},
     "output_type": "execute_result"
    }
   ],
   "source": [
    "np.all(np.array(preprocessed_movies.index) == np.unique(all_ratings_extended[\"movieId\"]))"
   ]
  },
  {
   "cell_type": "markdown",
   "metadata": {},
   "source": [
    "\n",
    ".... and VOILÁ! They don't match! 😡 Let's check their sizes:"
   ]
  },
  {
   "cell_type": "code",
   "execution_count": 37,
   "metadata": {},
   "outputs": [
    {
     "name": "stdout",
     "output_type": "stream",
     "text": [
      "Preprocessed Movies index has 9742 elements\n",
      "Original Ratings listing has 9724 elements\n"
     ]
    }
   ],
   "source": [
    "print(f\"Preprocessed Movies index has {preprocessed_movies.index.shape[0]} elements\")\n",
    "print(f\"Original Ratings listing has {ratings.shape[1]} elements\")"
   ]
  },
  {
   "cell_type": "markdown",
   "metadata": {},
   "source": [
    "Since we have more movieIds in the tags than in the ratings matrix, we need to subset the original `preprocessed_movies` DataFrame to only include the movies for which we have ratings."
   ]
  },
  {
   "cell_type": "code",
   "execution_count": 38,
   "metadata": {
    "deletable": false,
    "nbgrader": {
     "grade": false,
     "grade_id": "cell-546bddcb80dd9098",
     "locked": false,
     "schema_version": 3,
     "solution": true,
     "task": false
    }
   },
   "outputs": [
    {
     "data": {
      "text/html": [
       "<div>\n",
       "<style scoped>\n",
       "    .dataframe tbody tr th:only-of-type {\n",
       "        vertical-align: middle;\n",
       "    }\n",
       "\n",
       "    .dataframe tbody tr th {\n",
       "        vertical-align: top;\n",
       "    }\n",
       "\n",
       "    .dataframe thead th {\n",
       "        text-align: right;\n",
       "    }\n",
       "</style>\n",
       "<table border=\"1\" class=\"dataframe\">\n",
       "  <thead>\n",
       "    <tr style=\"text-align: right;\">\n",
       "      <th></th>\n",
       "      <th>Description</th>\n",
       "    </tr>\n",
       "    <tr>\n",
       "      <th>movieId</th>\n",
       "      <th></th>\n",
       "    </tr>\n",
       "  </thead>\n",
       "  <tbody>\n",
       "    <tr>\n",
       "      <th>1</th>\n",
       "      <td>Adventure|Animation|Children|Comedy|Fantasy|pixar|pixar|fun|1995</td>\n",
       "    </tr>\n",
       "    <tr>\n",
       "      <th>2</th>\n",
       "      <td>Adventure|Children|Fantasy|fantasy|magicboardgame|robinwilliams|game|1995</td>\n",
       "    </tr>\n",
       "    <tr>\n",
       "      <th>3</th>\n",
       "      <td>Comedy|Romance|moldy|old|1995</td>\n",
       "    </tr>\n",
       "    <tr>\n",
       "      <th>4</th>\n",
       "      <td>Comedy|Drama|Romance||1995</td>\n",
       "    </tr>\n",
       "    <tr>\n",
       "      <th>5</th>\n",
       "      <td>Comedy|pregnancy|remake|1995</td>\n",
       "    </tr>\n",
       "    <tr>\n",
       "      <th>...</th>\n",
       "      <td>...</td>\n",
       "    </tr>\n",
       "    <tr>\n",
       "      <th>193581</th>\n",
       "      <td>Action|Animation|Comedy|Fantasy||2017</td>\n",
       "    </tr>\n",
       "    <tr>\n",
       "      <th>193583</th>\n",
       "      <td>Animation|Comedy|Fantasy||2017</td>\n",
       "    </tr>\n",
       "    <tr>\n",
       "      <th>193585</th>\n",
       "      <td>Drama||2017</td>\n",
       "    </tr>\n",
       "    <tr>\n",
       "      <th>193587</th>\n",
       "      <td>Action|Animation||2018</td>\n",
       "    </tr>\n",
       "    <tr>\n",
       "      <th>193609</th>\n",
       "      <td>Comedy||1991</td>\n",
       "    </tr>\n",
       "  </tbody>\n",
       "</table>\n",
       "<p>9724 rows × 1 columns</p>\n",
       "</div>"
      ],
      "text/plain": [
       "                                                                       Description\n",
       "movieId                                                                           \n",
       "1                 Adventure|Animation|Children|Comedy|Fantasy|pixar|pixar|fun|1995\n",
       "2        Adventure|Children|Fantasy|fantasy|magicboardgame|robinwilliams|game|1995\n",
       "3                                                    Comedy|Romance|moldy|old|1995\n",
       "4                                                       Comedy|Drama|Romance||1995\n",
       "5                                                     Comedy|pregnancy|remake|1995\n",
       "...                                                                            ...\n",
       "193581                                       Action|Animation|Comedy|Fantasy||2017\n",
       "193583                                              Animation|Comedy|Fantasy||2017\n",
       "193585                                                                 Drama||2017\n",
       "193587                                                      Action|Animation||2018\n",
       "193609                                                                Comedy||1991\n",
       "\n",
       "[9724 rows x 1 columns]"
      ]
     },
     "execution_count": 38,
     "metadata": {},
     "output_type": "execute_result"
    }
   ],
   "source": [
    "def reduce_preprocessed_movies_scope(preprocessed_movies, all_ratings_extended):\n",
    "    \"\"\"\n",
    "    Filter out the movies that have information but that are not present in the original ratings listing.\n",
    "    \n",
    "    Tips and tricks:\n",
    "    Get the unique movieIds for the original listing (the index for preprocessed_movies should already be unique).\n",
    "    Get the movies for which we have the tags but not the ratings.\n",
    "    Select the movies in the preprocessed_movies which are not in the above.\n",
    "    \n",
    "    Parameters\n",
    "    ----------\n",
    "    preprocessed_movies : pd.DataFrame\n",
    "                          DataFrame with the Description for all the movies available with tags.\n",
    "                          \n",
    "    all_ratings_extended : pd.DataFrame\n",
    "                           Listing of all the ratings available.\n",
    "                          \n",
    "    Returns\n",
    "    -------\n",
    "    \n",
    "    filtered_preprocessed_movies : pd.DataFrame\n",
    "                                   \n",
    "    \"\"\"\n",
    "    # YOUR CODE HERE\n",
    "    return preprocessed_movies.loc[np.unique(all_ratings_extended[\"movieId\"])]\n",
    "    \n",
    "filtered_preprocessed_movies = reduce_preprocessed_movies_scope(preprocessed_movies, all_ratings_extended)\n",
    "filtered_preprocessed_movies"
   ]
  },
  {
   "cell_type": "code",
   "execution_count": 39,
   "metadata": {
    "deletable": false,
    "editable": false,
    "nbgrader": {
     "grade": true,
     "grade_id": "cell-747f2faa877fd37f",
     "locked": true,
     "points": 2,
     "schema_version": 3,
     "solution": false,
     "task": false
    }
   },
   "outputs": [],
   "source": [
    "expected_hash = 'f46df9a8f5e1c4c1f0e17649a4214e19503569f77991533f1db1747b28523fe5'\n",
    "assert hashlib.sha256(str(len(filtered_preprocessed_movies.index)).encode()).hexdigest() == expected_hash\n",
    "\n",
    "assert np.all(np.array(filtered_preprocessed_movies.index) == np.unique(all_ratings_extended[\"movieId\"]))"
   ]
  },
  {
   "cell_type": "markdown",
   "metadata": {},
   "source": [
    "## Q4.3 - Calculate the Profiles for the Items\n",
    "Now that we have the attributes for each item (pipe-separated items present in the `filtered_preprocessed_movies`), we can calculate the item profiles for each item."
   ]
  },
  {
   "cell_type": "code",
   "execution_count": 40,
   "metadata": {},
   "outputs": [
    {
     "data": {
      "text/html": [
       "<div>\n",
       "<style scoped>\n",
       "    .dataframe tbody tr th:only-of-type {\n",
       "        vertical-align: middle;\n",
       "    }\n",
       "\n",
       "    .dataframe tbody tr th {\n",
       "        vertical-align: top;\n",
       "    }\n",
       "\n",
       "    .dataframe thead th {\n",
       "        text-align: right;\n",
       "    }\n",
       "</style>\n",
       "<table border=\"1\" class=\"dataframe\">\n",
       "  <thead>\n",
       "    <tr style=\"text-align: right;\">\n",
       "      <th></th>\n",
       "      <th>Description</th>\n",
       "    </tr>\n",
       "    <tr>\n",
       "      <th>movieId</th>\n",
       "      <th></th>\n",
       "    </tr>\n",
       "  </thead>\n",
       "  <tbody>\n",
       "    <tr>\n",
       "      <th>1</th>\n",
       "      <td>Adventure|Animation|Children|Comedy|Fantasy|pixar|pixar|fun|1995</td>\n",
       "    </tr>\n",
       "    <tr>\n",
       "      <th>2</th>\n",
       "      <td>Adventure|Children|Fantasy|fantasy|magicboardgame|robinwilliams|game|1995</td>\n",
       "    </tr>\n",
       "    <tr>\n",
       "      <th>3</th>\n",
       "      <td>Comedy|Romance|moldy|old|1995</td>\n",
       "    </tr>\n",
       "    <tr>\n",
       "      <th>4</th>\n",
       "      <td>Comedy|Drama|Romance||1995</td>\n",
       "    </tr>\n",
       "    <tr>\n",
       "      <th>5</th>\n",
       "      <td>Comedy|pregnancy|remake|1995</td>\n",
       "    </tr>\n",
       "    <tr>\n",
       "      <th>...</th>\n",
       "      <td>...</td>\n",
       "    </tr>\n",
       "    <tr>\n",
       "      <th>193581</th>\n",
       "      <td>Action|Animation|Comedy|Fantasy||2017</td>\n",
       "    </tr>\n",
       "    <tr>\n",
       "      <th>193583</th>\n",
       "      <td>Animation|Comedy|Fantasy||2017</td>\n",
       "    </tr>\n",
       "    <tr>\n",
       "      <th>193585</th>\n",
       "      <td>Drama||2017</td>\n",
       "    </tr>\n",
       "    <tr>\n",
       "      <th>193587</th>\n",
       "      <td>Action|Animation||2018</td>\n",
       "    </tr>\n",
       "    <tr>\n",
       "      <th>193609</th>\n",
       "      <td>Comedy||1991</td>\n",
       "    </tr>\n",
       "  </tbody>\n",
       "</table>\n",
       "<p>9724 rows × 1 columns</p>\n",
       "</div>"
      ],
      "text/plain": [
       "                                                                       Description\n",
       "movieId                                                                           \n",
       "1                 Adventure|Animation|Children|Comedy|Fantasy|pixar|pixar|fun|1995\n",
       "2        Adventure|Children|Fantasy|fantasy|magicboardgame|robinwilliams|game|1995\n",
       "3                                                    Comedy|Romance|moldy|old|1995\n",
       "4                                                       Comedy|Drama|Romance||1995\n",
       "5                                                     Comedy|pregnancy|remake|1995\n",
       "...                                                                            ...\n",
       "193581                                       Action|Animation|Comedy|Fantasy||2017\n",
       "193583                                              Animation|Comedy|Fantasy||2017\n",
       "193585                                                                 Drama||2017\n",
       "193587                                                      Action|Animation||2018\n",
       "193609                                                                Comedy||1991\n",
       "\n",
       "[9724 rows x 1 columns]"
      ]
     },
     "execution_count": 40,
     "metadata": {},
     "output_type": "execute_result"
    }
   ],
   "source": [
    "filtered_preprocessed_movies"
   ]
  },
  {
   "cell_type": "code",
   "execution_count": 41,
   "metadata": {},
   "outputs": [
    {
     "data": {
      "text/html": [
       "<div>\n",
       "<style scoped>\n",
       "    .dataframe tbody tr th:only-of-type {\n",
       "        vertical-align: middle;\n",
       "    }\n",
       "\n",
       "    .dataframe tbody tr th {\n",
       "        vertical-align: top;\n",
       "    }\n",
       "\n",
       "    .dataframe thead th {\n",
       "        text-align: right;\n",
       "    }\n",
       "</style>\n",
       "<table border=\"1\" class=\"dataframe\">\n",
       "  <thead>\n",
       "    <tr style=\"text-align: right;\">\n",
       "      <th></th>\n",
       "      <th>Description</th>\n",
       "    </tr>\n",
       "    <tr>\n",
       "      <th>movieId</th>\n",
       "      <th></th>\n",
       "    </tr>\n",
       "  </thead>\n",
       "  <tbody>\n",
       "    <tr>\n",
       "      <th>1</th>\n",
       "      <td>Adventure|Animation|Children|Comedy|Fantasy|pixar|pixar|fun|1995</td>\n",
       "    </tr>\n",
       "    <tr>\n",
       "      <th>2</th>\n",
       "      <td>Adventure|Children|Fantasy|fantasy|magicboardgame|robinwilliams|game|1995</td>\n",
       "    </tr>\n",
       "    <tr>\n",
       "      <th>3</th>\n",
       "      <td>Comedy|Romance|moldy|old|1995</td>\n",
       "    </tr>\n",
       "    <tr>\n",
       "      <th>4</th>\n",
       "      <td>Comedy|Drama|Romance||1995</td>\n",
       "    </tr>\n",
       "    <tr>\n",
       "      <th>5</th>\n",
       "      <td>Comedy|pregnancy|remake|1995</td>\n",
       "    </tr>\n",
       "    <tr>\n",
       "      <th>...</th>\n",
       "      <td>...</td>\n",
       "    </tr>\n",
       "    <tr>\n",
       "      <th>193581</th>\n",
       "      <td>Action|Animation|Comedy|Fantasy||2017</td>\n",
       "    </tr>\n",
       "    <tr>\n",
       "      <th>193583</th>\n",
       "      <td>Animation|Comedy|Fantasy||2017</td>\n",
       "    </tr>\n",
       "    <tr>\n",
       "      <th>193585</th>\n",
       "      <td>Drama||2017</td>\n",
       "    </tr>\n",
       "    <tr>\n",
       "      <th>193587</th>\n",
       "      <td>Action|Animation||2018</td>\n",
       "    </tr>\n",
       "    <tr>\n",
       "      <th>193609</th>\n",
       "      <td>Comedy||1991</td>\n",
       "    </tr>\n",
       "  </tbody>\n",
       "</table>\n",
       "<p>9724 rows × 1 columns</p>\n",
       "</div>"
      ],
      "text/plain": [
       "                                                                       Description\n",
       "movieId                                                                           \n",
       "1                 Adventure|Animation|Children|Comedy|Fantasy|pixar|pixar|fun|1995\n",
       "2        Adventure|Children|Fantasy|fantasy|magicboardgame|robinwilliams|game|1995\n",
       "3                                                    Comedy|Romance|moldy|old|1995\n",
       "4                                                       Comedy|Drama|Romance||1995\n",
       "5                                                     Comedy|pregnancy|remake|1995\n",
       "...                                                                            ...\n",
       "193581                                       Action|Animation|Comedy|Fantasy||2017\n",
       "193583                                              Animation|Comedy|Fantasy||2017\n",
       "193585                                                                 Drama||2017\n",
       "193587                                                      Action|Animation||2018\n",
       "193609                                                                Comedy||1991\n",
       "\n",
       "[9724 rows x 1 columns]"
      ]
     },
     "execution_count": 41,
     "metadata": {},
     "output_type": "execute_result"
    }
   ],
   "source": [
    "filtered_preprocessed_movies"
   ]
  },
  {
   "cell_type": "code",
   "execution_count": 42,
   "metadata": {
    "deletable": false,
    "nbgrader": {
     "grade": false,
     "grade_id": "cell-810408e9f169b757",
     "locked": false,
     "schema_version": 3,
     "solution": true,
     "task": false
    }
   },
   "outputs": [
    {
     "data": {
      "text/plain": [
       "(9724, 1622)"
      ]
     },
     "execution_count": 42,
     "metadata": {},
     "output_type": "execute_result"
    }
   ],
   "source": [
    "def get_item_profiles(preprocessed_movies: pd.DataFrame):\n",
    "    \"\"\"\n",
    "    Call a fit_transform on a TF-IDF Vectorizer.\n",
    "    Returns the profiles for the items.\n",
    "    \n",
    "    Returns\n",
    "    -------\n",
    "    item_profiles : csr_matrix, shape: (n_items, n_tfidf_features)\n",
    "    \"\"\"\n",
    "    # YOUR CODE HERE\n",
    "    vectorizer = TfidfVectorizer()\n",
    "    \n",
    "    item_profiles = vectorizer.fit_transform(preprocessed_movies.Description)\n",
    "    #print(vectorizer.get_feature_names())\n",
    "    return item_profiles\n",
    "    \n",
    "item_profiles = get_item_profiles(filtered_preprocessed_movies)\n",
    "item_profiles.shape"
   ]
  },
  {
   "cell_type": "code",
   "execution_count": 43,
   "metadata": {
    "deletable": false,
    "editable": false,
    "nbgrader": {
     "grade": true,
     "grade_id": "cell-7eb3dd58d39e1ff2",
     "locked": true,
     "points": 1,
     "schema_version": 3,
     "solution": false,
     "task": false
    }
   },
   "outputs": [],
   "source": [
    "expected_hash = 'a05c961fb42c746751e14ecf45ba31de109eb9bb60189057420399648931e823'\n",
    "assert hashlib.sha256(str(item_profiles.shape).encode()).hexdigest() == expected_hash"
   ]
  },
  {
   "cell_type": "markdown",
   "metadata": {},
   "source": [
    "## Q4.4 - User Profiles\n",
    "Next to step is to check that we have a *(n_users, n_items)* ratings matrix and a *(n_items, n_tfidf_features)*. If we multiply them, we get *(n_users, n_tfidf_features)*. \n",
    "\n",
    "Did we just associated the users with the item features?"
   ]
  },
  {
   "cell_type": "code",
   "execution_count": null,
   "metadata": {
    "deletable": false,
    "nbgrader": {
     "grade": false,
     "grade_id": "cell-20bcd68441488e85",
     "locked": false,
     "schema_version": 3,
     "solution": true,
     "task": false
    }
   },
   "outputs": [],
   "source": [
    "# YOUR CODE HERE\n",
    "user_profiles = np.dot(all_ratings_extended, item_profiles)"
   ]
  },
  {
   "cell_type": "code",
   "execution_count": null,
   "metadata": {
    "deletable": false,
    "editable": false,
    "nbgrader": {
     "grade": true,
     "grade_id": "cell-f116d0e36809b9e6",
     "locked": true,
     "points": 1,
     "schema_version": 3,
     "solution": false,
     "task": false
    }
   },
   "outputs": [],
   "source": [
    "expected_hash = '7bbb7fa14ce2f1a245bb1ce66f76292520aff0a9c043d054256c4b31706e366b'\n",
    "assert hashlib.sha256(str(user_profiles.shape).encode()).hexdigest() == expected_hash\n",
    "\n",
    "expected_hash = '228d8eceeba4d7d8764a521b0c9fb0d50d5010f74375960af5ca62203a6dcb17'\n",
    "assert hashlib.sha256(str(user_profiles.nnz).encode()).hexdigest() == expected_hash"
   ]
  },
  {
   "cell_type": "markdown",
   "metadata": {},
   "source": [
    "## Q4.5 - The Moment of Truth\n",
    "We will do what recommender systems should do: recommend. (mind-blowing, right?!)"
   ]
  },
  {
   "cell_type": "code",
   "execution_count": null,
   "metadata": {
    "deletable": false,
    "nbgrader": {
     "grade": false,
     "grade_id": "cell-5ac2689623d9a18c",
     "locked": false,
     "schema_version": 3,
     "solution": true,
     "task": false
    }
   },
   "outputs": [],
   "source": [
    "def make_predictions(R, item_profiles, user_profiles):\n",
    "    \"\"\"\n",
    "    Make predictions based on the ratings matrix, the item profiles and the user profiles we calculated previously.\n",
    "    \n",
    "    \n",
    "    Parameters\n",
    "    ----------\n",
    "    R : csr_matrix. shape: (n_users, n_items)\n",
    "        Matrix containing the ratings initially assigned.\n",
    "        \n",
    "    item_profiles : csr_matrix. shape: (n_items, n_tfidf_features)\n",
    "                    Matrix containing the TF-IDF features calculated for the items.\n",
    "                    \n",
    "    user_profiles : csr_matrix. shape: (n_users, n_tfidf_features)\n",
    "                    Matrix containing the user profiles as the product of the ratings with the item profiles.\n",
    "                    \n",
    "                    \n",
    "    Returns\n",
    "    -------\n",
    "    predictions : csr_matrix. shape: (n_users, n_items)\n",
    "                  Matrix with the predictions. Already rated content is suppressed to 0.\n",
    "    \"\"\"\n",
    "    # YOUR CODE HERE\n",
    "    raise NotImplementedError()\n",
    "\n",
    "\n",
    "pred = make_predictions(ratings, item_profiles, user_profiles)"
   ]
  },
  {
   "cell_type": "code",
   "execution_count": null,
   "metadata": {
    "deletable": false,
    "editable": false,
    "nbgrader": {
     "grade": true,
     "grade_id": "cell-5f6533735e4c9cc1",
     "locked": true,
     "points": 1,
     "schema_version": 3,
     "solution": false,
     "task": false
    }
   },
   "outputs": [],
   "source": [
    "assert isinstance(pred, csr_matrix)\n",
    "assert pred.shape == ratings.shape # Your predictions shape should match the original ratings matrixa\n",
    "np.testing.assert_almost_equal(pred[-1, 200], 0.06885, decimal=4)"
   ]
  },
  {
   "cell_type": "markdown",
   "metadata": {},
   "source": [
    "## Q4.5 Get Top-7 items for each user"
   ]
  },
  {
   "cell_type": "code",
   "execution_count": null,
   "metadata": {
    "deletable": false,
    "nbgrader": {
     "grade": false,
     "grade_id": "cell-f7dc7173198255e6",
     "locked": false,
     "schema_version": 3,
     "solution": true,
     "task": false
    }
   },
   "outputs": [],
   "source": [
    "def get_top_n(pred, n=3):\n",
    "    \"\"\"\n",
    "    Calculates the sorted best n items for each user.\n",
    "    \n",
    "    Parameters\n",
    "    ----------\n",
    "    \n",
    "    pred : csr_matrix, shape: (n_users, n_items)\n",
    "           Matrix with predictions for the items.\n",
    "           \n",
    "    n : int\n",
    "        Top-n items for each user. Default to 3.\n",
    "        \n",
    "        \n",
    "    Returns\n",
    "    -------\n",
    "    \n",
    "    best_preds : np.ndarray, shape: (n_users, n)\n",
    "                 Sorted n-best items for each user.\n",
    "    \"\"\"\n",
    "    # YOUR CODE HERE\n",
    "    raise NotImplementedError()\n",
    "\n",
    "best_preds = get_top_n(pred, 7)"
   ]
  },
  {
   "cell_type": "code",
   "execution_count": null,
   "metadata": {
    "deletable": false,
    "editable": false,
    "nbgrader": {
     "grade": true,
     "grade_id": "cell-0f069497bddd5576",
     "locked": true,
     "points": 1,
     "schema_version": 3,
     "solution": false,
     "task": false
    }
   },
   "outputs": [],
   "source": [
    "expected_hash = 'c103df72e15cf510fd1acdd2fa2e71fdb7fb3ebf72441fd79d8aa1bee87169fd'\n",
    "assert hashlib.sha256(str(best_preds[50, 5]).encode()).hexdigest() == expected_hash\n",
    "\n",
    "expected_hash = 'd6420a4ee44bc345c7bf3a2efbab98e08a4727016df8e8d6bb8375d0a23a8c72'\n",
    "assert hashlib.sha256(str(best_preds[-1, 6]).encode()).hexdigest() == expected_hash"
   ]
  },
  {
   "cell_type": "markdown",
   "metadata": {},
   "source": [
    "## Q5 - New User's Best Predictions (non-graded)"
   ]
  },
  {
   "cell_type": "code",
   "execution_count": null,
   "metadata": {},
   "outputs": [],
   "source": [
    "f\"The Top-7 items for the user are indexed as {list(best_preds[-1])}\""
   ]
  }
 ],
 "metadata": {
  "kernelspec": {
   "display_name": "Python 3",
   "language": "python",
   "name": "python3"
  },
  "language_info": {
   "codemirror_mode": {
    "name": "ipython",
    "version": 3
   },
   "file_extension": ".py",
   "mimetype": "text/x-python",
   "name": "python",
   "nbconvert_exporter": "python",
   "pygments_lexer": "ipython3",
   "version": "3.7.3"
  }
 },
 "nbformat": 4,
 "nbformat_minor": 2
}
