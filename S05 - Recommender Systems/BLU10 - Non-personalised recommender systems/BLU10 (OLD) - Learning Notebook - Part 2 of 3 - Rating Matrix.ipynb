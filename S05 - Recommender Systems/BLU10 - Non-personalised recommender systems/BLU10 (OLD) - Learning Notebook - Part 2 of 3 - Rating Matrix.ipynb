{
 "cells": [
  {
   "cell_type": "markdown",
   "metadata": {},
   "source": [
    "# BLU10 - Learning Notebook - Part 2 of 3 - Rating Matrix"
   ]
  },
  {
   "cell_type": "code",
   "execution_count": 1,
   "metadata": {},
   "outputs": [],
   "source": [
    "import numpy as np\n",
    "import pandas as pd\n",
    "import scipy as sp\n",
    "\n",
    "from scipy.sparse import random, coo_matrix, lil_matrix, dok_matrix, csr_matrix, csc_matrix"
   ]
  },
  {
   "cell_type": "markdown",
   "metadata": {},
   "source": [
    "# 1 Creating a ratings matrix\n",
    "\n",
    "We come back to our framework, and we now focus on the base model, which only considers the interactions between users and items:\n",
    "\n",
    "![Recommender Sytems Framework](./media/recommender_systems_framework_base.png)\n",
    "\n",
    "This basic model is the foundation of every RS and gives rise to the Ratings Matrix $R$. \n",
    "\n",
    "## 1.2 Types of data\n",
    "\n",
    "Different types of interactions between users and items can manifest the user's opinion about an item in different ways.\n",
    "\n",
    "### Explicit and implicit feedback\n",
    "\n",
    "Feedback is said to be explicit when provided by the user and implicit if inferred based on user actions (e.g., clicks).\n",
    "\n",
    "Implicit feedback usually takes the form of unary data {0,1},\n",
    "\n",
    "### Rating scale\n",
    "\n",
    "We write $S$ the set of possible ratings. For example, in 1-5 stars rating system $r_{u, i} \\in S = \\{1, 2, 3, 4, 5\\}$.\n",
    "\n",
    "| Type of data    | Description                          | Rating scale (examples) | Explicit/Implicit |  \n",
    "|-----------------|--------------------------------------|-------------------------|-------------------|\n",
    "| Numeric         | Continuous ratings                   | $S = [1, 5]$            | Explicit          |\n",
    "| Ordinal         | Ordered categories                   | $S = \\{1, 2, 3, 4, 5\\}$ | Explicit          |\n",
    "| Binary          | Good or bad  (e.g., Upvote/Downvote) | $S = \\{-1, 1\\}$         | Explicit          |\n",
    "| Unary           | User action  (e.g., Click, Purchase) | $S = \\{1\\}$             | Implicit          |\n",
    "*Table 1: Different types of data and rating scales*\n",
    "\n",
    "## 1.3 Ratings matrix\n",
    "\n",
    "Consider the following ratings matrix $R$, with $S = \\{1, 2, 3, 4, 5\\}$:\n",
    "\n",
    "$$\\begin{bmatrix}1 &  & 2\\\\ 1 & 5 & \\\\  & 2 & 1\\end{bmatrix}$$\n",
    "\n",
    "## 1.4 Representing vectors\n",
    "\n",
    "Let's go bit by bit, starting with the first row of the matrix, corresponding to:\n",
    "\n",
    "$$\\begin{bmatrix}(Ana, Bananas) & (Ana, Water) & (Ana, Milk)\\end{bmatrix}$$\n",
    "\n",
    "To clarify, $I_{Ana} = \\{Bananas, Milk\\}$ and $(Ana, Water) \\notin R'$. Right?\n",
    "\n",
    "At the core of Numpy is the homogeneous (i.e., all elements of the same type) n-dimensional array.\n",
    "\n",
    "Corresponding to the NumPy array:\n",
    "\n",
    "```\n",
    "┌───┬───┬───┐\n",
    "│ 1 │   │ 2 │\n",
    "└───┴───┴───┘\n",
    "```\n",
    "\n",
    "We can create using `numpy.array` with an array-like object, a standard Python list in this case."
   ]
  },
  {
   "cell_type": "code",
   "execution_count": 2,
   "metadata": {},
   "outputs": [
    {
     "data": {
      "text/plain": [
       "array([ 1., nan,  2.])"
      ]
     },
     "execution_count": 2,
     "metadata": {},
     "output_type": "execute_result"
    }
   ],
   "source": [
    "np.array([1, np.NaN, 2])"
   ]
  },
  {
   "cell_type": "markdown",
   "metadata": {},
   "source": [
    "The resulting array is what we call a rank-1 because it is a vector with one dimension.\n",
    "\n",
    "Nonetheless, rank-1 arrays can be ambiguous, so we represent vectors as rank-2 arrays, i.e., as matrices with two dimensions.\n",
    "\n",
    "The general convention is to use a column vector instead, i.e., a $n$ by 1 matrix, such as:\n",
    "\n",
    "$$\\begin{bmatrix}1 \\\\  \\\\ 2\\end{bmatrix}$$\n",
    "\n",
    "Corresponding to a 3 by 1 matrix, such as:\n",
    "\n",
    "```\n",
    "┌───┐\n",
    "│ 1 │\n",
    "├───┤\n",
    "│   │\n",
    "├───┤\n",
    "│ 2 │\n",
    "└───┘\n",
    "```\n",
    "\n",
    "We do this by using a list of lists, with one nested list per row."
   ]
  },
  {
   "cell_type": "code",
   "execution_count": 3,
   "metadata": {},
   "outputs": [
    {
     "data": {
      "text/plain": [
       "array([[ 1.],\n",
       "       [nan],\n",
       "       [ 2.]])"
      ]
     },
     "execution_count": 3,
     "metadata": {},
     "output_type": "execute_result"
    }
   ],
   "source": [
    "np.array([[1], [np.NaN], [2]])"
   ]
  },
  {
   "cell_type": "markdown",
   "metadata": {},
   "source": [
    "## 1.5 Representing matrices\n",
    "\n",
    "Finally, we create our ratings matrix $R$, corresponding to:\n",
    "```\n",
    "┌───┬───┬───┐\n",
    "│ 1 │   │ 2 │\n",
    "├───┼───┼───┤\n",
    "│ 1 │ 5 │   │\n",
    "├───┼───┼───┤\n",
    "│   │ 2 │ 1 │\n",
    "└───┴───┴───┘\n",
    "```\n",
    "\n",
    "Conveniently, we can pass a list of lists, just like we did above."
   ]
  },
  {
   "cell_type": "code",
   "execution_count": 4,
   "metadata": {},
   "outputs": [
    {
     "data": {
      "text/plain": [
       "array([[ 1., nan,  2.],\n",
       "       [ 1.,  5., nan],\n",
       "       [nan,  2.,  1.]])"
      ]
     },
     "execution_count": 4,
     "metadata": {},
     "output_type": "execute_result"
    }
   ],
   "source": [
    "R = [[1, np.NaN, 2], [1, 5, np.NaN], [np.NaN, 2, 1]]\n",
    "R = np.array(R)\n",
    "R"
   ]
  },
  {
   "cell_type": "markdown",
   "metadata": {},
   "source": [
    "## 1.6 Matrix attributes\n",
    "\n",
    "Some important attributes of any `ndarray`, to keep in mind."
   ]
  },
  {
   "cell_type": "code",
   "execution_count": 5,
   "metadata": {},
   "outputs": [
    {
     "name": "stdout",
     "output_type": "stream",
     "text": [
      "R is a 2-dimensional, 3 by 3 matrix, of float64 elements.\n"
     ]
    }
   ],
   "source": [
    "ndims = R.ndim\n",
    "nrows = R.shape[0]\n",
    "ncols = R.shape[1] \n",
    "dtype = R.dtype\n",
    "\n",
    "print(\"R is a {}-dimensional, {} by {} matrix, of {} elements.\".format(ndims, nrows, ncols, dtype))"
   ]
  },
  {
   "cell_type": "markdown",
   "metadata": {},
   "source": [
    "## 1.7 Saving the matrix\n",
    "\n",
    "We can save the matrix to a binary file in NumPy `.npy` format.\n",
    "\n",
    "Note that `save` is a stand-alone function and not an array method."
   ]
  },
  {
   "cell_type": "code",
   "execution_count": 6,
   "metadata": {},
   "outputs": [],
   "source": [
    "np.save('data/interim/ratings_matrix', R)"
   ]
  },
  {
   "cell_type": "markdown",
   "metadata": {},
   "source": [
    "Alternatively, we can dump the matrix into a `.csv` file, as we would typically do."
   ]
  },
  {
   "cell_type": "code",
   "execution_count": 7,
   "metadata": {},
   "outputs": [],
   "source": [
    "np.savetxt(\"data/interim/ratings_matrix.csv\", R, delimiter=\",\")"
   ]
  },
  {
   "cell_type": "markdown",
   "metadata": {},
   "source": [
    "### 2.2.3 From pandas DataFrame to scipy sparse\n",
    "\n",
    "If you have a pandas DataFrame (containing only numerical values, of course), you don't need to create a numpy array from it and then convert to scipy sparse: you can do it directly!\n",
    "This allows you to use Pandas to do cool feature engineering, plot some things and pretend you actually understand what the data is telling you."
   ]
  },
  {
   "cell_type": "code",
   "execution_count": 22,
   "metadata": {},
   "outputs": [
    {
     "data": {
      "text/html": [
       "<div>\n",
       "<style scoped>\n",
       "    .dataframe tbody tr th:only-of-type {\n",
       "        vertical-align: middle;\n",
       "    }\n",
       "\n",
       "    .dataframe tbody tr th {\n",
       "        vertical-align: top;\n",
       "    }\n",
       "\n",
       "    .dataframe thead th {\n",
       "        text-align: right;\n",
       "    }\n",
       "</style>\n",
       "<table border=\"1\" class=\"dataframe\">\n",
       "  <thead>\n",
       "    <tr style=\"text-align: right;\">\n",
       "      <th></th>\n",
       "      <th>Bananas</th>\n",
       "      <th>Water</th>\n",
       "      <th>Milk</th>\n",
       "    </tr>\n",
       "  </thead>\n",
       "  <tbody>\n",
       "    <tr>\n",
       "      <th>Ana</th>\n",
       "      <td>1</td>\n",
       "      <td>0</td>\n",
       "      <td>2</td>\n",
       "    </tr>\n",
       "    <tr>\n",
       "      <th>Miguel</th>\n",
       "      <td>1</td>\n",
       "      <td>5</td>\n",
       "      <td>0</td>\n",
       "    </tr>\n",
       "    <tr>\n",
       "      <th>Beatriz</th>\n",
       "      <td>0</td>\n",
       "      <td>2</td>\n",
       "      <td>1</td>\n",
       "    </tr>\n",
       "  </tbody>\n",
       "</table>\n",
       "</div>"
      ],
      "text/plain": [
       "         Bananas  Water  Milk\n",
       "Ana            1      0     2\n",
       "Miguel         1      5     0\n",
       "Beatriz        0      2     1"
      ]
     },
     "execution_count": 22,
     "metadata": {},
     "output_type": "execute_result"
    }
   ],
   "source": [
    "df = pd.DataFrame({\n",
    "    'Bananas': [1,1,0],\n",
    "    'Water': [0,5,2],\n",
    "    'Milk': [2,0,1]\n",
    "    },\n",
    "    index=['Ana', 'Miguel', 'Beatriz']\n",
    ")\n",
    "df"
   ]
  },
  {
   "cell_type": "code",
   "execution_count": 23,
   "metadata": {},
   "outputs": [
    {
     "data": {
      "text/plain": [
       "<3x3 sparse matrix of type '<class 'numpy.int64'>'\n",
       "\twith 6 stored elements in Compressed Sparse Column format>"
      ]
     },
     "execution_count": 23,
     "metadata": {},
     "output_type": "execute_result"
    }
   ],
   "source": [
    "H_ = csc_matrix(df.values)\n",
    "H_"
   ]
  },
  {
   "cell_type": "code",
   "execution_count": 24,
   "metadata": {},
   "outputs": [
    {
     "data": {
      "text/plain": [
       "array([[1, 0, 2],\n",
       "       [1, 5, 0],\n",
       "       [0, 2, 1]], dtype=int64)"
      ]
     },
     "execution_count": 24,
     "metadata": {},
     "output_type": "execute_result"
    }
   ],
   "source": [
    "H_.toarray()"
   ]
  }
 ],
 "metadata": {
  "kernelspec": {
   "display_name": "Python 3",
   "language": "python",
   "name": "python3"
  },
  "language_info": {
   "codemirror_mode": {
    "name": "ipython",
    "version": 3
   },
   "file_extension": ".py",
   "mimetype": "text/x-python",
   "name": "python",
   "nbconvert_exporter": "python",
   "pygments_lexer": "ipython3",
   "version": "3.7.6"
  }
 },
 "nbformat": 4,
 "nbformat_minor": 2
}
