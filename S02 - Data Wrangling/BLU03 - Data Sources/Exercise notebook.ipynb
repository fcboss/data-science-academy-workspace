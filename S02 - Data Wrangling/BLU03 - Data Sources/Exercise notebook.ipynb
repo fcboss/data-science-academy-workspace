{
 "cells": [
  {
   "cell_type": "markdown",
   "metadata": {
    "deletable": false,
    "editable": false,
    "nbgrader": {
     "grade": false,
     "grade_id": "cell-1b6b75485105e36c",
     "locked": true,
     "schema_version": 1,
     "solution": false
    }
   },
   "source": [
    "# BLU03 - Exercises Notebook"
   ]
  },
  {
   "cell_type": "code",
   "execution_count": 3,
   "metadata": {
    "deletable": false,
    "editable": false,
    "nbgrader": {
     "grade": false,
     "grade_id": "cell-ee9dcdd4eb1308b9",
     "locked": true,
     "schema_version": 1,
     "solution": false
    }
   },
   "outputs": [],
   "source": [
    "import hashlib # for grading purposes\n",
    "import math\n",
    "import numpy as np\n",
    "import pandas as pd\n",
    "import requests\n",
    "import sqlalchemy\n",
    "\n",
    "from bs4 import BeautifulSoup"
   ]
  },
  {
   "cell_type": "markdown",
   "metadata": {
    "deletable": false,
    "editable": false,
    "nbgrader": {
     "grade": false,
     "grade_id": "cell-cc67f3fcb340fbcd",
     "locked": true,
     "schema_version": 1,
     "solution": false
    }
   },
   "source": [
    "## Part A - SQL exercises\n",
    "\n",
    "### Querying the FIFAdb with a SQL client\n",
    "\n",
    "Open your favorite SQL client and connect to the FIFAdb.\n",
    "The connection settings are the following.\n",
    "\n",
    "* host: data-wrangling-batch3.cl9uj9cucww7.eu-west-1.rds.amazonaws.com\n",
    "* port: 5432\n",
    "* user: ldsa_student\n",
    "* database: fifa\n",
    "* schema: public\n",
    "* password: XXX (shared through slack)\n",
    "\n",
    "This is a different database than the one we used in the learning notebooks. This database contains information about football matches, players, teams, and which league and country these matches took place in. Additionally, it also countains the player's and team's \"attributes\", sourced from the EA Sports' FIFA video game series.\n",
    "\n",
    "The tables in this database are the following:\n",
    "\n",
    "1. Match: has information about the the football matches: who were the 11 home and away players (identified by their player_id), how many goals did each team score, the date of the match, the league id and the home/away team id's.\n",
    "2. Player: contains informations about the players.\n",
    "3. Team: contains information about the teams.\n",
    "4. League: contains information about the football leagues, including the id of the country where they take place.\n",
    "5. Country: names and id's of the countries\n",
    "6. Player_Attributes: contains the attributes for each player.\n",
    "7. Team_Attributes: contains the attributes for each team.\n",
    "\n",
    "You can preview these tables using the SQL client.\n",
    "\n",
    "### Q1. Select the name of the player with id 30981\n",
    "\n",
    "Write a query that selects the name of the player whose id is 30981, and run it in the SQL client.\n",
    "\n",
    "Then, assign the result to variable id30981_player_name (just copy and paste the name you obtained)."
   ]
  },
  {
   "cell_type": "code",
   "execution_count": 4,
   "metadata": {
    "deletable": false,
    "nbgrader": {
     "grade": false,
     "grade_id": "cell-03b22b93be7b587e",
     "locked": false,
     "schema_version": 1,
     "solution": true
    }
   },
   "outputs": [],
   "source": [
    "# YOUR CODE HERE\n",
    "id30981_player_name = \"Lionel Messi\""
   ]
  },
  {
   "cell_type": "code",
   "execution_count": 5,
   "metadata": {
    "deletable": false,
    "editable": false,
    "nbgrader": {
     "grade": true,
     "grade_id": "cell-92e8f002ca863db1",
     "locked": true,
     "points": 1,
     "schema_version": 1,
     "solution": false
    }
   },
   "outputs": [],
   "source": [
    "expected_hash = 'e3ccd9684de593c7c6b6354cbe413d233959e7677258bfc3727d807e5900dce2'\n",
    "assert hashlib.sha256(id30981_player_name.encode()).hexdigest() == expected_hash"
   ]
  },
  {
   "cell_type": "markdown",
   "metadata": {},
   "source": [
    "### Q2. Calculate the maximum number of goals scored by team with id 9825, when playing at home\n",
    "\n",
    "Write a query that calculates the highest amount of goals scored by team with id 9825, when playing at home.\n",
    "\n",
    "Then, assign the result to variable max_goals_by_team_id_9825 (just copy and paste the value)."
   ]
  },
  {
   "cell_type": "code",
   "execution_count": 6,
   "metadata": {
    "deletable": false,
    "nbgrader": {
     "grade": false,
     "grade_id": "cell-be58fad2af1735bd",
     "locked": false,
     "schema_version": 1,
     "solution": true
    }
   },
   "outputs": [],
   "source": [
    "# YOUR CODE HERE\n",
    "max_goals_by_team_id_9825 = 7"
   ]
  },
  {
   "cell_type": "code",
   "execution_count": 7,
   "metadata": {
    "deletable": false,
    "editable": false,
    "nbgrader": {
     "grade": true,
     "grade_id": "cell-1f2f87262d1b5fc4",
     "locked": true,
     "points": 1,
     "schema_version": 1,
     "solution": false
    }
   },
   "outputs": [],
   "source": [
    "expected_hash = '7902699be42c8a8e46fbbb4501726517e86b22c56a189f7625a6da49081b2451'\n",
    "assert hashlib.sha256(str(max_goals_by_team_id_9825).encode()).hexdigest() == expected_hash"
   ]
  },
  {
   "cell_type": "markdown",
   "metadata": {
    "deletable": false,
    "editable": false,
    "nbgrader": {
     "grade": false,
     "grade_id": "cell-010c418f565b3108",
     "locked": true,
     "schema_version": 1,
     "solution": false
    }
   },
   "source": [
    "### Q3. Calculate the average overall rating of players whose first name is Cristiano \n",
    "\n",
    "Are Cristianos predisposed to be good Football players? Only one way to find out!\n",
    "\n",
    "Write a query that calculates the average overall_rating attribute of players whose name is \"Cristiano *something else*\" (that is, players whose first name is Cristiano, and last name varies), and run it in the SQL client.\n",
    "\n",
    "Then, assign the result to variable avg_cristiano_rating (round up to the nearest integer).\n",
    "\n",
    "**Hint**: check the [LIKE](https://www.postgresql.org/docs/current/static/functions-matching.html#FUNCTIONS-LIKE) keyword for this exercise."
   ]
  },
  {
   "cell_type": "code",
   "execution_count": 8,
   "metadata": {
    "deletable": false,
    "nbgrader": {
     "grade": false,
     "grade_id": "cell-3a7464176782e2cb",
     "locked": false,
     "schema_version": 1,
     "solution": true
    }
   },
   "outputs": [],
   "source": [
    "# YOUR CODE HERE\n",
    "avg_cristiano_rating = 72"
   ]
  },
  {
   "cell_type": "code",
   "execution_count": 9,
   "metadata": {
    "deletable": false,
    "editable": false,
    "nbgrader": {
     "grade": true,
     "grade_id": "cell-f1f24a46b0d15dc9",
     "locked": true,
     "points": 1,
     "schema_version": 1,
     "solution": false
    }
   },
   "outputs": [],
   "source": [
    "expected_hashes = ['8722616204217eddb39e7df969e0698aed8e599ba62ed2de1ce49b03ade0fede', '96061e92f58e4bdcdee73df36183fe3ac64747c81c26f6c83aada8d2aabb1864', 'eb624dbe56eb6620ae62080c10a273cab73ae8eca98ab17b731446a31c79393a']\n",
    "assert hashlib.sha256(str(avg_cristiano_rating).encode()).hexdigest() in expected_hashes"
   ]
  },
  {
   "cell_type": "markdown",
   "metadata": {
    "deletable": false,
    "editable": false,
    "nbgrader": {
     "grade": false,
     "grade_id": "cell-f1ef8aaf001e8015",
     "locked": true,
     "schema_version": 1,
     "solution": false
    }
   },
   "source": [
    "### Q4. Count how many different teams played in Portugal\n",
    "\n",
    "Write a query that counts the number of different teams that played in Portugal, across all games. You can calculate this value considering only the home or away team (it should be the same because every team has played on both sides of the field!).\n",
    "\n",
    "Assign the result to variable number_of_portuguese_teams (just copy and paste the value).\n",
    "\n",
    "**Hints**: keep in mind you only want to count DISTINCT team names. For this, the [DISTINCT](https://www.postgresql.org/docs/current/static/sql-select.html#SQL-DISTINCT) keyword will be essential. Also, remember that the relationship between Country and Match isn't explicitly presented on the Match table, but there is a relationship between League and Country."
   ]
  },
  {
   "cell_type": "code",
   "execution_count": 10,
   "metadata": {
    "deletable": false,
    "nbgrader": {
     "grade": false,
     "grade_id": "cell-645c2fbe3b16c880",
     "locked": false,
     "schema_version": 1,
     "solution": true
    }
   },
   "outputs": [],
   "source": [
    "# YOUR CODE HERE\n",
    "number_of_portuguese_teams=29"
   ]
  },
  {
   "cell_type": "code",
   "execution_count": 11,
   "metadata": {
    "deletable": false,
    "editable": false,
    "nbgrader": {
     "grade": true,
     "grade_id": "cell-41d99aabd53c87e7",
     "locked": true,
     "points": 1,
     "schema_version": 1,
     "solution": false
    }
   },
   "outputs": [],
   "source": [
    "expected_hash = '35135aaa6cc23891b40cb3f378c53a17a1127210ce60e125ccf03efcfdaec458'\n",
    "assert hashlib.sha256(str(number_of_portuguese_teams).encode()).hexdigest() == expected_hash"
   ]
  },
  {
   "cell_type": "markdown",
   "metadata": {
    "deletable": false,
    "editable": false,
    "nbgrader": {
     "grade": false,
     "grade_id": "cell-24c0142cc3082a0c",
     "locked": true,
     "schema_version": 1,
     "solution": false
    }
   },
   "source": [
    "### Q5. Find out which team has the highest average goal count while playing away\n",
    "\n",
    "Write a query to find out which team scores the most goals on average while playing away. Assign the team's name to the variable team_with_highest_average_goals_away.\n",
    "\n",
    "Also find out what this average amount of goals is, and assign it to the variable average_goals_away (round to the nearest integer)."
   ]
  },
  {
   "cell_type": "code",
   "execution_count": 12,
   "metadata": {
    "deletable": false,
    "nbgrader": {
     "grade": false,
     "grade_id": "cell-c5ef88aa51ea99f6",
     "locked": false,
     "schema_version": 1,
     "solution": true
    }
   },
   "outputs": [],
   "source": [
    "# YOUR CODE HERE\n",
    "team_with_highest_average_goals_away = 'FC Barcelona'\n",
    "average_goals_away =2"
   ]
  },
  {
   "cell_type": "code",
   "execution_count": 13,
   "metadata": {
    "deletable": false,
    "editable": false,
    "nbgrader": {
     "grade": true,
     "grade_id": "cell-f0f9a337b81de14a",
     "locked": true,
     "points": 1,
     "schema_version": 1,
     "solution": false
    }
   },
   "outputs": [],
   "source": [
    "expected_team_hash = '09c58af5e0ed9ebb10922ebc55ceacbb6ea1dc78d6b0237fe5e37b408d9a84d6'\n",
    "assert hashlib.sha256(team_with_highest_average_goals_away.encode()).hexdigest() == expected_team_hash\n",
    "\n",
    "expected_goals_hash = 'd4735e3a265e16eee03f59718b9b5d03019c07d8b6c51f90da3a666eec13ab35'\n",
    "assert hashlib.sha256(str(average_goals_away).encode()).hexdigest() == expected_goals_hash"
   ]
  },
  {
   "cell_type": "markdown",
   "metadata": {
    "deletable": false,
    "editable": false,
    "nbgrader": {
     "grade": false,
     "grade_id": "cell-3a1dca85f9b02ebf",
     "locked": true,
     "schema_version": 1,
     "solution": false
    }
   },
   "source": [
    "### Querying the FIFAdb with pandas\n",
    "\n",
    "In these exercises, the goal is to query the FIFAdb using pandas.\n",
    "\n",
    "### Q6. Find the teams who are the least successful at pressuring their opponents' defence.\n",
    "\n",
    "The connection settings to use in this exercise are the same ones as in the previous exercises.\n",
    "\n",
    "Write a query to find the name, short_name and *average amount of goals scored when playing at home* of the teams with a high \"defencepressure\" team attribute (*greater than 55*).\n",
    "\n",
    "Search only for teams with:\n",
    "* an *average amount of goals scored when playing at home* lesser than 2 (the least successful teams at pressuring the opponents' defence and scoring goals); \n",
    "* more than 30 games played at home, to reduce the number of statistically insignificant results.\n",
    "\n",
    "Order the results by the average amount of goals scored, in ascending order.\n",
    "\n",
    "Assign the result to dataframe df6."
   ]
  },
  {
   "cell_type": "markdown",
   "metadata": {},
   "source": [
    "host: data-wrangling-batch3.cl9uj9cucww7.eu-west-1.rds.amazonaws.com\n",
    "port: 5432\n",
    "user: ldsa_student\n",
    "database: fifa\n",
    "schema: public"
   ]
  },
  {
   "cell_type": "code",
   "execution_count": 34,
   "metadata": {
    "deletable": false,
    "nbgrader": {
     "grade": false,
     "grade_id": "cell-f2cd873c0ac14ca0",
     "locked": false,
     "schema_version": 1,
     "solution": true
    }
   },
   "outputs": [
    {
     "data": {
      "text/html": [
       "<div>\n",
       "<style scoped>\n",
       "    .dataframe tbody tr th:only-of-type {\n",
       "        vertical-align: middle;\n",
       "    }\n",
       "\n",
       "    .dataframe tbody tr th {\n",
       "        vertical-align: top;\n",
       "    }\n",
       "\n",
       "    .dataframe thead th {\n",
       "        text-align: right;\n",
       "    }\n",
       "</style>\n",
       "<table border=\"1\" class=\"dataframe\">\n",
       "  <thead>\n",
       "    <tr style=\"text-align: right;\">\n",
       "      <th></th>\n",
       "      <th>name</th>\n",
       "      <th>short_name</th>\n",
       "      <th>average_home_goal</th>\n",
       "    </tr>\n",
       "  </thead>\n",
       "  <tbody>\n",
       "    <tr>\n",
       "      <th>0</th>\n",
       "      <td>Grenoble Foot 38</td>\n",
       "      <td>GRE</td>\n",
       "      <td>0.868421</td>\n",
       "    </tr>\n",
       "    <tr>\n",
       "      <th>1</th>\n",
       "      <td>Falkirk</td>\n",
       "      <td>FAL</td>\n",
       "      <td>0.947368</td>\n",
       "    </tr>\n",
       "    <tr>\n",
       "      <th>2</th>\n",
       "      <td>Le Mans FC</td>\n",
       "      <td>LEM</td>\n",
       "      <td>1.052632</td>\n",
       "    </tr>\n",
       "    <tr>\n",
       "      <th>3</th>\n",
       "      <td>Arka Gdynia</td>\n",
       "      <td>ARK</td>\n",
       "      <td>1.155556</td>\n",
       "    </tr>\n",
       "    <tr>\n",
       "      <th>4</th>\n",
       "      <td>KSV Roeselare</td>\n",
       "      <td>ROS</td>\n",
       "      <td>1.161290</td>\n",
       "    </tr>\n",
       "    <tr>\n",
       "      <th>5</th>\n",
       "      <td>Polonia Bytom</td>\n",
       "      <td>POB</td>\n",
       "      <td>1.222222</td>\n",
       "    </tr>\n",
       "    <tr>\n",
       "      <th>6</th>\n",
       "      <td>Zagłębie Lubin</td>\n",
       "      <td>ZAG</td>\n",
       "      <td>1.288889</td>\n",
       "    </tr>\n",
       "    <tr>\n",
       "      <th>7</th>\n",
       "      <td>KSV Cercle Brugge</td>\n",
       "      <td>CEB</td>\n",
       "      <td>1.307692</td>\n",
       "    </tr>\n",
       "    <tr>\n",
       "      <th>8</th>\n",
       "      <td>Cracovia</td>\n",
       "      <td>CKR</td>\n",
       "      <td>1.371429</td>\n",
       "    </tr>\n",
       "    <tr>\n",
       "      <th>9</th>\n",
       "      <td>Wisła Kraków</td>\n",
       "      <td>WIS</td>\n",
       "      <td>1.400000</td>\n",
       "    </tr>\n",
       "    <tr>\n",
       "      <th>10</th>\n",
       "      <td>Polonia Bytom</td>\n",
       "      <td>GOR</td>\n",
       "      <td>1.419048</td>\n",
       "    </tr>\n",
       "    <tr>\n",
       "      <th>11</th>\n",
       "      <td>TSG 1899 Hoffenheim</td>\n",
       "      <td>HOF</td>\n",
       "      <td>1.632353</td>\n",
       "    </tr>\n",
       "    <tr>\n",
       "      <th>12</th>\n",
       "      <td>Leicester City</td>\n",
       "      <td>LEI</td>\n",
       "      <td>1.657895</td>\n",
       "    </tr>\n",
       "    <tr>\n",
       "      <th>13</th>\n",
       "      <td>SV Werder Bremen</td>\n",
       "      <td>WBR</td>\n",
       "      <td>1.691176</td>\n",
       "    </tr>\n",
       "    <tr>\n",
       "      <th>14</th>\n",
       "      <td>LOSC Lille</td>\n",
       "      <td>LIL</td>\n",
       "      <td>1.776316</td>\n",
       "    </tr>\n",
       "    <tr>\n",
       "      <th>15</th>\n",
       "      <td>Bayer 04 Leverkusen</td>\n",
       "      <td>LEV</td>\n",
       "      <td>1.985294</td>\n",
       "    </tr>\n",
       "  </tbody>\n",
       "</table>\n",
       "</div>"
      ],
      "text/plain": [
       "                   name short_name  average_home_goal\n",
       "0      Grenoble Foot 38        GRE           0.868421\n",
       "1               Falkirk        FAL           0.947368\n",
       "2            Le Mans FC        LEM           1.052632\n",
       "3           Arka Gdynia        ARK           1.155556\n",
       "4         KSV Roeselare        ROS           1.161290\n",
       "5         Polonia Bytom        POB           1.222222\n",
       "6        Zagłębie Lubin        ZAG           1.288889\n",
       "7     KSV Cercle Brugge        CEB           1.307692\n",
       "8              Cracovia        CKR           1.371429\n",
       "9          Wisła Kraków        WIS           1.400000\n",
       "10        Polonia Bytom        GOR           1.419048\n",
       "11  TSG 1899 Hoffenheim        HOF           1.632353\n",
       "12       Leicester City        LEI           1.657895\n",
       "13     SV Werder Bremen        WBR           1.691176\n",
       "14           LOSC Lille        LIL           1.776316\n",
       "15  Bayer 04 Leverkusen        LEV           1.985294"
      ]
     },
     "execution_count": 34,
     "metadata": {},
     "output_type": "execute_result"
    }
   ],
   "source": [
    "# Create an engine that allows to to connect to the FIFAdb PostgreSQL database\n",
    "# engine = sqlalchemy.create_engine(...)\n",
    "# YOUR CODE HERE\n",
    "username = 'ldsa_student'\n",
    "password = 'JGIYc6jD'  # the password is not XXX by the way\n",
    "host_name = 'data-wrangling-batch3.cl9uj9cucww7.eu-west-1.rds.amazonaws.com'\n",
    "port = 5432\n",
    "db_name = 'fifa'\n",
    "schema = 'public'\n",
    "\n",
    "conn_str = 'postgresql://{}:{}@{}:{}/{}'.format(username, password, host_name, port, db_name)\n",
    "conn_args = {'options': '-csearch_path={}'.format(schema)}\n",
    "\n",
    "engine = sqlalchemy.create_engine(conn_str, connect_args=conn_args)\n",
    "\n",
    "# Write the query as specified in the question\n",
    "query = '''select name, short_name,average_home_goal FROM( select name, short_name, avg(home_team_goal) as average_home_goal, count(short_name) as nr_games, avg(defencepressure) as defencepressure\n",
    "\tfrom match\n",
    "\t\t\tjoin team_attributes\n",
    "\t\t\ton match.home_team_id = team_attributes.team_id\n",
    "\t\t\tjoin team\n",
    "\t\t\ton match.home_team_id = team.id\n",
    "group by name, short_name\n",
    "having avg(home_team_goal) < 2\n",
    "\tand count(short_name)>30\n",
    "\tand avg(defencepressure) > 55\n",
    "order by average_home_goal) as name;\n",
    "\n",
    "'''\n",
    "# YOUR CODE HERE\n",
    "\n",
    "# Use pandas read_sql_query function to read the query result into a DataFrame\n",
    "# df6 = pd.read_sql_query(...)\n",
    "# YOUR CODE HERE\n",
    "df6 = pd.read_sql_query(query, engine)\n",
    "df6"
   ]
  },
  {
   "cell_type": "code",
   "execution_count": 35,
   "metadata": {},
   "outputs": [
    {
     "data": {
      "text/plain": [
       "'Le Mans FC'"
      ]
     },
     "execution_count": 35,
     "metadata": {},
     "output_type": "execute_result"
    }
   ],
   "source": [
    "df6.iloc[2][\"name\"]"
   ]
  },
  {
   "cell_type": "code",
   "execution_count": 36,
   "metadata": {
    "deletable": false,
    "editable": false,
    "nbgrader": {
     "grade": true,
     "grade_id": "cell-28986c4b783959be",
     "locked": true,
     "points": 1,
     "schema_version": 1,
     "solution": false
    }
   },
   "outputs": [],
   "source": [
    "assert type(engine) == sqlalchemy.engine.base.Engine\n",
    "assert len(df6) == 16\n",
    "assert len(df6.columns) == 3\n",
    "\n",
    "expected_hash = '29adea3d0c885434d0f6f957aeb61f87c49c416fd1ecc895d438b552a5ec90e9'\n",
    "assert hashlib.sha256(df6.iloc[2][\"name\"].encode()).hexdigest() == expected_hash\n",
    "\n",
    "expected_hash = 'fe34924d143b814542bfb9714341fa68ac9fca7a0b4eeda1b654abacae2d1a50'\n",
    "assert hashlib.sha256(df6.iloc[4].short_name.encode()).hexdigest() == expected_hash"
   ]
  },
  {
   "cell_type": "markdown",
   "metadata": {
    "deletable": false,
    "editable": false,
    "nbgrader": {
     "grade": false,
     "grade_id": "cell-06b122f1f318a355",
     "locked": true,
     "schema_version": 1,
     "solution": false
    }
   },
   "source": [
    "### Q7. Select players with high shot power and agility, and order the results by height\n",
    "\n",
    "In this exercise, we want to query a local SQLite database.\n",
    "In order to do this, connect to the FIFAdb.sqlite database, as was done in the learning notebooks for the_movies.db. The database file we're using is in the same directory as this Exercises Notebook.\n",
    "\n",
    "Write a query that selects the player name, height, weight, shot_power and agility for all players with shot_power higher than 85 and agility higher than 80. Order these results in descending order by player height.\n",
    "\n",
    "Use pandas to read this query into a DataFrame called df7 with five columns: name, height, weight, shot_power and agility."
   ]
  },
  {
   "cell_type": "code",
   "execution_count": 51,
   "metadata": {
    "deletable": false,
    "nbgrader": {
     "grade": false,
     "grade_id": "cell-8d45d74ae0d84110",
     "locked": false,
     "schema_version": 1,
     "solution": true
    }
   },
   "outputs": [
    {
     "data": {
      "text/html": [
       "<div>\n",
       "<style scoped>\n",
       "    .dataframe tbody tr th:only-of-type {\n",
       "        vertical-align: middle;\n",
       "    }\n",
       "\n",
       "    .dataframe tbody tr th {\n",
       "        vertical-align: top;\n",
       "    }\n",
       "\n",
       "    .dataframe thead th {\n",
       "        text-align: right;\n",
       "    }\n",
       "</style>\n",
       "<table border=\"1\" class=\"dataframe\">\n",
       "  <thead>\n",
       "    <tr style=\"text-align: right;\">\n",
       "      <th></th>\n",
       "      <th>name</th>\n",
       "      <th>height</th>\n",
       "      <th>weight</th>\n",
       "      <th>shot_power</th>\n",
       "      <th>agility</th>\n",
       "    </tr>\n",
       "  </thead>\n",
       "  <tbody>\n",
       "    <tr>\n",
       "      <th>0</th>\n",
       "      <td>Zlatan Ibrahimovic</td>\n",
       "      <td>195.58</td>\n",
       "      <td>209</td>\n",
       "      <td>91.761905</td>\n",
       "      <td>82.285714</td>\n",
       "    </tr>\n",
       "    <tr>\n",
       "      <th>1</th>\n",
       "      <td>Cristiano Ronaldo</td>\n",
       "      <td>185.42</td>\n",
       "      <td>176</td>\n",
       "      <td>92.760000</td>\n",
       "      <td>92.960000</td>\n",
       "    </tr>\n",
       "    <tr>\n",
       "      <th>2</th>\n",
       "      <td>Abdulkader Keita</td>\n",
       "      <td>182.88</td>\n",
       "      <td>172</td>\n",
       "      <td>86.750000</td>\n",
       "      <td>84.125000</td>\n",
       "    </tr>\n",
       "    <tr>\n",
       "      <th>3</th>\n",
       "      <td>Michel Bastos</td>\n",
       "      <td>177.80</td>\n",
       "      <td>163</td>\n",
       "      <td>86.793103</td>\n",
       "      <td>85.413793</td>\n",
       "    </tr>\n",
       "    <tr>\n",
       "      <th>4</th>\n",
       "      <td>Daniel Alves</td>\n",
       "      <td>172.72</td>\n",
       "      <td>154</td>\n",
       "      <td>86.250000</td>\n",
       "      <td>85.950000</td>\n",
       "    </tr>\n",
       "    <tr>\n",
       "      <th>5</th>\n",
       "      <td>Carlos Tevez</td>\n",
       "      <td>172.72</td>\n",
       "      <td>157</td>\n",
       "      <td>86.578947</td>\n",
       "      <td>81.894737</td>\n",
       "    </tr>\n",
       "    <tr>\n",
       "      <th>6</th>\n",
       "      <td>Jermain Defoe</td>\n",
       "      <td>170.18</td>\n",
       "      <td>154</td>\n",
       "      <td>86.928571</td>\n",
       "      <td>83.321429</td>\n",
       "    </tr>\n",
       "    <tr>\n",
       "      <th>7</th>\n",
       "      <td>Wesley Sneijder</td>\n",
       "      <td>170.18</td>\n",
       "      <td>159</td>\n",
       "      <td>86.375000</td>\n",
       "      <td>83.468750</td>\n",
       "    </tr>\n",
       "  </tbody>\n",
       "</table>\n",
       "</div>"
      ],
      "text/plain": [
       "                 name  height  weight  shot_power    agility\n",
       "0  Zlatan Ibrahimovic  195.58     209   91.761905  82.285714\n",
       "1   Cristiano Ronaldo  185.42     176   92.760000  92.960000\n",
       "2    Abdulkader Keita  182.88     172   86.750000  84.125000\n",
       "3       Michel Bastos  177.80     163   86.793103  85.413793\n",
       "4        Daniel Alves  172.72     154   86.250000  85.950000\n",
       "5        Carlos Tevez  172.72     157   86.578947  81.894737\n",
       "6       Jermain Defoe  170.18     154   86.928571  83.321429\n",
       "7     Wesley Sneijder  170.18     159   86.375000  83.468750"
      ]
     },
     "execution_count": 51,
     "metadata": {},
     "output_type": "execute_result"
    }
   ],
   "source": [
    "# Create an engine that allows to to connect to the the_movies.db SQLite database\n",
    "# engine = sqlalchemy.create_engine(...)\n",
    "# YOUR CODE HERE\n",
    "\n",
    "db_file_path = 'data/FIFAdb.sqlite'\n",
    "conn_str = 'sqlite:///{}'.format(db_file_path)\n",
    "\n",
    "engine = sqlalchemy.create_engine(conn_str)\n",
    "query = '''SELECT name,height, weight, shot_power, agility FROM player JOIN player_attributes on player.id = player_attributes.player_id\n",
    "WHERE shot_power>85\n",
    "    AND agility>80\n",
    "ORDER BY height DESC'''\n",
    "df7 = pd.read_sql_query(query, engine)\n",
    "\n",
    "# Write the query as specified in the question\n",
    "# query = ...\n",
    "# YOUR CODE HERE\n",
    "\n",
    "# Use pandas read_sql_query function to read the query result into a DataFrame\n",
    "# df7 = pd.read_sql_query(...)\n",
    "# YOUR CODE HERE\n",
    "df7"
   ]
  },
  {
   "cell_type": "code",
   "execution_count": 52,
   "metadata": {
    "deletable": false,
    "editable": false,
    "nbgrader": {
     "grade": true,
     "grade_id": "cell-19abd085a003ab6f",
     "locked": true,
     "points": 1,
     "schema_version": 1,
     "solution": false
    }
   },
   "outputs": [],
   "source": [
    "assert type(engine) == sqlalchemy.engine.base.Engine\n",
    "assert len(df7) == 8\n",
    "assert len(df7.columns) == 5\n",
    "assert df7.columns.tolist() == ['name', 'height', 'weight', 'shot_power', 'agility']\n",
    "\n",
    "expected_hash = '51f5bb089774886799fada5cfdf18780d7d33ed30e85b0e0783ab8e1f13b06ea'\n",
    "assert hashlib.sha256(df7.loc[0, 'name'].encode()).hexdigest() == expected_hash\n",
    "\n",
    "expected_hash = '397edbc247ad5e6500752bde4715741a87369467b217220279c3e7adbd7c7ea0'\n",
    "assert hashlib.sha256(str(df7.loc[2, 'height']).encode()).hexdigest() == expected_hash\n",
    "\n",
    "expected_hash = 'ed145fcc7ab03071c1e1548a515ba1f2b66bee9623532681476b6515c3ffc7fd'\n",
    "assert hashlib.sha256(df7.loc[7, 'name'].encode()).hexdigest() == expected_hash"
   ]
  },
  {
   "cell_type": "markdown",
   "metadata": {
    "deletable": false,
    "editable": false,
    "nbgrader": {
     "grade": false,
     "grade_id": "cell-a63384ff91b49abf",
     "locked": true,
     "schema_version": 1,
     "solution": false
    }
   },
   "source": [
    "## Part B - Public APIs\n",
    "\n",
    "In this exercises, the goal is to get data from a public API. We'll use the [Star Wars API](https://swapi.co/).\n",
    "\n",
    "In order to complete the exercises, you'll have to consult the API's [documentation](https://swapi.co/documentation).\n",
    "\n",
    "<br>\n",
    "\n",
    "<img src=\"media/Star-wars.jpg\" width=600>\n",
    "\n",
    "<br>\n",
    "\n",
    "### Q8. Get planet 7 from the API\n",
    "\n",
    "Read the [documentation](https://swapi.co/documentation) of the API in order to find out how to get the planet with id 7.\n",
    "In order to get this data, you'll need to do an HTTP GET request.\n",
    "\n",
    "The result should be a JSON object (which is the same as a dictionary in Python), and assigned to variable planet_7."
   ]
  },
  {
   "cell_type": "code",
   "execution_count": 62,
   "metadata": {},
   "outputs": [],
   "source": [
    "# Base URL\n",
    "base_url = 'http://swapi.co/api/'"
   ]
  },
  {
   "cell_type": "code",
   "execution_count": 63,
   "metadata": {
    "deletable": false,
    "nbgrader": {
     "grade": false,
     "grade_id": "cell-3e7084c9bf8398d0",
     "locked": false,
     "schema_version": 1,
     "solution": true
    }
   },
   "outputs": [],
   "source": [
    "# Do an HTTP GET request to the Star Wars API to get planet 7 as a JSON object\n",
    "# YOUR CODE HERE\n",
    "random_url = base_url + 'planets/7/'\n",
    "response = requests.get(random_url)\n",
    "planet_7 = response.json()"
   ]
  },
  {
   "cell_type": "code",
   "execution_count": 64,
   "metadata": {
    "deletable": false,
    "editable": false,
    "nbgrader": {
     "grade": true,
     "grade_id": "cell-50d051ce26525944",
     "locked": true,
     "points": 3,
     "schema_version": 1,
     "solution": false
    }
   },
   "outputs": [],
   "source": [
    "assert type(planet_7) == dict\n",
    "assert set(planet_7.keys()) == {'climate',  'created',  'diameter',  'edited',  'films',  'gravity',  'name',  'orbital_period',  'population',  'residents',  'rotation_period',  'surface_water',  'terrain',  'url'}\n",
    "\n",
    "expected_planet_name_hash = '97479479e5561d6d1124f45e97533586e6f56b12e7b90151409a3ebe7f4e7fe7'\n",
    "assert hashlib.sha256(planet_7['name'].encode()).hexdigest() == expected_planet_name_hash\n",
    "\n",
    "expected_planet_climate_hash = '20f52b106bdf3451be03acc441d360b6b14e057765745311553ca9ce264a7284'\n",
    "assert hashlib.sha256(planet_7['climate'].encode()).hexdigest() == expected_planet_climate_hash"
   ]
  },
  {
   "cell_type": "markdown",
   "metadata": {
    "deletable": false,
    "editable": false,
    "nbgrader": {
     "grade": false,
     "grade_id": "cell-90ff2db8962c1d5b",
     "locked": true,
     "schema_version": 1,
     "solution": false
    }
   },
   "source": [
    "### Q9. Filter characters from the API\n",
    "\n",
    "Read the documentation of the API in order to find out how to filter information using a GET request with the 'search' parameter.\n",
    "\n",
    "Then, find all the characters from the Skywalker family, by searching for 'Skywalker'. The response should be a JSON object with the characters' information. \n",
    "\n",
    "The desired results can be found in the 'results' field of the response. Please assign them to variable skywalker_family. "
   ]
  },
  {
   "cell_type": "code",
   "execution_count": 68,
   "metadata": {
    "deletable": false,
    "nbgrader": {
     "grade": false,
     "grade_id": "cell-3c68a66b3b6b56d0",
     "locked": false,
     "schema_version": 1,
     "solution": true
    }
   },
   "outputs": [],
   "source": [
    "# Do an HTTP GET request to filter characters according to the criteria above\n",
    "# YOUR CODE HERE\n",
    "\n",
    "random_url = base_url + 'people/?search=Skywalker'\n",
    "response = requests.get(random_url)\n",
    "skywalker_family = response.json()['results']"
   ]
  },
  {
   "cell_type": "code",
   "execution_count": 69,
   "metadata": {
    "deletable": false,
    "editable": false,
    "nbgrader": {
     "grade": true,
     "grade_id": "cell-15c07449c3238657",
     "locked": true,
     "points": 3,
     "schema_version": 1,
     "solution": false
    }
   },
   "outputs": [],
   "source": [
    "assert type(skywalker_family) == list\n",
    "assert len(skywalker_family) == 3\n",
    "assert set(skywalker_family[0].keys()) == {'birth_year', 'created', 'edited', 'eye_color', 'films', 'gender', 'hair_color', 'height', 'homeworld', 'mass', 'name', 'skin_color', 'species', 'starships', 'url', 'vehicles'}\n",
    "assert skywalker_family[0]['hair_color'] == 'blond'\n",
    "assert skywalker_family[0]['skin_color'] == 'fair'\n",
    "assert skywalker_family[0]['eye_color'] == 'blue'\n",
    "\n",
    "expected_hash = 'e7c68f75d23b428e7afc5b72ab7fca0d5db7e8f0779d89d5c4b89b3c77f4eadd'\n",
    "assert hashlib.sha256(skywalker_family[1]['name'].encode()).hexdigest() == expected_hash"
   ]
  },
  {
   "cell_type": "markdown",
   "metadata": {
    "deletable": false,
    "editable": false,
    "nbgrader": {
     "grade": false,
     "grade_id": "cell-91ec6c1c0bc1f4f5",
     "locked": true,
     "schema_version": 1,
     "solution": false
    }
   },
   "source": [
    "## Part C - Web scraping\n",
    "\n",
    "In this exercise, we're going to use web scraping to get data about some albums that were released in 2018, from [this web page](https://www.albumoftheyear.org/2018/releases/). We are only going to focus on the first page.\n",
    "\n",
    "\n",
    "### Q10. Scrape all scores (critic and user) for albums on the first page.\n",
    "\n",
    "Assign a list with the scores' values to variable score_list.\n",
    "In the list, each score should be a float.\n",
    "\n",
    "*(Extra food for thought, and not required for this exercise: observe what happens to the URL when you press the \"Next\" page button. Based on this observation, could you figure out how to scrape the ratings for ALL the albums of 2018? Keep in mind - always scrape responsibly and wait some time between scraping each page, so you don't overload the websites!)*"
   ]
  },
  {
   "cell_type": "code",
   "execution_count": 91,
   "metadata": {
    "deletable": false,
    "nbgrader": {
     "grade": false,
     "grade_id": "cell-bd8d7b19855c5b9f",
     "locked": false,
     "schema_version": 1,
     "solution": true
    }
   },
   "outputs": [
    {
     "data": {
      "text/plain": [
       "[84.0,\n",
       " 85.0,\n",
       " 64.0,\n",
       " 73.0,\n",
       " 84.0,\n",
       " 82.0,\n",
       " 82.0,\n",
       " 83.0,\n",
       " 85.0,\n",
       " 80.0,\n",
       " 83.0,\n",
       " 74.0,\n",
       " 83.0,\n",
       " 82.0,\n",
       " 82.0,\n",
       " 77.0,\n",
       " 82.0,\n",
       " 85.0,\n",
       " 81.0,\n",
       " 82.0,\n",
       " 85.0,\n",
       " 81.0,\n",
       " 75.0,\n",
       " 71.0,\n",
       " 75.0,\n",
       " 79.0,\n",
       " 83.0,\n",
       " 79.0,\n",
       " 88.0,\n",
       " 83.0,\n",
       " 82.0,\n",
       " 80.0,\n",
       " 85.0,\n",
       " 83.0,\n",
       " 77.0,\n",
       " 80.0,\n",
       " 85.0,\n",
       " 85.0,\n",
       " 79.0,\n",
       " 77.0,\n",
       " 69.0,\n",
       " 67.0,\n",
       " 81.0,\n",
       " 64.0,\n",
       " 84.0,\n",
       " 78.0,\n",
       " 65.0,\n",
       " 45.0,\n",
       " 71.0,\n",
       " 75.0,\n",
       " 80.0,\n",
       " 77.0,\n",
       " 85.0,\n",
       " 81.0,\n",
       " 84.0,\n",
       " 80.0,\n",
       " 59.0,\n",
       " 49.0,\n",
       " 81.0,\n",
       " 71.0,\n",
       " 69.0,\n",
       " 62.0,\n",
       " 80.0,\n",
       " 78.0,\n",
       " 85.0,\n",
       " 79.0,\n",
       " 52.0,\n",
       " 63.0,\n",
       " 77.0,\n",
       " 73.0,\n",
       " 85.0,\n",
       " 80.0,\n",
       " 78.0,\n",
       " 81.0,\n",
       " 76.0,\n",
       " 65.0,\n",
       " 67.0,\n",
       " 67.0,\n",
       " 71.0,\n",
       " 65.0,\n",
       " 84.0,\n",
       " 77.0,\n",
       " 70.0,\n",
       " 65.0,\n",
       " 75.0,\n",
       " 76.0,\n",
       " 86.0,\n",
       " 82.0,\n",
       " 50.0,\n",
       " 44.0,\n",
       " 63.0,\n",
       " 65.0,\n",
       " 77.0,\n",
       " 72.0,\n",
       " 79.0,\n",
       " 75.0,\n",
       " 80.0,\n",
       " 78.0,\n",
       " 86.0,\n",
       " 76.0,\n",
       " 70.0,\n",
       " 70.0,\n",
       " 72.0,\n",
       " 79.0,\n",
       " 68.0,\n",
       " 58.0,\n",
       " 78.0,\n",
       " 76.0,\n",
       " 63.0,\n",
       " 66.0,\n",
       " 74.0,\n",
       " 78.0,\n",
       " 80.0,\n",
       " 75.0,\n",
       " 83.0,\n",
       " 80.0,\n",
       " 83.0,\n",
       " 79.0,\n",
       " 82.0,\n",
       " 74.0,\n",
       " 75.0,\n",
       " 75.0,\n",
       " 75.0,\n",
       " 73.0,\n",
       " 50.0,\n",
       " 29.0,\n",
       " 63.0,\n",
       " 60.0,\n",
       " 82.0,\n",
       " 76.0,\n",
       " 85.0,\n",
       " 79.0,\n",
       " 66.0,\n",
       " 44.0,\n",
       " 78.0,\n",
       " 72.0,\n",
       " 80.0,\n",
       " 76.0,\n",
       " 79.0,\n",
       " 76.0,\n",
       " 82.0,\n",
       " 74.0,\n",
       " 81.0,\n",
       " 78.0,\n",
       " 78.0,\n",
       " 67.0,\n",
       " 50.0,\n",
       " 42.0,\n",
       " 73.0,\n",
       " 72.0,\n",
       " 81.0,\n",
       " 76.0,\n",
       " 71.0,\n",
       " 67.0,\n",
       " 75.0,\n",
       " 76.0,\n",
       " 73.0,\n",
       " 73.0,\n",
       " 84.0,\n",
       " 78.0,\n",
       " 50.0,\n",
       " 11.0,\n",
       " 75.0,\n",
       " 80.0,\n",
       " 67.0,\n",
       " 55.0,\n",
       " 80.0,\n",
       " 79.0,\n",
       " 85.0,\n",
       " 68.0,\n",
       " 81.0,\n",
       " 72.0,\n",
       " 36.0,\n",
       " 35.0,\n",
       " 86.0,\n",
       " 74.0,\n",
       " 85.0,\n",
       " 74.0,\n",
       " 83.0,\n",
       " 75.0,\n",
       " 62.0,\n",
       " 55.0,\n",
       " 84.0,\n",
       " 75.0,\n",
       " 56.0,\n",
       " 33.0,\n",
       " 67.0,\n",
       " 60.0,\n",
       " 80.0,\n",
       " 77.0,\n",
       " 55.0,\n",
       " 50.0,\n",
       " 82.0,\n",
       " 81.0,\n",
       " 71.0,\n",
       " 61.0,\n",
       " 50.0,\n",
       " 33.0,\n",
       " 85.0,\n",
       " 78.0,\n",
       " 51.0,\n",
       " 47.0,\n",
       " 83.0,\n",
       " 78.0]"
      ]
     },
     "execution_count": 91,
     "metadata": {},
     "output_type": "execute_result"
    }
   ],
   "source": [
    "# Assign the URL of the page to be scraped to variable url\n",
    "# url = ...\n",
    "# YOUR CODE HERE\n",
    "url = 'https://www.albumoftheyear.org/2018/releases/'\n",
    "\n",
    "# Do a GET request to get the page content, using the url we've just defined\n",
    "# response = ...\n",
    "# YOUR CODE HERE\n",
    "response = requests.get(url)\n",
    "soup = BeautifulSoup(response.content, 'html.parser')\n",
    "# Instanciate a soup object using the response of the GET request\n",
    "# YOUR CODE HERE\n",
    "    \n",
    "# Now it's the tricky part!\n",
    "# Parse the soup in order to retrieve the scores.\n",
    "# In the end, store the scores in a list and assign it to variable score_list.\n",
    "# Make sure that all the score_list in the list are floats!\n",
    "# YOUR CODE HERE\n",
    "score_list = [float(rate.get_text()) for rate in soup.find_all('div', class_=\"rating\")]\n",
    "score_list"
   ]
  },
  {
   "cell_type": "code",
   "execution_count": 92,
   "metadata": {
    "deletable": false,
    "editable": false,
    "nbgrader": {
     "grade": true,
     "grade_id": "cell-335a90721257cd1a",
     "locked": true,
     "points": 6,
     "schema_version": 1,
     "solution": false
    }
   },
   "outputs": [],
   "source": [
    "assert type(score_list) == list\n",
    "assert len(score_list) == 204\n",
    "\n",
    "assert type(score_list[0]) == float\n",
    "assert score_list[0] == 84.0\n",
    "\n",
    "assert math.isclose(72.72, np.mean(score_list), rel_tol=1e-2)"
   ]
  },
  {
   "cell_type": "markdown",
   "metadata": {
    "deletable": false,
    "editable": false,
    "nbgrader": {
     "grade": false,
     "grade_id": "cell-ff83f6395e265feb",
     "locked": true,
     "schema_version": 1,
     "solution": false
    }
   },
   "source": [
    "### Q11. Where did you find the scores?\n",
    "\n",
    "When you were scraping the album scores, you found out that the information you needed was in an HTML element, which looks like this:\n",
    "\n",
    "```\n",
    "<tagname class=classname>Score goes here</tagname>\n",
    "```\n",
    "\n",
    "Regarding the HTML element where you found the rating's value:\n",
    "\n",
    "* Assign the tagname to variable score_tagname\n",
    "* Assign the classname to variable score_classname\n",
    "\n",
    "In both cases you don't need to code, just copy and paste the values into the two variables."
   ]
  },
  {
   "cell_type": "code",
   "execution_count": 96,
   "metadata": {
    "deletable": false,
    "nbgrader": {
     "grade": false,
     "grade_id": "cell-88e2603722dac1e3",
     "locked": false,
     "schema_version": 1,
     "solution": true
    }
   },
   "outputs": [],
   "source": [
    "score_tagname = 'div'\n",
    "score_classname = 'rating'\n",
    "\n",
    "# YOUR CODE HERE"
   ]
  },
  {
   "cell_type": "code",
   "execution_count": 97,
   "metadata": {
    "deletable": false,
    "editable": false,
    "nbgrader": {
     "grade": true,
     "grade_id": "cell-f78d31cd4e4779eb",
     "locked": true,
     "points": 1,
     "schema_version": 1,
     "solution": false
    }
   },
   "outputs": [],
   "source": [
    "expected_hash = 'cd35a2426062b7d58fd4a63f813cc506ef87e449087d28d256b8c393f20fa364'\n",
    "assert hashlib.sha256(score_tagname.encode()).hexdigest() == expected_hash\n",
    "\n",
    "expected_hash = '112895d7af6c125315cd807a911473c05eb9779bf7cd459c5e29db919ccbf408'\n",
    "assert hashlib.sha256(score_classname.encode()).hexdigest() == expected_hash"
   ]
  },
  {
   "cell_type": "code",
   "execution_count": null,
   "metadata": {},
   "outputs": [],
   "source": []
  }
 ],
 "metadata": {
  "kernelspec": {
   "display_name": "Python 3",
   "language": "python",
   "name": "python3"
  },
  "language_info": {
   "codemirror_mode": {
    "name": "ipython",
    "version": 3
   },
   "file_extension": ".py",
   "mimetype": "text/x-python",
   "name": "python",
   "nbconvert_exporter": "python",
   "pygments_lexer": "ipython3",
   "version": "3.7.1"
  }
 },
 "nbformat": 4,
 "nbformat_minor": 2
}
